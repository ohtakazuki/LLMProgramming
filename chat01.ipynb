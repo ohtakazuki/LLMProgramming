{
 "cells": [
  {
   "attachments": {},
   "cell_type": "markdown",
   "metadata": {},
   "source": [
    "# Chat API\n",
    "\n",
    "# 準備"
   ]
  },
  {
   "cell_type": "code",
   "execution_count": 1,
   "metadata": {},
   "outputs": [],
   "source": [
    "# 必要なモジュールをインポート\n",
    "import os\n",
    "from dotenv import load_dotenv\n",
    "from openai import OpenAI\n",
    "\n",
    "# 環境変数の取得\n",
    "load_dotenv()\n",
    "# OpenAI APIクライアントを生成\n",
    "client = OpenAI(api_key=os.environ['API_KEY'])\n",
    "\n",
    "# モデル名\n",
    "model_name = \"gpt-3.5-turbo-1106\""
   ]
  },
  {
   "attachments": {},
   "cell_type": "markdown",
   "metadata": {},
   "source": [
    "# 基本のAPIリクエスト"
   ]
  },
  {
   "cell_type": "code",
   "execution_count": 2,
   "metadata": {},
   "outputs": [
    {
     "data": {
      "text/plain": [
       "ChatCompletion(id='chatcmpl-9Gk4R9bxtuRVJ78Z6Yn8xFmXBcKIG', choices=[Choice(finish_reason='stop', index=0, logprobs=None, message=ChatCompletionMessage(content='、\\n\\n1. データの質：言語モデルのトレーニングに使用するデータの質は重要です。正確で幅広い情報を含むデータセットを使用することで、言語モデルの性能を向上させることができます。\\n\\n2. トレーニングの方法：言語モデルをトレーニングする際には、適切なアルゴリズムやハイパーパラメータを選択する必要があります。さまざまなトレーニング方法を試し、最適なモデルを見つけることが重要です。\\n\\n3. 文脈の理解：言語モデルは文脈を理解する能力が求められるため、言葉の使い方や意味の推定において文脈を適切に捉えることが重要です。\\n\\n4. 評価と改善：トレーニング後には言語モデルの性能を評価し、改善点を特定する必要があります。定期的な評価と改善作業を行うことで、モデルの性能を向上させることができます。', role='assistant', function_call=None, tool_calls=None))], created=1713777371, model='gpt-3.5-turbo-1106', object='chat.completion', system_fingerprint='fp_77a673219d', usage=CompletionUsage(completion_tokens=356, prompt_tokens=24, total_tokens=380))"
      ]
     },
     "execution_count": 2,
     "metadata": {},
     "output_type": "execute_result"
    }
   ],
   "source": [
    "# メッセージの設定\n",
    "message = \"言語モデルを使う上でのポイントは\"\n",
    "\n",
    "# APIへリクエスト\n",
    "response = client.chat.completions.create(\n",
    "    model=model_name,\n",
    "    messages=[\n",
    "        {\"role\": \"user\", \"content\": message},\n",
    "    ]\n",
    ")\n",
    "\n",
    "response"
   ]
  },
  {
   "cell_type": "code",
   "execution_count": 3,
   "metadata": {},
   "outputs": [
    {
     "name": "stdout",
     "output_type": "stream",
     "text": [
      "、\n",
      "\n",
      "1. データの質：言語モデルのトレーニングに使用するデータの質は重要です。正確で幅広い情報を含むデータセットを使用することで、言語モデルの性能を向上させることができます。\n",
      "\n",
      "2. トレーニングの方法：言語モデルをトレーニングする際には、適切なアルゴリズムやハイパーパラメータを選択する必要があります。さまざまなトレーニング方法を試し、最適なモデルを見つけることが重要です。\n",
      "\n",
      "3. 文脈の理解：言語モデルは文脈を理解する能力が求められるため、言葉の使い方や意味の推定において文脈を適切に捉えることが重要です。\n",
      "\n",
      "4. 評価と改善：トレーニング後には言語モデルの性能を評価し、改善点を特定する必要があります。定期的な評価と改善作業を行うことで、モデルの性能を向上させることができます。\n"
     ]
    }
   ],
   "source": [
    "# 言語モデルからの回答を表示\n",
    "print(response.choices[0].message.content.strip())"
   ]
  },
  {
   "attachments": {},
   "cell_type": "markdown",
   "metadata": {},
   "source": [
    "# 役割や前提の設定、パラメーター：n、max_tokens"
   ]
  },
  {
   "cell_type": "code",
   "execution_count": 4,
   "metadata": {},
   "outputs": [
    {
     "name": "stdout",
     "output_type": "stream",
     "text": [
      "--------------------\n",
      "おすすめの昼食は、たこ焼きやお好み焼き、うどん、ラーメンなんかがええやん！お腹いっぱいになって、元気が出るで！\n",
      "--------------------\n",
      "おすすめの昼食は、たこ焼きやお好み焼きなんやで。大阪に来たらぜひ食べてみてや。特にどちらもおいしいお店がたくさんあるから、選ぶのが楽しいでええで。\n",
      "--------------------\n",
      "昼飯なら、たこ焼きやお好み焼きがいいやん。大阪やし、美味しいお店がたくさんあるで。それと、串カツもオススメやで。街中で気軽に食べれるし、ボリュームもあって満足すること間違いなし\n"
     ]
    }
   ],
   "source": [
    "# 役割を設定\n",
    "role = \"あなたは関西人です。大阪弁を使います。\"\n",
    "# メッセージの設定\n",
    "message = \"おすすめの昼食は何ですか？\"\n",
    "\n",
    "# APIへリクエスト\n",
    "response = client.chat.completions.create(\n",
    "    model=model_name,\n",
    "    messages=[\n",
    "        {\"role\": \"system\", \"content\": role},\n",
    "        {\"role\": \"user\", \"content\": message},\n",
    "    ],\n",
    "    n=3,\n",
    "    max_tokens=100\n",
    ")\n",
    "\n",
    "# 結果を表示\n",
    "for choice in response.choices:\n",
    "    print(\"-\" * 20)\n",
    "    print(choice.message.content.strip())"
   ]
  },
  {
   "attachments": {},
   "cell_type": "markdown",
   "metadata": {},
   "source": [
    "# パラメーター：temperature, top_p"
   ]
  },
  {
   "attachments": {},
   "cell_type": "markdown",
   "metadata": {},
   "source": [
    "### temperature=1.4の場合"
   ]
  },
  {
   "cell_type": "code",
   "execution_count": 5,
   "metadata": {},
   "outputs": [
    {
     "name": "stdout",
     "output_type": "stream",
     "text": [
      "--------------------\n",
      "おすすめは「たこ焼きやお好み焼き」やで。関西人の私が思うに、「たこ焼き」や「お好み焼き」は大阪らしい昼食やと思うで。ちょっとした醤油やソースをかけて味わうと、美味しいで。特にお店\n",
      "--------------------\n",
      "おすすめの昼食は、やっぱりお好み焼きやたこ焼きやねん！もしくは、うどんやそばもええで！関西食の味わいを楽しめるお店に行ってみてや！\n",
      "--------------------\n",
      "おすすめの昼食は、やっぱりたこ焼きやお好み焼きがオススメやで！\n",
      "\n",
      "関西ならではのソウルフードやから、ぜひ食べてみてや～。それに、おいしいといったら食べて満足すること間違いなしやで。\n"
     ]
    }
   ],
   "source": [
    "# 役割を設定\n",
    "role = \"あなたは関西人です。大阪弁を使います。\"\n",
    "# メッセージの設定\n",
    "message = \"おすすめの昼食は何ですか？\"\n",
    "\n",
    "# APIへリクエスト\n",
    "response = client.chat.completions.create(\n",
    "    model=model_name,\n",
    "    messages=[\n",
    "        {\"role\": \"system\", \"content\": role},\n",
    "        {\"role\": \"user\", \"content\": message},\n",
    "    ],\n",
    "    n=3,\n",
    "    max_tokens=100,\n",
    "    temperature=1.4\n",
    ")\n",
    "\n",
    "# 結果を表示\n",
    "for choice in response.choices:\n",
    "    print(\"-\" * 20)\n",
    "    print(choice.message.content.strip())"
   ]
  },
  {
   "attachments": {},
   "cell_type": "markdown",
   "metadata": {},
   "source": [
    "### temperature=0.0の場合"
   ]
  },
  {
   "cell_type": "code",
   "execution_count": 6,
   "metadata": {},
   "outputs": [
    {
     "name": "stdout",
     "output_type": "stream",
     "text": [
      "--------------------\n",
      "おすすめの昼食は、たこ焼きやお好み焼き、うどん、ラーメンなどの大阪の名物料理です。特に、お好み焼きはおすすめですよ。お好み焼きは、お好みの具材を入れて焼いたもので、大阪ではたくさんのお店で\n",
      "--------------------\n",
      "おすすめの昼食は、たこ焼きやお好み焼き、うどん、ラーメンなどの大阪の名物料理です。特に、お好み焼きはおすすめですよ。お好み焼きは、お好みの具材を入れて焼いたもので、大阪ではたくさんのお店で\n",
      "--------------------\n",
      "おすすめの昼食は、たこ焼きやお好み焼き、うどん、ラーメンなどの大阪の名物料理です。特に、お好み焼きはおすすめですよ。お好み焼きは、お好みの具材を入れて焼いたもので、大阪ではたくさんのお店で\n"
     ]
    }
   ],
   "source": [
    "# 役割を設定\n",
    "role = \"あなたは関西人です。大阪弁を使います。\"\n",
    "# メッセージの設定\n",
    "message = \"おすすめの昼食は何ですか？\"\n",
    "\n",
    "# APIへリクエスト\n",
    "response = client.chat.completions.create(\n",
    "    model=model_name,\n",
    "    messages=[\n",
    "        {\"role\": \"system\", \"content\": role},\n",
    "        {\"role\": \"user\", \"content\": message},\n",
    "    ],\n",
    "    n=3,\n",
    "    max_tokens=100,\n",
    "    temperature=0.0\n",
    ")\n",
    "\n",
    "# 結果を表示\n",
    "for choice in response.choices:\n",
    "    print(\"-\" * 20)\n",
    "    print(choice.message.content.strip())"
   ]
  },
  {
   "attachments": {},
   "cell_type": "markdown",
   "metadata": {},
   "source": [
    "### top_p=0.4の場合"
   ]
  },
  {
   "cell_type": "code",
   "execution_count": 7,
   "metadata": {},
   "outputs": [
    {
     "name": "stdout",
     "output_type": "stream",
     "text": [
      "--------------------\n",
      "おすすめの昼食は、たこ焼きやお好み焼き、もんじゃ焼きなんかはどうやろか？関西らしいもんを食べてみてはどうやろか？\n",
      "--------------------\n",
      "おすすめの昼食は、たこ焼きやお好み焼き、もんじゃ焼きなんかはどうやろか？お好み焼き屋さんやたこ焼き屋さんで美味しいもんを食べてみてはどうやろか？\n",
      "--------------------\n",
      "おすすめの昼食は、たこ焼きやお好み焼き、もんじゃ焼きなんかはどうやろか？関西のソウルフードやし、美味しいで。それとも、うどんやそばもええで。どれも美味しい食べ物ばっかりやから、迷うで\n"
     ]
    }
   ],
   "source": [
    "# 役割を設定\n",
    "role = \"あなたは関西人です。大阪弁を使います。\"\n",
    "# メッセージの設定\n",
    "message = \"おすすめの昼食は何ですか？\"\n",
    "\n",
    "# APIへリクエスト\n",
    "response = client.chat.completions.create(\n",
    "    model=model_name,\n",
    "    messages=[\n",
    "        {\"role\": \"system\", \"content\": role},\n",
    "        {\"role\": \"user\", \"content\": message},\n",
    "    ],\n",
    "    n=3,\n",
    "    max_tokens=100,\n",
    "    top_p=0.4\n",
    ")\n",
    "\n",
    "# 結果を表示\n",
    "for choice in response.choices:\n",
    "    print(\"-\" * 20)\n",
    "    print(choice.message.content.strip())"
   ]
  },
  {
   "attachments": {},
   "cell_type": "markdown",
   "metadata": {},
   "source": [
    "### top_p=0.0の場合"
   ]
  },
  {
   "cell_type": "code",
   "execution_count": 8,
   "metadata": {},
   "outputs": [
    {
     "name": "stdout",
     "output_type": "stream",
     "text": [
      "--------------------\n",
      "おすすめの昼食は、たこ焼きやお好み焼き、うどん、ラーメンなどの大阪の名物料理です。特に、お好み焼きはおすすめですよ。焼きそばや豚肉、キャベツなどを生地で混ぜて焼いたもので、ソ\n",
      "--------------------\n",
      "おすすめの昼食は、たこ焼きやお好み焼き、うどん、ラーメンなどの大阪の名物料理です。特に、お好み焼きはおすすめですよ。焼きそばや豚肉、キャベツなどを生地で混ぜて焼いたもので、ソ\n",
      "--------------------\n",
      "おすすめの昼食は、たこ焼きやお好み焼き、うどん、ラーメンなどの大阪の名物料理です。特に、お好み焼きはおすすめですよ。焼きそばや豚肉、キャベツなどを生地で混ぜて焼いたもので、ソ\n"
     ]
    }
   ],
   "source": [
    "# 役割を設定\n",
    "role = \"あなたは関西人です。大阪弁を使います。\"\n",
    "# メッセージの設定\n",
    "message = \"おすすめの昼食は何ですか？\"\n",
    "\n",
    "# APIへリクエスト\n",
    "response = client.chat.completions.create(\n",
    "    model=model_name,\n",
    "    messages=[\n",
    "        {\"role\": \"system\", \"content\": role},\n",
    "        {\"role\": \"user\", \"content\": message},\n",
    "    ],\n",
    "    n=3,\n",
    "    max_tokens=100,\n",
    "    top_p=0.0\n",
    ")\n",
    "\n",
    "# 結果を表示\n",
    "for choice in response.choices:\n",
    "    print(\"-\" * 20)\n",
    "    print(choice.message.content.strip())"
   ]
  },
  {
   "attachments": {},
   "cell_type": "markdown",
   "metadata": {},
   "source": [
    "# パラメーター：presence_penalty、frequency_penalty"
   ]
  },
  {
   "cell_type": "code",
   "execution_count": 11,
   "metadata": {},
   "outputs": [
    {
     "name": "stdout",
     "output_type": "stream",
     "text": [
      "--------------------\n",
      "以下のポイントが言語モデルを使う上で重要です。\n",
      "\n",
      "1. データの質と量：言語モデルの性能は、訓練データの質と量に大きく依存します。訓練データが豊富で、様々な言語やジャンルがカバ\n",
      "--------------------\n",
      "、正確なデータセットを用いること、適切な文脈を考慮すること、モデルのハイパーパラメータを適切に調整すること、過学習を避けること、文脈を理解した正確な予測をすることなどが\n",
      "--------------------\n",
      "以下の通りです：\n",
      "\n",
      "1. データの品質を確保すること：言語モデルを構築するためのデータは品質の高いものでなければなりません。品質の低いデータを使用するとモデルの性能が低下する可能性があります。そのため、\n"
     ]
    }
   ],
   "source": [
    "# メッセージの設定\n",
    "message = \"言語モデルを使う上でのポイントは\"\n",
    "\n",
    "# APIへリクエスト\n",
    "response = client.chat.completions.create(\n",
    "    model=model_name,\n",
    "    messages=[\n",
    "        {\"role\": \"user\", \"content\": message},\n",
    "    ],\n",
    "    n=3,\n",
    "    max_tokens=100,\n",
    "    presence_penalty=-2.0\n",
    ")\n",
    "\n",
    "# 結果を表示\n",
    "for choice in response.choices:\n",
    "    print(\"-\" * 20)\n",
    "    print(choice.message.content.strip())"
   ]
  },
  {
   "cell_type": "code",
   "execution_count": 10,
   "metadata": {},
   "outputs": [
    {
     "name": "stdout",
     "output_type": "stream",
     "text": [
      "--------------------\n",
      "、以下の通りです。\n",
      "\n",
      "1. データの質と量：言語モデルを構築する上で、豊富な品質の高いデータが必要です。大規模かつ多様なデータセットを使用することで、より優れた言語モデルを構築するこ\n",
      "--------------------\n",
      "、以下の点に注意することが重要です。\n",
      "\n",
      "1. データの品質: 言語モデルを構築するためのデータは品質が重要です。文法や意味の正確性、多様性、コーパスサイズなどがポイントになります。\n",
      "\n",
      "2. モデルの\n",
      "--------------------\n",
      "、以下のようなポイントが考えられます。\n",
      "\n",
      "1. データセットの品質：言語モデルを構築するためには大規模で高品質なデータセットが必要です。文法的に正確な文章や自然な表現が含まれるデータセットを利用することが\n"
     ]
    }
   ],
   "source": [
    "# メッセージの設定\n",
    "message = \"言語モデルを使う上でのポイントは\"\n",
    "\n",
    "# APIへリクエスト\n",
    "response = client.chat.completions.create(\n",
    "    model=model_name,\n",
    "    messages=[\n",
    "        {\"role\": \"user\", \"content\": message},\n",
    "    ],\n",
    "    n=3,\n",
    "    max_tokens=100,\n",
    "    presence_penalty=2.0\n",
    ")\n",
    "\n",
    "# 結果を表示\n",
    "for choice in response.choices:\n",
    "    print(\"-\" * 20)\n",
    "    print(choice.message.content.strip())"
   ]
  },
  {
   "attachments": {},
   "cell_type": "markdown",
   "metadata": {},
   "source": [
    "# トークナイザー：tiktoken"
   ]
  },
  {
   "cell_type": "code",
   "execution_count": 16,
   "metadata": {},
   "outputs": [],
   "source": [
    "import tiktoken\n",
    "from tiktoken.core import Encoding\n",
    "\n",
    "# OpenAI APIの特定のモデルに対応するトークナイザーを取得\n",
    "encoding: Encoding = tiktoken.encoding_for_model(model_name)"
   ]
  },
  {
   "cell_type": "code",
   "execution_count": 13,
   "metadata": {},
   "outputs": [
    {
     "name": "stdout",
     "output_type": "stream",
     "text": [
      "tokens_count=9\n",
      "tokens=[90115, 6447, 78244, 45918, 252, 2845, 95, 68408, 33710]\n"
     ]
    }
   ],
   "source": [
    "# テキストをトークンIDのリストに変換\n",
    "tokens = encoding.encode(\"こんにちは！言語モデル\")\n",
    "tokens_count = len(tokens)\n",
    "# トークンの長さとトークンを表示\n",
    "print(f\"{tokens_count=}\")\n",
    "print(f\"{tokens=}\")"
   ]
  },
  {
   "cell_type": "code",
   "execution_count": 17,
   "metadata": {},
   "outputs": [
    {
     "name": "stdout",
     "output_type": "stream",
     "text": [
      "こんにちは, ！, 言, b'\\xe8\\xaa', b'\\x9e', b'\\xe3\\x83', b'\\xa2', デ, ル, "
     ]
    }
   ],
   "source": [
    "# トークンの単位を確認\n",
    "for token in tokens:\n",
    "    # トークンをバイト列にデコード\n",
    "    bytes = encoding.decode_tokens_bytes([token])[0]\n",
    "    # 文字に変換できるものは変換して表示\n",
    "    try:\n",
    "        print(bytes.decode('utf-8'), end=\", \")\n",
    "    except UnicodeDecodeError:\n",
    "        print(bytes, end=\", \")"
   ]
  },
  {
   "attachments": {},
   "cell_type": "markdown",
   "metadata": {},
   "source": [
    "# パラメーター：logit_bias"
   ]
  },
  {
   "cell_type": "code",
   "execution_count": 18,
   "metadata": {},
   "outputs": [
    {
     "name": "stdout",
     "output_type": "stream",
     "text": [
      "--------------------\n",
      "こんにちは！元気？\n",
      "--------------------\n",
      "こんにちは！元気？\n",
      "--------------------\n",
      "こんにちは！元気？\n"
     ]
    }
   ],
   "source": [
    "# メッセージの設定\n",
    "message = \"\"\"\n",
    "AさんとBさんで会話してください。\n",
    "A:おはよう！\n",
    "B:\n",
    "\"\"\"\n",
    "\n",
    "# APIへリクエスト\n",
    "response = client.chat.completions.create(\n",
    "    model=model_name,\n",
    "    messages=[\n",
    "        {\"role\": \"user\", \"content\": message},\n",
    "    ],\n",
    "    max_tokens=300,\n",
    "    n=3,\n",
    "    logit_bias = {90115:8, 6447:8}\n",
    ")\n",
    "\n",
    "# 結果を表示\n",
    "for choice in response.choices:\n",
    "    print(\"-\" * 20)\n",
    "    print(choice.message.content.strip())"
   ]
  },
  {
   "attachments": {},
   "cell_type": "markdown",
   "metadata": {},
   "source": [
    "## パラメーター：stop"
   ]
  },
  {
   "cell_type": "code",
   "execution_count": 19,
   "metadata": {},
   "outputs": [
    {
     "name": "stdout",
     "output_type": "stream",
     "text": [
      "--------------------\n",
      "おすすめの昼食は、\n",
      "--------------------\n",
      "まずは、「てっぱん焼きそば」がおすすめやで！関西のソウルフードやから、ぜひ食べてみてや。それとも、「\n",
      "--------------------\n",
      "昼食のおすすめはやっぱりお好み焼きや\n"
     ]
    }
   ],
   "source": [
    "# 役割を設定\n",
    "role = \"あなたは関西人です。大阪弁を使います。\"\n",
    "# メッセージの設定\n",
    "message = \"おすすめの昼食は何ですか？\"\n",
    "\n",
    "# APIへリクエスト\n",
    "response = client.chat.completions.create(\n",
    "    model=model_name,\n",
    "    messages=[\n",
    "        {\"role\": \"system\", \"content\": role},\n",
    "        {\"role\": \"user\", \"content\": message},\n",
    "    ],\n",
    "    n=3,\n",
    "    max_tokens=100,\n",
    "    stop=\"たこ焼き\"\n",
    ")\n",
    "\n",
    "# 結果を表示\n",
    "for choice in response.choices:\n",
    "    print(\"-\" * 20)\n",
    "    print(choice.message.content.strip())"
   ]
  },
  {
   "attachments": {},
   "cell_type": "markdown",
   "metadata": {},
   "source": [
    "## パラメーター：stream"
   ]
  },
  {
   "cell_type": "code",
   "execution_count": 20,
   "metadata": {},
   "outputs": [
    {
     "name": "stdout",
     "output_type": "stream",
     "text": [
      "、さまざまなポイントが挙げられますが、その中でも重要なポイントは以下の通りです。\n",
      "\n",
      "1. テキストデータの品質: 言語モデルを訓練するためのテキストデータの品質が重要です。品質の高いデータを使用することで、モデルの性能が向上し、より正確な予測が可能となります。\n",
      "\n",
      "2. モデルの選択: どの種類の言語モデルを使用するかを選択する必要があります。例えば、双方向のリカレントニューラルネットワーク（RNN）やトランスフォーマーなどのモデルがあります。\n",
      "\n",
      "3. ハイパーパラメータの調整: 言語モデルのハイパーパラメータ（学習率、バッチサイズ、エポック数など）の調整が重要です。これにより、モデルの性能を最適化することができます。\n",
      "\n",
      "4. モデルの評価: 言語モデルの性能を評価し、不正確な予測を修正するためのフィードバックメカニズムを確立する必要があります。\n",
      "\n",
      "5. テストデータの使用: 言語モデルのテストデータを使用して、モデルの汎用性や性能を確認することが重要です。\n",
      "\n",
      "これらのポイントを考慮することで、言語モデルを効果的に活用することができます。"
     ]
    }
   ],
   "source": [
    "# メッセージの設定\n",
    "message = \"言語モデルを使う上でのポイントは\"\n",
    "\n",
    "# APIへリクエスト\n",
    "stream = client.chat.completions.create(\n",
    "    model=model_name,\n",
    "    messages=[\n",
    "        {\"role\": \"user\", \"content\": message},\n",
    "    ],\n",
    "    stream=True,\n",
    ")\n",
    "\n",
    "for chunk in stream:\n",
    "    if chunk.choices:\n",
    "        if chunk.choices[0].delta.content is not None:\n",
    "            print(chunk.choices[0].delta.content, end=\"\")"
   ]
  },
  {
   "attachments": {},
   "cell_type": "markdown",
   "metadata": {},
   "source": [
    "## 会話を続ける"
   ]
  },
  {
   "cell_type": "code",
   "execution_count": 19,
   "metadata": {},
   "outputs": [
    {
     "data": {
      "text/plain": [
       "'質問:こんにちは！'"
      ]
     },
     "metadata": {},
     "output_type": "display_data"
    },
    {
     "name": "stdout",
     "output_type": "stream",
     "text": [
      "こんにちは！ごきげんよう！お困りごとがありましたら、何でもお手伝いいたしますのでお知らせくださいね。"
     ]
    },
    {
     "data": {
      "text/plain": [
       "'質問:おすすめのランチを教えて'"
      ]
     },
     "metadata": {},
     "output_type": "display_data"
    },
    {
     "name": "stdout",
     "output_type": "stream",
     "text": [
      "もちろんです！ランチといえば、沢山の美味しい選択肢がありますね。具体的な場所や料理の好みによっても異なりますが、以下のような選択肢がオススメです：\n",
      "\n",
      "1. 寿司：新鮮なネタを楽しむなら、お寿司がおすすめです。握り寿司や巻き寿司、ちらし寿司など様々なスタイルが楽しめます。\n",
      "\n",
      "2. ラーメン：濃厚なスープとコシのある麺が魅力のラーメンは、多くの人に愛される人気のランチメニューです。\n",
      "\n",
      "3. カレーライス：ホクホクのルーに盛りだくさんの野菜と、お肉や魚が乗ったカレーライスは、ボリュームたっぷりで満足感が得られます。\n",
      "\n",
      "4. サラダ・スープ：軽めの食事を希望する方には、新鮮な野菜がたっぷり楽しめるサラダや、温かいスープがおすすめです。\n",
      "\n",
      "どれも美味しい選択肢ですが、好みや場所によって選択が異なると思います。お近くのお店で、ぜひご自分の好みに合った美味しいランチをお楽しみください！\n",
      "---ご利用ありがとうございました！---\n"
     ]
    }
   ],
   "source": [
    "# メッセージを格納するリスト\n",
    "messages=[]\n",
    "\n",
    "while(True):\n",
    "    # ユーザーからの質問を受付\n",
    "    message = input(\"メッセージを入力:\")\n",
    "    # 質問が入力されなければ終了\n",
    "    if message.strip()==\"\":\n",
    "        break\n",
    "    display(f\"質問:{message}\")\n",
    "\n",
    "    # メッセージにユーザーからの質問を追加\n",
    "    messages.append({\"role\": \"user\", \"content\": message.strip()})\n",
    "    # やりとりが8を超えたら古いメッセージから削除\n",
    "    if len(messages) > 8:\n",
    "        del_message = messages.pop(0)\n",
    "\n",
    "    # APIへリクエスト\n",
    "    stream = client.chat.completions.create(\n",
    "        model=model_name,\n",
    "        messages=messages,\n",
    "        stream=True,\n",
    "    )\n",
    "\n",
    "    # 言語モデルからの回答を表示\n",
    "    response_message = \"\"\n",
    "    for chunk in stream:\n",
    "        if chunk.choices:\n",
    "            next = chunk.choices[0].delta.content\n",
    "            if next is not None:\n",
    "                response_message += next\n",
    "                print(next, end='')\n",
    "\n",
    "    # メッセージに言語モデルからの回答を追加\n",
    "    messages.append({\"role\": \"assistant\", \"content\": response_message})\n",
    "\n",
    "print(\"\\n---ご利用ありがとうございました！---\")"
   ]
  },
  {
   "cell_type": "code",
   "execution_count": null,
   "metadata": {},
   "outputs": [],
   "source": []
  }
 ],
 "metadata": {
  "kernelspec": {
   "display_name": ".venv",
   "language": "python",
   "name": "python3"
  },
  "language_info": {
   "codemirror_mode": {
    "name": "ipython",
    "version": 3
   },
   "file_extension": ".py",
   "mimetype": "text/x-python",
   "name": "python",
   "nbconvert_exporter": "python",
   "pygments_lexer": "ipython3",
   "version": "3.11.7"
  },
  "orig_nbformat": 4
 },
 "nbformat": 4,
 "nbformat_minor": 2
}
