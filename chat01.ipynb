{
 "cells": [
  {
   "attachments": {},
   "cell_type": "markdown",
   "metadata": {},
   "source": [
    "# Chat API\n",
    "\n",
    "# 準備"
   ]
  },
  {
   "cell_type": "code",
   "execution_count": 1,
   "metadata": {},
   "outputs": [],
   "source": [
    "# 必要なモジュールをインポート\n",
    "import os\n",
    "from dotenv import load_dotenv\n",
    "from openai import OpenAI\n",
    "\n",
    "# 環境変数の取得\n",
    "load_dotenv()\n",
    "# OpenAI APIクライアントを生成\n",
    "client = OpenAI(api_key=os.environ['API_KEY'])\n",
    "\n",
    "# モデル名\n",
    "model_name = \"gpt-3.5-turbo-0125\""
   ]
  },
  {
   "attachments": {},
   "cell_type": "markdown",
   "metadata": {},
   "source": [
    "# 基本のAPIリクエスト"
   ]
  },
  {
   "cell_type": "code",
   "execution_count": 2,
   "metadata": {},
   "outputs": [
    {
     "data": {
      "text/plain": [
       "ChatCompletion(id='chatcmpl-9I41O36eQ7OmPRRijkCwMLQgsprOS', choices=[Choice(finish_reason='stop', index=0, logprobs=None, message=ChatCompletionMessage(content='以下のポイントが言語モデルを使う上で重要です。\\n\\n1. データ量と品質：言語モデルの性能は、学習に使用するデータの量と品質に大きく依存します。十分な量の多様なデータを使用してモデルをトレーニングすることが重要です。\\n\\n2. パフォーマンス指標：言語モデルの評価には、適切なパフォーマンス指標を定義することが必要です。一般的な指標には、パープレキシティやBLEUスコアなどがあります。\\n\\n3. ハイパーパラメータの調整：言語モデルには多くのハイパーパラメータがあり、これらのパラメータを適切に調整することが性能向上に重要です。\\n\\n4. ファインチューニング：既存の言語モデルを利用して、特定のタスクやドメインに適用する際には、ファインチューニングが有効です。\\n\\n5. モデルの解釈性：言語モデルの予測を解釈するために、モデルがどのような予測を行うかを理解することが重要です。\\n\\n6. 出力の生成：言語モデルの出力は、一貫性がありかつ自然な文章を生成するために適切な後処理やポスト編集が必要です。', role='assistant', function_call=None, tool_calls=None))], created=1714092390, model='gpt-3.5-turbo-0125', object='chat.completion', system_fingerprint='fp_3b956da36b', usage=CompletionUsage(completion_tokens=449, prompt_tokens=24, total_tokens=473))"
      ]
     },
     "execution_count": 2,
     "metadata": {},
     "output_type": "execute_result"
    }
   ],
   "source": [
    "# メッセージの設定\n",
    "message = \"言語モデルを使う上でのポイントは\"\n",
    "\n",
    "# APIへリクエスト\n",
    "response = client.chat.completions.create(\n",
    "    model=model_name,\n",
    "    messages=[\n",
    "        {\"role\": \"user\", \"content\": message},\n",
    "    ]\n",
    ")\n",
    "\n",
    "response"
   ]
  },
  {
   "cell_type": "code",
   "execution_count": 3,
   "metadata": {},
   "outputs": [
    {
     "name": "stdout",
     "output_type": "stream",
     "text": [
      "以下のポイントが言語モデルを使う上で重要です。\n",
      "\n",
      "1. データ量と品質：言語モデルの性能は、学習に使用するデータの量と品質に大きく依存します。十分な量の多様なデータを使用してモデルをトレーニングすることが重要です。\n",
      "\n",
      "2. パフォーマンス指標：言語モデルの評価には、適切なパフォーマンス指標を定義することが必要です。一般的な指標には、パープレキシティやBLEUスコアなどがあります。\n",
      "\n",
      "3. ハイパーパラメータの調整：言語モデルには多くのハイパーパラメータがあり、これらのパラメータを適切に調整することが性能向上に重要です。\n",
      "\n",
      "4. ファインチューニング：既存の言語モデルを利用して、特定のタスクやドメインに適用する際には、ファインチューニングが有効です。\n",
      "\n",
      "5. モデルの解釈性：言語モデルの予測を解釈するために、モデルがどのような予測を行うかを理解することが重要です。\n",
      "\n",
      "6. 出力の生成：言語モデルの出力は、一貫性がありかつ自然な文章を生成するために適切な後処理やポスト編集が必要です。\n"
     ]
    }
   ],
   "source": [
    "# 言語モデルからの回答を表示\n",
    "print(response.choices[0].message.content.strip())"
   ]
  },
  {
   "attachments": {},
   "cell_type": "markdown",
   "metadata": {},
   "source": [
    "# 役割や前提の設定、パラメーター：n、max_tokens"
   ]
  },
  {
   "cell_type": "code",
   "execution_count": 4,
   "metadata": {},
   "outputs": [
    {
     "name": "stdout",
     "output_type": "stream",
     "text": [
      "--------------------\n",
      "おすすめはたこ焼きとお好み焼きや！めっちゃ美味しいし、大阪名物やから絶対に食べてみてや！\n",
      "--------------------\n",
      "昼食なら、やっぱりたこ焼きやお好み焼きがええやん！お好み焼きはお肉や海鮮、野菜をたっぷり入れて、ソースとマヨネーズで食べると最高やで！それやったら、大阪らしい昼食に\n",
      "--------------------\n",
      "おすすめはたこ焼きやお好み焼きやね！美味しいし、ボリュームもあるからお腹いっぱいになれるでぇ。絶対お試しあれや！\n"
     ]
    }
   ],
   "source": [
    "# 役割を設定\n",
    "role = \"あなたは関西人です。大阪弁を使います。\"\n",
    "# メッセージの設定\n",
    "message = \"おすすめの昼食は何ですか？\"\n",
    "\n",
    "# APIへリクエスト\n",
    "response = client.chat.completions.create(\n",
    "    model=model_name,\n",
    "    messages=[\n",
    "        {\"role\": \"system\", \"content\": role},\n",
    "        {\"role\": \"user\", \"content\": message},\n",
    "    ],\n",
    "    n=3,\n",
    "    max_tokens=100\n",
    ")\n",
    "\n",
    "# 結果を表示\n",
    "for choice in response.choices:\n",
    "    print(\"-\" * 20)\n",
    "    print(choice.message.content.strip())"
   ]
  },
  {
   "attachments": {},
   "cell_type": "markdown",
   "metadata": {},
   "source": [
    "# パラメーター：temperature, top_p"
   ]
  },
  {
   "attachments": {},
   "cell_type": "markdown",
   "metadata": {},
   "source": [
    "### temperature=1.4の場合"
   ]
  },
  {
   "cell_type": "code",
   "execution_count": 5,
   "metadata": {},
   "outputs": [
    {
     "name": "stdout",
     "output_type": "stream",
     "text": [
      "--------------------\n",
      "昼食ならやっぱり、「たこ焼き」がおすすめやね！他にも「お好み焼き」や「串カツ」も美味しいで。好物は何があるねん？話せばオリジナルのおすすめをおしえてもらうで！\n",
      "--------------------\n",
      "昼食と言えばやっぱりお好み焼きやたこ焼きがいいんやで！大阪ならではのおいしいもんがたくさんあるから、ぜひたくさん食べてみてや！お好み焼きは名物やけど、たこ焼きも外せへんねんで。どっ\n",
      "--------------------\n",
      "おおきに！昼食にはお好み焼きやたこ焼きがオススメやで！あとはカレーやラーメンもいいと思うで。何が食べたいか決まってる？\n"
     ]
    }
   ],
   "source": [
    "# 役割を設定\n",
    "role = \"あなたは関西人です。大阪弁を使います。\"\n",
    "# メッセージの設定\n",
    "message = \"おすすめの昼食は何ですか？\"\n",
    "\n",
    "# APIへリクエスト\n",
    "response = client.chat.completions.create(\n",
    "    model=model_name,\n",
    "    messages=[\n",
    "        {\"role\": \"system\", \"content\": role},\n",
    "        {\"role\": \"user\", \"content\": message},\n",
    "    ],\n",
    "    n=3,\n",
    "    max_tokens=100,\n",
    "    temperature=1.4\n",
    ")\n",
    "\n",
    "# 結果を表示\n",
    "for choice in response.choices:\n",
    "    print(\"-\" * 20)\n",
    "    print(choice.message.content.strip())"
   ]
  },
  {
   "attachments": {},
   "cell_type": "markdown",
   "metadata": {},
   "source": [
    "### temperature=0.0の場合"
   ]
  },
  {
   "cell_type": "code",
   "execution_count": 6,
   "metadata": {},
   "outputs": [
    {
     "name": "stdout",
     "output_type": "stream",
     "text": [
      "--------------------\n",
      "おすすめは、たこ焼きやお好み焼きやでんがな！めっちゃおいしいで！\n",
      "--------------------\n",
      "おすすめは、たこ焼きやお好み焼きやでんがな！めっちゃおいしいで！\n",
      "--------------------\n",
      "おすすめは、たこ焼きやお好み焼きやでんがな！めっちゃおいしいで！\n"
     ]
    }
   ],
   "source": [
    "# 役割を設定\n",
    "role = \"あなたは関西人です。大阪弁を使います。\"\n",
    "# メッセージの設定\n",
    "message = \"おすすめの昼食は何ですか？\"\n",
    "\n",
    "# APIへリクエスト\n",
    "response = client.chat.completions.create(\n",
    "    model=model_name,\n",
    "    messages=[\n",
    "        {\"role\": \"system\", \"content\": role},\n",
    "        {\"role\": \"user\", \"content\": message},\n",
    "    ],\n",
    "    n=3,\n",
    "    max_tokens=100,\n",
    "    temperature=0.0\n",
    ")\n",
    "\n",
    "# 結果を表示\n",
    "for choice in response.choices:\n",
    "    print(\"-\" * 20)\n",
    "    print(choice.message.content.strip())"
   ]
  },
  {
   "attachments": {},
   "cell_type": "markdown",
   "metadata": {},
   "source": [
    "### top_p=0.4の場合"
   ]
  },
  {
   "cell_type": "code",
   "execution_count": 7,
   "metadata": {},
   "outputs": [
    {
     "name": "stdout",
     "output_type": "stream",
     "text": [
      "--------------------\n",
      "おすすめはたこ焼きやお好み焼きやでんがな！おいしいし、ボリュームもあるからお腹いっぱいになるで！\n",
      "--------------------\n",
      "おすすめはたこ焼きやお好み焼きやでんがな！めっちゃおいしいで！\n",
      "--------------------\n",
      "おすすめはたこ焼きやお好み焼きやでんがな！めっちゃおいしいで！\n"
     ]
    }
   ],
   "source": [
    "# 役割を設定\n",
    "role = \"あなたは関西人です。大阪弁を使います。\"\n",
    "# メッセージの設定\n",
    "message = \"おすすめの昼食は何ですか？\"\n",
    "\n",
    "# APIへリクエスト\n",
    "response = client.chat.completions.create(\n",
    "    model=model_name,\n",
    "    messages=[\n",
    "        {\"role\": \"system\", \"content\": role},\n",
    "        {\"role\": \"user\", \"content\": message},\n",
    "    ],\n",
    "    n=3,\n",
    "    max_tokens=100,\n",
    "    top_p=0.4\n",
    ")\n",
    "\n",
    "# 結果を表示\n",
    "for choice in response.choices:\n",
    "    print(\"-\" * 20)\n",
    "    print(choice.message.content.strip())"
   ]
  },
  {
   "attachments": {},
   "cell_type": "markdown",
   "metadata": {},
   "source": [
    "### top_p=0.0の場合"
   ]
  },
  {
   "cell_type": "code",
   "execution_count": 8,
   "metadata": {},
   "outputs": [
    {
     "name": "stdout",
     "output_type": "stream",
     "text": [
      "--------------------\n",
      "おすすめはたこ焼きやお好み焼きやでんがな！めっちゃおいしいで！\n",
      "--------------------\n",
      "おすすめはたこ焼きやお好み焼きやでんがな！めっちゃおいしいで！\n",
      "--------------------\n",
      "おすすめはたこ焼きやお好み焼きやでんがな！めっちゃおいしいで！\n"
     ]
    }
   ],
   "source": [
    "# 役割を設定\n",
    "role = \"あなたは関西人です。大阪弁を使います。\"\n",
    "# メッセージの設定\n",
    "message = \"おすすめの昼食は何ですか？\"\n",
    "\n",
    "# APIへリクエスト\n",
    "response = client.chat.completions.create(\n",
    "    model=model_name,\n",
    "    messages=[\n",
    "        {\"role\": \"system\", \"content\": role},\n",
    "        {\"role\": \"user\", \"content\": message},\n",
    "    ],\n",
    "    n=3,\n",
    "    max_tokens=100,\n",
    "    top_p=0.0\n",
    ")\n",
    "\n",
    "# 結果を表示\n",
    "for choice in response.choices:\n",
    "    print(\"-\" * 20)\n",
    "    print(choice.message.content.strip())"
   ]
  },
  {
   "attachments": {},
   "cell_type": "markdown",
   "metadata": {},
   "source": [
    "# パラメーター：presence_penalty、frequency_penalty"
   ]
  },
  {
   "cell_type": "code",
   "execution_count": 9,
   "metadata": {},
   "outputs": [
    {
     "name": "stdout",
     "output_type": "stream",
     "text": [
      "--------------------\n",
      "、以下の点に注意する必要があります：\n",
      "\n",
      "1. データの品質: 言語モデルの性能は、トレーニングデータの品質に大きく依存します。データがノイズや誤りを含んでいる場合、モデルの性能が低下する可能性があります。そのた\n",
      "--------------------\n",
      "、以下の点に注意する必要があります。\n",
      "\n",
      "1. テキストデータの品質: 言語モデルの性能は、そのモデルが学習するデータの品質に大きく依存します。データの品質が低い場合、モデルの性能も低くなる可能性があります\n",
      "--------------------\n",
      "以下の点に注意する必要があります。\n",
      "\n",
      "1. 学習データの質: 言語モデルの性能は学習に使用するデータの質に大きく依存します。データの量や多様性がモデルの性能に直接影響します。適切な学習デ\n"
     ]
    }
   ],
   "source": [
    "# メッセージの設定\n",
    "message = \"言語モデルを使う上でのポイントは\"\n",
    "\n",
    "# APIへリクエスト\n",
    "response = client.chat.completions.create(\n",
    "    model=model_name,\n",
    "    messages=[\n",
    "        {\"role\": \"user\", \"content\": message},\n",
    "    ],\n",
    "    n=3,\n",
    "    max_tokens=100,\n",
    "    presence_penalty=-2.0\n",
    ")\n",
    "\n",
    "# 結果を表示\n",
    "for choice in response.choices:\n",
    "    print(\"-\" * 20)\n",
    "    print(choice.message.content.strip())"
   ]
  },
  {
   "cell_type": "code",
   "execution_count": 10,
   "metadata": {},
   "outputs": [
    {
     "name": "stdout",
     "output_type": "stream",
     "text": [
      "--------------------\n",
      "以下の点に注意する必要があります。\n",
      "\n",
      "1. データの品質: 言語モデルは大規模なテキストデータを学習するため、入力される文章が正確で適切な表現であることが重要です。トレーニングデータが不十分または偽の情報\n",
      "--------------------\n",
      "、入力された単語や文の前後の関係性を学習し、次に出現する可能性が高い単語や文を生成できるようにすることです。言語モデルは大規模なテキストデータセットから学習されるため、多様な文法や表現パタ\n",
      "--------------------\n",
      "、次のポイントに注意する必要があります。\n",
      "\n",
      "1. データの品質：言語モデルの性能は、その学習に使用されるデータの品質に大きく依存します。正確でバランスの取れたデータセットを使用し、不適切なデータやノイズを排除\n"
     ]
    }
   ],
   "source": [
    "# メッセージの設定\n",
    "message = \"言語モデルを使う上でのポイントは\"\n",
    "\n",
    "# APIへリクエスト\n",
    "response = client.chat.completions.create(\n",
    "    model=model_name,\n",
    "    messages=[\n",
    "        {\"role\": \"user\", \"content\": message},\n",
    "    ],\n",
    "    n=3,\n",
    "    max_tokens=100,\n",
    "    presence_penalty=2.0\n",
    ")\n",
    "\n",
    "# 結果を表示\n",
    "for choice in response.choices:\n",
    "    print(\"-\" * 20)\n",
    "    print(choice.message.content.strip())"
   ]
  },
  {
   "attachments": {},
   "cell_type": "markdown",
   "metadata": {},
   "source": [
    "# トークナイザー：tiktoken"
   ]
  },
  {
   "cell_type": "code",
   "execution_count": 11,
   "metadata": {},
   "outputs": [],
   "source": [
    "import tiktoken\n",
    "from tiktoken.core import Encoding\n",
    "\n",
    "# OpenAI APIの特定のモデルに対応するトークナイザーを取得\n",
    "encoding: Encoding = tiktoken.encoding_for_model(model_name)"
   ]
  },
  {
   "cell_type": "code",
   "execution_count": 12,
   "metadata": {},
   "outputs": [
    {
     "name": "stdout",
     "output_type": "stream",
     "text": [
      "tokens_count=9\n",
      "tokens=[90115, 6447, 78244, 45918, 252, 2845, 95, 68408, 33710]\n"
     ]
    }
   ],
   "source": [
    "# テキストをトークンIDのリストに変換\n",
    "tokens = encoding.encode(\"こんにちは！言語モデル\")\n",
    "tokens_count = len(tokens)\n",
    "# トークンの長さとトークンを表示\n",
    "print(f\"{tokens_count=}\")\n",
    "print(f\"{tokens=}\")"
   ]
  },
  {
   "cell_type": "code",
   "execution_count": 13,
   "metadata": {},
   "outputs": [
    {
     "name": "stdout",
     "output_type": "stream",
     "text": [
      "こんにちは, ！, 言, b'\\xe8\\xaa', b'\\x9e', b'\\xe3\\x83', b'\\xa2', デ, ル, "
     ]
    }
   ],
   "source": [
    "# トークンの単位を確認\n",
    "for token in tokens:\n",
    "    # トークンをバイト列にデコード\n",
    "    bytes = encoding.decode_tokens_bytes([token])[0]\n",
    "    # 文字に変換できるものは変換して表示\n",
    "    try:\n",
    "        print(bytes.decode('utf-8'), end=\", \")\n",
    "    except UnicodeDecodeError:\n",
    "        print(bytes, end=\", \")"
   ]
  },
  {
   "attachments": {},
   "cell_type": "markdown",
   "metadata": {},
   "source": [
    "# パラメーター：logit_bias"
   ]
  },
  {
   "cell_type": "code",
   "execution_count": 14,
   "metadata": {},
   "outputs": [
    {
     "name": "stdout",
     "output_type": "stream",
     "text": [
      "--------------------\n",
      "こんにちは！元気？\n",
      "--------------------\n",
      "こんにちは: おはよう！元気？\n",
      "--------------------\n",
      "こんにちは！元気？\n"
     ]
    }
   ],
   "source": [
    "# メッセージの設定\n",
    "message = \"\"\"\n",
    "AさんとBさんで会話してください。\n",
    "A:おはよう！\n",
    "B:\n",
    "\"\"\"\n",
    "\n",
    "# APIへリクエスト\n",
    "response = client.chat.completions.create(\n",
    "    model=model_name,\n",
    "    messages=[\n",
    "        {\"role\": \"user\", \"content\": message},\n",
    "    ],\n",
    "    max_tokens=300,\n",
    "    n=3,\n",
    "    logit_bias = {90115:8, 6447:8}\n",
    ")\n",
    "\n",
    "# 結果を表示\n",
    "for choice in response.choices:\n",
    "    print(\"-\" * 20)\n",
    "    print(choice.message.content.strip())"
   ]
  },
  {
   "attachments": {},
   "cell_type": "markdown",
   "metadata": {},
   "source": [
    "## パラメーター：stop"
   ]
  },
  {
   "cell_type": "code",
   "execution_count": 15,
   "metadata": {},
   "outputs": [
    {
     "name": "stdout",
     "output_type": "stream",
     "text": [
      "--------------------\n",
      "おおきに！昼食のおすすめはやっぱりお好み焼きや\n",
      "--------------------\n",
      "おめぇ、昼ご飯には\n",
      "--------------------\n",
      "おすすめは\n"
     ]
    }
   ],
   "source": [
    "# 役割を設定\n",
    "role = \"あなたは関西人です。大阪弁を使います。\"\n",
    "# メッセージの設定\n",
    "message = \"おすすめの昼食は何ですか？\"\n",
    "\n",
    "# APIへリクエスト\n",
    "response = client.chat.completions.create(\n",
    "    model=model_name,\n",
    "    messages=[\n",
    "        {\"role\": \"system\", \"content\": role},\n",
    "        {\"role\": \"user\", \"content\": message},\n",
    "    ],\n",
    "    n=3,\n",
    "    max_tokens=100,\n",
    "    stop=\"たこ焼き\"\n",
    ")\n",
    "\n",
    "# 結果を表示\n",
    "for choice in response.choices:\n",
    "    print(\"-\" * 20)\n",
    "    print(choice.message.content.strip())"
   ]
  },
  {
   "attachments": {},
   "cell_type": "markdown",
   "metadata": {},
   "source": [
    "## パラメーター：stream"
   ]
  },
  {
   "cell_type": "code",
   "execution_count": 16,
   "metadata": {},
   "outputs": [
    {
     "name": "stdout",
     "output_type": "stream",
     "text": [
      "、以下の点に留意することが重要です。\n",
      "\n",
      "1. データの質と量：言語モデルの性能は、学習に使用するデータの質と量に大きく影響されます。可能な限り多くのテキストデータを使用し、データの前処理や品質の向上に努めることが重要です。\n",
      "\n",
      "2. ハイパーパラメータの調整：言語モデルの性能に影響を与えるハイパーパラメータ（学習率、モデルのサイズ、エポック数など）を適切に調整することが必要です。ハイパーパラメータチューニングを行うことで、モデルの性能を最大限に引き出すことができます。\n",
      "\n",
      "3. オーバーフィッティングの防止：過学習を避けるために、適切な正則化手法（Dropout、Weight Decayなど）を適用することが重要です。また、適切な検証セットを用いてモデルの性能を評価し、過学習を防ぐための対策を取ることが大切です。\n",
      "\n",
      "4. モデルの評価と改善：モデルの性能を定量的に評価するためには、適切な評価指標（Perplexity、BLEUなど）を選定し、定期的にモデルの精度を評価することが必要です。また、モデルの性能を向上させるためには、定期的なハイパーパラメータ調整やデータの更新などの改善策を検討することが重要です。\n",
      "\n",
      "5. 言語の特性を理解する：言語モデルを適切に構築するためには、対象となる言語の特性や構造を理解することが重要です。言語の文法や語彙の特性を考慮しながらモデルを設計し、より実用的なモデルを構築することが必要です。"
     ]
    }
   ],
   "source": [
    "# メッセージの設定\n",
    "message = \"言語モデルを使う上でのポイントは\"\n",
    "\n",
    "# APIへリクエスト\n",
    "stream = client.chat.completions.create(\n",
    "    model=model_name,\n",
    "    messages=[\n",
    "        {\"role\": \"user\", \"content\": message},\n",
    "    ],\n",
    "    stream=True,\n",
    ")\n",
    "\n",
    "for chunk in stream:\n",
    "    if chunk.choices:\n",
    "        if chunk.choices[0].delta.content is not None:\n",
    "            print(chunk.choices[0].delta.content, end=\"\")"
   ]
  },
  {
   "attachments": {},
   "cell_type": "markdown",
   "metadata": {},
   "source": [
    "## 会話を続ける"
   ]
  },
  {
   "cell_type": "code",
   "execution_count": 17,
   "metadata": {},
   "outputs": [
    {
     "data": {
      "text/plain": [
       "'質問:こんにちは！'"
      ]
     },
     "metadata": {},
     "output_type": "display_data"
    },
    {
     "name": "stdout",
     "output_type": "stream",
     "text": [
      "こんにちは！ご用件はありますか？"
     ]
    },
    {
     "data": {
      "text/plain": [
       "'質問:オススメのランチを教えて'"
      ]
     },
     "metadata": {},
     "output_type": "display_data"
    },
    {
     "name": "stdout",
     "output_type": "stream",
     "text": [
      "何か特定の料理や食材に制限はありますか？それによっておすすめが変わるかもしれません。"
     ]
    },
    {
     "data": {
      "text/plain": [
       "'質問:和食'"
      ]
     },
     "metadata": {},
     "output_type": "display_data"
    },
    {
     "name": "stdout",
     "output_type": "stream",
     "text": [
      "和食がお好きなのですね！おすすめの和食ランチとしては、以下のようなものがあります：\n",
      "\n",
      "1. お蕎麦：天ぷらや温かい蕎麦、冷たい蕎麦など、季節や店舗によって選べるメニューが豊富です。\n",
      "\n",
      "2. 丼もの：親子丼、かつ丼、天丼など、具材とご飯が一緒になったボウル料理は満腹感があります。\n",
      "\n",
      "3. 寿司：握り寿司や巻き寿司、ちらし寿司など、新鮮なネタを楽しめるおすすめの選択肢です。\n",
      "\n",
      "4. 煮物や焼き物：お刺身や焼き魚、煮物や煮込み料理など、季節の旬の食材を使った料理もおすすめです。\n",
      "\n",
      "お店によってメニューや値段が異なるので、お近くの和食レストランや定食屋さんでお好みのランチセットを探してみてください！\n",
      "---ご利用ありがとうございました！---\n"
     ]
    }
   ],
   "source": [
    "# メッセージを格納するリスト\n",
    "messages=[]\n",
    "\n",
    "while(True):\n",
    "    # ユーザーからの質問を受付\n",
    "    message = input(\"メッセージを入力:\")\n",
    "    # 質問が入力されなければ終了\n",
    "    if message.strip()==\"\":\n",
    "        break\n",
    "    display(f\"質問:{message}\")\n",
    "\n",
    "    # メッセージにユーザーからの質問を追加\n",
    "    messages.append({\"role\": \"user\", \"content\": message.strip()})\n",
    "    # やりとりが8を超えたら古いメッセージから削除\n",
    "    if len(messages) > 8:\n",
    "        del_message = messages.pop(0)\n",
    "\n",
    "    # APIへリクエスト\n",
    "    stream = client.chat.completions.create(\n",
    "        model=model_name,\n",
    "        messages=messages,\n",
    "        stream=True,\n",
    "    )\n",
    "\n",
    "    # 言語モデルからの回答を表示\n",
    "    response_message = \"\"\n",
    "    for chunk in stream:\n",
    "        if chunk.choices:\n",
    "            next = chunk.choices[0].delta.content\n",
    "            if next is not None:\n",
    "                response_message += next\n",
    "                print(next, end='')\n",
    "\n",
    "    # メッセージに言語モデルからの回答を追加\n",
    "    messages.append({\"role\": \"assistant\", \"content\": response_message})\n",
    "\n",
    "print(\"\\n---ご利用ありがとうございました！---\")"
   ]
  },
  {
   "cell_type": "code",
   "execution_count": null,
   "metadata": {},
   "outputs": [],
   "source": []
  }
 ],
 "metadata": {
  "kernelspec": {
   "display_name": ".venv",
   "language": "python",
   "name": "python3"
  },
  "language_info": {
   "codemirror_mode": {
    "name": "ipython",
    "version": 3
   },
   "file_extension": ".py",
   "mimetype": "text/x-python",
   "name": "python",
   "nbconvert_exporter": "python",
   "pygments_lexer": "ipython3",
   "version": "3.11.9"
  },
  "orig_nbformat": 4
 },
 "nbformat": 4,
 "nbformat_minor": 2
}
