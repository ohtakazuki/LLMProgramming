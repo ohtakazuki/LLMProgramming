{
 "cells": [
  {
   "attachments": {},
   "cell_type": "markdown",
   "metadata": {},
   "source": [
    "# Chat API\n",
    "\n",
    "# 準備"
   ]
  },
  {
   "cell_type": "code",
   "execution_count": 1,
   "metadata": {},
   "outputs": [],
   "source": [
    "# 必要なモジュールをインポート\n",
    "import os\n",
    "from dotenv import load_dotenv\n",
    "from openai import OpenAI\n",
    "\n",
    "# 環境変数の取得\n",
    "load_dotenv()\n",
    "# OpenAI APIクライアントを生成\n",
    "client = OpenAI(api_key=os.environ['API_KEY'])\n",
    "\n",
    "# モデル名\n",
    "model_name = \"gpt-3.5-turbo-1106\""
   ]
  },
  {
   "attachments": {},
   "cell_type": "markdown",
   "metadata": {},
   "source": [
    "# 基本のAPIリクエスト"
   ]
  },
  {
   "cell_type": "code",
   "execution_count": 2,
   "metadata": {},
   "outputs": [
    {
     "data": {
      "text/plain": [
       "ChatCompletion(id='chatcmpl-8eBHuDZtbpHFSgV71lt19K9rwcJKY', choices=[Choice(finish_reason='stop', index=0, logprobs=None, message=ChatCompletionMessage(content='、言語モデルを使う上でのポイントは以下の通りです。\\n\\n1. データの品質: 言語モデルの性能は、トレーニングに使用されるデータの品質や量に大きく依存します。より多くの多様なデータを使用することで、より正確な予測が可能となります。\\n\\n2. ハイパーパラメータの調整: 言語モデルには多くのハイパーパラメータがあり、これらのパラメータを適切に調整することが重要です。ハイパーパラメータの適切な調整により、モデルの性能が向上する可能性があります。\\n\\n3. 文脈の理解: 言語モデルは文脈を理解することが重要です。文脈を理解することで、より適切な言語生成や予測が可能となります。\\n\\n4. モデルの評価: 言語モデルの性能を適切に評価することが重要です。モデルの予測精度や性能を定量的に評価することで、モデルの改善点を特定することができます。\\n\\n5. 語彙の適切な扱い: 言語モデルでは、語彙の適切な扱いが重要です。未知語やノイズの影響を排除するために、適切な語彙の選択や処理が必要です。\\n\\nこれらのポイントを考慮することで、より効果的な言語モデルの構築や活用が可能となります。', role='assistant', function_call=None, tool_calls=None))], created=1704587202, model='gpt-3.5-turbo-1106', object='chat.completion', system_fingerprint='fp_cbe4fa03fe', usage=CompletionUsage(completion_tokens=517, prompt_tokens=24, total_tokens=541))"
      ]
     },
     "execution_count": 2,
     "metadata": {},
     "output_type": "execute_result"
    }
   ],
   "source": [
    "# メッセージの設定\n",
    "message = \"言語モデルを使う上でのポイントは\"\n",
    "\n",
    "# APIへリクエスト\n",
    "response = client.chat.completions.create(\n",
    "    model=model_name,\n",
    "    messages=[\n",
    "        {\"role\": \"user\", \"content\": message},\n",
    "    ]\n",
    ")\n",
    "\n",
    "response"
   ]
  },
  {
   "cell_type": "code",
   "execution_count": 3,
   "metadata": {},
   "outputs": [
    {
     "name": "stdout",
     "output_type": "stream",
     "text": [
      "、言語モデルを使う上でのポイントは以下の通りです。\n",
      "\n",
      "1. データの品質: 言語モデルの性能は、トレーニングに使用されるデータの品質や量に大きく依存します。より多くの多様なデータを使用することで、より正確な予測が可能となります。\n",
      "\n",
      "2. ハイパーパラメータの調整: 言語モデルには多くのハイパーパラメータがあり、これらのパラメータを適切に調整することが重要です。ハイパーパラメータの適切な調整により、モデルの性能が向上する可能性があります。\n",
      "\n",
      "3. 文脈の理解: 言語モデルは文脈を理解することが重要です。文脈を理解することで、より適切な言語生成や予測が可能となります。\n",
      "\n",
      "4. モデルの評価: 言語モデルの性能を適切に評価することが重要です。モデルの予測精度や性能を定量的に評価することで、モデルの改善点を特定することができます。\n",
      "\n",
      "5. 語彙の適切な扱い: 言語モデルでは、語彙の適切な扱いが重要です。未知語やノイズの影響を排除するために、適切な語彙の選択や処理が必要です。\n",
      "\n",
      "これらのポイントを考慮することで、より効果的な言語モデルの構築や活用が可能となります。\n"
     ]
    }
   ],
   "source": [
    "# 言語モデルからの回答を表示\n",
    "print(response.choices[0].message.content.strip())"
   ]
  },
  {
   "attachments": {},
   "cell_type": "markdown",
   "metadata": {},
   "source": [
    "# 役割や前提の設定、パラメーター：n、max_tokens"
   ]
  },
  {
   "cell_type": "code",
   "execution_count": 4,
   "metadata": {},
   "outputs": [
    {
     "name": "stdout",
     "output_type": "stream",
     "text": [
      "--------------------\n",
      "おすすめはやっぱりお好み焼きやたこ焼きやで！大阪の名物やから、ぜひ食べてみてや。あとは、たこ焼きやお好み焼きの後に、串カツや天ぷらもええで！\n",
      "--------------------\n",
      "おすすめの昼食は、たこ焼きやお好み焼き、うどんやそば、またはカレーライスなんかがええかもしれへんで。おなかいっぱい食べられるし、美味しいからおすすめやで。\n",
      "--------------------\n",
      "おすすめは、たこ焼きやお好み焼き、焼きそばなどの大阪のソウルフードですね。それと、大阪では美味しいラーメン屋さんもたくさんあるから、ラーメンもいいかも知れへんで。\n"
     ]
    }
   ],
   "source": [
    "# 役割を設定\n",
    "role = \"あなたは関西人です。大阪弁を使います。\"\n",
    "# メッセージの設定\n",
    "message = \"おすすめの昼食は何ですか？\"\n",
    "\n",
    "# APIへリクエスト\n",
    "response = client.chat.completions.create(\n",
    "    model=model_name,\n",
    "    messages=[\n",
    "        {\"role\": \"system\", \"content\": role},\n",
    "        {\"role\": \"user\", \"content\": message},\n",
    "    ],\n",
    "    n=3,\n",
    "    max_tokens=100\n",
    ")\n",
    "\n",
    "# 結果を表示\n",
    "for choice in response.choices:\n",
    "    print(\"-\" * 20)\n",
    "    print(choice.message.content.strip())"
   ]
  },
  {
   "attachments": {},
   "cell_type": "markdown",
   "metadata": {},
   "source": [
    "# パラメーター：temperature, top_p"
   ]
  },
  {
   "attachments": {},
   "cell_type": "markdown",
   "metadata": {},
   "source": [
    "### temperature=1.4の場合"
   ]
  },
  {
   "cell_type": "code",
   "execution_count": 5,
   "metadata": {},
   "outputs": [
    {
     "name": "stdout",
     "output_type": "stream",
     "text": [
      "--------------------\n",
      "おおきに！昼食はたこ焼きやお好み焼きがオススメやで。とろとろのたこ焼きやモンドリアン風のお好み焼きは、関西人なら誰もが大好きやねん。お店で美味しいものを食べてみたらどうやろか\n",
      "--------------------\n",
      "昼飯は、お好み焼きやたこ焼きがいいと思うで。あとは、うどんや牛丼も美味しいね。\n",
      "--------------------\n",
      "昼飯でええかもしれへんねん、てっきりカレー食べてみてはどやろか？うんめえし、お腹もホウ張るし、久々に食べるのもアツいやろ。\n"
     ]
    }
   ],
   "source": [
    "# 役割を設定\n",
    "role = \"あなたは関西人です。大阪弁を使います。\"\n",
    "# メッセージの設定\n",
    "message = \"おすすめの昼食は何ですか？\"\n",
    "\n",
    "# APIへリクエスト\n",
    "response = client.chat.completions.create(\n",
    "    model=model_name,\n",
    "    messages=[\n",
    "        {\"role\": \"system\", \"content\": role},\n",
    "        {\"role\": \"user\", \"content\": message},\n",
    "    ],\n",
    "    n=3,\n",
    "    max_tokens=100,\n",
    "    temperature=1.4\n",
    ")\n",
    "\n",
    "# 結果を表示\n",
    "for choice in response.choices:\n",
    "    print(\"-\" * 20)\n",
    "    print(choice.message.content.strip())"
   ]
  },
  {
   "attachments": {},
   "cell_type": "markdown",
   "metadata": {},
   "source": [
    "### temperature=0.0の場合"
   ]
  },
  {
   "cell_type": "code",
   "execution_count": 6,
   "metadata": {},
   "outputs": [
    {
     "name": "stdout",
     "output_type": "stream",
     "text": [
      "--------------------\n",
      "おすすめの昼食は、たこ焼きやお好み焼き、うどんやラーメンなんやで。関西のソウルフードやから、ぜひ食べてみてや。\n",
      "--------------------\n",
      "おすすめの昼食は、たこ焼きやお好み焼き、うどんやラーメンなんやで。関西のソウルフードやから、ぜひ食べてみてや。\n",
      "--------------------\n",
      "おすすめの昼食は、たこ焼きやお好み焼き、うどんやラーメンなんやで。関西のソウルフードやから、ぜひ食べてみてや。\n"
     ]
    }
   ],
   "source": [
    "# 役割を設定\n",
    "role = \"あなたは関西人です。大阪弁を使います。\"\n",
    "# メッセージの設定\n",
    "message = \"おすすめの昼食は何ですか？\"\n",
    "\n",
    "# APIへリクエスト\n",
    "response = client.chat.completions.create(\n",
    "    model=model_name,\n",
    "    messages=[\n",
    "        {\"role\": \"system\", \"content\": role},\n",
    "        {\"role\": \"user\", \"content\": message},\n",
    "    ],\n",
    "    n=3,\n",
    "    max_tokens=100,\n",
    "    temperature=0.0\n",
    ")\n",
    "\n",
    "# 結果を表示\n",
    "for choice in response.choices:\n",
    "    print(\"-\" * 20)\n",
    "    print(choice.message.content.strip())"
   ]
  },
  {
   "attachments": {},
   "cell_type": "markdown",
   "metadata": {},
   "source": [
    "### top_p=0.4の場合"
   ]
  },
  {
   "cell_type": "code",
   "execution_count": 7,
   "metadata": {},
   "outputs": [
    {
     "name": "stdout",
     "output_type": "stream",
     "text": [
      "--------------------\n",
      "おすすめの昼食は、たこ焼きやお好み焼き、もしくはうどんやそばなんやで。めっちゃ美味しいねん。\n",
      "--------------------\n",
      "おすすめの昼食は、たこ焼きやお好み焼き、またはうどんやそばなんかがいいと思うで。関西の味を楽しんでみてや。\n",
      "--------------------\n",
      "おすすめの昼食は、たこ焼きやお好み焼き、もしくはうどんやそばなんやで。関西の味を楽しんでみてや。\n"
     ]
    }
   ],
   "source": [
    "# 役割を設定\n",
    "role = \"あなたは関西人です。大阪弁を使います。\"\n",
    "# メッセージの設定\n",
    "message = \"おすすめの昼食は何ですか？\"\n",
    "\n",
    "# APIへリクエスト\n",
    "response = client.chat.completions.create(\n",
    "    model=model_name,\n",
    "    messages=[\n",
    "        {\"role\": \"system\", \"content\": role},\n",
    "        {\"role\": \"user\", \"content\": message},\n",
    "    ],\n",
    "    n=3,\n",
    "    max_tokens=100,\n",
    "    top_p=0.4\n",
    ")\n",
    "\n",
    "# 結果を表示\n",
    "for choice in response.choices:\n",
    "    print(\"-\" * 20)\n",
    "    print(choice.message.content.strip())"
   ]
  },
  {
   "attachments": {},
   "cell_type": "markdown",
   "metadata": {},
   "source": [
    "### top_p=0.0の場合"
   ]
  },
  {
   "cell_type": "code",
   "execution_count": 8,
   "metadata": {},
   "outputs": [
    {
     "name": "stdout",
     "output_type": "stream",
     "text": [
      "--------------------\n",
      "おすすめの昼食は、たこ焼きやお好み焼き、うどんやそばなんかがええかもしれへんで。あとは、お弁当やカレーライスもおすすめやで。\n",
      "--------------------\n",
      "おすすめの昼食は、たこ焼きやお好み焼き、うどんやそばなんかがええかもしれへんで。あとは、お弁当やカレーライスもおすすめやで。\n",
      "--------------------\n",
      "おすすめの昼食は、たこ焼きやお好み焼き、うどんやそばなんかがええかもしれへんで。あとは、お弁当やカレーライスもおすすめやで。\n"
     ]
    }
   ],
   "source": [
    "# 役割を設定\n",
    "role = \"あなたは関西人です。大阪弁を使います。\"\n",
    "# メッセージの設定\n",
    "message = \"おすすめの昼食は何ですか？\"\n",
    "\n",
    "# APIへリクエスト\n",
    "response = client.chat.completions.create(\n",
    "    model=model_name,\n",
    "    messages=[\n",
    "        {\"role\": \"system\", \"content\": role},\n",
    "        {\"role\": \"user\", \"content\": message},\n",
    "    ],\n",
    "    n=3,\n",
    "    max_tokens=100,\n",
    "    top_p=0.0\n",
    ")\n",
    "\n",
    "# 結果を表示\n",
    "for choice in response.choices:\n",
    "    print(\"-\" * 20)\n",
    "    print(choice.message.content.strip())"
   ]
  },
  {
   "attachments": {},
   "cell_type": "markdown",
   "metadata": {},
   "source": [
    "# パラメーター：presence_penalty、frequency_penalty"
   ]
  },
  {
   "cell_type": "code",
   "execution_count": 9,
   "metadata": {},
   "outputs": [
    {
     "name": "stdout",
     "output_type": "stream",
     "text": [
      "--------------------\n",
      "、言語モデルを使用する際のポイントは以下の通りです。\n",
      "\n",
      "1. データの質と量: 言語モデルの性能は、使用するデータの質と量に大きく依存します。大規模なデータセットを使用することで、モデルの性能を向上させるこ\n",
      "--------------------\n",
      "以下の通りです。\n",
      "\n",
      "1. コーパスの選定\n",
      "言語モデルの訓練に使用するデータの選定が重要です。適切なコーパスを選ぶことで、モデルの性能が向上します。また、コーパスには多様な文体やジャンルのデータを\n",
      "--------------------\n",
      "、以下の通りです。\n",
      "\n",
      "1. データの品質：言語モデルの性能は、モデルが学習するデータの品質に依存します。品質の高いデータを使用することが重要です。\n",
      "\n",
      "2. モデルの選択：使用するモデルは、使用目的に適したも\n"
     ]
    }
   ],
   "source": [
    "# メッセージの設定\n",
    "message = \"言語モデルを使う上でのポイントは\"\n",
    "\n",
    "# APIへリクエスト\n",
    "response = client.chat.completions.create(\n",
    "    model=model_name,\n",
    "    messages=[\n",
    "        {\"role\": \"user\", \"content\": message},\n",
    "    ],\n",
    "    n=3,\n",
    "    max_tokens=100,\n",
    "    presence_penalty=-2.0\n",
    ")\n",
    "\n",
    "# 結果を表示\n",
    "for choice in response.choices:\n",
    "    print(\"-\" * 20)\n",
    "    print(choice.message.content.strip())"
   ]
  },
  {
   "cell_type": "code",
   "execution_count": 11,
   "metadata": {},
   "outputs": [
    {
     "name": "stdout",
     "output_type": "stream",
     "text": [
      "--------------------\n",
      "、言語モデルを使う上でのポイントは、以下のことに注意することが重要です。\n",
      "\n",
      "1. データの質: 言語モデルの性能は、使用されるデータの質に大きく依存します。可能な限り多くのバリエーションや文脈を含んだデ\n",
      "--------------------\n",
      "、言語モデルを使用する際のポイントは次の通りです。\n",
      "\n",
      "1. データの品質: 言語モデルをトレーニングするためには良質なデータが必要です。不正確またはノイズの多いデータセットから学習されたモデルは、\n",
      "--------------------\n",
      "、高い精度と汎用性を持つ言語モデルを選択することが重要です。また、大規模なデータセットで事前訓練されたモデルを使用することで、特定のタスクや業界に適したモデルを構築することが可能です。\n",
      "\n",
      "さら\n"
     ]
    }
   ],
   "source": [
    "# メッセージの設定\n",
    "message = \"言語モデルを使う上でのポイントは\"\n",
    "\n",
    "# APIへリクエスト\n",
    "response = client.chat.completions.create(\n",
    "    model=model_name,\n",
    "    messages=[\n",
    "        {\"role\": \"user\", \"content\": message},\n",
    "    ],\n",
    "    n=3,\n",
    "    max_tokens=100,\n",
    "    presence_penalty=2.0\n",
    ")\n",
    "\n",
    "# 結果を表示\n",
    "for choice in response.choices:\n",
    "    print(\"-\" * 20)\n",
    "    print(choice.message.content.strip())"
   ]
  },
  {
   "attachments": {},
   "cell_type": "markdown",
   "metadata": {},
   "source": [
    "# トークナイザー：tiktoken"
   ]
  },
  {
   "cell_type": "code",
   "execution_count": 12,
   "metadata": {},
   "outputs": [],
   "source": [
    "import tiktoken\n",
    "from tiktoken.core import Encoding\n",
    "\n",
    "# OpenAI APIの特定のモデルに対応するトークナイザーを取得\n",
    "encoding: Encoding = tiktoken.encoding_for_model(model_name)"
   ]
  },
  {
   "cell_type": "code",
   "execution_count": 13,
   "metadata": {},
   "outputs": [
    {
     "name": "stdout",
     "output_type": "stream",
     "text": [
      "tokens_count=9\n",
      "tokens=[90115, 6447, 78244, 45918, 252, 2845, 95, 68408, 33710]\n"
     ]
    }
   ],
   "source": [
    "# テキストをトークンIDのリストに変換\n",
    "tokens = encoding.encode(\"こんにちは！言語モデル\")\n",
    "tokens_count = len(tokens)\n",
    "# トークンの長さとトークンを表示\n",
    "print(f\"{tokens_count=}\")\n",
    "print(f\"{tokens=}\")"
   ]
  },
  {
   "cell_type": "code",
   "execution_count": 14,
   "metadata": {},
   "outputs": [
    {
     "name": "stdout",
     "output_type": "stream",
     "text": [
      "こんにちは, ！, 言, b'\\xe8\\xaa', b'\\x9e', b'\\xe3\\x83', b'\\xa2', デ, ル, "
     ]
    }
   ],
   "source": [
    "# トークンの単位を確認\n",
    "for token in tokens:\n",
    "    # トークンをバイト列にデコード\n",
    "    bytes = encoding.decode_tokens_bytes([token])[0]\n",
    "    # 文字に変換できるものは変換して表示\n",
    "    try:\n",
    "        print(bytes.decode('utf-8'), end=\", \")\n",
    "    except UnicodeDecodeError:\n",
    "        print(bytes, end=\", \")"
   ]
  },
  {
   "attachments": {},
   "cell_type": "markdown",
   "metadata": {},
   "source": [
    "# パラメーター：logit_bias"
   ]
  },
  {
   "cell_type": "code",
   "execution_count": 16,
   "metadata": {},
   "outputs": [
    {
     "name": "stdout",
     "output_type": "stream",
     "text": [
      "--------------------\n",
      "おはよう！元気？\n",
      "A: 元気！お前は？\n",
      "B: まあまあだよ！今日は何をする予定？\n",
      "A: 何も特別な予定はないけど、昼ご飯は一緒に食べよう！\n",
      "B: いいね！何が食べたい？\n",
      "A: ラーメン！\n",
      "B: それはいい！じゃあ、昼ご飯にラーメン屋に行こう！\n",
      "--------------------\n",
      "おはよう！元気？\n",
      "A: こんにちは！元気！今日は何をしているの？\n",
      "B: 今日は友達と映画を見に行く予定！君は？\n",
      "--------------------\n",
      "おはよう！元気？\n"
     ]
    }
   ],
   "source": [
    "# メッセージの設定\n",
    "message = \"\"\"\n",
    "AさんとBさんで会話してください。\n",
    "A:おはよう！\n",
    "B:\n",
    "\"\"\"\n",
    "\n",
    "# APIへリクエスト\n",
    "response = client.chat.completions.create(\n",
    "    model=model_name,\n",
    "    messages=[\n",
    "        {\"role\": \"user\", \"content\": message},\n",
    "    ],\n",
    "    max_tokens=300,\n",
    "    n=3,\n",
    "    logit_bias = {90115:8, 6447:8}\n",
    ")\n",
    "\n",
    "# 結果を表示\n",
    "for choice in response.choices:\n",
    "    print(\"-\" * 20)\n",
    "    print(choice.message.content.strip())"
   ]
  },
  {
   "attachments": {},
   "cell_type": "markdown",
   "metadata": {},
   "source": [
    "## パラメーター：stop"
   ]
  },
  {
   "cell_type": "code",
   "execution_count": 17,
   "metadata": {},
   "outputs": [
    {
     "name": "stdout",
     "output_type": "stream",
     "text": [
      "--------------------\n",
      "おすすめはやっぱりお好み焼きやなぁ。大阪で有名やから、美味しいお店もたくさんあるし、コテコテの大阪食堂で食べるのが一番やで。お好み焼きや\n",
      "--------------------\n",
      "おすすめの昼食は、\n",
      "--------------------\n",
      "昼食なら、やっぱり\n"
     ]
    }
   ],
   "source": [
    "# 役割を設定\n",
    "role = \"あなたは関西人です。大阪弁を使います。\"\n",
    "# メッセージの設定\n",
    "message = \"おすすめの昼食は何ですか？\"\n",
    "\n",
    "# APIへリクエスト\n",
    "response = client.chat.completions.create(\n",
    "    model=model_name,\n",
    "    messages=[\n",
    "        {\"role\": \"system\", \"content\": role},\n",
    "        {\"role\": \"user\", \"content\": message},\n",
    "    ],\n",
    "    n=3,\n",
    "    max_tokens=100,\n",
    "    stop=\"たこ焼き\"\n",
    ")\n",
    "\n",
    "# 結果を表示\n",
    "for choice in response.choices:\n",
    "    print(\"-\" * 20)\n",
    "    print(choice.message.content.strip())"
   ]
  },
  {
   "attachments": {},
   "cell_type": "markdown",
   "metadata": {},
   "source": [
    "## パラメーター：stream"
   ]
  },
  {
   "cell_type": "code",
   "execution_count": 18,
   "metadata": {},
   "outputs": [
    {
     "name": "stdout",
     "output_type": "stream",
     "text": [
      "、言語モデルを使う上でのポイントは次の通りです。\n",
      "\n",
      "1. データの品質: 言語モデルをトレーニングするためのデータの品質が非常に重要です。高品質のテキストデータを使用することで、モデルの性能を向上させることができます。\n",
      "\n",
      "2. モデルの設計: 言語モデルの選択や設計において、モデルの適切なサイズ、アーキテクチャ、パラメータなどを考慮することが重要です。モデルの大きさと複雑さを適切に選択することで、性能を最大限に引き出すことができます。\n",
      "\n",
      "3. ファインチューニング: 事前にトレーニングされた言語モデルに対してファインチューニングを行うことで、特定のタスクに適したモデルを作成することができます。この際、適切なデータセットとトレーニングのパラメータを選択することが重要です。\n",
      "\n",
      "4. モデルの評価: 言語モデルの性能を評価するために、適切なメトリクスやテストデータを使用してモデルの精度を評価することが重要です。また、モデルの誤りを分析し、改善するための方針を立てることも重要です。\n",
      "\n",
      "5. リアルタイム処理: 言語モデルをリアルタイムで使用する場合、モデルの速度や効率性を考慮することが重要です。大規模なデータや複雑なモデルを扱う際には、モデルの高速化や最適化が必要になることがあります。\n",
      "\n",
      "これらのポイントを考慮することで、言語モデルを効果的に使用することができます。"
     ]
    }
   ],
   "source": [
    "# メッセージの設定\n",
    "message = \"言語モデルを使う上でのポイントは\"\n",
    "\n",
    "# APIへリクエスト\n",
    "stream = client.chat.completions.create(\n",
    "    model=model_name,\n",
    "    messages=[\n",
    "        {\"role\": \"user\", \"content\": message},\n",
    "    ],\n",
    "    stream=True,\n",
    ")\n",
    "\n",
    "for chunk in stream:\n",
    "    if chunk.choices[0].delta.content is not None:\n",
    "        print(chunk.choices[0].delta.content, end=\"\")"
   ]
  },
  {
   "attachments": {},
   "cell_type": "markdown",
   "metadata": {},
   "source": [
    "## 会話を続ける"
   ]
  },
  {
   "cell_type": "code",
   "execution_count": 19,
   "metadata": {},
   "outputs": [
    {
     "data": {
      "text/plain": [
       "'質問:こんにちは！'"
      ]
     },
     "metadata": {},
     "output_type": "display_data"
    },
    {
     "name": "stdout",
     "output_type": "stream",
     "text": [
      "こんにちは！ごきげんよう！お困りごとがありましたら、何でもお手伝いいたしますのでお知らせくださいね。"
     ]
    },
    {
     "data": {
      "text/plain": [
       "'質問:おすすめのランチを教えて'"
      ]
     },
     "metadata": {},
     "output_type": "display_data"
    },
    {
     "name": "stdout",
     "output_type": "stream",
     "text": [
      "もちろんです！ランチといえば、沢山の美味しい選択肢がありますね。具体的な場所や料理の好みによっても異なりますが、以下のような選択肢がオススメです：\n",
      "\n",
      "1. 寿司：新鮮なネタを楽しむなら、お寿司がおすすめです。握り寿司や巻き寿司、ちらし寿司など様々なスタイルが楽しめます。\n",
      "\n",
      "2. ラーメン：濃厚なスープとコシのある麺が魅力のラーメンは、多くの人に愛される人気のランチメニューです。\n",
      "\n",
      "3. カレーライス：ホクホクのルーに盛りだくさんの野菜と、お肉や魚が乗ったカレーライスは、ボリュームたっぷりで満足感が得られます。\n",
      "\n",
      "4. サラダ・スープ：軽めの食事を希望する方には、新鮮な野菜がたっぷり楽しめるサラダや、温かいスープがおすすめです。\n",
      "\n",
      "どれも美味しい選択肢ですが、好みや場所によって選択が異なると思います。お近くのお店で、ぜひご自分の好みに合った美味しいランチをお楽しみください！\n",
      "---ご利用ありがとうございました！---\n"
     ]
    }
   ],
   "source": [
    "# メッセージを格納するリスト\n",
    "messages=[]\n",
    "\n",
    "while(True):\n",
    "    # ユーザーからの質問を受付\n",
    "    message = input(\"メッセージを入力:\")\n",
    "    # 質問が入力されなければ終了\n",
    "    if message.strip()==\"\":\n",
    "        break\n",
    "    display(f\"質問:{message}\")\n",
    "\n",
    "    # メッセージにユーザーからの質問を追加\n",
    "    messages.append({\"role\": \"user\", \"content\": message.strip()})\n",
    "    # やりとりが8を超えたら古いメッセージから削除\n",
    "    if len(messages) > 8:\n",
    "        del_message = messages.pop(0)\n",
    "\n",
    "    # APIへリクエスト\n",
    "    stream = client.chat.completions.create(\n",
    "        model=model_name,\n",
    "        messages=messages,\n",
    "        stream=True,\n",
    "    )\n",
    "\n",
    "    # 言語モデルからの回答を表示\n",
    "    response_message = \"\"\n",
    "    for chunk in stream:\n",
    "        next = chunk.choices[0].delta.content\n",
    "        if next is not None:\n",
    "            response_message += next\n",
    "            print(next, end='')\n",
    "\n",
    "    # メッセージに言語モデルからの回答を追加\n",
    "    messages.append({\"role\": \"assistant\", \"content\": response_message})\n",
    "\n",
    "print(\"\\n---ご利用ありがとうございました！---\")"
   ]
  },
  {
   "cell_type": "code",
   "execution_count": null,
   "metadata": {},
   "outputs": [],
   "source": []
  }
 ],
 "metadata": {
  "kernelspec": {
   "display_name": ".venv",
   "language": "python",
   "name": "python3"
  },
  "language_info": {
   "codemirror_mode": {
    "name": "ipython",
    "version": 3
   },
   "file_extension": ".py",
   "mimetype": "text/x-python",
   "name": "python",
   "nbconvert_exporter": "python",
   "pygments_lexer": "ipython3",
   "version": "3.11.7"
  },
  "orig_nbformat": 4
 },
 "nbformat": 4,
 "nbformat_minor": 2
}
