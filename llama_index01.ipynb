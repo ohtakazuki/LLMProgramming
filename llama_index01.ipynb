{
 "cells": [
  {
   "attachments": {},
   "cell_type": "markdown",
   "metadata": {},
   "source": [
    "# LlamaIndex - シンプルな例\n",
    "\n",
    "# 準備"
   ]
  },
  {
   "cell_type": "code",
   "execution_count": 1,
   "metadata": {},
   "outputs": [],
   "source": [
    "# 必要なモジュールをインポート\n",
    "import os\n",
    "from dotenv import load_dotenv\n",
    "\n",
    "# 環境変数の読み込み\n",
    "load_dotenv()\n",
    "os.environ['OPENAI_API_KEY']  = os.environ['API_KEY']"
   ]
  },
  {
   "attachments": {},
   "cell_type": "markdown",
   "metadata": {},
   "source": [
    "# Indexの構築"
   ]
  },
  {
   "cell_type": "code",
   "execution_count": 2,
   "metadata": {},
   "outputs": [],
   "source": [
    "from llama_index.core import VectorStoreIndex, SimpleDirectoryReader\n",
    "\n",
    "# ドキュメントからテキスト情報を読込\n",
    "documents = SimpleDirectoryReader('data').load_data()\n",
    "# Indexの構築\n",
    "index = VectorStoreIndex.from_documents(documents)"
   ]
  },
  {
   "attachments": {},
   "cell_type": "markdown",
   "metadata": {},
   "source": [
    "# ユーザーからの質問に回答"
   ]
  },
  {
   "cell_type": "code",
   "execution_count": 3,
   "metadata": {},
   "outputs": [
    {
     "name": "stdout",
     "output_type": "stream",
     "text": [
      "キノコストレージは、容量の大きなデータストレージ装置を指す架空のIT用語であり、その形状がキノコに似ていることから名付けられました。この装置は非常に小さなサイズでありながら、膨大なデータを保持することができるとされています。また、キノコストレージは高い耐久性を持ち、データの保護と安全性を確保すると説明されます。\n"
     ]
    }
   ],
   "source": [
    "# Query Engineの作成\n",
    "query_engine = index.as_query_engine()\n",
    "# 「ユーザーからの質問」を渡して回答を得る\n",
    "response = query_engine.query(\"キノコストレージについて日本語で説明して\")\n",
    "# 言語モデルからの回答を表示\n",
    "print(response)"
   ]
  },
  {
   "attachments": {},
   "cell_type": "markdown",
   "metadata": {},
   "source": [
    "# 詳細なログの表示"
   ]
  },
  {
   "cell_type": "code",
   "execution_count": 4,
   "metadata": {},
   "outputs": [],
   "source": [
    "import logging\n",
    "import sys\n",
    "\n",
    "logging.basicConfig(stream=sys.stdout, level=logging.DEBUG)\n",
    "logging.getLogger().addHandler(logging.StreamHandler(stream=sys.stdout))"
   ]
  },
  {
   "cell_type": "code",
   "execution_count": 5,
   "metadata": {},
   "outputs": [
    {
     "name": "stdout",
     "output_type": "stream",
     "text": [
      "DEBUG:openai._base_client:Request options: {'method': 'post', 'url': '/embeddings', 'files': None, 'post_parser': <function Embeddings.create.<locals>.parser at 0x10a81e5c0>, 'json_data': {'input': ['キノコストレージについて説明して'], 'model': 'text-embedding-ada-002', 'encoding_format': 'base64'}}\n",
      "Request options: {'method': 'post', 'url': '/embeddings', 'files': None, 'post_parser': <function Embeddings.create.<locals>.parser at 0x10a81e5c0>, 'json_data': {'input': ['キノコストレージについて説明して'], 'model': 'text-embedding-ada-002', 'encoding_format': 'base64'}}\n",
      "DEBUG:httpcore.connection:close.started\n",
      "close.started\n",
      "DEBUG:httpcore.connection:close.complete\n",
      "close.complete\n",
      "DEBUG:httpcore.connection:connect_tcp.started host='api.openai.com' port=443 local_address=None timeout=60.0 socket_options=None\n",
      "connect_tcp.started host='api.openai.com' port=443 local_address=None timeout=60.0 socket_options=None\n",
      "DEBUG:httpcore.connection:connect_tcp.complete return_value=<httpcore._backends.sync.SyncStream object at 0x162fe7d90>\n",
      "connect_tcp.complete return_value=<httpcore._backends.sync.SyncStream object at 0x162fe7d90>\n",
      "DEBUG:httpcore.connection:start_tls.started ssl_context=<ssl.SSLContext object at 0x162fc4560> server_hostname='api.openai.com' timeout=60.0\n",
      "start_tls.started ssl_context=<ssl.SSLContext object at 0x162fc4560> server_hostname='api.openai.com' timeout=60.0\n",
      "DEBUG:httpcore.connection:start_tls.complete return_value=<httpcore._backends.sync.SyncStream object at 0x163466e50>\n",
      "start_tls.complete return_value=<httpcore._backends.sync.SyncStream object at 0x163466e50>\n",
      "DEBUG:httpcore.http11:send_request_headers.started request=<Request [b'POST']>\n",
      "send_request_headers.started request=<Request [b'POST']>\n",
      "DEBUG:httpcore.http11:send_request_headers.complete\n",
      "send_request_headers.complete\n",
      "DEBUG:httpcore.http11:send_request_body.started request=<Request [b'POST']>\n",
      "send_request_body.started request=<Request [b'POST']>\n",
      "DEBUG:httpcore.http11:send_request_body.complete\n",
      "send_request_body.complete\n",
      "DEBUG:httpcore.http11:receive_response_headers.started request=<Request [b'POST']>\n",
      "receive_response_headers.started request=<Request [b'POST']>\n",
      "DEBUG:httpcore.http11:receive_response_headers.complete return_value=(b'HTTP/1.1', 200, b'OK', [(b'Date', b'Wed, 24 Apr 2024 07:36:02 GMT'), (b'Content-Type', b'application/json'), (b'Transfer-Encoding', b'chunked'), (b'Connection', b'keep-alive'), (b'access-control-allow-origin', b'*'), (b'openai-model', b'text-embedding-ada-002'), (b'openai-organization', b'user-mvnipnankuxxlro43mseaobj'), (b'openai-processing-ms', b'20'), (b'openai-version', b'2020-10-01'), (b'strict-transport-security', b'max-age=15724800; includeSubDomains'), (b'x-ratelimit-limit-requests', b'3000'), (b'x-ratelimit-limit-tokens', b'1000000'), (b'x-ratelimit-remaining-requests', b'2999'), (b'x-ratelimit-remaining-tokens', b'999988'), (b'x-ratelimit-reset-requests', b'20ms'), (b'x-ratelimit-reset-tokens', b'0s'), (b'x-request-id', b'req_c3db077d4d29633cbdd6e237b9914bc4'), (b'CF-Cache-Status', b'DYNAMIC'), (b'Server', b'cloudflare'), (b'CF-RAY', b'87946b848cfd8095-NRT'), (b'Content-Encoding', b'gzip'), (b'alt-svc', b'h3=\":443\"; ma=86400')])\n",
      "receive_response_headers.complete return_value=(b'HTTP/1.1', 200, b'OK', [(b'Date', b'Wed, 24 Apr 2024 07:36:02 GMT'), (b'Content-Type', b'application/json'), (b'Transfer-Encoding', b'chunked'), (b'Connection', b'keep-alive'), (b'access-control-allow-origin', b'*'), (b'openai-model', b'text-embedding-ada-002'), (b'openai-organization', b'user-mvnipnankuxxlro43mseaobj'), (b'openai-processing-ms', b'20'), (b'openai-version', b'2020-10-01'), (b'strict-transport-security', b'max-age=15724800; includeSubDomains'), (b'x-ratelimit-limit-requests', b'3000'), (b'x-ratelimit-limit-tokens', b'1000000'), (b'x-ratelimit-remaining-requests', b'2999'), (b'x-ratelimit-remaining-tokens', b'999988'), (b'x-ratelimit-reset-requests', b'20ms'), (b'x-ratelimit-reset-tokens', b'0s'), (b'x-request-id', b'req_c3db077d4d29633cbdd6e237b9914bc4'), (b'CF-Cache-Status', b'DYNAMIC'), (b'Server', b'cloudflare'), (b'CF-RAY', b'87946b848cfd8095-NRT'), (b'Content-Encoding', b'gzip'), (b'alt-svc', b'h3=\":443\"; ma=86400')])\n",
      "INFO:httpx:HTTP Request: POST https://api.openai.com/v1/embeddings \"HTTP/1.1 200 OK\"\n",
      "HTTP Request: POST https://api.openai.com/v1/embeddings \"HTTP/1.1 200 OK\"\n",
      "DEBUG:httpcore.http11:receive_response_body.started request=<Request [b'POST']>\n",
      "receive_response_body.started request=<Request [b'POST']>\n",
      "DEBUG:httpcore.http11:receive_response_body.complete\n",
      "receive_response_body.complete\n",
      "DEBUG:httpcore.http11:response_closed.started\n",
      "response_closed.started\n",
      "DEBUG:httpcore.http11:response_closed.complete\n",
      "response_closed.complete\n",
      "DEBUG:openai._base_client:HTTP Request: POST https://api.openai.com/v1/embeddings \"200 OK\"\n",
      "HTTP Request: POST https://api.openai.com/v1/embeddings \"200 OK\"\n",
      "DEBUG:llama_index.core.indices.utils:> Top 2 nodes:\n",
      "> [Node 2e44e58f-2abf-490c-a5d0-8aa76e4eb64c] [Similarity score:             0.824598] カオティックデータベース：データベースの一種で、情報をランダムに配置し、データの整合性や検索の効率性を犠牲にする代わりに、創造性やアイデアの偶発的な結びつきを促進するとされる架空のIT用語です。...\n",
      "> [Node 4d11f441-688c-4b76-8e10-c95526bae767] [Similarity score:             0.788614] アイデアクラウド：デジタル空間に浮かぶアイデアや概念を可視化するとされる架空のIT用語です。アイデアがクラウド上に集まり、ユーザーはその中から自分の必要なアイデアを選び出すことができると説明され...\n",
      "> Top 2 nodes:\n",
      "> [Node 2e44e58f-2abf-490c-a5d0-8aa76e4eb64c] [Similarity score:             0.824598] カオティックデータベース：データベースの一種で、情報をランダムに配置し、データの整合性や検索の効率性を犠牲にする代わりに、創造性やアイデアの偶発的な結びつきを促進するとされる架空のIT用語です。...\n",
      "> [Node 4d11f441-688c-4b76-8e10-c95526bae767] [Similarity score:             0.788614] アイデアクラウド：デジタル空間に浮かぶアイデアや概念を可視化するとされる架空のIT用語です。アイデアがクラウド上に集まり、ユーザーはその中から自分の必要なアイデアを選び出すことができると説明され...\n",
      "DEBUG:openai._base_client:Request options: {'method': 'post', 'url': '/chat/completions', 'files': None, 'json_data': {'messages': [{'role': 'system', 'content': \"You are an expert Q&A system that is trusted around the world.\\nAlways answer the query using the provided context information, and not prior knowledge.\\nSome rules to follow:\\n1. Never directly reference the given context in your answer.\\n2. Avoid statements like 'Based on the context, ...' or 'The context information ...' or anything along those lines.\"}, {'role': 'user', 'content': 'Context information is below.\\n---------------------\\nfile_path: /Users/ohtakazuki/LLMProgramming/data/カ.txt\\n\\nカオティックデータベース：データベースの一種で、情報をランダムに配置し、データの整合性や検索の効率性を犠牲にする代わりに、創造性やアイデアの偶発的な結びつきを促進するとされる架空のIT用語です。カオティックデータベースは従来のデータベース設計原則から逸脱し、情報をランダムに散らばらせることで新たな発見やインスピレーションをもたらすというアプローチを採用しているとされます。\\n\\nキノコストレージ：容量の大きなデータストレージ装置を指す架空のIT用語です。キノコストレージは、その形状がキノコに似ていることから名付けられました。この装置は非常に小さなサイズでありながら、膨大なデータを保持することができるとされています。また、キノコストレージは高い耐久性を持ち、データの保護と安全性を確保すると説明されます。\\n\\nクラウドブレイン：人間の脳をクラウド上に転送する技術を指す架空のIT用語です。クラウドブレインによれば、人々は自身の脳をクラウド上にアップロードすることで、知識や経験を共有し、複数の脳が1つの意識を共有することができるとされます。また、クラウドブレインはリアルタイムの思考や情報共有を可能にし、人類の知性の進化を加速させるとも言われます。\\n\\nコンピューターゴースト：電子機器やネットワーク上で存在するとされる幽霊のような存在を指す架空のIT用語です。コンピューターゴーストは、異常な振る舞いや現象が発生する原因とされ、システムの不具合やエラーの原因を特定する上で使われます。この用語は実際の現象や技術ではなく、不可解な問題を解決するための比喩的な表現として用いられます。\\n\\nfile_path: /Users/ohtakazuki/LLMProgramming/data/ア.txt\\n\\nアイデアクラウド：デジタル空間に浮かぶアイデアや概念を可視化するとされる架空のIT用語です。アイデアがクラウド上に集まり、ユーザーはその中から自分の必要なアイデアを選び出すことができると説明されます。ただし、実際に存在するものではなく、嘘のIT用語です。\\n\\nイモータルバグ：システムやソフトウェアに存在するとされる嘘のIT用語で、バグやエラーが永遠に修正されない状態を指します。従来のバグ修正方法が通用せず、何度修正を試みてもバグは復活するとされます。このようなバグは現実には存在せず、フィクション上のIT用語です。\\n\\nウィンドウズスリープ：Windowsオペレーティングシステムで使用される嘘のIT用語であり、実際には存在しない機能です。このIT用語は、コンピューターのスリープモードにおいてウィンドウを開いたままにする機能を指すと説明されます。しかし、Windowsオペレーティングシステムにはこのような機能はなく、ウィンドウが開いたままスリープモードに入ることはできません。\\n\\nエラーフリーコーディング：完全にバグやエラーのないプログラムを開発するための手法とされる嘘のIT用語です。エラーフリーコーディングによれば、特定のガイドラインやルールに従えば、プログラムの中にバグやエラーが一切存在しない状態を実現することができるとされます。しかし、実際のソフトウェア開発ではバグやエラーを完全に排除することは困難であり、このような完全無欠のコーディング手法は存在しません。\\n\\nオートマジックハッキング：自動化されたツールやプログラムを使用して、ネットワークやシステムへのハッキングを瞬時に行うことを指す嘘のIT用語です。オートマジックハッキングによれば、短時間で高度なハッキングが可能であり、セキュリティ対策がどれほど厳重であっても突破することができるとされます。しかしながら、現実のハッキングは非常に複雑なプロセスであり、自動化されたツールやプログラムだけで完全なハッキングを行うことはできません。\\n---------------------\\nGiven the context information and not prior knowledge, answer the query.\\nQuery: キノコストレージについて説明して\\nAnswer: '}], 'model': 'gpt-3.5-turbo', 'stream': False, 'temperature': 0.1}}\n",
      "Request options: {'method': 'post', 'url': '/chat/completions', 'files': None, 'json_data': {'messages': [{'role': 'system', 'content': \"You are an expert Q&A system that is trusted around the world.\\nAlways answer the query using the provided context information, and not prior knowledge.\\nSome rules to follow:\\n1. Never directly reference the given context in your answer.\\n2. Avoid statements like 'Based on the context, ...' or 'The context information ...' or anything along those lines.\"}, {'role': 'user', 'content': 'Context information is below.\\n---------------------\\nfile_path: /Users/ohtakazuki/LLMProgramming/data/カ.txt\\n\\nカオティックデータベース：データベースの一種で、情報をランダムに配置し、データの整合性や検索の効率性を犠牲にする代わりに、創造性やアイデアの偶発的な結びつきを促進するとされる架空のIT用語です。カオティックデータベースは従来のデータベース設計原則から逸脱し、情報をランダムに散らばらせることで新たな発見やインスピレーションをもたらすというアプローチを採用しているとされます。\\n\\nキノコストレージ：容量の大きなデータストレージ装置を指す架空のIT用語です。キノコストレージは、その形状がキノコに似ていることから名付けられました。この装置は非常に小さなサイズでありながら、膨大なデータを保持することができるとされています。また、キノコストレージは高い耐久性を持ち、データの保護と安全性を確保すると説明されます。\\n\\nクラウドブレイン：人間の脳をクラウド上に転送する技術を指す架空のIT用語です。クラウドブレインによれば、人々は自身の脳をクラウド上にアップロードすることで、知識や経験を共有し、複数の脳が1つの意識を共有することができるとされます。また、クラウドブレインはリアルタイムの思考や情報共有を可能にし、人類の知性の進化を加速させるとも言われます。\\n\\nコンピューターゴースト：電子機器やネットワーク上で存在するとされる幽霊のような存在を指す架空のIT用語です。コンピューターゴーストは、異常な振る舞いや現象が発生する原因とされ、システムの不具合やエラーの原因を特定する上で使われます。この用語は実際の現象や技術ではなく、不可解な問題を解決するための比喩的な表現として用いられます。\\n\\nfile_path: /Users/ohtakazuki/LLMProgramming/data/ア.txt\\n\\nアイデアクラウド：デジタル空間に浮かぶアイデアや概念を可視化するとされる架空のIT用語です。アイデアがクラウド上に集まり、ユーザーはその中から自分の必要なアイデアを選び出すことができると説明されます。ただし、実際に存在するものではなく、嘘のIT用語です。\\n\\nイモータルバグ：システムやソフトウェアに存在するとされる嘘のIT用語で、バグやエラーが永遠に修正されない状態を指します。従来のバグ修正方法が通用せず、何度修正を試みてもバグは復活するとされます。このようなバグは現実には存在せず、フィクション上のIT用語です。\\n\\nウィンドウズスリープ：Windowsオペレーティングシステムで使用される嘘のIT用語であり、実際には存在しない機能です。このIT用語は、コンピューターのスリープモードにおいてウィンドウを開いたままにする機能を指すと説明されます。しかし、Windowsオペレーティングシステムにはこのような機能はなく、ウィンドウが開いたままスリープモードに入ることはできません。\\n\\nエラーフリーコーディング：完全にバグやエラーのないプログラムを開発するための手法とされる嘘のIT用語です。エラーフリーコーディングによれば、特定のガイドラインやルールに従えば、プログラムの中にバグやエラーが一切存在しない状態を実現することができるとされます。しかし、実際のソフトウェア開発ではバグやエラーを完全に排除することは困難であり、このような完全無欠のコーディング手法は存在しません。\\n\\nオートマジックハッキング：自動化されたツールやプログラムを使用して、ネットワークやシステムへのハッキングを瞬時に行うことを指す嘘のIT用語です。オートマジックハッキングによれば、短時間で高度なハッキングが可能であり、セキュリティ対策がどれほど厳重であっても突破することができるとされます。しかしながら、現実のハッキングは非常に複雑なプロセスであり、自動化されたツールやプログラムだけで完全なハッキングを行うことはできません。\\n---------------------\\nGiven the context information and not prior knowledge, answer the query.\\nQuery: キノコストレージについて説明して\\nAnswer: '}], 'model': 'gpt-3.5-turbo', 'stream': False, 'temperature': 0.1}}\n",
      "DEBUG:httpcore.connection:close.started\n",
      "close.started\n",
      "DEBUG:httpcore.connection:close.complete\n",
      "close.complete\n",
      "DEBUG:httpcore.connection:connect_tcp.started host='api.openai.com' port=443 local_address=None timeout=60.0 socket_options=None\n",
      "connect_tcp.started host='api.openai.com' port=443 local_address=None timeout=60.0 socket_options=None\n",
      "DEBUG:httpcore.connection:connect_tcp.complete return_value=<httpcore._backends.sync.SyncStream object at 0x163477010>\n",
      "connect_tcp.complete return_value=<httpcore._backends.sync.SyncStream object at 0x163477010>\n",
      "DEBUG:httpcore.connection:start_tls.started ssl_context=<ssl.SSLContext object at 0x163400b90> server_hostname='api.openai.com' timeout=60.0\n",
      "start_tls.started ssl_context=<ssl.SSLContext object at 0x163400b90> server_hostname='api.openai.com' timeout=60.0\n",
      "DEBUG:httpcore.connection:start_tls.complete return_value=<httpcore._backends.sync.SyncStream object at 0x163465910>\n",
      "start_tls.complete return_value=<httpcore._backends.sync.SyncStream object at 0x163465910>\n",
      "DEBUG:httpcore.http11:send_request_headers.started request=<Request [b'POST']>\n",
      "send_request_headers.started request=<Request [b'POST']>\n",
      "DEBUG:httpcore.http11:send_request_headers.complete\n",
      "send_request_headers.complete\n",
      "DEBUG:httpcore.http11:send_request_body.started request=<Request [b'POST']>\n",
      "send_request_body.started request=<Request [b'POST']>\n",
      "DEBUG:httpcore.http11:send_request_body.complete\n",
      "send_request_body.complete\n",
      "DEBUG:httpcore.http11:receive_response_headers.started request=<Request [b'POST']>\n",
      "receive_response_headers.started request=<Request [b'POST']>\n",
      "DEBUG:httpcore.http11:receive_response_headers.complete return_value=(b'HTTP/1.1', 200, b'OK', [(b'Date', b'Wed, 24 Apr 2024 07:36:06 GMT'), (b'Content-Type', b'application/json'), (b'Transfer-Encoding', b'chunked'), (b'Connection', b'keep-alive'), (b'access-control-allow-origin', b'*'), (b'Cache-Control', b'no-cache, must-revalidate'), (b'openai-model', b'gpt-3.5-turbo-0125'), (b'openai-organization', b'user-mvnipnankuxxlro43mseaobj'), (b'openai-processing-ms', b'3426'), (b'openai-version', b'2020-10-01'), (b'strict-transport-security', b'max-age=15724800; includeSubDomains'), (b'x-ratelimit-limit-requests', b'10000'), (b'x-ratelimit-limit-tokens', b'60000'), (b'x-ratelimit-remaining-requests', b'9999'), (b'x-ratelimit-remaining-tokens', b'58682'), (b'x-ratelimit-reset-requests', b'8.64s'), (b'x-ratelimit-reset-tokens', b'1.318s'), (b'x-request-id', b'req_b3593f717a7fbcc70c50f83b0f331c5d'), (b'CF-Cache-Status', b'DYNAMIC'), (b'Server', b'cloudflare'), (b'CF-RAY', b'87946b86ed3f688b-NRT'), (b'Content-Encoding', b'gzip'), (b'alt-svc', b'h3=\":443\"; ma=86400')])\n",
      "receive_response_headers.complete return_value=(b'HTTP/1.1', 200, b'OK', [(b'Date', b'Wed, 24 Apr 2024 07:36:06 GMT'), (b'Content-Type', b'application/json'), (b'Transfer-Encoding', b'chunked'), (b'Connection', b'keep-alive'), (b'access-control-allow-origin', b'*'), (b'Cache-Control', b'no-cache, must-revalidate'), (b'openai-model', b'gpt-3.5-turbo-0125'), (b'openai-organization', b'user-mvnipnankuxxlro43mseaobj'), (b'openai-processing-ms', b'3426'), (b'openai-version', b'2020-10-01'), (b'strict-transport-security', b'max-age=15724800; includeSubDomains'), (b'x-ratelimit-limit-requests', b'10000'), (b'x-ratelimit-limit-tokens', b'60000'), (b'x-ratelimit-remaining-requests', b'9999'), (b'x-ratelimit-remaining-tokens', b'58682'), (b'x-ratelimit-reset-requests', b'8.64s'), (b'x-ratelimit-reset-tokens', b'1.318s'), (b'x-request-id', b'req_b3593f717a7fbcc70c50f83b0f331c5d'), (b'CF-Cache-Status', b'DYNAMIC'), (b'Server', b'cloudflare'), (b'CF-RAY', b'87946b86ed3f688b-NRT'), (b'Content-Encoding', b'gzip'), (b'alt-svc', b'h3=\":443\"; ma=86400')])\n",
      "INFO:httpx:HTTP Request: POST https://api.openai.com/v1/chat/completions \"HTTP/1.1 200 OK\"\n",
      "HTTP Request: POST https://api.openai.com/v1/chat/completions \"HTTP/1.1 200 OK\"\n",
      "DEBUG:httpcore.http11:receive_response_body.started request=<Request [b'POST']>\n",
      "receive_response_body.started request=<Request [b'POST']>\n",
      "DEBUG:httpcore.http11:receive_response_body.complete\n",
      "receive_response_body.complete\n",
      "DEBUG:httpcore.http11:response_closed.started\n",
      "response_closed.started\n",
      "DEBUG:httpcore.http11:response_closed.complete\n",
      "response_closed.complete\n",
      "DEBUG:openai._base_client:HTTP Request: POST https://api.openai.com/v1/chat/completions \"200 OK\"\n",
      "HTTP Request: POST https://api.openai.com/v1/chat/completions \"200 OK\"\n",
      "キノコストレージは、容量の大きなデータストレージ装置を指す架空のIT用語であり、その形状がキノコに似ていることから名付けられました。この装置は非常に小さなサイズでありながら、膨大なデータを保持することができるとされています。また、キノコストレージは高い耐久性を持ち、データの保護と安全性を確保すると説明されます。\n"
     ]
    }
   ],
   "source": [
    "query_engine = index.as_query_engine()\n",
    "response = query_engine.query(\"キノコストレージについて日本語で説明して\")\n",
    "print(response)"
   ]
  },
  {
   "cell_type": "code",
   "execution_count": 6,
   "metadata": {},
   "outputs": [],
   "source": [
    "# もとに戻す（ログを出力しない）\n",
    "logging.basicConfig(stream=sys.stdout, level=logging.WARNING)\n",
    "# ログハンドラー出力を除去\n",
    "while len(logging.getLogger().handlers) > 0:\n",
    "  logging.getLogger().removeHandler(logging.getLogger().handlers[0])"
   ]
  },
  {
   "cell_type": "code",
   "execution_count": 7,
   "metadata": {},
   "outputs": [
    {
     "name": "stdout",
     "output_type": "stream",
     "text": [
      "キノコストレージは、容量の大きなデータストレージ装置を指す架空のIT用語であり、その形状がキノコに似ていることから名付けられました。この装置は非常に小さなサイズでありながら、膨大なデータを保持することができるとされています。また、キノコストレージは高い耐久性を持ち、データの保護と安全性を確保すると説明されます。\n"
     ]
    }
   ],
   "source": [
    "query_engine = index.as_query_engine()\n",
    "response = query_engine.query(\"キノコストレージについて日本語で説明して\")\n",
    "print(response)"
   ]
  },
  {
   "attachments": {},
   "cell_type": "markdown",
   "metadata": {},
   "source": [
    "# ストレージに保存"
   ]
  },
  {
   "cell_type": "code",
   "execution_count": 8,
   "metadata": {},
   "outputs": [],
   "source": [
    "# ストレージに保存\n",
    "index.storage_context.persist(\"./storage01\")"
   ]
  },
  {
   "cell_type": "code",
   "execution_count": 9,
   "metadata": {},
   "outputs": [],
   "source": [
    "from llama_index.core import StorageContext, load_index_from_storage\n",
    "\n",
    "# ストレージコンテキストの作成\n",
    "storage_context = StorageContext.from_defaults(persist_dir=\"./storage01\")\n",
    "# Indexのロード\n",
    "index = load_index_from_storage(storage_context)"
   ]
  },
  {
   "cell_type": "code",
   "execution_count": 10,
   "metadata": {},
   "outputs": [
    {
     "name": "stdout",
     "output_type": "stream",
     "text": [
      "キノコストレージは、容量の大きなデータストレージ装置を指す架空のIT用語であり、その形状がキノコに似ていることから名付けられました。この装置は非常に小さなサイズでありながら、膨大なデータを保持することができるとされています。また、キノコストレージは高い耐久性を持ち、データの保護と安全性を確保すると説明されます。\n"
     ]
    }
   ],
   "source": [
    "query_engine = index.as_query_engine()\n",
    "response = query_engine.query(\"キノコストレージについて日本語で説明して\")\n",
    "print(response)"
   ]
  },
  {
   "cell_type": "code",
   "execution_count": null,
   "metadata": {},
   "outputs": [],
   "source": []
  }
 ],
 "metadata": {
  "kernelspec": {
   "display_name": ".venv",
   "language": "python",
   "name": "python3"
  },
  "language_info": {
   "codemirror_mode": {
    "name": "ipython",
    "version": 3
   },
   "file_extension": ".py",
   "mimetype": "text/x-python",
   "name": "python",
   "nbconvert_exporter": "python",
   "pygments_lexer": "ipython3",
   "version": "3.11.7"
  },
  "orig_nbformat": 4
 },
 "nbformat": 4,
 "nbformat_minor": 2
}
