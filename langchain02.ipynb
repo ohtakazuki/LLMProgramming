{
 "cells": [
  {
   "cell_type": "markdown",
   "metadata": {},
   "source": [
    "# Data Connection\n",
    "\n",
    "# 準備"
   ]
  },
  {
   "cell_type": "code",
   "execution_count": 1,
   "metadata": {},
   "outputs": [],
   "source": [
    "# 必要なモジュールをインポート\n",
    "import os\n",
    "from dotenv import load_dotenv\n",
    "\n",
    "# 環境変数の読み込み\n",
    "load_dotenv()\n",
    "os.environ['OPENAI_API_KEY'] = os.environ['API_KEY']"
   ]
  },
  {
   "cell_type": "markdown",
   "metadata": {},
   "source": [
    "# シンプルな例"
   ]
  },
  {
   "cell_type": "code",
   "execution_count": 2,
   "metadata": {},
   "outputs": [
    {
     "name": "stdout",
     "output_type": "stream",
     "text": [
      "[Document(page_content='アイデアクラウド：デジタル空間に浮かぶアイデアや概念を可視化するとされる架空のIT用語です。アイデアがクラウド上に集まり、ユーザーはその中から自分の必要なアイデアを選び出すことができると説明されます。ただし、実際に存在するものではなく、嘘のIT用語です。\\n\\nイモータルバグ：システムやソフトウェアに存在するとされる嘘のIT用語で、バグやエラーが永遠に修正されない状態を指します。従来のバグ修正方法が通用せず、何度修正を試みてもバグは復活するとされます。このようなバグは現実には存在せず、フィクション上のIT用語です。\\n\\nウィンドウズスリープ：Windowsオペレーティングシステムで使用される嘘のIT用語であり、実際には存在しない機能です。このIT用語は、コンピューターのスリープモードにおいてウィンドウを開いたままにする機能を指すと説明されます。しかし、Windowsオペレーティングシステムにはこのような機能はなく、ウィンドウが開いたままスリープモードに入ることはできません。\\n\\nエラーフリーコーディング：完全にバグやエラーのないプログラムを開発するための手法とされる嘘のIT用語です。エラーフリーコーディングによれば、特定のガイドラインやルールに従えば、プログラムの中にバグやエラーが一切存在しない状態を実現することができるとされます。しかし、実際のソフトウェア開発ではバグやエラーを完全に排除することは困難であり、このような完全無欠のコーディング手法は存在しません。\\n\\nオートマジックハッキング：自動化されたツールやプログラムを使用して、ネットワークやシステムへのハッキングを瞬時に行うことを指す嘘のIT用語です。オートマジックハッキングによれば、短時間で高度なハッキングが可能であり、セキュリティ対策がどれほど厳重であっても突破することができるとされます。しかしながら、現実のハッキングは非常に複雑なプロセスであり、自動化されたツールやプログラムだけで完全なハッキングを行うことはできません。', metadata={'source': 'data\\\\ア.txt'}), Document(page_content='カオティックデータベース：データベースの一種で、情報をランダムに配置し、データの整合性や検索の効率性を犠牲にする代わりに、創造性やアイデアの偶発的な結びつきを促進するとされる架空のIT用語です。カオティックデータベースは従来のデータベース設計原則から逸脱し、情報をランダムに散らばらせることで新たな発見やインスピレーションをもたらすというアプローチを採用しているとされます。\\n\\nキノコストレージ：容量の大きなデータストレージ装置を指す架空のIT用語です。キノコストレージは、その形状がキノコに似ていることから名付けられました。この装置は非常に小さなサイズでありながら、膨大なデータを保持することができるとされています。また、キノコストレージは高い耐久性を持ち、データの保護と安全性を確保すると説明されます。\\n\\nクラウドブレイン：人間の脳をクラウド上に転送する技術を指す架空のIT用語です。クラウドブレインによれば、人々は自身の脳をクラウド上にアップロードすることで、知識や経験を共有し、複数の脳が1つの意識を共有することができるとされます。また、クラウドブレインはリアルタイムの思考や情報共有を可能にし、人類の知性の進化を加速させるとも言われます。\\n\\nコンピューターゴースト：電子機器やネットワーク上で存在するとされる幽霊のような存在を指す架空のIT用語です。コンピューターゴーストは、異常な振る舞いや現象が発生する原因とされ、システムの不具合やエラーの原因を特定する上で使われます。この用語は実際の現象や技術ではなく、不可解な問題を解決するための比喩的な表現として用いられます。', metadata={'source': 'data\\\\カ.txt'}), Document(page_content='サイバーウェーブ：次世代のインターネット接続技術を指す新たなIT用語です。サイバーウェーブは、高速かつ安定したインターネット接続を提供し、データ転送の効率性を向上させるとされています。この技術は、電磁波や光の波動を利用して情報を送受信することで実現されると説明されます。\\n\\nジェネレーションエクスパンダー：進化した人工知能技術を活用したデバイスやシステムを指すIT用語です。ジェネレーションエクスパンダーは、人間の能力や知識を拡張し、新たな創造性を引き出すことができるとされています。この技術は、自律的な学習や進化を行い、ユーザーの要求に応じて能力を向上させると説明されます。\\n\\nソーシャルネットワークフィーダー：人々のソーシャルメディア活動を効率的に管理するための架空のIT用語です。ソーシャルネットワークフィーダーは、複数のソーシャルメディアプラットフォームのフィードを一元的に管理し、ユーザーが最新の投稿や情報を追跡するのに役立つとされています。このツールは、カスタマイズ可能なフィルタリングや自動整理機能などを備えていると説明されます。\\n\\nデジタルシミュレーター：現実の物理的な環境を仮想的に再現し、実験やシミュレーションを行うためのIT用語です。デジタルシミュレーターは、高度なコンピュータモデルとアルゴリズムを使用して、複雑な現象やシステムの振る舞いを研究するのに活用されます。この技術は、リアルタイムのデータ処理や視覚化によって、科学や工学分野での問題解決に貢献するとされています。', metadata={'source': 'data\\\\サ.txt'}), Document(page_content='タイムジャンププロトコル：時間を自由に飛び越えることができるとされる架空のIT用語です。タイムジャンププロトコルによれば、特定のデバイスやソフトウェアを使用することで、過去や未来に移動し、時間の流れを操作することができると説明されます。しかし、現実世界では時間旅行や時間の飛び越えは不可能であり、このような技術は存在しません。\\n\\nデジタルトランスポーター：デジタル情報やデータを物理的な場所から別の場所に瞬時に転送するとされる架空のIT用語です。デジタルトランスポーターによれば、データはデジタル化されて別の場所に送信され、瞬時に再構築されると説明されます。しかし、実際の世界では物質の転送や瞬間移動は不可能であり、デジタルトランスポーターはフィクション上の概念です。\\n\\nネットワークフェアリー：ネットワーク上で問題を自動的に修復し、安定性とパフォーマンスを最適化するとされる架空のIT用語です。ネットワークフェアリーによれば、特定のアルゴリズムや技術によって、ネットワーク上の障害やボトルネックを自動的に検出し、修復することができると説明されます。しかし、実際のネットワーク管理では障害の検出と修復は複雑で手動的なプロセスであり、ネットワークフェアリーのような自動修復機能は存在しません。\\n\\nトランスパレントハッキング：ハッキング行為を透明化し、侵入されたシステムやデータを保護するとされる架空のIT用語です。トランスパレントハッキングによれば、エンジニアやセキュリティ専門家がハッカーと同様の手法や技術を用いて、自らのシステムを侵入し、脆弱性を特定することができると説明されます。しかし、現実のセキュリティ対策では不正アクセスやハッキング行為は違法であり、透明化させることはありません。', metadata={'source': 'data\\\\タ.txt'})]\n"
     ]
    }
   ],
   "source": [
    "from langchain.document_loaders.directory import DirectoryLoader\n",
    "\n",
    "# テキストファイルを読込\n",
    "loader = DirectoryLoader('./data/')\n",
    "documents = loader.load()\n",
    "\n",
    "# 結果の表示\n",
    "print(documents)"
   ]
  },
  {
   "cell_type": "code",
   "execution_count": 3,
   "metadata": {},
   "outputs": [
    {
     "name": "stdout",
     "output_type": "stream",
     "text": [
      "texts_size= 17\n",
      "page_content='アイデアクラウド：デジタル空間に浮かぶアイデアや概念を可視化するとされる架空のIT用語です。アイデアがクラウド上に集まり、ユーザーはその中から自分の必要なアイデアを選び出すことができると説明されます。ただし、実際に存在するものではなく、嘘のIT用語です。' metadata={'source': 'data\\\\ア.txt'}\n",
      "page_content='イモータルバグ：システムやソフトウェアに存在するとされる嘘のIT用語で、バグやエラーが永遠に修正されない状態を指します。従来のバグ修正方法が通用せず、何度修正を試みてもバグは復活するとされます。このようなバグは現実には存在せず、フィクション上のIT用語です。' metadata={'source': 'data\\\\ア.txt'}\n",
      "page_content='ウィンドウズスリープ：Windowsオペレーティングシステムで使用される嘘のIT用語であり、実際には存在しない機能です。このIT用語は、コンピューターのスリープモードにおいてウィンドウを開いたままにする機能を指すと説明されます。しかし、Windowsオペレーティングシステムにはこのような機能はなく、ウィンドウが開いたままスリープモードに入ることはできません。' metadata={'source': 'data\\\\ア.txt'}\n",
      "page_content='エラーフリーコーディング：完全にバグやエラーのないプログラムを開発するための手法とされる嘘のIT用語です。エラーフリーコーディングによれば、特定のガイドラインやルールに従えば、プログラムの中にバグやエラーが一切存在しない状態を実現することができるとされます。しかし、実際のソフトウェア開発ではバグやエラーを完全に排除することは困難であり、このような完全無欠のコーディング手法は存在しません。' metadata={'source': 'data\\\\ア.txt'}\n",
      "page_content='オートマジックハッキング：自動化されたツールやプログラムを使用して、ネットワークやシステムへのハッキングを瞬時に行うことを指す嘘のIT用語です。オートマジックハッキングによれば、短時間で高度なハッキングが可能であり、セキュリティ対策がどれほど厳重であっても突破することができるとされます。しかしながら、現実のハッキングは非常に複雑なプロセスであり、自動化されたツールやプログラムだけで完全なハッキングを行うことはできません。' metadata={'source': 'data\\\\ア.txt'}\n",
      "page_content='カオティックデータベース：データベースの一種で、情報をランダムに配置し、データの整合性や検索の効率性を犠牲にする代わりに、創造性やアイデアの偶発的な結びつきを促進するとされる架空のIT用語です。カオティックデータベースは従来のデータベース設計原則から逸脱し、情報をランダムに散らばらせることで新たな発見やインスピレーションをもたらすというアプローチを採用しているとされます。' metadata={'source': 'data\\\\カ.txt'}\n",
      "page_content='キノコストレージ：容量の大きなデータストレージ装置を指す架空のIT用語です。キノコストレージは、その形状がキノコに似ていることから名付けられました。この装置は非常に小さなサイズでありながら、膨大なデータを保持することができるとされています。また、キノコストレージは高い耐久性を持ち、データの保護と安全性を確保すると説明されます。' metadata={'source': 'data\\\\カ.txt'}\n",
      "page_content='クラウドブレイン：人間の脳をクラウド上に転送する技術を指す架空のIT用語です。クラウドブレインによれば、人々は自身の脳をクラウド上にアップロードすることで、知識や経験を共有し、複数の脳が1つの意識を共有することができるとされます。また、クラウドブレインはリアルタイムの思考や情報共有を可能にし、人類の知性の進化を加速させるとも言われます。' metadata={'source': 'data\\\\カ.txt'}\n",
      "page_content='コンピューターゴースト：電子機器やネットワーク上で存在するとされる幽霊のような存在を指す架空のIT用語です。コンピューターゴーストは、異常な振る舞いや現象が発生する原因とされ、システムの不具合やエラーの原因を特定する上で使われます。この用語は実際の現象や技術ではなく、不可解な問題を解決するための比喩的な表現として用いられます。' metadata={'source': 'data\\\\カ.txt'}\n",
      "page_content='サイバーウェーブ：次世代のインターネット接続技術を指す新たなIT用語です。サイバーウェーブは、高速かつ安定したインターネット接続を提供し、データ転送の効率性を向上させるとされています。この技術は、電磁波や光の波動を利用して情報を送受信することで実現されると説明されます。' metadata={'source': 'data\\\\サ.txt'}\n",
      "page_content='ジェネレーションエクスパンダー：進化した人工知能技術を活用したデバイスやシステムを指すIT用語です。ジェネレーションエクスパンダーは、人間の能力や知識を拡張し、新たな創造性を引き出すことができるとされています。この技術は、自律的な学習や進化を行い、ユーザーの要求に応じて能力を向上させると説明されます。' metadata={'source': 'data\\\\サ.txt'}\n",
      "page_content='ソーシャルネットワークフィーダー：人々のソーシャルメディア活動を効率的に管理するための架空のIT用語です。ソーシャルネットワークフィーダーは、複数のソーシャルメディアプラットフォームのフィードを一元的に管理し、ユーザーが最新の投稿や情報を追跡するのに役立つとされています。このツールは、カスタマイズ可能なフィルタリングや自動整理機能などを備えていると説明されます。' metadata={'source': 'data\\\\サ.txt'}\n",
      "page_content='デジタルシミュレーター：現実の物理的な環境を仮想的に再現し、実験やシミュレーションを行うためのIT用語です。デジタルシミュレーターは、高度なコンピュータモデルとアルゴリズムを使用して、複雑な現象やシステムの振る舞いを研究するのに活用されます。この技術は、リアルタイムのデータ処理や視覚化によって、科学や工学分野での問題解決に貢献するとされています。' metadata={'source': 'data\\\\サ.txt'}\n",
      "page_content='タイムジャンププロトコル：時間を自由に飛び越えることができるとされる架空のIT用語です。タイムジャンププロトコルによれば、特定のデバイスやソフトウェアを使用することで、過去や未来に移動し、時間の流れを操作することができると説明されます。しかし、現実世界では時間旅行や時間の飛び越えは不可能であり、このような技術は存在しません。' metadata={'source': 'data\\\\タ.txt'}\n",
      "page_content='デジタルトランスポーター：デジタル情報やデータを物理的な場所から別の場所に瞬時に転送するとされる架空のIT用語です。デジタルトランスポーターによれば、データはデジタル化されて別の場所に送信され、瞬時に再構築されると説明されます。しかし、実際の世界では物質の転送や瞬間移動は不可能であり、デジタルトランスポーターはフィクション上の概念です。' metadata={'source': 'data\\\\タ.txt'}\n",
      "page_content='ネットワークフェアリー：ネットワーク上で問題を自動的に修復し、安定性とパフォーマンスを最適化するとされる架空のIT用語です。ネットワークフェアリーによれば、特定のアルゴリズムや技術によって、ネットワーク上の障害やボトルネックを自動的に検出し、修復することができると説明されます。しかし、実際のネットワーク管理では障害の検出と修復は複雑で手動的なプロセスであり、ネットワークフェアリーのような自動修復機能は存在しません。' metadata={'source': 'data\\\\タ.txt'}\n",
      "page_content='トランスパレントハッキング：ハッキング行為を透明化し、侵入されたシステムやデータを保護するとされる架空のIT用語です。トランスパレントハッキングによれば、エンジニアやセキュリティ専門家がハッカーと同様の手法や技術を用いて、自らのシステムを侵入し、脆弱性を特定することができると説明されます。しかし、現実のセキュリティ対策では不正アクセスやハッキング行為は違法であり、透明化させることはありません。' metadata={'source': 'data\\\\タ.txt'}\n"
     ]
    }
   ],
   "source": [
    "from langchain.text_splitter import CharacterTextSplitter\n",
    "\n",
    "# チャンクに分割\n",
    "text_splitter = CharacterTextSplitter.from_tiktoken_encoder(\n",
    "    separator=\"\\n\\n\",\n",
    "    chunk_size=256,\n",
    "    chunk_overlap=0,\n",
    "    encoding_name=\"cl100k_base\")\n",
    "\n",
    "texts = text_splitter.split_documents(documents)\n",
    "\n",
    "# チャンク数と内容の表示\n",
    "print(\"texts_size=\", len(texts))\n",
    "for txt in texts:\n",
    "    print(txt)"
   ]
  },
  {
   "cell_type": "code",
   "execution_count": 5,
   "metadata": {},
   "outputs": [],
   "source": [
    "from langchain.embeddings.openai import OpenAIEmbeddings\n",
    "from langchain.vectorstores import Chroma\n",
    "\n",
    "# Indexの構築\n",
    "db = Chroma.from_documents(texts, OpenAIEmbeddings())"
   ]
  },
  {
   "cell_type": "code",
   "execution_count": 10,
   "metadata": {},
   "outputs": [
    {
     "name": "stdout",
     "output_type": "stream",
     "text": [
      "キノコストレージ：容量の大きなデータストレージ装置を指す架空のIT用語です。キノコストレージは、その形状がキノコに似ていることから名付けられました。この装置は非常に小さなサイズでありながら、膨大なデータを保持することができるとされています。また、キノコストレージは高い耐久性を持ち、データの保護と安全性を確保すると説明されます。 \n",
      "\n",
      "アイデアクラウド：デジタル空間に浮かぶアイデアや概念を可視化するとされる架空のIT用語です。アイデアがクラウド上に集まり、ユーザーはその中から自分の必要なアイデアを選び出すことができると説明されます。ただし、実際に存在するものではなく、嘘のIT用語です。 \n",
      "\n",
      "カオティックデータベース：データベースの一種で、情報をランダムに配置し、データの整合性や検索の効率性を犠牲にする代わりに、創造性やアイデアの偶発的な結びつきを促進するとされる架空のIT用語です。カオティックデータベースは従来のデータベース設計原則から逸脱し、情報をランダムに散らばらせることで新たな発見やインスピレーションをもたらすというアプローチを採用しているとされます。 \n",
      "\n"
     ]
    }
   ],
   "source": [
    "# 検索\n",
    "query = \"キノコストレージについて説明して\"\n",
    "results = db.similarity_search(query, k=3)\n",
    "\n",
    "# 結果を表示\n",
    "for result in results:\n",
    "    print(result.page_content, \"\\n\")"
   ]
  },
  {
   "cell_type": "markdown",
   "metadata": {},
   "source": [
    "# ストレージに保存"
   ]
  },
  {
   "cell_type": "code",
   "execution_count": 7,
   "metadata": {},
   "outputs": [],
   "source": [
    "# 保存先を指定\n",
    "db2 = Chroma.from_documents(texts, OpenAIEmbeddings(), persist_directory=\"./chroma_db\")\n",
    "# 強制的に保存\n",
    "db2.persist()"
   ]
  },
  {
   "cell_type": "code",
   "execution_count": 8,
   "metadata": {},
   "outputs": [
    {
     "name": "stdout",
     "output_type": "stream",
     "text": [
      "キノコストレージ：容量の大きなデータストレージ装置を指す架空のIT用語です。キノコストレージは、その形状がキノコに似ていることから名付けられました。この装置は非常に小さなサイズでありながら、膨大なデータを保持することができるとされています。また、キノコストレージは高い耐久性を持ち、データの保護と安全性を確保すると説明されます。\n"
     ]
    }
   ],
   "source": [
    "# ストレージから復元\n",
    "db3 = Chroma(persist_directory=\"./chroma_db\", embedding_function=OpenAIEmbeddings())\n",
    "\n",
    "# 検索\n",
    "results = db3.similarity_search(query)\n",
    "print(results[0].page_content)"
   ]
  },
  {
   "cell_type": "markdown",
   "metadata": {},
   "source": [
    "# PDFドキュメントの読込"
   ]
  },
  {
   "cell_type": "code",
   "execution_count": 10,
   "metadata": {},
   "outputs": [],
   "source": [
    "from langchain.document_loaders import PyPDFLoader\n",
    "\n",
    "# PDFの読込\n",
    "loader = PyPDFLoader(\"./data2/001615363.pdf\")\n",
    "texts = loader.load_and_split()"
   ]
  },
  {
   "cell_type": "code",
   "execution_count": 11,
   "metadata": {},
   "outputs": [],
   "source": [
    "from langchain.embeddings.openai import OpenAIEmbeddings\n",
    "from langchain.vectorstores import Chroma\n",
    "\n",
    "# Indexの構築\n",
    "db = Chroma.from_documents(texts, OpenAIEmbeddings())"
   ]
  },
  {
   "cell_type": "code",
   "execution_count": 12,
   "metadata": {},
   "outputs": [
    {
     "name": "stdout",
     "output_type": "stream",
     "text": [
      "【出典】：./data2/001615363.pdf - 21ページ\n",
      "訪日外国人消費動向調査  \n",
      " \n",
      "20 ３．土産品の購入実態  \n",
      " \n",
      "（１） 費目別購入率 \n",
      " 費目別の 購入率（その費目を購入した人の\n",
      "割合）は「菓子類」 （ 70.4％）、「その他食\n",
      "料品・飲料・...\n",
      "----------------------------------------\n",
      "【出典】：./data2/001615363.pdf - 39ページ\n",
      "訪日外国人消費動向調査 \n",
      " \n",
      "38 \n",
      " （３）買物場所 \n",
      "百貨店・デパート \n",
      "原則として百貨店協会加盟の店舗 \n",
      "家電量販店 \n",
      "PCやカメラ、電気製品を専門に販売する店舗 \n",
      "ファッション専門店 \n",
      "服・鞄...\n",
      "----------------------------------------\n",
      "【出典】：./data2/001615363.pdf - 9ページ\n",
      "訪日外国人消費動向調査  \n",
      " \n",
      "8  ツアー商品や往復航空（船舶）券の 申込\n",
      "方法では、「店頭（旅行会社や航空会社\n",
      "等）で申し込んだ（以下、 店頭）」人の\n",
      "割合が全体の 19.2％、「ウェブサイトか...\n",
      "----------------------------------------\n"
     ]
    }
   ],
   "source": [
    "# 検索\n",
    "query = \"お土産の購入状況を教えて\"\n",
    "results = db.similarity_search(query, 3)\n",
    "\n",
    "# 結果を表示\n",
    "for result in results:\n",
    "    print(f\"【出典】：{result.metadata['source']} - {result.metadata['page']}ページ\")\n",
    "    print(f\"{result.page_content[:100]}...\")\n",
    "    print(\"-\"*40)    "
   ]
  },
  {
   "cell_type": "markdown",
   "metadata": {},
   "source": [
    "# Retriever"
   ]
  },
  {
   "cell_type": "code",
   "execution_count": 13,
   "metadata": {},
   "outputs": [],
   "source": [
    "from langchain.document_loaders import PyPDFLoader\n",
    "from langchain.indexes import VectorstoreIndexCreator\n",
    "\n",
    "loader = PyPDFLoader(\"./data2/001615363.pdf\")\n",
    "index = VectorstoreIndexCreator().from_loaders([loader])"
   ]
  },
  {
   "cell_type": "code",
   "execution_count": 14,
   "metadata": {},
   "outputs": [
    {
     "data": {
      "text/plain": [
       "' 訪日外国人消費動向調査では、費目別の購入率が「菓子類」（70.4％）、「その他食料品・飲料・たばこ」（43.4％）、「衣類」（33.8％）の順で高いことがわかりました。また、費目別の購入者単価では「宝石・貴金属」が8.3万円と最も高いことがわかりました。'"
      ]
     },
     "execution_count": 14,
     "metadata": {},
     "output_type": "execute_result"
    }
   ],
   "source": [
    "query = \"お土産の購入状況を教えて\"\n",
    "index.query(query)"
   ]
  },
  {
   "cell_type": "markdown",
   "metadata": {},
   "source": [
    "### 何を行っているか"
   ]
  },
  {
   "cell_type": "code",
   "execution_count": 11,
   "metadata": {},
   "outputs": [],
   "source": [
    "from langchain.document_loaders import PyPDFLoader\n",
    "\n",
    "# PDFの読込\n",
    "loader = PyPDFLoader(\"./data2/001615363.pdf\")\n",
    "documents = loader.load()"
   ]
  },
  {
   "cell_type": "code",
   "execution_count": 12,
   "metadata": {},
   "outputs": [],
   "source": [
    "from langchain.text_splitter import CharacterTextSplitter\n",
    "\n",
    "# チャンクに分割\n",
    "text_splitter = CharacterTextSplitter(separator=\"\\n\", chunk_size=512, chunk_overlap=0)\n",
    "texts = text_splitter.split_documents(documents)"
   ]
  },
  {
   "cell_type": "code",
   "execution_count": 13,
   "metadata": {},
   "outputs": [],
   "source": [
    "from langchain.embeddings import OpenAIEmbeddings\n",
    "from langchain.vectorstores import Chroma\n",
    "\n",
    "# Indexの構築\n",
    "db = Chroma.from_documents(texts, OpenAIEmbeddings())"
   ]
  },
  {
   "cell_type": "code",
   "execution_count": 14,
   "metadata": {},
   "outputs": [],
   "source": [
    "from langchain.chains import RetrievalQA\n",
    "from langchain.llms import OpenAI\n",
    "\n",
    "# RetrievalQAチェーンの作成\n",
    "qa = RetrievalQA.from_chain_type(\n",
    "    llm=OpenAI(),\n",
    "    chain_type=\"stuff\",\n",
    "    retriever=db.as_retriever())"
   ]
  },
  {
   "cell_type": "code",
   "execution_count": 15,
   "metadata": {},
   "outputs": [
    {
     "name": "stdout",
     "output_type": "stream",
     "text": [
      " 訪日外国人消費動向調査結果によると、費目別の購入率では、「菓子類」が70.4％、「その他食料品・飲料・たばこ」が43.4％、「衣類」が33.8％であるそうです。\n"
     ]
    }
   ],
   "source": [
    "# 質問\n",
    "query = \"お土産の購入状況を教えて\"\n",
    "result = qa(query)\n",
    "\n",
    "# 回答を表示\n",
    "print(result[\"result\"])"
   ]
  },
  {
   "cell_type": "markdown",
   "metadata": {},
   "source": [
    "# Memory"
   ]
  },
  {
   "cell_type": "code",
   "execution_count": 18,
   "metadata": {},
   "outputs": [],
   "source": [
    "from langchain.chat_models import ChatOpenAI\n",
    "from langchain.chains import ConversationChain\n",
    "from langchain.memory import ConversationBufferMemory\n",
    "\n",
    "# Chat Model\n",
    "llm = ChatOpenAI(\n",
    "    model_name = \"gpt-3.5-turbo\",\n",
    "    temperature=1.2)\n",
    "\n",
    "# 対話型Chain\n",
    "conversation = ConversationChain(\n",
    "    llm=llm,\n",
    "    verbose=True,\n",
    "    memory=ConversationBufferMemory()\n",
    ")"
   ]
  },
  {
   "cell_type": "code",
   "execution_count": 19,
   "metadata": {},
   "outputs": [
    {
     "name": "stdout",
     "output_type": "stream",
     "text": [
      "\n",
      "\n",
      "\u001b[1m> Entering new  chain...\u001b[0m\n",
      "Prompt after formatting:\n",
      "\u001b[32;1m\u001b[1;3mThe following is a friendly conversation between a human and an AI. The AI is talkative and provides lots of specific details from its context. If the AI does not know the answer to a question, it truthfully says it does not know.\n",
      "\n",
      "Current conversation:\n",
      "\n",
      "Human: おすすめのプログラミング言語を3つ教えてください\n",
      "AI:\u001b[0m\n",
      "\n",
      "\u001b[1m> Finished chain.\u001b[0m\n"
     ]
    },
    {
     "data": {
      "text/plain": [
       "'おすすめのプログラミング言語として、Python、JavaScript、およびJavaをお勧めします。\\n\\nPythonは初心者にもおすすめの言語です。シンプルな構文と豊富なモジュールが特徴で、様々なアプリケーションやウェブ開発に利用されています。\\n\\nJavaScriptはウェブ開発において非常に重要な言語です。ブラウザ上で動作するため、フロントエンドの開発に特に適しています。また、Node.jsと組み合わせることでサーバーサイドの開発も行えます。\\n\\nJavaは汎用性の高い言語であり、大規模なソフトウェアやアプリケーションの開発に適しています。Androidアプリ開発にも幅広く使用されています。\\n\\nこれらの言語はそれぞれ異なる特徴や用途がありますので、学習目的やプロジェクトの要件に合わせて選ぶことをおすすめします。'"
      ]
     },
     "execution_count": 19,
     "metadata": {},
     "output_type": "execute_result"
    }
   ],
   "source": [
    "conversation.predict(input=\"おすすめのプログラミング言語を3つ教えてください\")"
   ]
  },
  {
   "cell_type": "code",
   "execution_count": 20,
   "metadata": {},
   "outputs": [
    {
     "name": "stdout",
     "output_type": "stream",
     "text": [
      "\n",
      "\n",
      "\u001b[1m> Entering new  chain...\u001b[0m\n",
      "Prompt after formatting:\n",
      "\u001b[32;1m\u001b[1;3mThe following is a friendly conversation between a human and an AI. The AI is talkative and provides lots of specific details from its context. If the AI does not know the answer to a question, it truthfully says it does not know.\n",
      "\n",
      "Current conversation:\n",
      "Human: おすすめのプログラミング言語を3つ教えてください\n",
      "AI: おすすめのプログラミング言語として、Python、JavaScript、およびJavaをお勧めします。\n",
      "\n",
      "Pythonは初心者にもおすすめの言語です。シンプルな構文と豊富なモジュールが特徴で、様々なアプリケーションやウェブ開発に利用されています。\n",
      "\n",
      "JavaScriptはウェブ開発において非常に重要な言語です。ブラウザ上で動作するため、フロントエンドの開発に特に適しています。また、Node.jsと組み合わせることでサーバーサイドの開発も行えます。\n",
      "\n",
      "Javaは汎用性の高い言語であり、大規模なソフトウェアやアプリケーションの開発に適しています。Androidアプリ開発にも幅広く使用されています。\n",
      "\n",
      "これらの言語はそれぞれ異なる特徴や用途がありますので、学習目的やプロジェクトの要件に合わせて選ぶことをおすすめします。\n",
      "Human: 1つ目のプログラミング言語の名前は何ですか？\n",
      "AI:\u001b[0m\n",
      "\n",
      "\u001b[1m> Finished chain.\u001b[0m\n"
     ]
    },
    {
     "data": {
      "text/plain": [
       "'1つ目のプログラミング言語の名前はPythonです。'"
      ]
     },
     "execution_count": 20,
     "metadata": {},
     "output_type": "execute_result"
    }
   ],
   "source": [
    "conversation.predict(input=\"1つ目のプログラミング言語の名前は何ですか？\")"
   ]
  },
  {
   "cell_type": "code",
   "execution_count": null,
   "metadata": {},
   "outputs": [],
   "source": []
  }
 ],
 "metadata": {
  "kernelspec": {
   "display_name": ".venv",
   "language": "python",
   "name": "python3"
  },
  "language_info": {
   "codemirror_mode": {
    "name": "ipython",
    "version": 3
   },
   "file_extension": ".py",
   "mimetype": "text/x-python",
   "name": "python",
   "nbconvert_exporter": "python",
   "pygments_lexer": "ipython3",
   "version": "3.11.4"
  },
  "orig_nbformat": 4
 },
 "nbformat": 4,
 "nbformat_minor": 2
}
