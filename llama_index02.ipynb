{
 "cells": [
  {
   "attachments": {},
   "cell_type": "markdown",
   "metadata": {},
   "source": [
    "# PDFドキュメントの読込\n",
    "\n",
    "# 準備"
   ]
  },
  {
   "cell_type": "code",
   "execution_count": 1,
   "metadata": {},
   "outputs": [],
   "source": [
    "# 必要なモジュールをインポート\n",
    "import os\n",
    "from dotenv import load_dotenv\n",
    "\n",
    "# 環境変数の読み込み\n",
    "load_dotenv()\n",
    "os.environ['OPENAI_API_KEY']  = os.environ['API_KEY']"
   ]
  },
  {
   "attachments": {},
   "cell_type": "markdown",
   "metadata": {},
   "source": [
    "# Indexの構築"
   ]
  },
  {
   "cell_type": "code",
   "execution_count": 2,
   "metadata": {},
   "outputs": [],
   "source": [
    "from pathlib import Path\n",
    "from llama_index import download_loader\n",
    "\n",
    "# PDFReaderの取得\n",
    "PDFReader = download_loader(\"PDFReader\")\n",
    "\n",
    "# PDFドキュメントからテキスト情報を読込\n",
    "loader = PDFReader()\n",
    "documents = loader.load_data(file=Path('./data2/001615363.pdf'))"
   ]
  },
  {
   "cell_type": "code",
   "execution_count": 3,
   "metadata": {},
   "outputs": [],
   "source": [
    "from llama_index.text_splitter import SentenceSplitter\n",
    "import tiktoken\n",
    "\n",
    "# NodeParserの作成\n",
    "node_parser = SentenceSplitter(\n",
    "    separator=\"。\",\n",
    "    chunk_size=1024,\n",
    "    chunk_overlap=20,\n",
    "    tokenizer=tiktoken.encoding_for_model(\"gpt-3.5-turbo-1106\").encode)"
   ]
  },
  {
   "cell_type": "code",
   "execution_count": 4,
   "metadata": {},
   "outputs": [],
   "source": [
    "from llama_index.llms import OpenAI\n",
    "from llama_index import ServiceContext\n",
    "from llama_index import VectorStoreIndex\n",
    "\n",
    "# 言語モデルの指定\n",
    "llm = OpenAI(model='gpt-3.5-turbo-1106', temperature=1.2)\n",
    "\n",
    "system_prompt = \"\"\"\\\n",
    "あなたは世界中で信頼されているエキスパート Q&A システムです。\\n事前知識ではなく、常に提供されたコンテキスト情報を使用して質問に答えてください。\\n従うべきいくつかのルール:\\n1.回答内で指定されたコンテキストを直接参照しないでください。\\n2. 「コンテキストに基づいて、...」や「コンテキスト情報は...」、またはそれに類するような記述は避けてください。\n",
    "\"\"\"\n",
    "\n",
    "# サービスコンテキストの作成\n",
    "service_context = ServiceContext.from_defaults(\n",
    "  system_prompt=system_prompt,\n",
    "  llm=llm, \n",
    "  node_parser=node_parser)\n",
    "\n",
    "# Indexの構築\n",
    "index = VectorStoreIndex.from_documents(documents, service_context=service_context)"
   ]
  },
  {
   "cell_type": "code",
   "execution_count": 5,
   "metadata": {},
   "outputs": [
    {
     "name": "stdout",
     "output_type": "stream",
     "text": [
      "<bound method Encoding.encode of <Encoding 'cl100k_base'>>\n"
     ]
    }
   ],
   "source": [
    "# 参考：言語モデルのエンコーディングを調べる\n",
    "import tiktoken\n",
    "print(tiktoken.encoding_for_model('gpt-3.5-turbo-1106').encode)"
   ]
  },
  {
   "attachments": {},
   "cell_type": "markdown",
   "metadata": {},
   "source": [
    "# Query Engineの作成"
   ]
  },
  {
   "cell_type": "code",
   "execution_count": 6,
   "metadata": {},
   "outputs": [],
   "source": [
    "# Query Engineの作成\n",
    "query_engine = index.as_query_engine(\n",
    "    service_context=service_context,\n",
    "    similarity_top_k=3,\n",
    "    streaming=True,\n",
    ")"
   ]
  },
  {
   "attachments": {},
   "cell_type": "markdown",
   "metadata": {},
   "source": [
    "# ユーザーからの質問に回答"
   ]
  },
  {
   "cell_type": "code",
   "execution_count": 10,
   "metadata": {},
   "outputs": [
    {
     "name": "stdout",
     "output_type": "stream",
     "text": [
      "お土産の購入状況は、特定の国籍や地域によって異なります。一般的には「菓子類」が最も多く購入されており、特に韓国、台湾、香港、中国の旅行者によって多く購入されています。また、消費者ごとの平均支出については、台湾や香港地域の旅行者が「宝石・貴金属」に最も多くの支出をしていることが報告されています。さらに、消費税免税手続きを実施する割合も国籍や地域によって大きく異なり、台湾と香港地域では特に高い割合で免税手続きが行われていることが明らかになっています。"
     ]
    }
   ],
   "source": [
    "response = query_engine.query(\"お土産の購入状況を教えて\")\n",
    "# 言語モデルからの回答を表示\n",
    "response.print_response_stream()"
   ]
  },
  {
   "cell_type": "code",
   "execution_count": 11,
   "metadata": {},
   "outputs": [
    {
     "name": "stdout",
     "output_type": "stream",
     "text": [
      "> Source (Node id: c7ae1f11-4f05-478a-960f-441bc92630ff): 訪日外国人消費動向調査  \n",
      " \n",
      "20 ３．土産品の購入実態  \n",
      " \n",
      "（１） 費目別購入率 \n",
      " 費目別の 購入率（その費目を購入した人の\n",
      "割合）は「菓子類」 （ 70.4％）、「その他食\n",
      "料品・...\n",
      "\n",
      "> Source (Node id: e843b8f8-896c-4890-a2bb-0c75be19edee): 訪日外国人消費動向調査 \n",
      " \n",
      "38 \n",
      " （３）買物場所 \n",
      "百貨店・デパート \n",
      "原則として百貨店協会加盟の店舗 \n",
      "家電量販店 \n",
      "PCやカメラ、電気製品を専門に販売する店舗 \n",
      "ファッション専門店 \n",
      "...\n",
      "\n",
      "> Source (Node id: e3ac7233-19e0-4dba-8285-28c2e27c6a63): 21 （３）消費税免税手続き の実施状況  \n",
      " 今回の日本滞在中に 消費税免税手続き\n",
      "を実施した人の割合 は全体の40.3％で\n",
      "ある（図表 3-3）。 \n",
      " 国籍･地域別に みると、 台湾と香...\n"
     ]
    }
   ],
   "source": [
    "# 出典を表示\n",
    "print(response.get_formatted_sources())"
   ]
  },
  {
   "attachments": {},
   "cell_type": "markdown",
   "metadata": {},
   "source": [
    "# 詳細なログの表示"
   ]
  },
  {
   "cell_type": "code",
   "execution_count": 12,
   "metadata": {},
   "outputs": [],
   "source": [
    "import logging\n",
    "import sys\n",
    "\n",
    "logging.basicConfig(stream=sys.stdout, level=logging.DEBUG)\n",
    "logging.getLogger().addHandler(logging.StreamHandler(stream=sys.stdout))"
   ]
  },
  {
   "cell_type": "code",
   "execution_count": 13,
   "metadata": {},
   "outputs": [
    {
     "name": "stdout",
     "output_type": "stream",
     "text": [
      "DEBUG:openai._base_client:Request options: {'method': 'post', 'url': '/embeddings', 'files': None, 'post_parser': <function Embeddings.create.<locals>.parser at 0x000001875B169620>, 'json_data': {'input': ['お土産の購入状況を教えて'], 'model': <OpenAIEmbeddingModeModel.TEXT_EMBED_ADA_002: 'text-embedding-ada-002'>, 'encoding_format': 'base64'}}\n",
      "Request options: {'method': 'post', 'url': '/embeddings', 'files': None, 'post_parser': <function Embeddings.create.<locals>.parser at 0x000001875B169620>, 'json_data': {'input': ['お土産の購入状況を教えて'], 'model': <OpenAIEmbeddingModeModel.TEXT_EMBED_ADA_002: 'text-embedding-ada-002'>, 'encoding_format': 'base64'}}\n",
      "DEBUG:httpcore.connection:close.started\n",
      "close.started\n",
      "DEBUG:httpcore.connection:close.complete\n",
      "close.complete\n",
      "DEBUG:httpcore.connection:connect_tcp.started host='api.openai.com' port=443 local_address=None timeout=60.0 socket_options=None\n",
      "connect_tcp.started host='api.openai.com' port=443 local_address=None timeout=60.0 socket_options=None\n",
      "DEBUG:httpcore.connection:connect_tcp.complete return_value=<httpcore._backends.sync.SyncStream object at 0x000001875B2202D0>\n",
      "connect_tcp.complete return_value=<httpcore._backends.sync.SyncStream object at 0x000001875B2202D0>\n",
      "DEBUG:httpcore.connection:start_tls.started ssl_context=<ssl.SSLContext object at 0x000001875B1DC950> server_hostname='api.openai.com' timeout=60.0\n",
      "start_tls.started ssl_context=<ssl.SSLContext object at 0x000001875B1DC950> server_hostname='api.openai.com' timeout=60.0\n",
      "DEBUG:httpcore.connection:start_tls.complete return_value=<httpcore._backends.sync.SyncStream object at 0x000001875B8B2B10>\n",
      "start_tls.complete return_value=<httpcore._backends.sync.SyncStream object at 0x000001875B8B2B10>\n",
      "DEBUG:httpcore.http11:send_request_headers.started request=<Request [b'POST']>\n",
      "send_request_headers.started request=<Request [b'POST']>\n",
      "DEBUG:httpcore.http11:send_request_headers.complete\n",
      "send_request_headers.complete\n",
      "DEBUG:httpcore.http11:send_request_body.started request=<Request [b'POST']>\n",
      "send_request_body.started request=<Request [b'POST']>\n",
      "DEBUG:httpcore.http11:send_request_body.complete\n",
      "send_request_body.complete\n",
      "DEBUG:httpcore.http11:receive_response_headers.started request=<Request [b'POST']>\n",
      "receive_response_headers.started request=<Request [b'POST']>\n",
      "DEBUG:httpcore.http11:receive_response_headers.complete return_value=(b'HTTP/1.1', 200, b'OK', [(b'Date', b'Mon, 08 Jan 2024 01:54:44 GMT'), (b'Content-Type', b'application/json'), (b'Transfer-Encoding', b'chunked'), (b'Connection', b'keep-alive'), (b'access-control-allow-origin', b'*'), (b'openai-organization', b'user-mvnipnankuxxlro43mseaobj'), (b'openai-processing-ms', b'18'), (b'openai-version', b'2020-10-01'), (b'strict-transport-security', b'max-age=15724800; includeSubDomains'), (b'x-ratelimit-limit-requests', b'3000'), (b'x-ratelimit-limit-tokens', b'1000000'), (b'x-ratelimit-remaining-requests', b'2999'), (b'x-ratelimit-remaining-tokens', b'999990'), (b'x-ratelimit-reset-requests', b'20ms'), (b'x-ratelimit-reset-tokens', b'0s'), (b'x-request-id', b'cb2e36874830c32789dbdbea42ec0025'), (b'CF-Cache-Status', b'DYNAMIC'), (b'Server', b'cloudflare'), (b'CF-RAY', b'8420d07549d46854-NRT'), (b'Content-Encoding', b'gzip'), (b'alt-svc', b'h3=\":443\"; ma=86400')])\n",
      "receive_response_headers.complete return_value=(b'HTTP/1.1', 200, b'OK', [(b'Date', b'Mon, 08 Jan 2024 01:54:44 GMT'), (b'Content-Type', b'application/json'), (b'Transfer-Encoding', b'chunked'), (b'Connection', b'keep-alive'), (b'access-control-allow-origin', b'*'), (b'openai-organization', b'user-mvnipnankuxxlro43mseaobj'), (b'openai-processing-ms', b'18'), (b'openai-version', b'2020-10-01'), (b'strict-transport-security', b'max-age=15724800; includeSubDomains'), (b'x-ratelimit-limit-requests', b'3000'), (b'x-ratelimit-limit-tokens', b'1000000'), (b'x-ratelimit-remaining-requests', b'2999'), (b'x-ratelimit-remaining-tokens', b'999990'), (b'x-ratelimit-reset-requests', b'20ms'), (b'x-ratelimit-reset-tokens', b'0s'), (b'x-request-id', b'cb2e36874830c32789dbdbea42ec0025'), (b'CF-Cache-Status', b'DYNAMIC'), (b'Server', b'cloudflare'), (b'CF-RAY', b'8420d07549d46854-NRT'), (b'Content-Encoding', b'gzip'), (b'alt-svc', b'h3=\":443\"; ma=86400')])\n",
      "INFO:httpx:HTTP Request: POST https://api.openai.com/v1/embeddings \"HTTP/1.1 200 OK\"\n",
      "HTTP Request: POST https://api.openai.com/v1/embeddings \"HTTP/1.1 200 OK\"\n",
      "DEBUG:httpcore.http11:receive_response_body.started request=<Request [b'POST']>\n",
      "receive_response_body.started request=<Request [b'POST']>\n",
      "DEBUG:httpcore.http11:receive_response_body.complete\n",
      "receive_response_body.complete\n",
      "DEBUG:httpcore.http11:response_closed.started\n",
      "response_closed.started\n",
      "DEBUG:httpcore.http11:response_closed.complete\n",
      "response_closed.complete\n",
      "DEBUG:openai._base_client:HTTP Request: POST https://api.openai.com/v1/embeddings \"200 OK\"\n",
      "HTTP Request: POST https://api.openai.com/v1/embeddings \"200 OK\"\n",
      "DEBUG:llama_index.indices.utils:> Top 3 nodes:\n",
      "> [Node c7ae1f11-4f05-478a-960f-441bc92630ff] [Similarity score:             0.81345] 訪日外国人消費動向調査  \n",
      " \n",
      "20 ３．土産品の購入実態  \n",
      " \n",
      "（１） 費目別購入率 \n",
      " 費目別の 購入率（その費目を購入した人の\n",
      "割合）は「菓子類」 （ 70.4％）、「その他食\n",
      "料品・...\n",
      "> [Node e843b8f8-896c-4890-a2bb-0c75be19edee] [Similarity score:             0.805979] 訪日外国人消費動向調査 \n",
      " \n",
      "38 \n",
      " （３）買物場所 \n",
      "百貨店・デパート \n",
      "原則として百貨店協会加盟の店舗 \n",
      "家電量販店 \n",
      "PCやカメラ、電気製品を専門に販売する店舗 \n",
      "ファッション専門店 \n",
      "...\n",
      "> [Node e3ac7233-19e0-4dba-8285-28c2e27c6a63] [Similarity score:             0.797222] 21 （３）消費税免税手続き の実施状況  \n",
      " 今回の日本滞在中に 消費税免税手続き\n",
      "を実施した人の割合 は全体の40.3％で\n",
      "ある（図表 3-3）。 \n",
      " 国籍･地域別に みると、 台湾と香...\n",
      "> Top 3 nodes:\n",
      "> [Node c7ae1f11-4f05-478a-960f-441bc92630ff] [Similarity score:             0.81345] 訪日外国人消費動向調査  \n",
      " \n",
      "20 ３．土産品の購入実態  \n",
      " \n",
      "（１） 費目別購入率 \n",
      " 費目別の 購入率（その費目を購入した人の\n",
      "割合）は「菓子類」 （ 70.4％）、「その他食\n",
      "料品・...\n",
      "> [Node e843b8f8-896c-4890-a2bb-0c75be19edee] [Similarity score:             0.805979] 訪日外国人消費動向調査 \n",
      " \n",
      "38 \n",
      " （３）買物場所 \n",
      "百貨店・デパート \n",
      "原則として百貨店協会加盟の店舗 \n",
      "家電量販店 \n",
      "PCやカメラ、電気製品を専門に販売する店舗 \n",
      "ファッション専門店 \n",
      "...\n",
      "> [Node e3ac7233-19e0-4dba-8285-28c2e27c6a63] [Similarity score:             0.797222] 21 （３）消費税免税手続き の実施状況  \n",
      " 今回の日本滞在中に 消費税免税手続き\n",
      "を実施した人の割合 は全体の40.3％で\n",
      "ある（図表 3-3）。 \n",
      " 国籍･地域別に みると、 台湾と香...\n",
      "DEBUG:openai._base_client:Request options: {'method': 'post', 'url': '/chat/completions', 'files': None, 'json_data': {'messages': [{'role': <MessageRole.SYSTEM: 'system'>, 'content': 'あなたは世界中で信頼されているエキスパート Q&A システムです。\\n事前知識ではなく、常に提供されたコンテキスト情報を使用して質問に答えてください。\\n従うべきいくつかのルール:\\n1.回答内で指定されたコンテキストを直接参照しないでください。\\n2. 「コンテキストに基づいて、...」や「コンテキスト情報は...」、またはそれに類するような記述は避けてください。\\n'}, {'role': <MessageRole.SYSTEM: 'system'>, 'content': \"You are an expert Q&A system that is trusted around the world.\\nAlways answer the query using the provided context information, and not prior knowledge.\\nSome rules to follow:\\n1. Never directly reference the given context in your answer.\\n2. Avoid statements like 'Based on the context, ...' or 'The context information ...' or anything along those lines.\"}, {'role': <MessageRole.USER: 'user'>, 'content': 'Context information is below.\\n---------------------\\npage_label: 22\\nfile_name: 001615363.pdf\\n\\n訪日外国人消費動向調査  \\n \\n20 ３．土産品の購入実態  \\n \\n（１） 費目別購入率 \\n\\uf06c 費目別の 購入率（その費目を購入した人の\\n割合）は「菓子類」 （ 70.4％）、「その他食\\n料品・飲料・たばこ」 （ 43.4％）、 「衣類」\\n（33.8％）の順で高 い（図表3-1）。 \\n\\uf06c 国籍・地域別で 最も購入率が 高い費目は 、\\n韓国、台湾、香港 、中国で「菓子類」 （ それ\\nぞれ82.9％、72.9％、63.3％、73.1％）、\\n米国で「その他食料品・飲料・たばこ」\\n（54.1％）となっている 。  \\n \\n（２）費目別購入者単価  \\n\\uf06c 費目別の購入者単価 （その費目を購入し\\nた人における当該費目の 1人当たり平均\\n支出）は、「 宝石・貴金属 」が8.3万円\\nと最も高い（図表 3-1）。 \\n\\uf06c 国籍・地域別では 、台湾と香港の「宝\\n石・貴金属 」（それぞれ 19.9万円、\\n16.6万円）が他の国籍・地域に比べ高\\nい。\\n  図表3-1 買物代の費目別購入率および購入者単価  （主要国籍･地域別 、全目的） \\n図表3-2 買物代の費目別購入率および 購入者単価  （主要国籍･地域別 、観光・レジャー目的 ） \\n国籍･地域\\n費目 購入率購入者\\n単価\\n（円）購入率購入者\\n単価\\n（円）購入率購入者\\n単価\\n（円）購入率購入者\\n単価\\n（円）購入率購入者\\n単価\\n（円）購入率購入者\\n単価\\n（円）\\n菓子類 70.4% 10,646 82.9% 7,585 72.9% 12,517 63.3% 12,864 73.1% 16,057 43.7% 10,962\\n酒類 25.2% 10,365 34.5% 7,995 20.3% 10,001 14.7% 17,047 13.9% 18,150 28.5% 12,405\\n生鮮農産物 5.9% 22,304 3.8% 38,719 10.2% 12,699 10.3% 8,165 8.6% 36,296 3.8% 8,949\\nその他食料品・飲料・たばこ 43.4% 12,931 37.2% 10,579 41.5% 12,795 44.9% 13,481 49.7% 26,308 54.1% 14,773\\n化粧品・香水 19.2% 19,434 15.1% 10,665 25.9% 19,170 26.5% 21,977 41.5% 62,923 6.7% 15,992\\n医薬品 24.\\n\\npage_label: 40\\nfile_name: 001615363.pdf\\n\\n訪日外国人消費動向調査 \\n \\n38 \\n （３）買物場所 \\n百貨店・デパート \\n原則として百貨店協会加盟の店舗 \\n家電量販店 \\nPCやカメラ、電気製品を専門に販売する店舗 \\nファッション専門店 \\n服・鞄・靴・アクセサリー・高級腕時計等\\nを専門に販売する店舗 \\n100 円ショップ \\n店内の商品を原則として 1 点 100 日本円均\\n一で 販売する形態の小売店 \\n高速道路の SA・道の駅 \\n高速道路のサービスエリア（SA）やパーキ\\nングエリア（PA）、国土交通省に登録され\\nている「道の駅」 \\n観光地の土産店 \\n観光地内にある小売店 \\n宿泊施設 \\n旅館・ホテル等の館内に併設されている土産店 \\nスーパーマーケット \\n高頻度に消費される食料品や日用品等をセル\\nフサービスで短時間に買えるようにした小売\\n店舗 \\nコンビニエンスストア \\n年中無休で長時間の営業を行い、小規模な\\n店舗において主に食品、日用雑貨等多数の\\n品種を扱う形態の小売店 \\nドラッグストア \\n医薬品や化粧品、トイレタリーを中心と\\nし、併せて日用品や文房具、食料品等を取\\n扱う店舗 ディスカウントストア \\n一時的なセールではなく常に低価格で商品\\nを提供する安売り店舗で、一般的には生鮮\\n食料品を除く生活用品を総合的に取り扱う \\nアウトレットモール \\n「メーカー品」（通常、メーカーのブラン\\nド名を表示したもの）や、「高級ブランド\\n品」（通常、百貨店等で高額でも購入者が\\nつき、販売可能なもの）を低価格で販売す\\nる複数のアウトレット店舗を一箇所に集め\\nモールを形成したショッピングセンター \\n都心の複合商業施設 \\n都心部に立地し、商業施設や飲食施設、映\\n画館、遊技場等の娯楽施設等が一体的に整\\n備された施設 \\nその他ショッピングセンター \\n複数の小売店舗が入居する商業施設で、上\\n記の買物場所に当てはまらないもの \\n鉄道駅構内の店舗 \\n駅構内にある小型売店 \\n注）駅ビルは「百貨店・デパート」に含まれる。\\n\\npage_label: 23\\nfile_name: 001615363.pdf\\n\\n21 （３）消費税免税手続き の実施状況  \\n\\uf06c 今回の日本滞在中に 消費税免税手続き\\nを実施した人の割合 は全体の40.3％で\\nある（図表 3-3）。 \\n\\uf06c 国籍･地域別に みると、 台湾と香港で6\\n割超と高い 。一方、 インド、 英国、ドイ\\nツ、フランス、 イタリア、 スペイン、 米\\n国、カナダ では2割未満と他の国籍･地\\n域に比べ て低い。 \\n \\n図表3-3 消費税免税手続き の実施率  \\n（国籍･地域別）  \\n \\n   \\n\\uf06c 買物代の 費目別に、 消費税免税手続きを\\nして当該 費目を購入した人の割合 （費目\\n別の免税購入 率、分母は一般客全体）を\\nみると、「衣類」（14.9％）が最も高く 、\\n次いで「 菓子類」（14.2％）、「医薬品」\\n（12.4％） 、 「靴・かばん・革製品 」（12.2％）\\nの順で高くなっている （図表3-4）。 \\n \\n \\n図表3-4 費目別購入率と費目別の 免税購入率 \\n（全国籍･地域、複数回答）  \\n \\n 40.3%\\n38.6%\\n64.3%\\n64.1%\\n42.7%\\n51.1%\\n44.9%\\n41.3%\\n32.7%\\n39.0%\\n26.9%\\n14.9%\\n10.8%\\n8.3%\\n16.7%\\n13.3%\\n15.2%\\n33.1%\\n11.4%\\n15.4%\\n23.2%0% 20% 40% 60% 80%\\n全国籍・地域\\n韓国\\n台湾\\n香港\\n中国\\nタイ\\nシンガポール\\nマレーシア\\nインドネシア\\nフィリピン\\nベトナム\\nインド\\n英国\\nドイツ\\nフランス\\nイタリア\\nスペイン\\nロシア\\n米国\\nカナダ\\nオーストラリア70.4%\\n25.2%\\n5.9%\\n43.4%\\n19.2%\\n24.3%\\n10.4%\\n33.8%\\n22.5%\\n5.5%\\n1.9%\\n1.5%\\n7.4%\\n4.3%\\n3.9%14.2%\\n5.2%\\n0.3%\\n3.2%\\n9.3%\\n12.4%\\n4.8%\\n14.9%\\n12.2%\\n3.2%\\n0.9%\\n0.6%\\n0.8%\\n0.2%\\n1.0%0% 40% 80%\\n菓子類\\n酒類\\n生鮮農産物\\nその他食料品・\\n飲料・たばこ\\n化粧品・香水\\n医薬品\\n健康グッズ・トイレタリー\\n衣類\\n靴・かばん・革製品\\n電気製品\\n時計・フィルムカメラ\\n宝石・貴金属\\n民芸品・伝統工芸品\\n本･雑誌･ガイドブックなど\\n音楽・映像・ゲームなど\\nソフトウェア購入率\\n免税購入率\\n---------------------\\nGiven the context information and not prior knowledge, answer the query.\\nQuery: お土産の購入状況を教えて\\nAnswer: '}], 'model': 'gpt-3.5-turbo-1106', 'stream': True, 'temperature': 1.2}}\n",
      "Request options: {'method': 'post', 'url': '/chat/completions', 'files': None, 'json_data': {'messages': [{'role': <MessageRole.SYSTEM: 'system'>, 'content': 'あなたは世界中で信頼されているエキスパート Q&A システムです。\\n事前知識ではなく、常に提供されたコンテキスト情報を使用して質問に答えてください。\\n従うべきいくつかのルール:\\n1.回答内で指定されたコンテキストを直接参照しないでください。\\n2. 「コンテキストに基づいて、...」や「コンテキスト情報は...」、またはそれに類するような記述は避けてください。\\n'}, {'role': <MessageRole.SYSTEM: 'system'>, 'content': \"You are an expert Q&A system that is trusted around the world.\\nAlways answer the query using the provided context information, and not prior knowledge.\\nSome rules to follow:\\n1. Never directly reference the given context in your answer.\\n2. Avoid statements like 'Based on the context, ...' or 'The context information ...' or anything along those lines.\"}, {'role': <MessageRole.USER: 'user'>, 'content': 'Context information is below.\\n---------------------\\npage_label: 22\\nfile_name: 001615363.pdf\\n\\n訪日外国人消費動向調査  \\n \\n20 ３．土産品の購入実態  \\n \\n（１） 費目別購入率 \\n\\uf06c 費目別の 購入率（その費目を購入した人の\\n割合）は「菓子類」 （ 70.4％）、「その他食\\n料品・飲料・たばこ」 （ 43.4％）、 「衣類」\\n（33.8％）の順で高 い（図表3-1）。 \\n\\uf06c 国籍・地域別で 最も購入率が 高い費目は 、\\n韓国、台湾、香港 、中国で「菓子類」 （ それ\\nぞれ82.9％、72.9％、63.3％、73.1％）、\\n米国で「その他食料品・飲料・たばこ」\\n（54.1％）となっている 。  \\n \\n（２）費目別購入者単価  \\n\\uf06c 費目別の購入者単価 （その費目を購入し\\nた人における当該費目の 1人当たり平均\\n支出）は、「 宝石・貴金属 」が8.3万円\\nと最も高い（図表 3-1）。 \\n\\uf06c 国籍・地域別では 、台湾と香港の「宝\\n石・貴金属 」（それぞれ 19.9万円、\\n16.6万円）が他の国籍・地域に比べ高\\nい。\\n  図表3-1 買物代の費目別購入率および購入者単価  （主要国籍･地域別 、全目的） \\n図表3-2 買物代の費目別購入率および 購入者単価  （主要国籍･地域別 、観光・レジャー目的 ） \\n国籍･地域\\n費目 購入率購入者\\n単価\\n（円）購入率購入者\\n単価\\n（円）購入率購入者\\n単価\\n（円）購入率購入者\\n単価\\n（円）購入率購入者\\n単価\\n（円）購入率購入者\\n単価\\n（円）\\n菓子類 70.4% 10,646 82.9% 7,585 72.9% 12,517 63.3% 12,864 73.1% 16,057 43.7% 10,962\\n酒類 25.2% 10,365 34.5% 7,995 20.3% 10,001 14.7% 17,047 13.9% 18,150 28.5% 12,405\\n生鮮農産物 5.9% 22,304 3.8% 38,719 10.2% 12,699 10.3% 8,165 8.6% 36,296 3.8% 8,949\\nその他食料品・飲料・たばこ 43.4% 12,931 37.2% 10,579 41.5% 12,795 44.9% 13,481 49.7% 26,308 54.1% 14,773\\n化粧品・香水 19.2% 19,434 15.1% 10,665 25.9% 19,170 26.5% 21,977 41.5% 62,923 6.7% 15,992\\n医薬品 24.\\n\\npage_label: 40\\nfile_name: 001615363.pdf\\n\\n訪日外国人消費動向調査 \\n \\n38 \\n （３）買物場所 \\n百貨店・デパート \\n原則として百貨店協会加盟の店舗 \\n家電量販店 \\nPCやカメラ、電気製品を専門に販売する店舗 \\nファッション専門店 \\n服・鞄・靴・アクセサリー・高級腕時計等\\nを専門に販売する店舗 \\n100 円ショップ \\n店内の商品を原則として 1 点 100 日本円均\\n一で 販売する形態の小売店 \\n高速道路の SA・道の駅 \\n高速道路のサービスエリア（SA）やパーキ\\nングエリア（PA）、国土交通省に登録され\\nている「道の駅」 \\n観光地の土産店 \\n観光地内にある小売店 \\n宿泊施設 \\n旅館・ホテル等の館内に併設されている土産店 \\nスーパーマーケット \\n高頻度に消費される食料品や日用品等をセル\\nフサービスで短時間に買えるようにした小売\\n店舗 \\nコンビニエンスストア \\n年中無休で長時間の営業を行い、小規模な\\n店舗において主に食品、日用雑貨等多数の\\n品種を扱う形態の小売店 \\nドラッグストア \\n医薬品や化粧品、トイレタリーを中心と\\nし、併せて日用品や文房具、食料品等を取\\n扱う店舗 ディスカウントストア \\n一時的なセールではなく常に低価格で商品\\nを提供する安売り店舗で、一般的には生鮮\\n食料品を除く生活用品を総合的に取り扱う \\nアウトレットモール \\n「メーカー品」（通常、メーカーのブラン\\nド名を表示したもの）や、「高級ブランド\\n品」（通常、百貨店等で高額でも購入者が\\nつき、販売可能なもの）を低価格で販売す\\nる複数のアウトレット店舗を一箇所に集め\\nモールを形成したショッピングセンター \\n都心の複合商業施設 \\n都心部に立地し、商業施設や飲食施設、映\\n画館、遊技場等の娯楽施設等が一体的に整\\n備された施設 \\nその他ショッピングセンター \\n複数の小売店舗が入居する商業施設で、上\\n記の買物場所に当てはまらないもの \\n鉄道駅構内の店舗 \\n駅構内にある小型売店 \\n注）駅ビルは「百貨店・デパート」に含まれる。\\n\\npage_label: 23\\nfile_name: 001615363.pdf\\n\\n21 （３）消費税免税手続き の実施状況  \\n\\uf06c 今回の日本滞在中に 消費税免税手続き\\nを実施した人の割合 は全体の40.3％で\\nある（図表 3-3）。 \\n\\uf06c 国籍･地域別に みると、 台湾と香港で6\\n割超と高い 。一方、 インド、 英国、ドイ\\nツ、フランス、 イタリア、 スペイン、 米\\n国、カナダ では2割未満と他の国籍･地\\n域に比べ て低い。 \\n \\n図表3-3 消費税免税手続き の実施率  \\n（国籍･地域別）  \\n \\n   \\n\\uf06c 買物代の 費目別に、 消費税免税手続きを\\nして当該 費目を購入した人の割合 （費目\\n別の免税購入 率、分母は一般客全体）を\\nみると、「衣類」（14.9％）が最も高く 、\\n次いで「 菓子類」（14.2％）、「医薬品」\\n（12.4％） 、 「靴・かばん・革製品 」（12.2％）\\nの順で高くなっている （図表3-4）。 \\n \\n \\n図表3-4 費目別購入率と費目別の 免税購入率 \\n（全国籍･地域、複数回答）  \\n \\n 40.3%\\n38.6%\\n64.3%\\n64.1%\\n42.7%\\n51.1%\\n44.9%\\n41.3%\\n32.7%\\n39.0%\\n26.9%\\n14.9%\\n10.8%\\n8.3%\\n16.7%\\n13.3%\\n15.2%\\n33.1%\\n11.4%\\n15.4%\\n23.2%0% 20% 40% 60% 80%\\n全国籍・地域\\n韓国\\n台湾\\n香港\\n中国\\nタイ\\nシンガポール\\nマレーシア\\nインドネシア\\nフィリピン\\nベトナム\\nインド\\n英国\\nドイツ\\nフランス\\nイタリア\\nスペイン\\nロシア\\n米国\\nカナダ\\nオーストラリア70.4%\\n25.2%\\n5.9%\\n43.4%\\n19.2%\\n24.3%\\n10.4%\\n33.8%\\n22.5%\\n5.5%\\n1.9%\\n1.5%\\n7.4%\\n4.3%\\n3.9%14.2%\\n5.2%\\n0.3%\\n3.2%\\n9.3%\\n12.4%\\n4.8%\\n14.9%\\n12.2%\\n3.2%\\n0.9%\\n0.6%\\n0.8%\\n0.2%\\n1.0%0% 40% 80%\\n菓子類\\n酒類\\n生鮮農産物\\nその他食料品・\\n飲料・たばこ\\n化粧品・香水\\n医薬品\\n健康グッズ・トイレタリー\\n衣類\\n靴・かばん・革製品\\n電気製品\\n時計・フィルムカメラ\\n宝石・貴金属\\n民芸品・伝統工芸品\\n本･雑誌･ガイドブックなど\\n音楽・映像・ゲームなど\\nソフトウェア購入率\\n免税購入率\\n---------------------\\nGiven the context information and not prior knowledge, answer the query.\\nQuery: お土産の購入状況を教えて\\nAnswer: '}], 'model': 'gpt-3.5-turbo-1106', 'stream': True, 'temperature': 1.2}}\n",
      "DEBUG:httpcore.connection:close.started\n",
      "close.started\n",
      "DEBUG:httpcore.connection:close.complete\n",
      "close.complete\n",
      "DEBUG:httpcore.connection:connect_tcp.started host='api.openai.com' port=443 local_address=None timeout=60.0 socket_options=None\n",
      "connect_tcp.started host='api.openai.com' port=443 local_address=None timeout=60.0 socket_options=None\n",
      "DEBUG:httpcore.connection:connect_tcp.complete return_value=<httpcore._backends.sync.SyncStream object at 0x000001875B207910>\n",
      "connect_tcp.complete return_value=<httpcore._backends.sync.SyncStream object at 0x000001875B207910>\n",
      "DEBUG:httpcore.connection:start_tls.started ssl_context=<ssl.SSLContext object at 0x000001870EDB9130> server_hostname='api.openai.com' timeout=60.0\n",
      "start_tls.started ssl_context=<ssl.SSLContext object at 0x000001870EDB9130> server_hostname='api.openai.com' timeout=60.0\n",
      "DEBUG:httpcore.connection:start_tls.complete return_value=<httpcore._backends.sync.SyncStream object at 0x000001875B8C4B10>\n",
      "start_tls.complete return_value=<httpcore._backends.sync.SyncStream object at 0x000001875B8C4B10>\n",
      "DEBUG:httpcore.http11:send_request_headers.started request=<Request [b'POST']>\n",
      "send_request_headers.started request=<Request [b'POST']>\n",
      "DEBUG:httpcore.http11:send_request_headers.complete\n",
      "send_request_headers.complete\n",
      "DEBUG:httpcore.http11:send_request_body.started request=<Request [b'POST']>\n",
      "send_request_body.started request=<Request [b'POST']>\n",
      "DEBUG:httpcore.http11:send_request_body.complete\n",
      "send_request_body.complete\n",
      "DEBUG:httpcore.http11:receive_response_headers.started request=<Request [b'POST']>\n",
      "receive_response_headers.started request=<Request [b'POST']>\n",
      "DEBUG:httpcore.http11:receive_response_headers.complete return_value=(b'HTTP/1.1', 200, b'OK', [(b'Date', b'Mon, 08 Jan 2024 01:54:46 GMT'), (b'Content-Type', b'text/event-stream'), (b'Transfer-Encoding', b'chunked'), (b'Connection', b'keep-alive'), (b'access-control-allow-origin', b'*'), (b'Cache-Control', b'no-cache, must-revalidate'), (b'openai-model', b'gpt-3.5-turbo-1106'), (b'openai-organization', b'user-mvnipnankuxxlro43mseaobj'), (b'openai-processing-ms', b'964'), (b'openai-version', b'2020-10-01'), (b'strict-transport-security', b'max-age=15724800; includeSubDomains'), (b'x-ratelimit-limit-requests', b'10000'), (b'x-ratelimit-limit-tokens', b'60000'), (b'x-ratelimit-limit-tokens_usage_based', b'60000'), (b'x-ratelimit-remaining-requests', b'9999'), (b'x-ratelimit-remaining-tokens', b'58125'), (b'x-ratelimit-remaining-tokens_usage_based', b'58125'), (b'x-ratelimit-reset-requests', b'8.64s'), (b'x-ratelimit-reset-tokens', b'1.875s'), (b'x-ratelimit-reset-tokens_usage_based', b'1.875s'), (b'x-request-id', b'c5fbd4ba71b013d5b63edb82a444ad6c'), (b'CF-Cache-Status', b'DYNAMIC'), (b'Server', b'cloudflare'), (b'CF-RAY', b'8420d077881ee02d-NRT'), (b'alt-svc', b'h3=\":443\"; ma=86400')])\n",
      "receive_response_headers.complete return_value=(b'HTTP/1.1', 200, b'OK', [(b'Date', b'Mon, 08 Jan 2024 01:54:46 GMT'), (b'Content-Type', b'text/event-stream'), (b'Transfer-Encoding', b'chunked'), (b'Connection', b'keep-alive'), (b'access-control-allow-origin', b'*'), (b'Cache-Control', b'no-cache, must-revalidate'), (b'openai-model', b'gpt-3.5-turbo-1106'), (b'openai-organization', b'user-mvnipnankuxxlro43mseaobj'), (b'openai-processing-ms', b'964'), (b'openai-version', b'2020-10-01'), (b'strict-transport-security', b'max-age=15724800; includeSubDomains'), (b'x-ratelimit-limit-requests', b'10000'), (b'x-ratelimit-limit-tokens', b'60000'), (b'x-ratelimit-limit-tokens_usage_based', b'60000'), (b'x-ratelimit-remaining-requests', b'9999'), (b'x-ratelimit-remaining-tokens', b'58125'), (b'x-ratelimit-remaining-tokens_usage_based', b'58125'), (b'x-ratelimit-reset-requests', b'8.64s'), (b'x-ratelimit-reset-tokens', b'1.875s'), (b'x-ratelimit-reset-tokens_usage_based', b'1.875s'), (b'x-request-id', b'c5fbd4ba71b013d5b63edb82a444ad6c'), (b'CF-Cache-Status', b'DYNAMIC'), (b'Server', b'cloudflare'), (b'CF-RAY', b'8420d077881ee02d-NRT'), (b'alt-svc', b'h3=\":443\"; ma=86400')])\n",
      "INFO:httpx:HTTP Request: POST https://api.openai.com/v1/chat/completions \"HTTP/1.1 200 OK\"\n",
      "HTTP Request: POST https://api.openai.com/v1/chat/completions \"HTTP/1.1 200 OK\"\n",
      "DEBUG:openai._base_client:HTTP Request: POST https://api.openai.com/v1/chat/completions \"200 OK\"\n",
      "HTTP Request: POST https://api.openai.com/v1/chat/completions \"200 OK\"\n",
      "DEBUG:httpcore.http11:receive_response_body.started request=<Request [b'POST']>\n",
      "receive_response_body.started request=<Request [b'POST']>\n",
      "DEBUG:httpcore.http11:receive_response_body.complete\n",
      "receive_response_body.complete\n",
      "DEBUG:httpcore.http11:response_closed.started\n",
      "response_closed.started\n",
      "DEBUG:httpcore.http11:response_closed.complete\n",
      "response_closed.complete\n",
      "お土産の購入状況は、主に「菓子類」(70.4%)、「その他食料品・飲料・たばこ」(43.4%)、「衣類」(33.8%)が人気です。国籍・地域によっては、「菓子類」が最も購入率が高いです。また、「宝石・貴金属」の購入者単価が最も高く、台湾と香港の購入者単価が特に高いことが示されています。また、消費税免税手続きの実施状況では、衣類や菓子類が免税購入率が比較的高いことも分かります。\n"
     ]
    }
   ],
   "source": [
    "response = query_engine.query(\"お土産の購入状況を教えて\")\n",
    "# 言語モデルからの回答を表示\n",
    "print(response)"
   ]
  },
  {
   "cell_type": "code",
   "execution_count": 18,
   "metadata": {},
   "outputs": [],
   "source": [
    "# もとに戻す（ログを出力しない）\n",
    "logging.basicConfig(stream=sys.stdout, level=logging.WARNING)\n",
    "# ログハンドラー出力を除去\n",
    "while len(logging.getLogger().handlers) > 0:\n",
    "  logging.getLogger().removeHandler(logging.getLogger().handlers[0])"
   ]
  },
  {
   "attachments": {},
   "cell_type": "markdown",
   "metadata": {},
   "source": [
    "# ストレージに保存"
   ]
  },
  {
   "cell_type": "code",
   "execution_count": 15,
   "metadata": {},
   "outputs": [],
   "source": [
    "# ストレージに保存\n",
    "index.storage_context.persist(\"./storage02\")"
   ]
  },
  {
   "cell_type": "code",
   "execution_count": 16,
   "metadata": {},
   "outputs": [],
   "source": [
    "from llama_index import StorageContext, load_index_from_storage\n",
    "\n",
    "# ストレージコンテキストの作成\n",
    "storage_context = StorageContext.from_defaults(persist_dir=\"./storage02\")\n",
    "# Indexのロード\n",
    "index = load_index_from_storage(storage_context)"
   ]
  },
  {
   "cell_type": "code",
   "execution_count": 17,
   "metadata": {},
   "outputs": [
    {
     "name": "stdout",
     "output_type": "stream",
     "text": [
      "お土産として購入される費目の購入率や購入者単価についての情報が提供されています。菓子類が最も購入率が高く、その他食料品・飲料・たばこ、衣類も高い購入率を示しています。国籍や地域によっても購入率に違いがあり、例えば韓国、台湾、香港、中国では菓子類が特に高い購入率を示し、米国ではその他食料品・飲料・たばこの購入率が高いことがわかります。また、宝石・貴金属の購入者単価が特に高いことも示されています。\n"
     ]
    }
   ],
   "source": [
    "response = query_engine.query(\"お土産の購入状況を教えて\")\n",
    "# 言語モデルからの回答を表示\n",
    "print(response)"
   ]
  },
  {
   "cell_type": "code",
   "execution_count": null,
   "metadata": {},
   "outputs": [],
   "source": []
  }
 ],
 "metadata": {
  "kernelspec": {
   "display_name": ".venv",
   "language": "python",
   "name": "python3"
  },
  "language_info": {
   "codemirror_mode": {
    "name": "ipython",
    "version": 3
   },
   "file_extension": ".py",
   "mimetype": "text/x-python",
   "name": "python",
   "nbconvert_exporter": "python",
   "pygments_lexer": "ipython3",
   "version": "3.11.7"
  },
  "orig_nbformat": 4
 },
 "nbformat": 4,
 "nbformat_minor": 2
}
