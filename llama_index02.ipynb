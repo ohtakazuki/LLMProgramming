{
 "cells": [
  {
   "attachments": {},
   "cell_type": "markdown",
   "metadata": {},
   "source": [
    "# PDFドキュメントの読込\n",
    "\n",
    "# 準備"
   ]
  },
  {
   "cell_type": "code",
   "execution_count": 6,
   "metadata": {},
   "outputs": [],
   "source": [
    "# 必要なモジュールをインポート\n",
    "import os\n",
    "from dotenv import load_dotenv\n",
    "import openai\n",
    "\n",
    "# 環境変数の読み込み\n",
    "load_dotenv()\n",
    "os.environ['OPENAI_API_KEY']  = os.environ['API_KEY']\n",
    "openai.api_key = os.environ['API_KEY'] # これを追記しないとエラーになる"
   ]
  },
  {
   "attachments": {},
   "cell_type": "markdown",
   "metadata": {},
   "source": [
    "# Indexの構築"
   ]
  },
  {
   "cell_type": "code",
   "execution_count": 7,
   "metadata": {},
   "outputs": [],
   "source": [
    "from pathlib import Path\n",
    "from llama_index import download_loader\n",
    "\n",
    "# PDFReaderの取得\n",
    "PDFReader = download_loader(\"PDFReader\")\n",
    "\n",
    "# PDFドキュメントからテキスト情報を読込\n",
    "loader = PDFReader()\n",
    "documents = loader.load_data(file=Path('./data2/001615363.pdf'))"
   ]
  },
  {
   "cell_type": "code",
   "execution_count": 9,
   "metadata": {},
   "outputs": [],
   "source": [
    "from llama_index.node_parser import SimpleNodeParser\n",
    "from llama_index.langchain_helpers.text_splitter import TokenTextSplitter\n",
    "from llama_index.constants import DEFAULT_CHUNK_OVERLAP, DEFAULT_CHUNK_SIZE\n",
    "import tiktoken\n",
    "from llama_index.llms import OpenAI\n",
    "from llama_index import ServiceContext\n",
    "from llama_index import VectorStoreIndex\n",
    "\n",
    "# テキスト分割の指定\n",
    "text_splitter = TokenTextSplitter(\n",
    "    separator=\"。\",\n",
    "    chunk_size=DEFAULT_CHUNK_SIZE,\n",
    "    chunk_overlap=DEFAULT_CHUNK_OVERLAP,\n",
    "    tokenizer=tiktoken.get_encoding(\"cl100k_base\").encode)\n",
    "\n",
    "# NodeParserの作成\n",
    "node_parser = SimpleNodeParser(text_splitter=text_splitter)\n",
    "\n",
    "# 言語モデルの指定\n",
    "llm = OpenAI(model='gpt-3.5-turbo', temperature=1.2)\n",
    "\n",
    "# サービスコンテキストの作成\n",
    "service_context = ServiceContext.from_defaults(llm=llm, node_parser=node_parser)\n",
    "\n",
    "# Indexの構築\n",
    "index = VectorStoreIndex.from_documents(documents, service_context=service_context)"
   ]
  },
  {
   "cell_type": "code",
   "execution_count": 38,
   "metadata": {},
   "outputs": [
    {
     "name": "stdout",
     "output_type": "stream",
     "text": [
      "<Encoding 'cl100k_base'>\n"
     ]
    }
   ],
   "source": [
    "# 参考：言語モデルのエンコーディングを調べる\n",
    "import tiktoken\n",
    "print(tiktoken.encoding_for_model('gpt-3.5-turbo'))"
   ]
  },
  {
   "attachments": {},
   "cell_type": "markdown",
   "metadata": {},
   "source": [
    "# Query Engineの作成"
   ]
  },
  {
   "cell_type": "code",
   "execution_count": 33,
   "metadata": {},
   "outputs": [],
   "source": [
    "from llama_index import QuestionAnswerPrompt\n",
    "\n",
    "# テンプレートのカスタマイズ\n",
    "QA_TEMPLATE= (\n",
    "    \"コンテキスト情報は以下のとおりです。 \\n\"\n",
    "    \"---------------------\\n\"\n",
    "    \"{context_str}\"\n",
    "    \"\\n---------------------\\n\"\n",
    "    \"事前知識ではなくコンテキスト情報が与えられた場合, \"\n",
    "    \"日本語で質問に答えてください: {query_str}\\n\"\n",
    ")\n",
    "\n",
    "# Query Engineの作成\n",
    "query_engine = index.as_query_engine(\n",
    "    service_context=service_context,\n",
    "    similarity_top_k=3,\n",
    "    streaming=True,\n",
    "    text_qa_template=QuestionAnswerPrompt(QA_TEMPLATE),\n",
    ")"
   ]
  },
  {
   "attachments": {},
   "cell_type": "markdown",
   "metadata": {},
   "source": [
    "# ユーザーからの質問に回答"
   ]
  },
  {
   "cell_type": "code",
   "execution_count": 35,
   "metadata": {},
   "outputs": [
    {
     "name": "stdout",
     "output_type": "stream",
     "text": [
      "訪日外国人のお土産の購入状況は、以下のとおりです。\n",
      "\n",
      "1. 菓子類を購入した人の割合は70.4％です。 \n",
      "2. その他に、食料品・飲料・たばこ（43.4％）と衣類（33.8％）も購入されています。 \n",
      "3. 国籍別では、韓国、台湾、香港、中国の訪日外国人が特に菓子類を多く購入しています。 \n",
      "4. 宝石・貴金属の購入者単価は最も高く、8.3万円です。台湾と香港の訪日外国人が比較的高額な購入をしています。"
     ]
    }
   ],
   "source": [
    "response = query_engine.query(\"お土産の購入状況を教えて\")\n",
    "# 言語モデルからの回答を表示\n",
    "response.print_response_stream()"
   ]
  },
  {
   "cell_type": "code",
   "execution_count": 36,
   "metadata": {},
   "outputs": [
    {
     "name": "stdout",
     "output_type": "stream",
     "text": [
      "> Source (Node id: b585c7e0-df7a-481e-8eb9-d9422d411c34): 訪日外国人消費動向調査  \n",
      " \n",
      "20 ３．土産品の購入実態  \n",
      " \n",
      "（１） 費目別購入率 \n",
      " 費目別の 購入率（その費目を購入した人の\n",
      "割合）は「菓子類」 （ 70.4％）、「その他食\n",
      "料品・...\n",
      "\n",
      "> Source (Node id: 84e4e253-3a8c-428b-abc6-9b4cd9db3b19): 訪日外国人消費動向調査 。 。38 。 （３）買物場所 。百貨店・デパート 。原則として百貨店協会加盟の店舗 。家電量販店 。PCやカメラ、電気製品を専門に販売する店舗 。ファッション専門店 。...\n",
      "\n",
      "> Source (Node id: 88d8dfca-437b-439a-ad3e-bb4da7019dcb): 。  図表3-1 買物代の費目別購入率および購入者単価  （主要国籍･地域別 、全目的） 。図表3-2 買物代の費目別購入率および 購入者単価  （主要国籍･地域別 、観光・レジャー目的 ） 。...\n"
     ]
    }
   ],
   "source": [
    "# 出典を表示\n",
    "print(response.get_formatted_sources())"
   ]
  },
  {
   "attachments": {},
   "cell_type": "markdown",
   "metadata": {},
   "source": [
    "# 詳細なログの表示"
   ]
  },
  {
   "cell_type": "code",
   "execution_count": 25,
   "metadata": {},
   "outputs": [],
   "source": [
    "import logging\n",
    "import sys\n",
    "\n",
    "logging.basicConfig(stream=sys.stdout, level=logging.DEBUG)\n",
    "logging.getLogger().addHandler(logging.StreamHandler(stream=sys.stdout))"
   ]
  },
  {
   "cell_type": "code",
   "execution_count": 26,
   "metadata": {},
   "outputs": [
    {
     "name": "stdout",
     "output_type": "stream",
     "text": [
      "DEBUG:openai:message='Request to OpenAI API' method=post path=https://api.openai.com/v1/embeddings\n",
      "message='Request to OpenAI API' method=post path=https://api.openai.com/v1/embeddings\n",
      "DEBUG:openai:api_version=None data='{\"input\": [\"\\\\u304a\\\\u571f\\\\u7523\\\\u306e\\\\u8cfc\\\\u5165\\\\u72b6\\\\u6cc1\\\\u3092\\\\u6559\\\\u3048\\\\u3066\"], \"model\": \"text-embedding-ada-002\", \"encoding_format\": \"base64\"}' message='Post details'\n",
      "api_version=None data='{\"input\": [\"\\\\u304a\\\\u571f\\\\u7523\\\\u306e\\\\u8cfc\\\\u5165\\\\u72b6\\\\u6cc1\\\\u3092\\\\u6559\\\\u3048\\\\u3066\"], \"model\": \"text-embedding-ada-002\", \"encoding_format\": \"base64\"}' message='Post details'\n",
      "DEBUG:urllib3.connectionpool:https://api.openai.com:443 \"POST /v1/embeddings HTTP/1.1\" 200 None\n",
      "https://api.openai.com:443 \"POST /v1/embeddings HTTP/1.1\" 200 None\n",
      "DEBUG:openai:message='OpenAI API response' path=https://api.openai.com/v1/embeddings processing_ms=133 request_id=c9963cf7bb9e7e9395555e381f901c7c response_code=200\n",
      "message='OpenAI API response' path=https://api.openai.com/v1/embeddings processing_ms=133 request_id=c9963cf7bb9e7e9395555e381f901c7c response_code=200\n",
      "DEBUG:llama_index.indices.utils:> Top 2 nodes:\n",
      "> [Node b585c7e0-df7a-481e-8eb9-d9422d411c34] [Similarity score:             0.819251] 訪日外国人消費動向調査  \n",
      " \n",
      "20 ３．土産品の購入実態  \n",
      " \n",
      "（１） 費目別購入率 \n",
      " 費目別の 購入率（その費目を購入した人の\n",
      "割合）は「菓子類」 （ 70.4％）、「その他食\n",
      "料品・...\n",
      "> [Node 84e4e253-3a8c-428b-abc6-9b4cd9db3b19] [Similarity score:             0.812147] 訪日外国人消費動向調査 。 。38 。 （３）買物場所 。百貨店・デパート 。原則として百貨店協会加盟の店舗 。家電量販店 。PCやカメラ、電気製品を専門に販売する店舗 。ファッション専門店 。...\n",
      "> Top 2 nodes:\n",
      "> [Node b585c7e0-df7a-481e-8eb9-d9422d411c34] [Similarity score:             0.819251] 訪日外国人消費動向調査  \n",
      " \n",
      "20 ３．土産品の購入実態  \n",
      " \n",
      "（１） 費目別購入率 \n",
      " 費目別の 購入率（その費目を購入した人の\n",
      "割合）は「菓子類」 （ 70.4％）、「その他食\n",
      "料品・...\n",
      "> [Node 84e4e253-3a8c-428b-abc6-9b4cd9db3b19] [Similarity score:             0.812147] 訪日外国人消費動向調査 。 。38 。 （３）買物場所 。百貨店・デパート 。原則として百貨店協会加盟の店舗 。家電量販店 。PCやカメラ、電気製品を専門に販売する店舗 。ファッション専門店 。...\n",
      "DEBUG:openai:message='Request to OpenAI API' method=post path=https://api.openai.com/v1/chat/completions\n",
      "message='Request to OpenAI API' method=post path=https://api.openai.com/v1/chat/completions\n",
      "DEBUG:openai:api_version=None data='{\"messages\": [{\"role\": \"user\", \"content\": \"\\\\u30b3\\\\u30f3\\\\u30c6\\\\u30ad\\\\u30b9\\\\u30c8\\\\u60c5\\\\u5831\\\\u306f\\\\u4ee5\\\\u4e0b\\\\u306e\\\\u3068\\\\u304a\\\\u308a\\\\u3067\\\\u3059\\\\u3002 \\\\n---------------------\\\\npage_label: 22\\\\nfile_name: 001615363.pdf\\\\n\\\\n\\\\u8a2a\\\\u65e5\\\\u5916\\\\u56fd\\\\u4eba\\\\u6d88\\\\u8cbb\\\\u52d5\\\\u5411\\\\u8abf\\\\u67fb  \\\\n \\\\n20 \\\\uff13\\\\uff0e\\\\u571f\\\\u7523\\\\u54c1\\\\u306e\\\\u8cfc\\\\u5165\\\\u5b9f\\\\u614b  \\\\n \\\\n\\\\uff08\\\\uff11\\\\uff09 \\\\u8cbb\\\\u76ee\\\\u5225\\\\u8cfc\\\\u5165\\\\u7387 \\\\n\\\\uf06c \\\\u8cbb\\\\u76ee\\\\u5225\\\\u306e \\\\u8cfc\\\\u5165\\\\u7387\\\\uff08\\\\u305d\\\\u306e\\\\u8cbb\\\\u76ee\\\\u3092\\\\u8cfc\\\\u5165\\\\u3057\\\\u305f\\\\u4eba\\\\u306e\\\\n\\\\u5272\\\\u5408\\\\uff09\\\\u306f\\\\u300c\\\\u83d3\\\\u5b50\\\\u985e\\\\u300d \\\\uff08 70.4\\\\uff05\\\\uff09\\\\u3001\\\\u300c\\\\u305d\\\\u306e\\\\u4ed6\\\\u98df\\\\n\\\\u6599\\\\u54c1\\\\u30fb\\\\u98f2\\\\u6599\\\\u30fb\\\\u305f\\\\u3070\\\\u3053\\\\u300d \\\\uff08 43.4\\\\uff05\\\\uff09\\\\u3001 \\\\u300c\\\\u8863\\\\u985e\\\\u300d\\\\n\\\\uff0833.8\\\\uff05\\\\uff09\\\\u306e\\\\u9806\\\\u3067\\\\u9ad8 \\\\u3044\\\\uff08\\\\u56f3\\\\u88683-1\\\\uff09\\\\u3002 \\\\n\\\\uf06c \\\\u56fd\\\\u7c4d\\\\u30fb\\\\u5730\\\\u57df\\\\u5225\\\\u3067 \\\\u6700\\\\u3082\\\\u8cfc\\\\u5165\\\\u7387\\\\u304c \\\\u9ad8\\\\u3044\\\\u8cbb\\\\u76ee\\\\u306f \\\\u3001\\\\n\\\\u97d3\\\\u56fd\\\\u3001\\\\u53f0\\\\u6e7e\\\\u3001\\\\u9999\\\\u6e2f \\\\u3001\\\\u4e2d\\\\u56fd\\\\u3067\\\\u300c\\\\u83d3\\\\u5b50\\\\u985e\\\\u300d \\\\uff08 \\\\u305d\\\\u308c\\\\n\\\\u305e\\\\u308c82.9\\\\uff05\\\\u300172.9\\\\uff05\\\\u300163.3\\\\uff05\\\\u300173.1\\\\uff05\\\\uff09\\\\u3001\\\\n\\\\u7c73\\\\u56fd\\\\u3067\\\\u300c\\\\u305d\\\\u306e\\\\u4ed6\\\\u98df\\\\u6599\\\\u54c1\\\\u30fb\\\\u98f2\\\\u6599\\\\u30fb\\\\u305f\\\\u3070\\\\u3053\\\\u300d\\\\n\\\\uff0854.1\\\\uff05\\\\uff09\\\\u3068\\\\u306a\\\\u3063\\\\u3066\\\\u3044\\\\u308b \\\\u3002  \\\\n \\\\n\\\\uff08\\\\uff12\\\\uff09\\\\u8cbb\\\\u76ee\\\\u5225\\\\u8cfc\\\\u5165\\\\u8005\\\\u5358\\\\u4fa1  \\\\n\\\\uf06c \\\\u8cbb\\\\u76ee\\\\u5225\\\\u306e\\\\u8cfc\\\\u5165\\\\u8005\\\\u5358\\\\u4fa1 \\\\uff08\\\\u305d\\\\u306e\\\\u8cbb\\\\u76ee\\\\u3092\\\\u8cfc\\\\u5165\\\\u3057\\\\n\\\\u305f\\\\u4eba\\\\u306b\\\\u304a\\\\u3051\\\\u308b\\\\u5f53\\\\u8a72\\\\u8cbb\\\\u76ee\\\\u306e 1\\\\u4eba\\\\u5f53\\\\u305f\\\\u308a\\\\u5e73\\\\u5747\\\\n\\\\u652f\\\\u51fa\\\\uff09\\\\u306f\\\\u3001\\\\u300c \\\\u5b9d\\\\u77f3\\\\u30fb\\\\u8cb4\\\\u91d1\\\\u5c5e \\\\u300d\\\\u304c8.3\\\\u4e07\\\\u5186\\\\n\\\\u3068\\\\u6700\\\\u3082\\\\u9ad8\\\\u3044\\\\uff08\\\\u56f3\\\\u8868 3-1\\\\uff09\\\\u3002 \\\\n\\\\uf06c \\\\u56fd\\\\u7c4d\\\\u30fb\\\\u5730\\\\u57df\\\\u5225\\\\u3067\\\\u306f \\\\u3001\\\\u53f0\\\\u6e7e\\\\u3068\\\\u9999\\\\u6e2f\\\\u306e\\\\u300c\\\\u5b9d\\\\n\\\\u77f3\\\\u30fb\\\\u8cb4\\\\u91d1\\\\u5c5e \\\\u300d\\\\uff08\\\\u305d\\\\u308c\\\\u305e\\\\u308c 19.9\\\\u4e07\\\\u5186\\\\u3001\\\\n16.6\\\\u4e07\\\\u5186\\\\uff09\\\\u304c\\\\u4ed6\\\\u306e\\\\u56fd\\\\u7c4d\\\\u30fb\\\\u5730\\\\u57df\\\\u306b\\\\u6bd4\\\\u3079\\\\u9ad8\\\\n\\\\u3044\\\\u3002\\\\n\\\\npage_label: 40\\\\nfile_name: 001615363.pdf\\\\n\\\\n\\\\u8a2a\\\\u65e5\\\\u5916\\\\u56fd\\\\u4eba\\\\u6d88\\\\u8cbb\\\\u52d5\\\\u5411\\\\u8abf\\\\u67fb \\\\u3002 \\\\u300238 \\\\u3002 \\\\uff08\\\\uff13\\\\uff09\\\\u8cb7\\\\u7269\\\\u5834\\\\u6240 \\\\u3002\\\\u767e\\\\u8ca8\\\\u5e97\\\\u30fb\\\\u30c7\\\\u30d1\\\\u30fc\\\\u30c8 \\\\u3002\\\\u539f\\\\u5247\\\\u3068\\\\u3057\\\\u3066\\\\u767e\\\\u8ca8\\\\u5e97\\\\u5354\\\\u4f1a\\\\u52a0\\\\u76df\\\\u306e\\\\u5e97\\\\u8217 \\\\u3002\\\\u5bb6\\\\u96fb\\\\u91cf\\\\u8ca9\\\\u5e97 \\\\u3002PC\\\\u3084\\\\u30ab\\\\u30e1\\\\u30e9\\\\u3001\\\\u96fb\\\\u6c17\\\\u88fd\\\\u54c1\\\\u3092\\\\u5c02\\\\u9580\\\\u306b\\\\u8ca9\\\\u58f2\\\\u3059\\\\u308b\\\\u5e97\\\\u8217 \\\\u3002\\\\u30d5\\\\u30a1\\\\u30c3\\\\u30b7\\\\u30e7\\\\u30f3\\\\u5c02\\\\u9580\\\\u5e97 \\\\u3002\\\\u670d\\\\u30fb\\\\u9784\\\\u30fb\\\\u9774\\\\u30fb\\\\u30a2\\\\u30af\\\\u30bb\\\\u30b5\\\\u30ea\\\\u30fc\\\\u30fb\\\\u9ad8\\\\u7d1a\\\\u8155\\\\u6642\\\\u8a08\\\\u7b49\\\\u3002\\\\u3092\\\\u5c02\\\\u9580\\\\u306b\\\\u8ca9\\\\u58f2\\\\u3059\\\\u308b\\\\u5e97\\\\u8217 \\\\u3002100 \\\\u5186\\\\u30b7\\\\u30e7\\\\u30c3\\\\u30d7 \\\\u3002\\\\u5e97\\\\u5185\\\\u306e\\\\u5546\\\\u54c1\\\\u3092\\\\u539f\\\\u5247\\\\u3068\\\\u3057\\\\u3066 1 \\\\u70b9 100 \\\\u65e5\\\\u672c\\\\u5186\\\\u5747\\\\u3002\\\\u4e00\\\\u3067 \\\\u8ca9\\\\u58f2\\\\u3059\\\\u308b\\\\u5f62\\\\u614b\\\\u306e\\\\u5c0f\\\\u58f2\\\\u5e97 \\\\u3002\\\\u9ad8\\\\u901f\\\\u9053\\\\u8def\\\\u306e SA\\\\u30fb\\\\u9053\\\\u306e\\\\u99c5 \\\\u3002\\\\u9ad8\\\\u901f\\\\u9053\\\\u8def\\\\u306e\\\\u30b5\\\\u30fc\\\\u30d3\\\\u30b9\\\\u30a8\\\\u30ea\\\\u30a2\\\\uff08SA\\\\uff09\\\\u3084\\\\u30d1\\\\u30fc\\\\u30ad\\\\u3002\\\\u30f3\\\\u30b0\\\\u30a8\\\\u30ea\\\\u30a2\\\\uff08PA\\\\uff09\\\\u3001\\\\u56fd\\\\u571f\\\\u4ea4\\\\u901a\\\\u7701\\\\u306b\\\\u767b\\\\u9332\\\\u3055\\\\u308c\\\\u3002\\\\u3066\\\\u3044\\\\u308b\\\\u300c\\\\u9053\\\\u306e\\\\u99c5\\\\u300d \\\\u3002\\\\u89b3\\\\u5149\\\\u5730\\\\u306e\\\\u571f\\\\u7523\\\\u5e97 \\\\u3002\\\\u89b3\\\\u5149\\\\u5730\\\\u5185\\\\u306b\\\\u3042\\\\u308b\\\\u5c0f\\\\u58f2\\\\u5e97 \\\\u3002\\\\u5bbf\\\\u6cca\\\\u65bd\\\\u8a2d \\\\u3002\\\\u65c5\\\\u9928\\\\u30fb\\\\u30db\\\\u30c6\\\\u30eb\\\\u7b49\\\\u306e\\\\u9928\\\\u5185\\\\u306b\\\\u4f75\\\\u8a2d\\\\u3055\\\\u308c\\\\u3066\\\\u3044\\\\u308b\\\\u571f\\\\u7523\\\\u5e97 \\\\u3002\\\\u30b9\\\\u30fc\\\\u30d1\\\\u30fc\\\\u30de\\\\u30fc\\\\u30b1\\\\u30c3\\\\u30c8 \\\\u3002\\\\u9ad8\\\\u983b\\\\u5ea6\\\\u306b\\\\u6d88\\\\u8cbb\\\\u3055\\\\u308c\\\\u308b\\\\u98df\\\\u6599\\\\u54c1\\\\u3084\\\\u65e5\\\\u7528\\\\u54c1\\\\u7b49\\\\u3092\\\\u30bb\\\\u30eb\\\\u3002\\\\u30d5\\\\u30b5\\\\u30fc\\\\u30d3\\\\u30b9\\\\u3067\\\\u77ed\\\\u6642\\\\u9593\\\\u306b\\\\u8cb7\\\\u3048\\\\u308b\\\\u3088\\\\u3046\\\\u306b\\\\u3057\\\\u305f\\\\u5c0f\\\\u58f2\\\\u3002\\\\u5e97\\\\u8217 \\\\u3002\\\\u30b3\\\\u30f3\\\\u30d3\\\\u30cb\\\\u30a8\\\\u30f3\\\\u30b9\\\\u30b9\\\\u30c8\\\\u30a2 \\\\u3002\\\\u5e74\\\\u4e2d\\\\u7121\\\\u4f11\\\\u3067\\\\u9577\\\\u6642\\\\u9593\\\\u306e\\\\u55b6\\\\u696d\\\\u3092\\\\u884c\\\\u3044\\\\u3001\\\\u5c0f\\\\u898f\\\\u6a21\\\\u306a\\\\u3002\\\\u5e97\\\\u8217\\\\u306b\\\\u304a\\\\u3044\\\\u3066\\\\u4e3b\\\\u306b\\\\u98df\\\\u54c1\\\\u3001\\\\u65e5\\\\u7528\\\\u96d1\\\\u8ca8\\\\u7b49\\\\u591a\\\\u6570\\\\u306e\\\\u3002\\\\u54c1\\\\u7a2e\\\\u3092\\\\u6271\\\\u3046\\\\u5f62\\\\u614b\\\\u306e\\\\u5c0f\\\\u58f2\\\\u5e97 \\\\u3002\\\\u30c9\\\\u30e9\\\\u30c3\\\\u30b0\\\\u30b9\\\\u30c8\\\\u30a2 \\\\u3002\\\\u533b\\\\u85ac\\\\u54c1\\\\u3084\\\\u5316\\\\u7ca7\\\\u54c1\\\\u3001\\\\u30c8\\\\u30a4\\\\u30ec\\\\u30bf\\\\u30ea\\\\u30fc\\\\u3092\\\\u4e2d\\\\u5fc3\\\\u3068\\\\n---------------------\\\\n\\\\u4e8b\\\\u524d\\\\u77e5\\\\u8b58\\\\u3067\\\\u306f\\\\u306a\\\\u304f\\\\u30b3\\\\u30f3\\\\u30c6\\\\u30ad\\\\u30b9\\\\u30c8\\\\u60c5\\\\u5831\\\\u304c\\\\u4e0e\\\\u3048\\\\u3089\\\\u308c\\\\u305f\\\\u5834\\\\u5408, \\\\u65e5\\\\u672c\\\\u8a9e\\\\u3067\\\\u8cea\\\\u554f\\\\u306b\\\\u7b54\\\\u3048\\\\u3066\\\\u304f\\\\u3060\\\\u3055\\\\u3044: \\\\u304a\\\\u571f\\\\u7523\\\\u306e\\\\u8cfc\\\\u5165\\\\u72b6\\\\u6cc1\\\\u3092\\\\u6559\\\\u3048\\\\u3066\\\\n\"}], \"stream\": false, \"model\": \"gpt-3.5-turbo\", \"temperature\": 1.2, \"max_tokens\": null}' message='Post details'\n",
      "api_version=None data='{\"messages\": [{\"role\": \"user\", \"content\": \"\\\\u30b3\\\\u30f3\\\\u30c6\\\\u30ad\\\\u30b9\\\\u30c8\\\\u60c5\\\\u5831\\\\u306f\\\\u4ee5\\\\u4e0b\\\\u306e\\\\u3068\\\\u304a\\\\u308a\\\\u3067\\\\u3059\\\\u3002 \\\\n---------------------\\\\npage_label: 22\\\\nfile_name: 001615363.pdf\\\\n\\\\n\\\\u8a2a\\\\u65e5\\\\u5916\\\\u56fd\\\\u4eba\\\\u6d88\\\\u8cbb\\\\u52d5\\\\u5411\\\\u8abf\\\\u67fb  \\\\n \\\\n20 \\\\uff13\\\\uff0e\\\\u571f\\\\u7523\\\\u54c1\\\\u306e\\\\u8cfc\\\\u5165\\\\u5b9f\\\\u614b  \\\\n \\\\n\\\\uff08\\\\uff11\\\\uff09 \\\\u8cbb\\\\u76ee\\\\u5225\\\\u8cfc\\\\u5165\\\\u7387 \\\\n\\\\uf06c \\\\u8cbb\\\\u76ee\\\\u5225\\\\u306e \\\\u8cfc\\\\u5165\\\\u7387\\\\uff08\\\\u305d\\\\u306e\\\\u8cbb\\\\u76ee\\\\u3092\\\\u8cfc\\\\u5165\\\\u3057\\\\u305f\\\\u4eba\\\\u306e\\\\n\\\\u5272\\\\u5408\\\\uff09\\\\u306f\\\\u300c\\\\u83d3\\\\u5b50\\\\u985e\\\\u300d \\\\uff08 70.4\\\\uff05\\\\uff09\\\\u3001\\\\u300c\\\\u305d\\\\u306e\\\\u4ed6\\\\u98df\\\\n\\\\u6599\\\\u54c1\\\\u30fb\\\\u98f2\\\\u6599\\\\u30fb\\\\u305f\\\\u3070\\\\u3053\\\\u300d \\\\uff08 43.4\\\\uff05\\\\uff09\\\\u3001 \\\\u300c\\\\u8863\\\\u985e\\\\u300d\\\\n\\\\uff0833.8\\\\uff05\\\\uff09\\\\u306e\\\\u9806\\\\u3067\\\\u9ad8 \\\\u3044\\\\uff08\\\\u56f3\\\\u88683-1\\\\uff09\\\\u3002 \\\\n\\\\uf06c \\\\u56fd\\\\u7c4d\\\\u30fb\\\\u5730\\\\u57df\\\\u5225\\\\u3067 \\\\u6700\\\\u3082\\\\u8cfc\\\\u5165\\\\u7387\\\\u304c \\\\u9ad8\\\\u3044\\\\u8cbb\\\\u76ee\\\\u306f \\\\u3001\\\\n\\\\u97d3\\\\u56fd\\\\u3001\\\\u53f0\\\\u6e7e\\\\u3001\\\\u9999\\\\u6e2f \\\\u3001\\\\u4e2d\\\\u56fd\\\\u3067\\\\u300c\\\\u83d3\\\\u5b50\\\\u985e\\\\u300d \\\\uff08 \\\\u305d\\\\u308c\\\\n\\\\u305e\\\\u308c82.9\\\\uff05\\\\u300172.9\\\\uff05\\\\u300163.3\\\\uff05\\\\u300173.1\\\\uff05\\\\uff09\\\\u3001\\\\n\\\\u7c73\\\\u56fd\\\\u3067\\\\u300c\\\\u305d\\\\u306e\\\\u4ed6\\\\u98df\\\\u6599\\\\u54c1\\\\u30fb\\\\u98f2\\\\u6599\\\\u30fb\\\\u305f\\\\u3070\\\\u3053\\\\u300d\\\\n\\\\uff0854.1\\\\uff05\\\\uff09\\\\u3068\\\\u306a\\\\u3063\\\\u3066\\\\u3044\\\\u308b \\\\u3002  \\\\n \\\\n\\\\uff08\\\\uff12\\\\uff09\\\\u8cbb\\\\u76ee\\\\u5225\\\\u8cfc\\\\u5165\\\\u8005\\\\u5358\\\\u4fa1  \\\\n\\\\uf06c \\\\u8cbb\\\\u76ee\\\\u5225\\\\u306e\\\\u8cfc\\\\u5165\\\\u8005\\\\u5358\\\\u4fa1 \\\\uff08\\\\u305d\\\\u306e\\\\u8cbb\\\\u76ee\\\\u3092\\\\u8cfc\\\\u5165\\\\u3057\\\\n\\\\u305f\\\\u4eba\\\\u306b\\\\u304a\\\\u3051\\\\u308b\\\\u5f53\\\\u8a72\\\\u8cbb\\\\u76ee\\\\u306e 1\\\\u4eba\\\\u5f53\\\\u305f\\\\u308a\\\\u5e73\\\\u5747\\\\n\\\\u652f\\\\u51fa\\\\uff09\\\\u306f\\\\u3001\\\\u300c \\\\u5b9d\\\\u77f3\\\\u30fb\\\\u8cb4\\\\u91d1\\\\u5c5e \\\\u300d\\\\u304c8.3\\\\u4e07\\\\u5186\\\\n\\\\u3068\\\\u6700\\\\u3082\\\\u9ad8\\\\u3044\\\\uff08\\\\u56f3\\\\u8868 3-1\\\\uff09\\\\u3002 \\\\n\\\\uf06c \\\\u56fd\\\\u7c4d\\\\u30fb\\\\u5730\\\\u57df\\\\u5225\\\\u3067\\\\u306f \\\\u3001\\\\u53f0\\\\u6e7e\\\\u3068\\\\u9999\\\\u6e2f\\\\u306e\\\\u300c\\\\u5b9d\\\\n\\\\u77f3\\\\u30fb\\\\u8cb4\\\\u91d1\\\\u5c5e \\\\u300d\\\\uff08\\\\u305d\\\\u308c\\\\u305e\\\\u308c 19.9\\\\u4e07\\\\u5186\\\\u3001\\\\n16.6\\\\u4e07\\\\u5186\\\\uff09\\\\u304c\\\\u4ed6\\\\u306e\\\\u56fd\\\\u7c4d\\\\u30fb\\\\u5730\\\\u57df\\\\u306b\\\\u6bd4\\\\u3079\\\\u9ad8\\\\n\\\\u3044\\\\u3002\\\\n\\\\npage_label: 40\\\\nfile_name: 001615363.pdf\\\\n\\\\n\\\\u8a2a\\\\u65e5\\\\u5916\\\\u56fd\\\\u4eba\\\\u6d88\\\\u8cbb\\\\u52d5\\\\u5411\\\\u8abf\\\\u67fb \\\\u3002 \\\\u300238 \\\\u3002 \\\\uff08\\\\uff13\\\\uff09\\\\u8cb7\\\\u7269\\\\u5834\\\\u6240 \\\\u3002\\\\u767e\\\\u8ca8\\\\u5e97\\\\u30fb\\\\u30c7\\\\u30d1\\\\u30fc\\\\u30c8 \\\\u3002\\\\u539f\\\\u5247\\\\u3068\\\\u3057\\\\u3066\\\\u767e\\\\u8ca8\\\\u5e97\\\\u5354\\\\u4f1a\\\\u52a0\\\\u76df\\\\u306e\\\\u5e97\\\\u8217 \\\\u3002\\\\u5bb6\\\\u96fb\\\\u91cf\\\\u8ca9\\\\u5e97 \\\\u3002PC\\\\u3084\\\\u30ab\\\\u30e1\\\\u30e9\\\\u3001\\\\u96fb\\\\u6c17\\\\u88fd\\\\u54c1\\\\u3092\\\\u5c02\\\\u9580\\\\u306b\\\\u8ca9\\\\u58f2\\\\u3059\\\\u308b\\\\u5e97\\\\u8217 \\\\u3002\\\\u30d5\\\\u30a1\\\\u30c3\\\\u30b7\\\\u30e7\\\\u30f3\\\\u5c02\\\\u9580\\\\u5e97 \\\\u3002\\\\u670d\\\\u30fb\\\\u9784\\\\u30fb\\\\u9774\\\\u30fb\\\\u30a2\\\\u30af\\\\u30bb\\\\u30b5\\\\u30ea\\\\u30fc\\\\u30fb\\\\u9ad8\\\\u7d1a\\\\u8155\\\\u6642\\\\u8a08\\\\u7b49\\\\u3002\\\\u3092\\\\u5c02\\\\u9580\\\\u306b\\\\u8ca9\\\\u58f2\\\\u3059\\\\u308b\\\\u5e97\\\\u8217 \\\\u3002100 \\\\u5186\\\\u30b7\\\\u30e7\\\\u30c3\\\\u30d7 \\\\u3002\\\\u5e97\\\\u5185\\\\u306e\\\\u5546\\\\u54c1\\\\u3092\\\\u539f\\\\u5247\\\\u3068\\\\u3057\\\\u3066 1 \\\\u70b9 100 \\\\u65e5\\\\u672c\\\\u5186\\\\u5747\\\\u3002\\\\u4e00\\\\u3067 \\\\u8ca9\\\\u58f2\\\\u3059\\\\u308b\\\\u5f62\\\\u614b\\\\u306e\\\\u5c0f\\\\u58f2\\\\u5e97 \\\\u3002\\\\u9ad8\\\\u901f\\\\u9053\\\\u8def\\\\u306e SA\\\\u30fb\\\\u9053\\\\u306e\\\\u99c5 \\\\u3002\\\\u9ad8\\\\u901f\\\\u9053\\\\u8def\\\\u306e\\\\u30b5\\\\u30fc\\\\u30d3\\\\u30b9\\\\u30a8\\\\u30ea\\\\u30a2\\\\uff08SA\\\\uff09\\\\u3084\\\\u30d1\\\\u30fc\\\\u30ad\\\\u3002\\\\u30f3\\\\u30b0\\\\u30a8\\\\u30ea\\\\u30a2\\\\uff08PA\\\\uff09\\\\u3001\\\\u56fd\\\\u571f\\\\u4ea4\\\\u901a\\\\u7701\\\\u306b\\\\u767b\\\\u9332\\\\u3055\\\\u308c\\\\u3002\\\\u3066\\\\u3044\\\\u308b\\\\u300c\\\\u9053\\\\u306e\\\\u99c5\\\\u300d \\\\u3002\\\\u89b3\\\\u5149\\\\u5730\\\\u306e\\\\u571f\\\\u7523\\\\u5e97 \\\\u3002\\\\u89b3\\\\u5149\\\\u5730\\\\u5185\\\\u306b\\\\u3042\\\\u308b\\\\u5c0f\\\\u58f2\\\\u5e97 \\\\u3002\\\\u5bbf\\\\u6cca\\\\u65bd\\\\u8a2d \\\\u3002\\\\u65c5\\\\u9928\\\\u30fb\\\\u30db\\\\u30c6\\\\u30eb\\\\u7b49\\\\u306e\\\\u9928\\\\u5185\\\\u306b\\\\u4f75\\\\u8a2d\\\\u3055\\\\u308c\\\\u3066\\\\u3044\\\\u308b\\\\u571f\\\\u7523\\\\u5e97 \\\\u3002\\\\u30b9\\\\u30fc\\\\u30d1\\\\u30fc\\\\u30de\\\\u30fc\\\\u30b1\\\\u30c3\\\\u30c8 \\\\u3002\\\\u9ad8\\\\u983b\\\\u5ea6\\\\u306b\\\\u6d88\\\\u8cbb\\\\u3055\\\\u308c\\\\u308b\\\\u98df\\\\u6599\\\\u54c1\\\\u3084\\\\u65e5\\\\u7528\\\\u54c1\\\\u7b49\\\\u3092\\\\u30bb\\\\u30eb\\\\u3002\\\\u30d5\\\\u30b5\\\\u30fc\\\\u30d3\\\\u30b9\\\\u3067\\\\u77ed\\\\u6642\\\\u9593\\\\u306b\\\\u8cb7\\\\u3048\\\\u308b\\\\u3088\\\\u3046\\\\u306b\\\\u3057\\\\u305f\\\\u5c0f\\\\u58f2\\\\u3002\\\\u5e97\\\\u8217 \\\\u3002\\\\u30b3\\\\u30f3\\\\u30d3\\\\u30cb\\\\u30a8\\\\u30f3\\\\u30b9\\\\u30b9\\\\u30c8\\\\u30a2 \\\\u3002\\\\u5e74\\\\u4e2d\\\\u7121\\\\u4f11\\\\u3067\\\\u9577\\\\u6642\\\\u9593\\\\u306e\\\\u55b6\\\\u696d\\\\u3092\\\\u884c\\\\u3044\\\\u3001\\\\u5c0f\\\\u898f\\\\u6a21\\\\u306a\\\\u3002\\\\u5e97\\\\u8217\\\\u306b\\\\u304a\\\\u3044\\\\u3066\\\\u4e3b\\\\u306b\\\\u98df\\\\u54c1\\\\u3001\\\\u65e5\\\\u7528\\\\u96d1\\\\u8ca8\\\\u7b49\\\\u591a\\\\u6570\\\\u306e\\\\u3002\\\\u54c1\\\\u7a2e\\\\u3092\\\\u6271\\\\u3046\\\\u5f62\\\\u614b\\\\u306e\\\\u5c0f\\\\u58f2\\\\u5e97 \\\\u3002\\\\u30c9\\\\u30e9\\\\u30c3\\\\u30b0\\\\u30b9\\\\u30c8\\\\u30a2 \\\\u3002\\\\u533b\\\\u85ac\\\\u54c1\\\\u3084\\\\u5316\\\\u7ca7\\\\u54c1\\\\u3001\\\\u30c8\\\\u30a4\\\\u30ec\\\\u30bf\\\\u30ea\\\\u30fc\\\\u3092\\\\u4e2d\\\\u5fc3\\\\u3068\\\\n---------------------\\\\n\\\\u4e8b\\\\u524d\\\\u77e5\\\\u8b58\\\\u3067\\\\u306f\\\\u306a\\\\u304f\\\\u30b3\\\\u30f3\\\\u30c6\\\\u30ad\\\\u30b9\\\\u30c8\\\\u60c5\\\\u5831\\\\u304c\\\\u4e0e\\\\u3048\\\\u3089\\\\u308c\\\\u305f\\\\u5834\\\\u5408, \\\\u65e5\\\\u672c\\\\u8a9e\\\\u3067\\\\u8cea\\\\u554f\\\\u306b\\\\u7b54\\\\u3048\\\\u3066\\\\u304f\\\\u3060\\\\u3055\\\\u3044: \\\\u304a\\\\u571f\\\\u7523\\\\u306e\\\\u8cfc\\\\u5165\\\\u72b6\\\\u6cc1\\\\u3092\\\\u6559\\\\u3048\\\\u3066\\\\n\"}], \"stream\": false, \"model\": \"gpt-3.5-turbo\", \"temperature\": 1.2, \"max_tokens\": null}' message='Post details'\n",
      "DEBUG:urllib3.connectionpool:https://api.openai.com:443 \"POST /v1/chat/completions HTTP/1.1\" 200 None\n",
      "https://api.openai.com:443 \"POST /v1/chat/completions HTTP/1.1\" 200 None\n",
      "DEBUG:openai:message='OpenAI API response' path=https://api.openai.com/v1/chat/completions processing_ms=29494 request_id=8c2d1bb54e614b36749a776784f96138 response_code=200\n",
      "message='OpenAI API response' path=https://api.openai.com/v1/chat/completions processing_ms=29494 request_id=8c2d1bb54e614b36749a776784f96138 response_code=200\n",
      "DEBUG:llama_index.llm_predictor.base:お土産の購入状況については以下のような結果があります。\n",
      "- 「菓子類」は購入率が最も高く、全体の70.4%の人が購入していました。\n",
      "- 「その他食料品・飲料・たばこ」が購入率の2番目に高く、全体の43.4%の人が購入していました。\n",
      "- 「衣類」も購入率が高く、全体の33.8%の人が購入していました。\n",
      "- 国籍・地域別では、韓国、台湾、香港、中国の人々が「菓子類」を最も購入していました（それぞれの購入率は82.9%、72.9%、63.3%、73.1%）。\n",
      "- 米国の人々は「その他食料品・飲料・たばこ」を最も購入していました（購入率は54.1%）。\n",
      "- 「宝石・貴金属」の購入者単価が最も高く、1人あたりの平均支出が約8.3万円でした。\n",
      "- 台湾と香港の人々は、「宝石・貴金属」を他の国籍・地域に比べて高額で購入していました（台湾は約19.9万円、香港は約16.6万円）。\n",
      "お土産の購入状況については以下のような結果があります。\n",
      "- 「菓子類」は購入率が最も高く、全体の70.4%の人が購入していました。\n",
      "- 「その他食料品・飲料・たばこ」が購入率の2番目に高く、全体の43.4%の人が購入していました。\n",
      "- 「衣類」も購入率が高く、全体の33.8%の人が購入していました。\n",
      "- 国籍・地域別では、韓国、台湾、香港、中国の人々が「菓子類」を最も購入していました（それぞれの購入率は82.9%、72.9%、63.3%、73.1%）。\n",
      "- 米国の人々は「その他食料品・飲料・たばこ」を最も購入していました（購入率は54.1%）。\n",
      "- 「宝石・貴金属」の購入者単価が最も高く、1人あたりの平均支出が約8.3万円でした。\n",
      "- 台湾と香港の人々は、「宝石・貴金属」を他の国籍・地域に比べて高額で購入していました（台湾は約19.9万円、香港は約16.6万円）。\n",
      "お土産の購入状況については以下のような結果があります。\n",
      "- 「菓子類」は購入率が最も高く、全体の70.4%の人が購入していました。\n",
      "- 「その他食料品・飲料・たばこ」が購入率の2番目に高く、全体の43.4%の人が購入していました。\n",
      "- 「衣類」も購入率が高く、全体の33.8%の人が購入していました。\n",
      "- 国籍・地域別では、韓国、台湾、香港、中国の人々が「菓子類」を最も購入していました（それぞれの購入率は82.9%、72.9%、63.3%、73.1%）。\n",
      "- 米国の人々は「その他食料品・飲料・たばこ」を最も購入していました（購入率は54.1%）。\n",
      "- 「宝石・貴金属」の購入者単価が最も高く、1人あたりの平均支出が約8.3万円でした。\n",
      "- 台湾と香港の人々は、「宝石・貴金属」を他の国籍・地域に比べて高額で購入していました（台湾は約19.9万円、香港は約16.6万円）。\n"
     ]
    }
   ],
   "source": [
    "response = query_engine.query(\"お土産の購入状況を教えて\")\n",
    "# 言語モデルからの回答を表示\n",
    "print(response)"
   ]
  },
  {
   "cell_type": "code",
   "execution_count": 29,
   "metadata": {},
   "outputs": [],
   "source": [
    "# もとに戻す（ログを出力しない）\n",
    "logging.basicConfig(stream=sys.stdout, level=logging.WARNING)\n",
    "# ログハンドラー出力を除去\n",
    "while len(logging.getLogger().handlers) > 0:\n",
    "  logging.getLogger().removeHandler(logging.getLogger().handlers[0])"
   ]
  },
  {
   "attachments": {},
   "cell_type": "markdown",
   "metadata": {},
   "source": [
    "# ストレージに保存"
   ]
  },
  {
   "cell_type": "code",
   "execution_count": 27,
   "metadata": {},
   "outputs": [
    {
     "name": "stdout",
     "output_type": "stream",
     "text": [
      "DEBUG:fsspec.local:open file: c:/sample/storage02/docstore.json\n",
      "open file: c:/sample/storage02/docstore.json\n",
      "DEBUG:fsspec.local:open file: c:/sample/storage02/index_store.json\n",
      "open file: c:/sample/storage02/index_store.json\n",
      "DEBUG:fsspec.local:open file: c:/sample/storage02/vector_store.json\n",
      "open file: c:/sample/storage02/vector_store.json\n",
      "DEBUG:fsspec.local:open file: c:/sample/storage02/graph_store.json\n",
      "open file: c:/sample/storage02/graph_store.json\n"
     ]
    }
   ],
   "source": [
    "# ストレージに保存\n",
    "index.storage_context.persist(\"./storage02\")"
   ]
  },
  {
   "cell_type": "code",
   "execution_count": 28,
   "metadata": {},
   "outputs": [
    {
     "name": "stdout",
     "output_type": "stream",
     "text": [
      "DEBUG:llama_index.storage.kvstore.simple_kvstore:Loading llama_index.storage.kvstore.simple_kvstore from ./storage02\\docstore.json.\n",
      "Loading llama_index.storage.kvstore.simple_kvstore from ./storage02\\docstore.json.\n",
      "DEBUG:fsspec.local:open file: c:/sample/storage02/docstore.json\n",
      "open file: c:/sample/storage02/docstore.json\n",
      "DEBUG:llama_index.storage.kvstore.simple_kvstore:Loading llama_index.storage.kvstore.simple_kvstore from ./storage02\\index_store.json.\n",
      "Loading llama_index.storage.kvstore.simple_kvstore from ./storage02\\index_store.json.\n",
      "DEBUG:fsspec.local:open file: c:/sample/storage02/index_store.json\n",
      "open file: c:/sample/storage02/index_store.json\n",
      "DEBUG:llama_index.vector_stores.simple:Loading llama_index.vector_stores.simple from ./storage02\\vector_store.json.\n",
      "Loading llama_index.vector_stores.simple from ./storage02\\vector_store.json.\n",
      "DEBUG:fsspec.local:open file: c:/sample/storage02/vector_store.json\n",
      "open file: c:/sample/storage02/vector_store.json\n",
      "DEBUG:llama_index.graph_stores.simple:Loading llama_index.graph_stores.simple from ./storage02\\graph_store.json.\n",
      "Loading llama_index.graph_stores.simple from ./storage02\\graph_store.json.\n",
      "DEBUG:fsspec.local:open file: c:/sample/storage02/graph_store.json\n",
      "open file: c:/sample/storage02/graph_store.json\n",
      "INFO:llama_index.indices.loading:Loading all indices.\n",
      "Loading all indices.\n"
     ]
    }
   ],
   "source": [
    "from llama_index import StorageContext, load_index_from_storage\n",
    "\n",
    "# ストレージコンテキストの作成\n",
    "storage_context = StorageContext.from_defaults(persist_dir=\"./storage02\")\n",
    "# Indexのロード\n",
    "index = load_index_from_storage(storage_context)"
   ]
  },
  {
   "cell_type": "code",
   "execution_count": 30,
   "metadata": {},
   "outputs": [
    {
     "name": "stdout",
     "output_type": "stream",
     "text": [
      "コンテキスト情報によれば、訪日外国人のお土産の購入状況について述べられています。図表3-1によれば、外国人観光客の購入率が高い費目は「菓子類」（70.4%）、次に「その他食料品・飲料・たばこ」（43.4%）、そして「衣類」（33.8%）です。国籍・地域別で最も高い購入率が認められるのは、韓国、台湾、香港、中国の外国人客が「菓子類」を主に購入しており（それぞれ82.9%、72.9%、63.3%、73.1%）、米国の外国人客は「その他食料品・飲料・たばこ」を主に購入しています（54.1%）。また、購入者単価（1人当たりの平均支出）については、「宝石・貴金属」が最も高く（8.3万円）、台湾と香港の外国人客は他の国籍・地域に比べて「宝石・貴金属」をより高い金額で購入しています（それぞれ19.9万円、16.6万円）。\n"
     ]
    }
   ],
   "source": [
    "response = query_engine.query(\"お土産の購入状況を教えて\")\n",
    "# 言語モデルからの回答を表示\n",
    "print(response)"
   ]
  },
  {
   "cell_type": "code",
   "execution_count": null,
   "metadata": {},
   "outputs": [],
   "source": []
  }
 ],
 "metadata": {
  "kernelspec": {
   "display_name": ".venv",
   "language": "python",
   "name": "python3"
  },
  "language_info": {
   "codemirror_mode": {
    "name": "ipython",
    "version": 3
   },
   "file_extension": ".py",
   "mimetype": "text/x-python",
   "name": "python",
   "nbconvert_exporter": "python",
   "pygments_lexer": "ipython3",
   "version": "3.11.4"
  },
  "orig_nbformat": 4
 },
 "nbformat": 4,
 "nbformat_minor": 2
}
