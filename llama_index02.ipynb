{
 "cells": [
  {
   "attachments": {},
   "cell_type": "markdown",
   "metadata": {},
   "source": [
    "# PDFドキュメントの読込\n",
    "\n",
    "# 準備"
   ]
  },
  {
   "cell_type": "code",
   "execution_count": 1,
   "metadata": {},
   "outputs": [],
   "source": [
    "# 必要なモジュールをインポート\n",
    "import os\n",
    "from dotenv import load_dotenv\n",
    "\n",
    "# 環境変数の読み込み\n",
    "load_dotenv()\n",
    "os.environ['OPENAI_API_KEY']  = os.environ['API_KEY']"
   ]
  },
  {
   "attachments": {},
   "cell_type": "markdown",
   "metadata": {},
   "source": [
    "# Indexの構築"
   ]
  },
  {
   "cell_type": "code",
   "execution_count": 2,
   "metadata": {},
   "outputs": [],
   "source": [
    "from pathlib import Path\n",
    "from llama_index.readers.file import PDFReader\n",
    "\n",
    "# PDFドキュメントからテキスト情報を読込\n",
    "loader = PDFReader()\n",
    "documents = loader.load_data(file=Path('./data2/001615363.pdf'))"
   ]
  },
  {
   "cell_type": "code",
   "execution_count": 3,
   "metadata": {},
   "outputs": [],
   "source": [
    "from llama_index.core.text_splitter import SentenceSplitter\n",
    "import tiktoken\n",
    "\n",
    "# NodeParserの作成\n",
    "node_parser = SentenceSplitter(\n",
    "    separator=\"。\",\n",
    "    chunk_size=1024,\n",
    "    chunk_overlap=20,\n",
    "    tokenizer=tiktoken.encoding_for_model(\"gpt-3.5-turbo-1106\").encode)"
   ]
  },
  {
   "cell_type": "code",
   "execution_count": 6,
   "metadata": {},
   "outputs": [],
   "source": [
    "from llama_index.llms.openai import OpenAI\n",
    "from llama_index.core import VectorStoreIndex\n",
    "from llama_index.core import Settings\n",
    "\n",
    "# 言語モデルの指定\n",
    "llm = OpenAI(model='gpt-3.5-turbo-1106', temperature=1.2)\n",
    "\n",
    "# 設定に反映\n",
    "Settings.llm = llm\n",
    "Settings.node_parser = node_parser\n",
    "\n",
    "# Indexの構築\n",
    "index = VectorStoreIndex.from_documents(documents)"
   ]
  },
  {
   "cell_type": "code",
   "execution_count": 7,
   "metadata": {},
   "outputs": [
    {
     "name": "stdout",
     "output_type": "stream",
     "text": [
      "<bound method Encoding.encode of <Encoding 'cl100k_base'>>\n"
     ]
    }
   ],
   "source": [
    "# 参考：言語モデルのエンコーディングを調べる\n",
    "import tiktoken\n",
    "print(tiktoken.encoding_for_model('gpt-3.5-turbo-1106').encode)"
   ]
  },
  {
   "attachments": {},
   "cell_type": "markdown",
   "metadata": {},
   "source": [
    "# テンプレートの作成"
   ]
  },
  {
   "cell_type": "code",
   "execution_count": 8,
   "metadata": {},
   "outputs": [],
   "source": [
    "# テキストQAプロンプトの作成\n",
    "from llama_index.core.llms import ChatMessage, MessageRole\n",
    "from llama_index.core import ChatPromptTemplate\n",
    "\n",
    "# システムプロンプト\n",
    "system_prompt = ChatMessage(\n",
    "    content=(\"\"\"\n",
    "        あなたは世界中で信頼されているQAシステムです。\n",
    "        事前知識ではなく、常に提供されたコンテキスト情報を使用してクエリに回答してください。\n",
    "        従うべきいくつかのルール:\n",
    "        1. 回答内で指定されたコンテキストを直接参照しないでください。\n",
    "        2. 「コンテキストに基づいて、...」や「コンテキスト情報は...」、またはそれに類するような記述は避けてください。\"\"\"),\n",
    "    role=MessageRole.SYSTEM,\n",
    ")\n",
    "\n",
    "# メッセージテンプレート\n",
    "message_templates = [\n",
    "    system_prompt,\n",
    "    ChatMessage(\n",
    "        content=(\"\"\"\n",
    "            コンテキスト情報は以下のとおりです。\n",
    "            ---------------------\n",
    "            {context_str}\n",
    "            ---------------------\n",
    "            事前知識ではなくコンテキスト情報を考慮して、クエリに答えます。\n",
    "            Query: {query_str}\n",
    "            Answer: \"\"\"),\n",
    "        role=MessageRole.USER,\n",
    "    ),\n",
    "]\n",
    "\n",
    "# テキストQAプロンプト\n",
    "text_qa_template = ChatPromptTemplate(message_templates=message_templates)"
   ]
  },
  {
   "cell_type": "code",
   "execution_count": 9,
   "metadata": {},
   "outputs": [],
   "source": [
    "# リファインテンプレートの作成\n",
    "refine_message_templates = [\n",
    "    ChatMessage(\n",
    "        content=(\"\"\"\n",
    "            あなたは、既存の回答を改良する際に2つのモードで厳密に動作するQAシステムのエキスパートです。\n",
    "            1. 新しいコンテキストを使用して元の回答を**書き直す**。\n",
    "            2. 新しいコンテキストが役に立たない場合は、元の回答を**繰り返す**。\n",
    "            回答内で元の回答やコンテキストを直接参照しないでください。\n",
    "            疑問がある場合は、元の答えを繰り返してください。\n",
    "            New Context: {context_msg}\n",
    "            Query: {query_str}\n",
    "            Original Answer: {existing_answer}\n",
    "            New Answer: \"\"\"),\n",
    "        role=MessageRole.USER,\n",
    "    )\n",
    "]\n",
    "\n",
    "# リファインテンプレート\n",
    "refine_template = ChatPromptTemplate(message_templates=refine_message_templates)"
   ]
  },
  {
   "cell_type": "markdown",
   "metadata": {},
   "source": [
    "# Query Engineの作成"
   ]
  },
  {
   "cell_type": "code",
   "execution_count": 10,
   "metadata": {},
   "outputs": [],
   "source": [
    "# Query Engineの作成\n",
    "query_engine = index.as_query_engine(\n",
    "    similarity_top_k=3,\n",
    "    streaming=True,\n",
    "    text_qa_template=text_qa_template,\n",
    "    refine_template=refine_template,\n",
    ")"
   ]
  },
  {
   "attachments": {},
   "cell_type": "markdown",
   "metadata": {},
   "source": [
    "# ユーザーからの質問に回答"
   ]
  },
  {
   "cell_type": "code",
   "execution_count": 11,
   "metadata": {},
   "outputs": [
    {
     "name": "stdout",
     "output_type": "stream",
     "text": [
      "訪日外国人消費動向調査によると、お土産の購入状況は次のようになっています。費目別の購入率では、「菓子類」が最も高い割合で購入されており、「その他食料品・飲料・たばこ」、「衣類」の順で高いことが示されています。さらに、国籍・地域別では、韓国、台湾、香港、中国からの訪日外国人が「菓子類」を特に多く購入しています。また、費目別の購入者単価では、「宝石・貴金属」が最も高いことが分かります。\n",
      "\n",
      "消費税免税手続きの実施状況では、全体の40.3％の訪日外国人が消費税免税手続きを実施しており、台湾と香港からの訪日外国人ではその割合が60％を超えています。費目別にみると、「衣類」が最も高く免税購入されており、次いで「菓子類」、「医薬品」、「靴・かばん・革製品」の割合が高いことがわかります。\n",
      "\n",
      "したがって、お土産の購入状況は費目別によって異なり、免税手続きの実施状況も費目別で変化があります。"
     ]
    }
   ],
   "source": [
    "response = query_engine.query(\"お土産の購入状況を教えて\")\n",
    "# 言語モデルからの回答を表示\n",
    "response.print_response_stream()"
   ]
  },
  {
   "cell_type": "code",
   "execution_count": 12,
   "metadata": {},
   "outputs": [
    {
     "name": "stdout",
     "output_type": "stream",
     "text": [
      "> Source (Node id: 0b5e168e-704b-422e-a4f4-750b25db6600): 訪日外国人消費動向調査  \n",
      " \n",
      "20 ３．土産品の購入実態  \n",
      " \n",
      "（１） 費目別購入率 \n",
      " 費目別の 購入率（その費目を購入した人の\n",
      "割合）は「菓子類」 （ 70.4％）、「その他食\n",
      "料品・...\n",
      "\n",
      "> Source (Node id: 10ffe99b-8cfa-488d-a9d8-8174f9d2ace9): 訪日外国人消費動向調査 \n",
      " \n",
      "38 \n",
      " （３）買物場所 \n",
      "百貨店・デパート \n",
      "原則として百貨店協会加盟の店舗 \n",
      "家電量販店 \n",
      "PCやカメラ、電気製品を専門に販売する店舗 \n",
      "ファッション専門店 \n",
      "...\n",
      "\n",
      "> Source (Node id: a8ad2164-4db7-4ea3-a15e-bd1d4a803ac2): 21 （３）消費税免税手続き の実施状況  \n",
      " 今回の日本滞在中に 消費税免税手続き\n",
      "を実施した人の割合 は全体の40.3％で\n",
      "ある（図表 3-3）。 \n",
      " 国籍･地域別に みると、 台湾と香...\n"
     ]
    }
   ],
   "source": [
    "# 出典を表示\n",
    "print(response.get_formatted_sources())"
   ]
  },
  {
   "attachments": {},
   "cell_type": "markdown",
   "metadata": {},
   "source": [
    "# 詳細なログの表示"
   ]
  },
  {
   "cell_type": "code",
   "execution_count": 13,
   "metadata": {},
   "outputs": [],
   "source": [
    "import logging\n",
    "import sys\n",
    "\n",
    "logging.basicConfig(stream=sys.stdout, level=logging.DEBUG)\n",
    "logging.getLogger().addHandler(logging.StreamHandler(stream=sys.stdout))"
   ]
  },
  {
   "cell_type": "code",
   "execution_count": 14,
   "metadata": {},
   "outputs": [
    {
     "name": "stdout",
     "output_type": "stream",
     "text": [
      "DEBUG:openai._base_client:Request options: {'method': 'post', 'url': '/embeddings', 'files': None, 'post_parser': <function Embeddings.create.<locals>.parser at 0x30a69a0c0>, 'json_data': {'input': ['お土産の購入状況を教えて'], 'model': 'text-embedding-ada-002', 'encoding_format': 'base64'}}\n",
      "Request options: {'method': 'post', 'url': '/embeddings', 'files': None, 'post_parser': <function Embeddings.create.<locals>.parser at 0x30a69a0c0>, 'json_data': {'input': ['お土産の購入状況を教えて'], 'model': 'text-embedding-ada-002', 'encoding_format': 'base64'}}\n",
      "DEBUG:httpcore.connection:close.started\n",
      "close.started\n",
      "DEBUG:httpcore.connection:close.complete\n",
      "close.complete\n",
      "DEBUG:httpcore.connection:connect_tcp.started host='api.openai.com' port=443 local_address=None timeout=60.0 socket_options=None\n",
      "connect_tcp.started host='api.openai.com' port=443 local_address=None timeout=60.0 socket_options=None\n",
      "DEBUG:httpcore.connection:connect_tcp.complete return_value=<httpcore._backends.sync.SyncStream object at 0x1741a3dd0>\n",
      "connect_tcp.complete return_value=<httpcore._backends.sync.SyncStream object at 0x1741a3dd0>\n",
      "DEBUG:httpcore.connection:start_tls.started ssl_context=<ssl.SSLContext object at 0x30b686600> server_hostname='api.openai.com' timeout=60.0\n",
      "start_tls.started ssl_context=<ssl.SSLContext object at 0x30b686600> server_hostname='api.openai.com' timeout=60.0\n",
      "DEBUG:httpcore.connection:start_tls.complete return_value=<httpcore._backends.sync.SyncStream object at 0x308c74f90>\n",
      "start_tls.complete return_value=<httpcore._backends.sync.SyncStream object at 0x308c74f90>\n",
      "DEBUG:httpcore.http11:send_request_headers.started request=<Request [b'POST']>\n",
      "send_request_headers.started request=<Request [b'POST']>\n",
      "DEBUG:httpcore.http11:send_request_headers.complete\n",
      "send_request_headers.complete\n",
      "DEBUG:httpcore.http11:send_request_body.started request=<Request [b'POST']>\n",
      "send_request_body.started request=<Request [b'POST']>\n",
      "DEBUG:httpcore.http11:send_request_body.complete\n",
      "send_request_body.complete\n",
      "DEBUG:httpcore.http11:receive_response_headers.started request=<Request [b'POST']>\n",
      "receive_response_headers.started request=<Request [b'POST']>\n",
      "DEBUG:httpcore.http11:receive_response_headers.complete return_value=(b'HTTP/1.1', 200, b'OK', [(b'Date', b'Wed, 24 Apr 2024 07:48:36 GMT'), (b'Content-Type', b'application/json'), (b'Transfer-Encoding', b'chunked'), (b'Connection', b'keep-alive'), (b'access-control-allow-origin', b'*'), (b'openai-model', b'text-embedding-ada-002'), (b'openai-organization', b'user-mvnipnankuxxlro43mseaobj'), (b'openai-processing-ms', b'23'), (b'openai-version', b'2020-10-01'), (b'strict-transport-security', b'max-age=15724800; includeSubDomains'), (b'x-ratelimit-limit-requests', b'3000'), (b'x-ratelimit-limit-tokens', b'1000000'), (b'x-ratelimit-remaining-requests', b'2999'), (b'x-ratelimit-remaining-tokens', b'999990'), (b'x-ratelimit-reset-requests', b'20ms'), (b'x-ratelimit-reset-tokens', b'0s'), (b'x-request-id', b'req_39e33a903842d58488b51ad175ae6cb3'), (b'CF-Cache-Status', b'DYNAMIC'), (b'Server', b'cloudflare'), (b'CF-RAY', b'87947df0ef8925e9-NRT'), (b'Content-Encoding', b'gzip'), (b'alt-svc', b'h3=\":443\"; ma=86400')])\n",
      "receive_response_headers.complete return_value=(b'HTTP/1.1', 200, b'OK', [(b'Date', b'Wed, 24 Apr 2024 07:48:36 GMT'), (b'Content-Type', b'application/json'), (b'Transfer-Encoding', b'chunked'), (b'Connection', b'keep-alive'), (b'access-control-allow-origin', b'*'), (b'openai-model', b'text-embedding-ada-002'), (b'openai-organization', b'user-mvnipnankuxxlro43mseaobj'), (b'openai-processing-ms', b'23'), (b'openai-version', b'2020-10-01'), (b'strict-transport-security', b'max-age=15724800; includeSubDomains'), (b'x-ratelimit-limit-requests', b'3000'), (b'x-ratelimit-limit-tokens', b'1000000'), (b'x-ratelimit-remaining-requests', b'2999'), (b'x-ratelimit-remaining-tokens', b'999990'), (b'x-ratelimit-reset-requests', b'20ms'), (b'x-ratelimit-reset-tokens', b'0s'), (b'x-request-id', b'req_39e33a903842d58488b51ad175ae6cb3'), (b'CF-Cache-Status', b'DYNAMIC'), (b'Server', b'cloudflare'), (b'CF-RAY', b'87947df0ef8925e9-NRT'), (b'Content-Encoding', b'gzip'), (b'alt-svc', b'h3=\":443\"; ma=86400')])\n",
      "INFO:httpx:HTTP Request: POST https://api.openai.com/v1/embeddings \"HTTP/1.1 200 OK\"\n",
      "HTTP Request: POST https://api.openai.com/v1/embeddings \"HTTP/1.1 200 OK\"\n",
      "DEBUG:httpcore.http11:receive_response_body.started request=<Request [b'POST']>\n",
      "receive_response_body.started request=<Request [b'POST']>\n",
      "DEBUG:httpcore.http11:receive_response_body.complete\n",
      "receive_response_body.complete\n",
      "DEBUG:httpcore.http11:response_closed.started\n",
      "response_closed.started\n",
      "DEBUG:httpcore.http11:response_closed.complete\n",
      "response_closed.complete\n",
      "DEBUG:openai._base_client:HTTP Request: POST https://api.openai.com/v1/embeddings \"200 OK\"\n",
      "HTTP Request: POST https://api.openai.com/v1/embeddings \"200 OK\"\n",
      "DEBUG:llama_index.core.indices.utils:> Top 3 nodes:\n",
      "> [Node 0b5e168e-704b-422e-a4f4-750b25db6600] [Similarity score:             0.812826] 訪日外国人消費動向調査  \n",
      " \n",
      "20 ３．土産品の購入実態  \n",
      " \n",
      "（１） 費目別購入率 \n",
      " 費目別の 購入率（その費目を購入した人の\n",
      "割合）は「菓子類」 （ 70.4％）、「その他食\n",
      "料品・...\n",
      "> [Node 10ffe99b-8cfa-488d-a9d8-8174f9d2ace9] [Similarity score:             0.805568] 訪日外国人消費動向調査 \n",
      " \n",
      "38 \n",
      " （３）買物場所 \n",
      "百貨店・デパート \n",
      "原則として百貨店協会加盟の店舗 \n",
      "家電量販店 \n",
      "PCやカメラ、電気製品を専門に販売する店舗 \n",
      "ファッション専門店 \n",
      "...\n",
      "> [Node a8ad2164-4db7-4ea3-a15e-bd1d4a803ac2] [Similarity score:             0.79639] 21 （３）消費税免税手続き の実施状況  \n",
      " 今回の日本滞在中に 消費税免税手続き\n",
      "を実施した人の割合 は全体の40.3％で\n",
      "ある（図表 3-3）。 \n",
      " 国籍･地域別に みると、 台湾と香...\n",
      "> Top 3 nodes:\n",
      "> [Node 0b5e168e-704b-422e-a4f4-750b25db6600] [Similarity score:             0.812826] 訪日外国人消費動向調査  \n",
      " \n",
      "20 ３．土産品の購入実態  \n",
      " \n",
      "（１） 費目別購入率 \n",
      " 費目別の 購入率（その費目を購入した人の\n",
      "割合）は「菓子類」 （ 70.4％）、「その他食\n",
      "料品・...\n",
      "> [Node 10ffe99b-8cfa-488d-a9d8-8174f9d2ace9] [Similarity score:             0.805568] 訪日外国人消費動向調査 \n",
      " \n",
      "38 \n",
      " （３）買物場所 \n",
      "百貨店・デパート \n",
      "原則として百貨店協会加盟の店舗 \n",
      "家電量販店 \n",
      "PCやカメラ、電気製品を専門に販売する店舗 \n",
      "ファッション専門店 \n",
      "...\n",
      "> [Node a8ad2164-4db7-4ea3-a15e-bd1d4a803ac2] [Similarity score:             0.79639] 21 （３）消費税免税手続き の実施状況  \n",
      " 今回の日本滞在中に 消費税免税手続き\n",
      "を実施した人の割合 は全体の40.3％で\n",
      "ある（図表 3-3）。 \n",
      " 国籍･地域別に みると、 台湾と香...\n",
      "DEBUG:openai._base_client:Request options: {'method': 'post', 'url': '/chat/completions', 'files': None, 'json_data': {'messages': [{'role': 'system', 'content': '\\n        あなたは世界中で信頼されているQAシステムです。\\n        事前知識ではなく、常に提供されたコンテキスト情報を使用してクエリに回答してください。\\n        従うべきいくつかのルール:\\n        1. 回答内で指定されたコンテキストを直接参照しないでください。\\n        2. 「コンテキストに基づいて、...」や「コンテキスト情報は...」、またはそれに類するような記述は避けてください。'}, {'role': 'user', 'content': '\\n            コンテキスト情報は以下のとおりです。\\n            ---------------------\\n            page_label: 22\\nfile_name: 001615363.pdf\\n\\n訪日外国人消費動向調査  \\n \\n20 ３．土産品の購入実態  \\n \\n（１） 費目別購入率 \\n\\uf06c 費目別の 購入率（その費目を購入した人の\\n割合）は「菓子類」 （ 70.4％）、「その他食\\n料品・飲料・たばこ」 （ 43.4％）、 「衣類」\\n（33.8％）の順で高 い（図表3-1）。 \\n\\uf06c 国籍・地域別で 最も購入率が 高い費目は 、\\n韓国、台湾、香港 、中国で「菓子類」 （ それ\\nぞれ82.9％、72.9％、63.3％、73.1％）、\\n米国で「その他食料品・飲料・たばこ」\\n（54.1％）となっている 。  \\n \\n（２）費目別購入者単価  \\n\\uf06c 費目別の購入者単価 （その費目を購入し\\nた人における当該費目の 1人当たり平均\\n支出）は、「 宝石・貴金属 」が8.3万円\\nと最も高い（図表 3-1）。 \\n\\uf06c 国籍・地域別では 、台湾と香港の「宝\\n石・貴金属 」（それぞれ 19.9万円、\\n16.6万円）が他の国籍・地域に比べ高\\nい。\\n  図表3-1 買物代の費目別購入率および購入者単価  （主要国籍･地域別 、全目的） \\n図表3-2 買物代の費目別購入率および 購入者単価  （主要国籍･地域別 、観光・レジャー目的 ） \\n国籍･地域\\n費目 購入率購入者\\n単価\\n（円）購入率購入者\\n単価\\n（円）購入率購入者\\n単価\\n（円）購入率購入者\\n単価\\n（円）購入率購入者\\n単価\\n（円）購入率購入者\\n単価\\n（円）\\n菓子類 70.4% 10,646 82.9% 7,585 72.9% 12,517 63.3% 12,864 73.1% 16,057 43.7% 10,962\\n酒類 25.2% 10,365 34.5% 7,995 20.3% 10,001 14.7% 17,047 13.9% 18,150 28.5% 12,405\\n生鮮農産物 5.9% 22,304 3.8% 38,719 10.2% 12,699 10.3% 8,165 8.6% 36,296 3.8% 8,949\\nその他食料品・飲料・たばこ 43.4% 12,931 37.2% 10,579 41.5% 12,795 44.9% 13,481 49.7% 26,308 54.1% 14,773\\n化粧品・香水 19.2% 19,434 15.1% 10,665 25.9% 19,170 26.5% 21,977 41.5% 62,923 6.7% 15,992\\n医薬品 24.\\n\\npage_label: 40\\nfile_name: 001615363.pdf\\n\\n訪日外国人消費動向調査 \\n \\n38 \\n （３）買物場所 \\n百貨店・デパート \\n原則として百貨店協会加盟の店舗 \\n家電量販店 \\nPCやカメラ、電気製品を専門に販売する店舗 \\nファッション専門店 \\n服・鞄・靴・アクセサリー・高級腕時計等\\nを専門に販売する店舗 \\n100 円ショップ \\n店内の商品を原則として 1 点 100 日本円均\\n一で 販売する形態の小売店 \\n高速道路の SA・道の駅 \\n高速道路のサービスエリア（SA）やパーキ\\nングエリア（PA）、国土交通省に登録され\\nている「道の駅」 \\n観光地の土産店 \\n観光地内にある小売店 \\n宿泊施設 \\n旅館・ホテル等の館内に併設されている土産店 \\nスーパーマーケット \\n高頻度に消費される食料品や日用品等をセル\\nフサービスで短時間に買えるようにした小売\\n店舗 \\nコンビニエンスストア \\n年中無休で長時間の営業を行い、小規模な\\n店舗において主に食品、日用雑貨等多数の\\n品種を扱う形態の小売店 \\nドラッグストア \\n医薬品や化粧品、トイレタリーを中心と\\nし、併せて日用品や文房具、食料品等を取\\n扱う店舗 ディスカウントストア \\n一時的なセールではなく常に低価格で商品\\nを提供する安売り店舗で、一般的には生鮮\\n食料品を除く生活用品を総合的に取り扱う \\nアウトレットモール \\n「メーカー品」（通常、メーカーのブラン\\nド名を表示したもの）や、「高級ブランド\\n品」（通常、百貨店等で高額でも購入者が\\nつき、販売可能なもの）を低価格で販売す\\nる複数のアウトレット店舗を一箇所に集め\\nモールを形成したショッピングセンター \\n都心の複合商業施設 \\n都心部に立地し、商業施設や飲食施設、映\\n画館、遊技場等の娯楽施設等が一体的に整\\n備された施設 \\nその他ショッピングセンター \\n複数の小売店舗が入居する商業施設で、上\\n記の買物場所に当てはまらないもの \\n鉄道駅構内の店舗 \\n駅構内にある小型売店 \\n注）駅ビルは「百貨店・デパート」に含まれる。\\n\\npage_label: 23\\nfile_name: 001615363.pdf\\n\\n21 （３）消費税免税手続き の実施状況  \\n\\uf06c 今回の日本滞在中に 消費税免税手続き\\nを実施した人の割合 は全体の40.3％で\\nある（図表 3-3）。 \\n\\uf06c 国籍･地域別に みると、 台湾と香港で6\\n割超と高い 。一方、 インド、 英国、ドイ\\nツ、フランス、 イタリア、 スペイン、 米\\n国、カナダ では2割未満と他の国籍･地\\n域に比べ て低い。 \\n \\n図表3-3 消費税免税手続き の実施率  \\n（国籍･地域別）  \\n \\n   \\n\\uf06c 買物代の 費目別に、 消費税免税手続きを\\nして当該 費目を購入した人の割合 （費目\\n別の免税購入 率、分母は一般客全体）を\\nみると、「衣類」（14.9％）が最も高く 、\\n次いで「 菓子類」（14.2％）、「医薬品」\\n（12.4％） 、 「靴・かばん・革製品 」（12.2％）\\nの順で高くなっている （図表3-4）。 \\n \\n \\n図表3-4 費目別購入率と費目別の 免税購入率 \\n（全国籍･地域、複数回答）  \\n \\n 40.3%\\n38.6%\\n64.3%\\n64.1%\\n42.7%\\n51.1%\\n44.9%\\n41.3%\\n32.7%\\n39.0%\\n26.9%\\n14.9%\\n10.8%\\n8.3%\\n16.7%\\n13.3%\\n15.2%\\n33.1%\\n11.4%\\n15.4%\\n23.2%0% 20% 40% 60% 80%\\n全国籍・地域\\n韓国\\n台湾\\n香港\\n中国\\nタイ\\nシンガポール\\nマレーシア\\nインドネシア\\nフィリピン\\nベトナム\\nインド\\n英国\\nドイツ\\nフランス\\nイタリア\\nスペイン\\nロシア\\n米国\\nカナダ\\nオーストラリア70.4%\\n25.2%\\n5.9%\\n43.4%\\n19.2%\\n24.3%\\n10.4%\\n33.8%\\n22.5%\\n5.5%\\n1.9%\\n1.5%\\n7.4%\\n4.3%\\n3.9%14.2%\\n5.2%\\n0.3%\\n3.2%\\n9.3%\\n12.4%\\n4.8%\\n14.9%\\n12.2%\\n3.2%\\n0.9%\\n0.6%\\n0.8%\\n0.2%\\n1.0%0% 40% 80%\\n菓子類\\n酒類\\n生鮮農産物\\nその他食料品・\\n飲料・たばこ\\n化粧品・香水\\n医薬品\\n健康グッズ・トイレタリー\\n衣類\\n靴・かばん・革製品\\n電気製品\\n時計・フィルムカメラ\\n宝石・貴金属\\n民芸品・伝統工芸品\\n本･雑誌･ガイドブックなど\\n音楽・映像・ゲームなど\\nソフトウェア購入率\\n免税購入率\\n            ---------------------\\n            事前知識ではなくコンテキスト情報を考慮して、クエリに答えます。\\n            Query: お土産の購入状況を教えて\\n            Answer: '}], 'model': 'gpt-3.5-turbo-1106', 'stream': True, 'temperature': 1.2}}\n",
      "Request options: {'method': 'post', 'url': '/chat/completions', 'files': None, 'json_data': {'messages': [{'role': 'system', 'content': '\\n        あなたは世界中で信頼されているQAシステムです。\\n        事前知識ではなく、常に提供されたコンテキスト情報を使用してクエリに回答してください。\\n        従うべきいくつかのルール:\\n        1. 回答内で指定されたコンテキストを直接参照しないでください。\\n        2. 「コンテキストに基づいて、...」や「コンテキスト情報は...」、またはそれに類するような記述は避けてください。'}, {'role': 'user', 'content': '\\n            コンテキスト情報は以下のとおりです。\\n            ---------------------\\n            page_label: 22\\nfile_name: 001615363.pdf\\n\\n訪日外国人消費動向調査  \\n \\n20 ３．土産品の購入実態  \\n \\n（１） 費目別購入率 \\n\\uf06c 費目別の 購入率（その費目を購入した人の\\n割合）は「菓子類」 （ 70.4％）、「その他食\\n料品・飲料・たばこ」 （ 43.4％）、 「衣類」\\n（33.8％）の順で高 い（図表3-1）。 \\n\\uf06c 国籍・地域別で 最も購入率が 高い費目は 、\\n韓国、台湾、香港 、中国で「菓子類」 （ それ\\nぞれ82.9％、72.9％、63.3％、73.1％）、\\n米国で「その他食料品・飲料・たばこ」\\n（54.1％）となっている 。  \\n \\n（２）費目別購入者単価  \\n\\uf06c 費目別の購入者単価 （その費目を購入し\\nた人における当該費目の 1人当たり平均\\n支出）は、「 宝石・貴金属 」が8.3万円\\nと最も高い（図表 3-1）。 \\n\\uf06c 国籍・地域別では 、台湾と香港の「宝\\n石・貴金属 」（それぞれ 19.9万円、\\n16.6万円）が他の国籍・地域に比べ高\\nい。\\n  図表3-1 買物代の費目別購入率および購入者単価  （主要国籍･地域別 、全目的） \\n図表3-2 買物代の費目別購入率および 購入者単価  （主要国籍･地域別 、観光・レジャー目的 ） \\n国籍･地域\\n費目 購入率購入者\\n単価\\n（円）購入率購入者\\n単価\\n（円）購入率購入者\\n単価\\n（円）購入率購入者\\n単価\\n（円）購入率購入者\\n単価\\n（円）購入率購入者\\n単価\\n（円）\\n菓子類 70.4% 10,646 82.9% 7,585 72.9% 12,517 63.3% 12,864 73.1% 16,057 43.7% 10,962\\n酒類 25.2% 10,365 34.5% 7,995 20.3% 10,001 14.7% 17,047 13.9% 18,150 28.5% 12,405\\n生鮮農産物 5.9% 22,304 3.8% 38,719 10.2% 12,699 10.3% 8,165 8.6% 36,296 3.8% 8,949\\nその他食料品・飲料・たばこ 43.4% 12,931 37.2% 10,579 41.5% 12,795 44.9% 13,481 49.7% 26,308 54.1% 14,773\\n化粧品・香水 19.2% 19,434 15.1% 10,665 25.9% 19,170 26.5% 21,977 41.5% 62,923 6.7% 15,992\\n医薬品 24.\\n\\npage_label: 40\\nfile_name: 001615363.pdf\\n\\n訪日外国人消費動向調査 \\n \\n38 \\n （３）買物場所 \\n百貨店・デパート \\n原則として百貨店協会加盟の店舗 \\n家電量販店 \\nPCやカメラ、電気製品を専門に販売する店舗 \\nファッション専門店 \\n服・鞄・靴・アクセサリー・高級腕時計等\\nを専門に販売する店舗 \\n100 円ショップ \\n店内の商品を原則として 1 点 100 日本円均\\n一で 販売する形態の小売店 \\n高速道路の SA・道の駅 \\n高速道路のサービスエリア（SA）やパーキ\\nングエリア（PA）、国土交通省に登録され\\nている「道の駅」 \\n観光地の土産店 \\n観光地内にある小売店 \\n宿泊施設 \\n旅館・ホテル等の館内に併設されている土産店 \\nスーパーマーケット \\n高頻度に消費される食料品や日用品等をセル\\nフサービスで短時間に買えるようにした小売\\n店舗 \\nコンビニエンスストア \\n年中無休で長時間の営業を行い、小規模な\\n店舗において主に食品、日用雑貨等多数の\\n品種を扱う形態の小売店 \\nドラッグストア \\n医薬品や化粧品、トイレタリーを中心と\\nし、併せて日用品や文房具、食料品等を取\\n扱う店舗 ディスカウントストア \\n一時的なセールではなく常に低価格で商品\\nを提供する安売り店舗で、一般的には生鮮\\n食料品を除く生活用品を総合的に取り扱う \\nアウトレットモール \\n「メーカー品」（通常、メーカーのブラン\\nド名を表示したもの）や、「高級ブランド\\n品」（通常、百貨店等で高額でも購入者が\\nつき、販売可能なもの）を低価格で販売す\\nる複数のアウトレット店舗を一箇所に集め\\nモールを形成したショッピングセンター \\n都心の複合商業施設 \\n都心部に立地し、商業施設や飲食施設、映\\n画館、遊技場等の娯楽施設等が一体的に整\\n備された施設 \\nその他ショッピングセンター \\n複数の小売店舗が入居する商業施設で、上\\n記の買物場所に当てはまらないもの \\n鉄道駅構内の店舗 \\n駅構内にある小型売店 \\n注）駅ビルは「百貨店・デパート」に含まれる。\\n\\npage_label: 23\\nfile_name: 001615363.pdf\\n\\n21 （３）消費税免税手続き の実施状況  \\n\\uf06c 今回の日本滞在中に 消費税免税手続き\\nを実施した人の割合 は全体の40.3％で\\nある（図表 3-3）。 \\n\\uf06c 国籍･地域別に みると、 台湾と香港で6\\n割超と高い 。一方、 インド、 英国、ドイ\\nツ、フランス、 イタリア、 スペイン、 米\\n国、カナダ では2割未満と他の国籍･地\\n域に比べ て低い。 \\n \\n図表3-3 消費税免税手続き の実施率  \\n（国籍･地域別）  \\n \\n   \\n\\uf06c 買物代の 費目別に、 消費税免税手続きを\\nして当該 費目を購入した人の割合 （費目\\n別の免税購入 率、分母は一般客全体）を\\nみると、「衣類」（14.9％）が最も高く 、\\n次いで「 菓子類」（14.2％）、「医薬品」\\n（12.4％） 、 「靴・かばん・革製品 」（12.2％）\\nの順で高くなっている （図表3-4）。 \\n \\n \\n図表3-4 費目別購入率と費目別の 免税購入率 \\n（全国籍･地域、複数回答）  \\n \\n 40.3%\\n38.6%\\n64.3%\\n64.1%\\n42.7%\\n51.1%\\n44.9%\\n41.3%\\n32.7%\\n39.0%\\n26.9%\\n14.9%\\n10.8%\\n8.3%\\n16.7%\\n13.3%\\n15.2%\\n33.1%\\n11.4%\\n15.4%\\n23.2%0% 20% 40% 60% 80%\\n全国籍・地域\\n韓国\\n台湾\\n香港\\n中国\\nタイ\\nシンガポール\\nマレーシア\\nインドネシア\\nフィリピン\\nベトナム\\nインド\\n英国\\nドイツ\\nフランス\\nイタリア\\nスペイン\\nロシア\\n米国\\nカナダ\\nオーストラリア70.4%\\n25.2%\\n5.9%\\n43.4%\\n19.2%\\n24.3%\\n10.4%\\n33.8%\\n22.5%\\n5.5%\\n1.9%\\n1.5%\\n7.4%\\n4.3%\\n3.9%14.2%\\n5.2%\\n0.3%\\n3.2%\\n9.3%\\n12.4%\\n4.8%\\n14.9%\\n12.2%\\n3.2%\\n0.9%\\n0.6%\\n0.8%\\n0.2%\\n1.0%0% 40% 80%\\n菓子類\\n酒類\\n生鮮農産物\\nその他食料品・\\n飲料・たばこ\\n化粧品・香水\\n医薬品\\n健康グッズ・トイレタリー\\n衣類\\n靴・かばん・革製品\\n電気製品\\n時計・フィルムカメラ\\n宝石・貴金属\\n民芸品・伝統工芸品\\n本･雑誌･ガイドブックなど\\n音楽・映像・ゲームなど\\nソフトウェア購入率\\n免税購入率\\n            ---------------------\\n            事前知識ではなくコンテキスト情報を考慮して、クエリに答えます。\\n            Query: お土産の購入状況を教えて\\n            Answer: '}], 'model': 'gpt-3.5-turbo-1106', 'stream': True, 'temperature': 1.2}}\n",
      "DEBUG:httpcore.connection:close.started\n",
      "close.started\n",
      "DEBUG:httpcore.connection:close.complete\n",
      "close.complete\n",
      "DEBUG:httpcore.connection:connect_tcp.started host='api.openai.com' port=443 local_address=None timeout=60.0 socket_options=None\n",
      "connect_tcp.started host='api.openai.com' port=443 local_address=None timeout=60.0 socket_options=None\n",
      "DEBUG:httpcore.connection:connect_tcp.complete return_value=<httpcore._backends.sync.SyncStream object at 0x1741abc50>\n",
      "connect_tcp.complete return_value=<httpcore._backends.sync.SyncStream object at 0x1741abc50>\n",
      "DEBUG:httpcore.connection:start_tls.started ssl_context=<ssl.SSLContext object at 0x1740c63c0> server_hostname='api.openai.com' timeout=60.0\n",
      "start_tls.started ssl_context=<ssl.SSLContext object at 0x1740c63c0> server_hostname='api.openai.com' timeout=60.0\n",
      "DEBUG:httpcore.connection:start_tls.complete return_value=<httpcore._backends.sync.SyncStream object at 0x3088451d0>\n",
      "start_tls.complete return_value=<httpcore._backends.sync.SyncStream object at 0x3088451d0>\n",
      "DEBUG:httpcore.http11:send_request_headers.started request=<Request [b'POST']>\n",
      "send_request_headers.started request=<Request [b'POST']>\n",
      "DEBUG:httpcore.http11:send_request_headers.complete\n",
      "send_request_headers.complete\n",
      "DEBUG:httpcore.http11:send_request_body.started request=<Request [b'POST']>\n",
      "send_request_body.started request=<Request [b'POST']>\n",
      "DEBUG:httpcore.http11:send_request_body.complete\n",
      "send_request_body.complete\n",
      "DEBUG:httpcore.http11:receive_response_headers.started request=<Request [b'POST']>\n",
      "receive_response_headers.started request=<Request [b'POST']>\n",
      "DEBUG:httpcore.http11:receive_response_headers.complete return_value=(b'HTTP/1.1', 200, b'OK', [(b'Date', b'Wed, 24 Apr 2024 07:48:37 GMT'), (b'Content-Type', b'text/event-stream'), (b'Transfer-Encoding', b'chunked'), (b'Connection', b'keep-alive'), (b'access-control-allow-origin', b'*'), (b'Cache-Control', b'no-cache, must-revalidate'), (b'openai-model', b'gpt-3.5-turbo-1106'), (b'openai-organization', b'user-mvnipnankuxxlro43mseaobj'), (b'openai-processing-ms', b'177'), (b'openai-version', b'2020-10-01'), (b'strict-transport-security', b'max-age=15724800; includeSubDomains'), (b'x-ratelimit-limit-requests', b'10000'), (b'x-ratelimit-limit-tokens', b'60000'), (b'x-ratelimit-remaining-requests', b'9999'), (b'x-ratelimit-remaining-tokens', b'58175'), (b'x-ratelimit-reset-requests', b'8.64s'), (b'x-ratelimit-reset-tokens', b'1.825s'), (b'x-request-id', b'req_1006394d154bcf8e98abe5f1c90f8ec2'), (b'CF-Cache-Status', b'DYNAMIC'), (b'Server', b'cloudflare'), (b'CF-RAY', b'87947df35e883c0b-NRT'), (b'alt-svc', b'h3=\":443\"; ma=86400')])\n",
      "receive_response_headers.complete return_value=(b'HTTP/1.1', 200, b'OK', [(b'Date', b'Wed, 24 Apr 2024 07:48:37 GMT'), (b'Content-Type', b'text/event-stream'), (b'Transfer-Encoding', b'chunked'), (b'Connection', b'keep-alive'), (b'access-control-allow-origin', b'*'), (b'Cache-Control', b'no-cache, must-revalidate'), (b'openai-model', b'gpt-3.5-turbo-1106'), (b'openai-organization', b'user-mvnipnankuxxlro43mseaobj'), (b'openai-processing-ms', b'177'), (b'openai-version', b'2020-10-01'), (b'strict-transport-security', b'max-age=15724800; includeSubDomains'), (b'x-ratelimit-limit-requests', b'10000'), (b'x-ratelimit-limit-tokens', b'60000'), (b'x-ratelimit-remaining-requests', b'9999'), (b'x-ratelimit-remaining-tokens', b'58175'), (b'x-ratelimit-reset-requests', b'8.64s'), (b'x-ratelimit-reset-tokens', b'1.825s'), (b'x-request-id', b'req_1006394d154bcf8e98abe5f1c90f8ec2'), (b'CF-Cache-Status', b'DYNAMIC'), (b'Server', b'cloudflare'), (b'CF-RAY', b'87947df35e883c0b-NRT'), (b'alt-svc', b'h3=\":443\"; ma=86400')])\n",
      "INFO:httpx:HTTP Request: POST https://api.openai.com/v1/chat/completions \"HTTP/1.1 200 OK\"\n",
      "HTTP Request: POST https://api.openai.com/v1/chat/completions \"HTTP/1.1 200 OK\"\n",
      "DEBUG:openai._base_client:HTTP Request: POST https://api.openai.com/v1/chat/completions \"200 OK\"\n",
      "HTTP Request: POST https://api.openai.com/v1/chat/completions \"200 OK\"\n",
      "DEBUG:httpcore.http11:receive_response_body.started request=<Request [b'POST']>\n",
      "receive_response_body.started request=<Request [b'POST']>\n",
      "DEBUG:httpcore.http11:receive_response_body.complete\n",
      "receive_response_body.complete\n",
      "DEBUG:httpcore.http11:response_closed.started\n",
      "response_closed.started\n",
      "DEBUG:httpcore.http11:response_closed.complete\n",
      "response_closed.complete\n",
      "訪日外国人のお土産の購入状況に関しては、以下のような傾向が見られます。\n",
      "- 菓子類が最も購入率が高く、次いでその他食料品・飲料・たばこ、衣類の順でした。\n",
      "- 国籍・地域別では、韓国、台湾、香港、中国などで菓子類が最も高い購入率となりました。\n",
      "- 購入者単価では宝石・貴金属が最も高く、国籍・地域別では台湾と香港で高い傾向があります。\n",
      "\n",
      "また、消費税免税手続きの実施状況を見ると、全体の40.3%が実施しており、国籍･地域別にみると台湾と香港で免税手続きを実施する割合が高いことがわかります。また、衣類や菓子類の購入者が免税手続きを行う割合が比較的高いです。\n"
     ]
    }
   ],
   "source": [
    "response = query_engine.query(\"お土産の購入状況を教えて\")\n",
    "# 言語モデルからの回答を表示\n",
    "print(response)"
   ]
  },
  {
   "cell_type": "code",
   "execution_count": 15,
   "metadata": {},
   "outputs": [],
   "source": [
    "# もとに戻す（ログを出力しない）\n",
    "logging.basicConfig(stream=sys.stdout, level=logging.WARNING)\n",
    "# ログハンドラー出力を除去\n",
    "while len(logging.getLogger().handlers) > 0:\n",
    "  logging.getLogger().removeHandler(logging.getLogger().handlers[0])"
   ]
  },
  {
   "attachments": {},
   "cell_type": "markdown",
   "metadata": {},
   "source": [
    "# ストレージに保存"
   ]
  },
  {
   "cell_type": "code",
   "execution_count": 16,
   "metadata": {},
   "outputs": [],
   "source": [
    "# ストレージに保存\n",
    "index.storage_context.persist(\"./storage02\")"
   ]
  },
  {
   "cell_type": "code",
   "execution_count": 17,
   "metadata": {},
   "outputs": [],
   "source": [
    "from llama_index.core import StorageContext, load_index_from_storage\n",
    "\n",
    "# ストレージコンテキストの作成\n",
    "storage_context = StorageContext.from_defaults(persist_dir=\"./storage02\")\n",
    "# Indexのロード\n",
    "index = load_index_from_storage(storage_context)"
   ]
  },
  {
   "cell_type": "code",
   "execution_count": 18,
   "metadata": {},
   "outputs": [],
   "source": [
    "# Query Engineの作成\n",
    "query_engine2 = index.as_query_engine(\n",
    "    similarity_top_k=3,\n",
    "    streaming=True,\n",
    "    text_qa_template=text_qa_template,\n",
    "    refine_template=refine_template,\n",
    ")"
   ]
  },
  {
   "cell_type": "code",
   "execution_count": 19,
   "metadata": {},
   "outputs": [
    {
     "name": "stdout",
     "output_type": "stream",
     "text": [
      "お土産の購入状況について、訪日外国人消費動向調査によれば、菓子類が最も高い購入率であり（70.4％）、次いでその他食料品・飲料・たばこ（43.4％）、衣類（33.8％）の順で高いことが分かります。また、国籍・地域別では韓国、台湾、香港、中国が菓子類を最も購入しており、台湾と香港の宝石・貴金属の購入者単価が他の国籍・地域に比べて高いことも注目されます。\n"
     ]
    }
   ],
   "source": [
    "response = query_engine2.query(\"お土産の購入状況を教えて\")\n",
    "# 言語モデルからの回答を表示\n",
    "print(response)"
   ]
  },
  {
   "cell_type": "code",
   "execution_count": null,
   "metadata": {},
   "outputs": [],
   "source": []
  }
 ],
 "metadata": {
  "kernelspec": {
   "display_name": ".venv",
   "language": "python",
   "name": "python3"
  },
  "language_info": {
   "codemirror_mode": {
    "name": "ipython",
    "version": 3
   },
   "file_extension": ".py",
   "mimetype": "text/x-python",
   "name": "python",
   "nbconvert_exporter": "python",
   "pygments_lexer": "ipython3",
   "version": "3.11.7"
  },
  "orig_nbformat": 4
 },
 "nbformat": 4,
 "nbformat_minor": 2
}
