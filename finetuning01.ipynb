{
 "cells": [
  {
   "attachments": {},
   "cell_type": "markdown",
   "metadata": {},
   "source": [
    "# ファインチューニング"
   ]
  },
  {
   "cell_type": "code",
   "execution_count": 4,
   "metadata": {},
   "outputs": [],
   "source": [
    "# 必要なモジュールをインポート\n",
    "import os\n",
    "from dotenv import load_dotenv\n",
    "import openai\n",
    "\n",
    "# 環境変数の読み込み\n",
    "load_dotenv()\n",
    "openai.organization = os.environ['ORGANIZATION']\n",
    "openai.api_key = os.environ['API_KEY']\n",
    "model_name = \"davinci\""
   ]
  },
  {
   "attachments": {},
   "cell_type": "markdown",
   "metadata": {},
   "source": [
    "## 学習データの作成とアップロード"
   ]
  },
  {
   "cell_type": "code",
   "execution_count": 3,
   "metadata": {},
   "outputs": [
    {
     "name": "stdout",
     "output_type": "stream",
     "text": [
      "{\n",
      "  \"object\": \"file\",\n",
      "  \"id\": \"file-hVt7xQ5hf36iS8dQjYjWxOak\",\n",
      "  \"purpose\": \"fine-tune\",\n",
      "  \"filename\": \"file\",\n",
      "  \"bytes\": 175,\n",
      "  \"created_at\": 1688280037,\n",
      "  \"status\": \"uploaded\",\n",
      "  \"status_details\": null\n",
      "}\n"
     ]
    }
   ],
   "source": [
    "# 学習データのアップロード\n",
    "train = openai.File.create(\n",
    "    file=open(\"./training.jsonl\", \"rb\"), \n",
    "    purpose='fine-tune')\n",
    "\n",
    "train"
   ]
  },
  {
   "attachments": {},
   "cell_type": "markdown",
   "metadata": {},
   "source": [
    "## ファインチューニングの実行"
   ]
  },
  {
   "cell_type": "code",
   "execution_count": 5,
   "metadata": {},
   "outputs": [],
   "source": [
    "# ファインチューニング実行\n",
    "finetuning_result = openai.FineTune.create(\n",
    "    training_file=train.id, model=model_name)"
   ]
  },
  {
   "cell_type": "code",
   "execution_count": 6,
   "metadata": {},
   "outputs": [
    {
     "data": {
      "text/plain": [
       "<FineTune fine-tune id=ft-Z5LWzHVOd676zfWx8Mx6ljKE at 0x21c41cb19d0> JSON: {\n",
       "  \"object\": \"fine-tune\",\n",
       "  \"id\": \"ft-Z5LWzHVOd676zfWx8Mx6ljKE\",\n",
       "  \"hyperparams\": {\n",
       "    \"n_epochs\": 4,\n",
       "    \"batch_size\": null,\n",
       "    \"prompt_loss_weight\": 0.01,\n",
       "    \"learning_rate_multiplier\": null\n",
       "  },\n",
       "  \"organization_id\": \"org-HRz6nr9EOrn5L7WRrkVsik99\",\n",
       "  \"model\": \"davinci\",\n",
       "  \"training_files\": [\n",
       "    {\n",
       "      \"object\": \"file\",\n",
       "      \"id\": \"file-hVt7xQ5hf36iS8dQjYjWxOak\",\n",
       "      \"purpose\": \"fine-tune\",\n",
       "      \"filename\": \"file\",\n",
       "      \"bytes\": 175,\n",
       "      \"created_at\": 1688280037,\n",
       "      \"status\": \"processed\",\n",
       "      \"status_details\": null\n",
       "    }\n",
       "  ],\n",
       "  \"validation_files\": [],\n",
       "  \"result_files\": [],\n",
       "  \"created_at\": 1688280137,\n",
       "  \"updated_at\": 1688280137,\n",
       "  \"status\": \"pending\",\n",
       "  \"fine_tuned_model\": null,\n",
       "  \"events\": [\n",
       "    {\n",
       "      \"object\": \"fine-tune-event\",\n",
       "      \"level\": \"info\",\n",
       "      \"message\": \"Created fine-tune: ft-Z5LWzHVOd676zfWx8Mx6ljKE\",\n",
       "      \"created_at\": 1688280137\n",
       "    }\n",
       "  ]\n",
       "}"
      ]
     },
     "execution_count": 6,
     "metadata": {},
     "output_type": "execute_result"
    }
   ],
   "source": [
    "# 結果の表示\n",
    "finetuning_result"
   ]
  },
  {
   "attachments": {},
   "cell_type": "markdown",
   "metadata": {},
   "source": [
    "## 状況確認"
   ]
  },
  {
   "cell_type": "code",
   "execution_count": 20,
   "metadata": {},
   "outputs": [
    {
     "data": {
      "text/plain": [
       "'succeeded'"
      ]
     },
     "execution_count": 20,
     "metadata": {},
     "output_type": "execute_result"
    }
   ],
   "source": [
    "# 状態を確認。pending:保留中（処理待ち）、succeeded:完了\n",
    "openai.FineTune.retrieve(id=finetuning_result.id).status"
   ]
  },
  {
   "cell_type": "code",
   "execution_count": 21,
   "metadata": {},
   "outputs": [
    {
     "name": "stdout",
     "output_type": "stream",
     "text": [
      "davinci:ft-personal-2023-07-02-08-19-17\n"
     ]
    }
   ],
   "source": [
    "# モデル名を取得\n",
    "finetuned_model_name = openai.FineTune.retrieve(id=finetuning_result.id).fine_tuned_model\n",
    "print(finetuned_model_name)"
   ]
  },
  {
   "attachments": {},
   "cell_type": "markdown",
   "metadata": {},
   "source": [
    "## ファインチューニング済モデルの使用"
   ]
  },
  {
   "cell_type": "code",
   "execution_count": 29,
   "metadata": {},
   "outputs": [
    {
     "name": "stdout",
     "output_type": "stream",
     "text": [
      "ニュースで使われてる慣用句、熟語は「いだましい」の「いだましい」の意味は？. 犬飼沙耶／『いだましい』は「饒舌な、臆病者、知恵より不思議の多い」とされる. 94pub.ne.jp. 恋愛相談. Te1.綺麗事ができる人はいだましいだから友との愛着が薄くなる 9780 8183 8416 夢を見る、友を求め、影を追われ. いだましい せいばだいか・いだましいに、「饒舌で隙のない自爆ムーブメントを繰り返す. こういった悪さを見回すと、部分的にいだましい、 で、みんなにとっていだ\n"
     ]
    }
   ],
   "source": [
    "# プロンプトの設定\n",
    "prompt = \"「いだましい」の意味は？\"\n",
    "\n",
    "# APIへリクエスト\n",
    "response = openai.Completion.create(\n",
    "    model=finetuned_model_name,\n",
    "    prompt=prompt,\n",
    "    max_tokens=300\n",
    ")\n",
    "\n",
    "# 結果を表示\n",
    "print(response.choices[0][\"text\"].strip())"
   ]
  },
  {
   "cell_type": "code",
   "execution_count": null,
   "metadata": {},
   "outputs": [],
   "source": []
  }
 ],
 "metadata": {
  "kernelspec": {
   "display_name": ".venv",
   "language": "python",
   "name": "python3"
  },
  "language_info": {
   "codemirror_mode": {
    "name": "ipython",
    "version": 3
   },
   "file_extension": ".py",
   "mimetype": "text/x-python",
   "name": "python",
   "nbconvert_exporter": "python",
   "pygments_lexer": "ipython3",
   "version": "3.11.4"
  },
  "orig_nbformat": 4
 },
 "nbformat": 4,
 "nbformat_minor": 2
}
