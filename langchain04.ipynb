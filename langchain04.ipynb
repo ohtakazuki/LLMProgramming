{
 "cells": [
  {
   "cell_type": "markdown",
   "metadata": {},
   "source": [
    "# Agent\n",
    "\n",
    "# 準備"
   ]
  },
  {
   "cell_type": "code",
   "execution_count": 1,
   "metadata": {},
   "outputs": [],
   "source": [
    "# 必要なモジュールをインポート\n",
    "import os\n",
    "from dotenv import load_dotenv\n",
    "\n",
    "# 環境変数の読み込み\n",
    "load_dotenv()\n",
    "os.environ[\"OPENAI_API_KEY\"] = os.environ[\"API_KEY\"]"
   ]
  },
  {
   "cell_type": "markdown",
   "metadata": {},
   "source": [
    "# Google検索Agent"
   ]
  },
  {
   "cell_type": "code",
   "execution_count": 2,
   "metadata": {},
   "outputs": [],
   "source": [
    "from langchain.agents import Tool\n",
    "from langchain_google_community import GoogleSearchAPIWrapper\n",
    "\n",
    "search = GoogleSearchAPIWrapper()\n",
    "\n",
    "tools = [\n",
    "    Tool(\n",
    "        name = \"GoogleSearch\", # 名前は半角英数字のみ\n",
    "        func=search.run,\n",
    "        description=\"Search Google for recent results.\"\n",
    "    )\n",
    "]"
   ]
  },
  {
   "cell_type": "code",
   "execution_count": 3,
   "metadata": {},
   "outputs": [],
   "source": [
    "from langchain_openai import ChatOpenAI\n",
    "\n",
    "llm = ChatOpenAI(model=\"gpt-3.5-turbo-1106\", temperature=1.2)"
   ]
  },
  {
   "cell_type": "code",
   "execution_count": 4,
   "metadata": {},
   "outputs": [
    {
     "data": {
      "text/plain": [
       "[SystemMessagePromptTemplate(prompt=PromptTemplate(input_variables=[], template='You are a helpful assistant')),\n",
       " MessagesPlaceholder(variable_name='chat_history', optional=True),\n",
       " HumanMessagePromptTemplate(prompt=PromptTemplate(input_variables=['input'], template='{input}')),\n",
       " MessagesPlaceholder(variable_name='agent_scratchpad')]"
      ]
     },
     "execution_count": 4,
     "metadata": {},
     "output_type": "execute_result"
    }
   ],
   "source": [
    "from langchain import hub\n",
    "\n",
    "prompt = hub.pull(\"hwchase17/openai-functions-agent\")\n",
    "prompt.messages"
   ]
  },
  {
   "cell_type": "code",
   "execution_count": 5,
   "metadata": {},
   "outputs": [],
   "source": [
    "from langchain.agents import create_openai_functions_agent\n",
    "\n",
    "agent = create_openai_functions_agent(llm, tools, prompt)"
   ]
  },
  {
   "cell_type": "code",
   "execution_count": 6,
   "metadata": {},
   "outputs": [],
   "source": [
    "from langchain.agents import AgentExecutor\n",
    "\n",
    "agent_executor = AgentExecutor(agent=agent, tools=tools, verbose=True)"
   ]
  },
  {
   "cell_type": "code",
   "execution_count": 7,
   "metadata": {},
   "outputs": [
    {
     "name": "stdout",
     "output_type": "stream",
     "text": [
      "\n",
      "\n",
      "\u001b[1m> Entering new AgentExecutor chain...\u001b[0m\n",
      "\u001b[32;1m\u001b[1;3m\n",
      "Invoking: `GoogleSearch` with `岸田総理の日米首脳会談の結果`\n",
      "\n",
      "\n",
      "\u001b[0m\u001b[36;1m\u001b[1;3mApr 10, 2024 ... 関連リンク · 日米共同記者会見（官邸HP） · 岸田総理大臣のホワイトハウスでの歓迎式典出席（外務省HP） 別ウィンドウで開く · 日米首脳会談（外務省 ... Nov 16, 2023 ... 現地時間11月16日午後5時15分（日本時間17日午前10時15分）から約15分間、APEC首脳会議に出席するため米国サンフランシスコを訪問中の岸田文雄内閣 ... Apr 12, 2024 ... 岸田総理が米国から国賓待遇で招待を受け2024年4月8日～14日の予定で訪米している。4月10日にバイデン大統領との公式な日米首脳会談が行われ、会談後 ... Nov 15, 2023 ... APEC（アジア太平洋経済協力、Asia Pacific Economic Cooperation） · 岸田総理大臣の米国訪問（令和5年11月15日～19日） · APEC首脳会議 · IPEF首脳会合. Nov 17, 2023 ... 【NHK】岸田総理大臣は、訪問先のアメリカでバイデン大統領との首脳会談に臨み、中国への対応について、16日の米中首脳会談の結果など… Feb 8, 2024 ... 岸田文雄首相は9日、政府与党連絡会議であいさつし、諸般の事情が許せば、国賓待遇で米国を公式に訪問し4月10日にワシントンⅮCで日米首脳会談を ... Apr 11, 2024 ... 【NHK】アメリカを訪れている岸田総理大臣はバイデン大統領と会談し、自衛隊とアメリカ軍の指揮・統制の向上など、防衛協力を深めるとと… Apr 11, 2024 ... ... 日米両国がグローバルなパートナーとして真価を発揮すべき時だ」と述べた。 岸田首相は首脳会談前日の4月9日に米国商工会議所と米日経済協議会（USJBC ... Apr 10, 2024 ... 【NHK】アメリカを訪問している岸田総理大臣は、日米首脳会談に先立ってホワイトハウスで行われた歓迎式典であいさつし、国際社会はこれ… 2024年4月10日（米国時間）、ワシントンDCを公式訪問中の岸田首相はバイデン大統領と日米首脳会談を行い、その後に出された共同声明およびファクトシートにて、 ...\u001b[0m\u001b[32;1m\u001b[1;3m岸田総理の日米首脳会談の結果として、2024年4月10日に岸田総理がバイデン大統領と会談を行い、その後に共同声明およびファクトシートが発表されたことが報告されています。具体的な内容については、別途報道などをご確認いただければと思います。\u001b[0m\n",
      "\n",
      "\u001b[1m> Finished chain.\u001b[0m\n"
     ]
    },
    {
     "data": {
      "text/plain": [
       "{'input': '岸田総理の日米首脳会談の結果について教えてください',\n",
       " 'output': '岸田総理の日米首脳会談の結果として、2024年4月10日に岸田総理がバイデン大統領と会談を行い、その後に共同声明およびファクトシートが発表されたことが報告されています。具体的な内容については、別途報道などをご確認いただければと思います。'}"
      ]
     },
     "execution_count": 7,
     "metadata": {},
     "output_type": "execute_result"
    }
   ],
   "source": [
    "agent_executor.invoke({\"input\": \"岸田総理の日米首脳会談の結果について教えてください\"})"
   ]
  },
  {
   "cell_type": "markdown",
   "metadata": {},
   "source": [
    "# 対話型Google検索Agent\n",
    "\n",
    "https://python.langchain.com/docs/modules/memory/agent_with_memory"
   ]
  },
  {
   "cell_type": "code",
   "execution_count": 8,
   "metadata": {},
   "outputs": [],
   "source": [
    "from langchain.agents import AgentExecutor, Tool, ZeroShotAgent\n",
    "from langchain.chains import LLMChain\n",
    "from langchain.memory import ConversationBufferMemory\n",
    "from langchain_google_community import GoogleSearchAPIWrapper\n",
    "from langchain_openai import ChatOpenAI"
   ]
  },
  {
   "cell_type": "code",
   "execution_count": 9,
   "metadata": {},
   "outputs": [],
   "source": [
    "search = GoogleSearchAPIWrapper()\n",
    "tools = [\n",
    "    Tool(\n",
    "        name=\"Search\",\n",
    "        func=search.run,\n",
    "        description=\"現在の出来事に関する質問に答える必要がある場合に便利です\",\n",
    "    )\n",
    "]"
   ]
  },
  {
   "cell_type": "code",
   "execution_count": 10,
   "metadata": {},
   "outputs": [],
   "source": [
    "prefix = \"\"\"あなたは日本語で回答します。あなたは人間と会話し、次の質問にできる限り答えてください。次のツールにアクセスできます:\"\"\"\n",
    "\n",
    "suffix = \"\"\"開始！\"\n",
    "\n",
    "{chat_history}\n",
    "Question: {input}\n",
    "{agent_scratchpad}\"\"\"\n",
    "\n",
    "prompt = ZeroShotAgent.create_prompt(\n",
    "    tools,\n",
    "    prefix=prefix,\n",
    "    suffix=suffix,\n",
    "    input_variables=[\"input\", \"chat_history\", \"agent_scratchpad\"],\n",
    ")\n",
    "memory = ConversationBufferMemory(memory_key=\"chat_history\")"
   ]
  },
  {
   "cell_type": "code",
   "execution_count": 11,
   "metadata": {},
   "outputs": [
    {
     "name": "stderr",
     "output_type": "stream",
     "text": [
      "/Users/ohtakazuki/LLMProgramming/.venv/lib/python3.11/site-packages/langchain_core/_api/deprecation.py:119: LangChainDeprecationWarning: The class `ZeroShotAgent` was deprecated in LangChain 0.1.0 and will be removed in 0.2.0. Use create_react_agent instead.\n",
      "  warn_deprecated(\n"
     ]
    }
   ],
   "source": [
    "llm_chain = LLMChain(llm=ChatOpenAI(model=\"gpt-3.5-turbo-1106\", temperature=1.2), prompt=prompt)\n",
    "agent = ZeroShotAgent(llm_chain=llm_chain, tools=tools, verbose=True)\n",
    "agent_chain = AgentExecutor.from_agent_and_tools(\n",
    "    agent=agent, tools=tools, verbose=True, memory=memory\n",
    ")"
   ]
  },
  {
   "cell_type": "code",
   "execution_count": 12,
   "metadata": {},
   "outputs": [
    {
     "name": "stderr",
     "output_type": "stream",
     "text": [
      "/Users/ohtakazuki/LLMProgramming/.venv/lib/python3.11/site-packages/langchain_core/_api/deprecation.py:119: LangChainDeprecationWarning: The method `Chain.run` was deprecated in langchain 0.1.0 and will be removed in 0.2.0. Use invoke instead.\n",
      "  warn_deprecated(\n"
     ]
    },
    {
     "name": "stdout",
     "output_type": "stream",
     "text": [
      "\n",
      "\n",
      "\u001b[1m> Entering new AgentExecutor chain...\u001b[0m\n",
      "\u001b[32;1m\u001b[1;3mThought: I should use the search tool to find the most recent population data for Japan\n",
      "Action: Search\n",
      "Action Input: \"日本の人口　2021\"\u001b[0m\n",
      "Observation: \u001b[36;1m\u001b[1;3mApr 15, 2022 ... 人口推計（2021年（令和3年）10月1日現在）結果の要約 · 総人口は1億2550万2千人で、前年に比べ64万4千人（‐0.51％）の減少となり、減少幅は比較可能な1950 ... Sep 16, 2022 ... 別表 日本における外国人の人口動態、外国における日本人の人口動態、前年以前発生分の人口動態 [41KB]; 人口 諸率の算出に用いた人口 [86KB]. PDF ... 表1 総人口及び日本人人口の推移(2015年～2021年). 注1) 2020年までの増減数には補間補正数（平成27年（2015年）国勢調査人口を基に算出した人口推計と、. 令和2年 ... 人口の多い国. 順位 ( じゅんい ), 国名, 推計 ( すいけい ) 人口 （1,000人）（2021年） ... 日本の国旗, 日本, 125,502. 注記 ( ちゅうき ). 出典 ... 人口の少ない国 · 世界 ... Apr 15, 2022 ... 2021年は64万4千人の減少となり、減少幅. は比較可能な1950年以降過去最大となった。 日本人人口は1億2278万人で、前年に比べ61万8千人（-0.50％）の ... 今回の推計では、2020年までの実績値をもとに、2020年10月1日現在の男女別年齢各歳別人口（総人口）を基準人口として、 2021年から2070年までの人口について推計しました ... The Statistics Bureau and the Director-General for Policy Planning of Japan play the central role in the official statistical system in producing and ... Aug 31, 2021 ... 「世界人口白書2021」によると、世界の総人口は78億7500万人で、日本は前年と変わらず11位だった。本記事では、1位から190位まで2021年版の世界人口 ... Apr 15, 2022 ... 総務省は、人口推計（2021年（令和3年）10月1日現在）の結果を公表しました。 令和3年. 6月18日 「まち・ひと・しごと創生基本方針2021」閣議決定. 「長期ビジョン」及び「総合戦略」について. 日本の人口の現状と将来の姿を示し、今後目指すべき ...\u001b[0m\n",
      "Thought:\u001b[32;1m\u001b[1;3mI now know the final answer\n",
      "Final Answer: 日本の人口は1億2550万2千人です（2021年時点）\u001b[0m\n",
      "\n",
      "\u001b[1m> Finished chain.\u001b[0m\n"
     ]
    },
    {
     "data": {
      "text/plain": [
       "'日本の人口は1億2550万2千人です（2021年時点）'"
      ]
     },
     "execution_count": 12,
     "metadata": {},
     "output_type": "execute_result"
    }
   ],
   "source": [
    "agent_chain.run(input=\"日本の人口は何人ですか？\")"
   ]
  },
  {
   "cell_type": "code",
   "execution_count": 13,
   "metadata": {},
   "outputs": [
    {
     "name": "stdout",
     "output_type": "stream",
     "text": [
      "\n",
      "\n",
      "\u001b[1m> Entering new AgentExecutor chain...\u001b[0m\n",
      "\u001b[32;1m\u001b[1;3mThought: I should use the Search tool to find the national anthem of Japan\n",
      "Action: Search\n",
      "Action Input: \"日本の国歌\"\u001b[0m\n",
      "Observation: \u001b[36;1m\u001b[1;3m君が代 ... 『君が代』（きみがよ）は、日本の国歌である。10世紀初頭における最初の勅撰和歌集である『古今和歌集』の「読人知らず」の和歌を初出としている。世界の国歌の ... 日本の国歌はもちろん「君が代」ですね。 出典は、醍醐天皇の勅命により905年に奏上された「古今和歌集」の中の祝賀歌です。祝いの歌として1000年もの間、歌 ... この「君が代」は、海軍軍楽隊のお雇い教師、ドイツ人のF. エッケルト(Franz Eckert, 1852-1916)によって吹奏楽用に編曲され、明治21年に海軍省から各条約国に「大日本 ... 君が代(日本の国歌). M.s.. 1 SONG • 29 SECONDS • MAY 24 2018. Play. Purchase Options. 1. 君が代(日本の国歌). 00:29. ℗© 2018 A&S Ringtone. Top of page. Aug 30, 2012 ... 日本の国歌難しいよ…合唱団のうまい人とかに任せればいいのにと思ってしまう RT @dark_site_: 国歌斉唱して欲しいです. 君が代（きみがよ）は、日本の国歌。「天皇の治世」を奉祝する歌であり、「祝福を受ける人の寿命」を歌う和歌を元にしている。 歌詞は10世紀初めに編纂された『古今 ... Mar 31, 2021 ... ... 国歌が日本の競技場で流れるわけですから、今回はハイチ国歌について紹介したいと思います。 表のサイズを切り替える. ハイチ国旗. ハイチの国旗. ハイチ ... 君が代（きみがよ）は、日本の国歌。「天皇の治世」を奉祝する歌であり、「祝福を受ける人の寿命」を歌う和歌を元にしている。 歌詞は10世紀初めに編纂された『古今 ... Aug 24, 2021 ... そんな彼らが表彰台に上がってメダルを胸に飾る際、流れる音楽は何でしょうか？そう、その国のNational anthem（国歌）ですね。 日本の国歌は「君が代」 ... Dec 1, 2020 ... 『君が代は 千代に八千代に さざれ石の巌と なりて こけのむすまで 』現代語訳から、「男性と女性が共に支えているこの世は 千年も 幾千年もの間 小さな砂 ...\u001b[0m\n",
      "Thought:\u001b[32;1m\u001b[1;3mI now know the final answer\n",
      "Final Answer: 「君が代」（きみがよ）\u001b[0m\n",
      "\n",
      "\u001b[1m> Finished chain.\u001b[0m\n"
     ]
    },
    {
     "data": {
      "text/plain": [
       "'「君が代」（きみがよ）'"
      ]
     },
     "execution_count": 13,
     "metadata": {},
     "output_type": "execute_result"
    }
   ],
   "source": [
    "agent_chain.run(input=\"「その国の国歌を教えて\")"
   ]
  },
  {
   "cell_type": "markdown",
   "metadata": {},
   "source": [
    "# Index検索Agent"
   ]
  },
  {
   "cell_type": "code",
   "execution_count": 14,
   "metadata": {},
   "outputs": [],
   "source": [
    "from langchain_community.document_loaders import PyPDFLoader\n",
    "from langchain_text_splitters import CharacterTextSplitter\n",
    "from langchain_openai import OpenAIEmbeddings\n",
    "from langchain_community.vectorstores import Chroma\n",
    "\n",
    "# PDFの読込\n",
    "loader = PyPDFLoader(\"./data2/001615363.pdf\")\n",
    "documents = loader.load()\n",
    "\n",
    "# チャンクに分割\n",
    "text_splitter = CharacterTextSplitter(separator=\"\\n\", chunk_size=512, chunk_overlap=0)\n",
    "texts = text_splitter.split_documents(documents)\n",
    "\n",
    "# Indexの構築\n",
    "db = Chroma.from_documents(texts, OpenAIEmbeddings())\n",
    "\n",
    "# 検索（Retriever）の取得\n",
    "retriever = db.as_retriever()"
   ]
  },
  {
   "cell_type": "code",
   "execution_count": 15,
   "metadata": {},
   "outputs": [],
   "source": [
    "from langchain.tools.retriever import create_retriever_tool\n",
    "\n",
    "tools = [\n",
    "  create_retriever_tool(\n",
    "      retriever,\n",
    "      \"ForeignTravelersQASystem\",\n",
    "      \"訪日外国人の旅行や土産品、消費動向に関する質問に役立ちます。\",\n",
    "  )\n",
    "]"
   ]
  },
  {
   "cell_type": "code",
   "execution_count": 16,
   "metadata": {},
   "outputs": [],
   "source": [
    "from langchain_openai import ChatOpenAI\n",
    "\n",
    "llm = ChatOpenAI(model=\"gpt-3.5-turbo-1106\", temperature=1.2)"
   ]
  },
  {
   "cell_type": "code",
   "execution_count": 17,
   "metadata": {},
   "outputs": [
    {
     "data": {
      "text/plain": [
       "[SystemMessagePromptTemplate(prompt=PromptTemplate(input_variables=[], template='You are a helpful assistant')),\n",
       " MessagesPlaceholder(variable_name='chat_history', optional=True),\n",
       " HumanMessagePromptTemplate(prompt=PromptTemplate(input_variables=['input'], template='{input}')),\n",
       " MessagesPlaceholder(variable_name='agent_scratchpad')]"
      ]
     },
     "execution_count": 17,
     "metadata": {},
     "output_type": "execute_result"
    }
   ],
   "source": [
    "from langchain import hub\n",
    "\n",
    "# Get the prompt to use - you can modify this!\n",
    "prompt = hub.pull(\"hwchase17/openai-functions-agent\")\n",
    "prompt.messages"
   ]
  },
  {
   "cell_type": "code",
   "execution_count": 18,
   "metadata": {},
   "outputs": [],
   "source": [
    "from langchain.agents import create_openai_functions_agent\n",
    "\n",
    "agent = create_openai_functions_agent(llm, tools, prompt)"
   ]
  },
  {
   "cell_type": "code",
   "execution_count": 19,
   "metadata": {},
   "outputs": [],
   "source": [
    "from langchain.agents import AgentExecutor\n",
    "\n",
    "agent_executor = AgentExecutor(agent=agent, tools=tools, verbose=True)"
   ]
  },
  {
   "cell_type": "code",
   "execution_count": 20,
   "metadata": {},
   "outputs": [
    {
     "name": "stdout",
     "output_type": "stream",
     "text": [
      "\n",
      "\n",
      "\u001b[1m> Entering new AgentExecutor chain...\u001b[0m\n",
      "\u001b[32;1m\u001b[1;3m\n",
      "Invoking: `ForeignTravelersQASystem` with `{'query': 'お土産の購入状況'}`\n",
      "\n",
      "\n",
      "\u001b[0m\u001b[36;1m\u001b[1;3m訪日外国人消費動向調査  \n",
      " \n",
      "20 ３．土産品の購入実態  \n",
      " \n",
      "（１） 費目別購入率 \n",
      " 費目別の 購入率（その費目を購入した人の\n",
      "割合）は「菓子類」 （ 70.4％）、「その他食\n",
      "料品・飲料・たばこ」 （ 43.4％）、 「衣類」\n",
      "（33.8％）の順で高 い（図表3-1）。 \n",
      " 国籍・地域別で 最も購入率が 高い費目は 、\n",
      "韓国、台湾、香港 、中国で「菓子類」 （ それ\n",
      "ぞれ82.9％、72.9％、63.3％、73.1％）、\n",
      "米国で「その他食料品・飲料・たばこ」\n",
      "（54.1％）となっている 。  \n",
      " \n",
      "（２）費目別購入者単価  \n",
      " 費目別の購入者単価 （その費目を購入し\n",
      "た人における当該費目の 1人当たり平均\n",
      "支出）は、「 宝石・貴金属 」が8.3万円\n",
      "と最も高い（図表 3-1）。 \n",
      " 国籍・地域別では 、台湾と香港の「宝\n",
      "石・貴金属 」（それぞれ 19.9万円、\n",
      "16.6万円）が他の国籍・地域に比べ高\n",
      "い。\n",
      "  図表3-1 買物代の費目別購入率および購入者単価  （主要国籍･地域別 、全目的）\n",
      "\n",
      "訪日外国人消費動向調査 \n",
      " \n",
      "38 \n",
      " （３）買物場所 \n",
      "百貨店・デパート \n",
      "原則として百貨店協会加盟の店舗 \n",
      "家電量販店 \n",
      "PCやカメラ、電気製品を専門に販売する店舗 \n",
      "ファッション専門店 \n",
      "服・鞄・靴・アクセサリー・高級腕時計等\n",
      "を専門に販売する店舗 \n",
      "100 円ショップ \n",
      "店内の商品を原則として 1 点 100 日本円均\n",
      "一で 販売する形態の小売店 \n",
      "高速道路の SA・道の駅 \n",
      "高速道路のサービスエリア（SA）やパーキ\n",
      "ングエリア（PA）、国土交通省に登録され\n",
      "ている「道の駅」 \n",
      "観光地の土産店 \n",
      "観光地内にある小売店 \n",
      "宿泊施設 \n",
      "旅館・ホテル等の館内に併設されている土産店 \n",
      "スーパーマーケット \n",
      "高頻度に消費される食料品や日用品等をセル\n",
      "フサービスで短時間に買えるようにした小売\n",
      "店舗 \n",
      "コンビニエンスストア \n",
      "年中無休で長時間の営業を行い、小規模な\n",
      "店舗において主に食品、日用雑貨等多数の\n",
      "品種を扱う形態の小売店 \n",
      "ドラッグストア \n",
      "医薬品や化粧品、トイレタリーを中心と\n",
      "し、併せて日用品や文房具、食料品等を取\n",
      "扱う店舗 ディスカウントストア \n",
      "一時的なセールではなく常に低価格で商品\n",
      "\n",
      "図表3-2 買物代の費目別購入率および 購入者単価  （主要国籍･地域別 、観光・レジャー目的 ） \n",
      "国籍･地域\n",
      "費目 購入率購入者\n",
      "単価\n",
      "（円）購入率購入者\n",
      "単価\n",
      "（円）購入率購入者\n",
      "単価\n",
      "（円）購入率購入者\n",
      "単価\n",
      "（円）購入率購入者\n",
      "単価\n",
      "（円）購入率購入者\n",
      "単価\n",
      "（円）\n",
      "菓子類 70.4% 10,646 82.9% 7,585 72.9% 12,517 63.3% 12,864 73.1% 16,057 43.7% 10,962\n",
      "酒類 25.2% 10,365 34.5% 7,995 20.3% 10,001 14.7% 17,047 13.9% 18,150 28.5% 12,405\n",
      "生鮮農産物 5.9% 22,304 3.8% 38,719 10.2% 12,699 10.3% 8,165 8.6% 36,296 3.8% 8,949\n",
      "その他食料品・飲料・たばこ 43.4% 12,931 37.2% 10,579 41.5% 12,795 44.9% 13,481 49.7% 26,308 54.1% 14,773\n",
      "\n",
      "その他買物代 7.1% 23,682 6.9% 15,818 5.3% 20,708 6.7% 36,537 2.7% 42,926 10.6% 22,066全国籍･地域 韓　国 台　湾 香　港 中　国 米　国\n",
      "国籍･地域\n",
      "費目 購入率購入者\n",
      "単価\n",
      "（円）購入率購入者\n",
      "単価\n",
      "（円）購入率購入者\n",
      "単価\n",
      "（円）購入率購入者\n",
      "単価\n",
      "（円）購入率購入者\n",
      "単価\n",
      "（円）購入率購入者\n",
      "単価\n",
      "（円）\n",
      "菓子類 73.7% 10,370 84.3% 7,444 73.5% 12,263 64.0% 12,708 68.9% 8,056 47.6% 12,112\n",
      "酒類 25.8% 9,523 34.7% 7,449 19.7% 9,774 14.3% 16,290 5.1% 8,244 27.5% 12,793\n",
      "生鮮農産物 5.6% 7,117 2.9% 6,932 10.6% 7,984 10.4% 6,128 0.0% - 3.7% 4,114\n",
      "その他食料品・飲料・たばこ 43.4% 10,600 37.1% 7,642 41.5% 10,609 45.5% 12,616 65.1% 6,261 56.3% 13,195\u001b[0m\u001b[32;1m\u001b[1;3m訪日外国人のお土産の購入状況について以下の情報があります。\n",
      " \n",
      "20 ３．土産品の購入実態\n",
      "（１） 費目別購入率:\n",
      "- 費目別の購入率は「菓子類」が70.4％で最も高く、次いで「その他食料品・飲料・たばこ」（43.4％）、「衣類」（33.8％）となっています。\n",
      "\n",
      "（２） 費目別購入者単価:\n",
      "- 購入者単価が最も高いのは「宝石・貴金属」で8.3万円です。国籍・地域別では台湾と香港が他の地域に比べて購入者単価が高いことがわかります。\n",
      "\n",
      "（３） 買物場所:\n",
      "- 買物場所は百貨店・デパート、家電量販店、ファッション専門店、100 円ショップなどがあります。\n",
      "\n",
      "さらに、国籍・地域別の費目別購入率および購入者単価の情報が提供されています。\n",
      "\n",
      "これらの情報を基に、特定のお土産の購入状況について詳細を知りたい場合はお知らせください。\u001b[0m\n",
      "\n",
      "\u001b[1m> Finished chain.\u001b[0m\n"
     ]
    },
    {
     "data": {
      "text/plain": [
       "{'input': 'お土産の購入状況を教えて',\n",
       " 'output': '訪日外国人のお土産の購入状況について以下の情報があります。\\n \\n20 ３．土産品の購入実態\\n（１） 費目別購入率:\\n- 費目別の購入率は「菓子類」が70.4％で最も高く、次いで「その他食料品・飲料・たばこ」（43.4％）、「衣類」（33.8％）となっています。\\n\\n（２） 費目別購入者単価:\\n- 購入者単価が最も高いのは「宝石・貴金属」で8.3万円です。国籍・地域別では台湾と香港が他の地域に比べて購入者単価が高いことがわかります。\\n\\n（３） 買物場所:\\n- 買物場所は百貨店・デパート、家電量販店、ファッション専門店、100 円ショップなどがあります。\\n\\nさらに、国籍・地域別の費目別購入率および購入者単価の情報が提供されています。\\n\\nこれらの情報を基に、特定のお土産の購入状況について詳細を知りたい場合はお知らせください。'}"
      ]
     },
     "execution_count": 20,
     "metadata": {},
     "output_type": "execute_result"
    }
   ],
   "source": [
    "agent_executor.invoke({\"input\": \"お土産の購入状況を教えて\"})"
   ]
  },
  {
   "cell_type": "markdown",
   "metadata": {},
   "source": [
    "# OpenAI Tool"
   ]
  },
  {
   "cell_type": "code",
   "execution_count": 21,
   "metadata": {},
   "outputs": [],
   "source": [
    "from langchain import hub\n",
    "from langchain.agents import AgentExecutor, create_openai_tools_agent\n",
    "from langchain_openai import ChatOpenAI"
   ]
  },
  {
   "cell_type": "code",
   "execution_count": 22,
   "metadata": {},
   "outputs": [],
   "source": [
    "# Get the prompt to use - you can modify this!\n",
    "prompt = hub.pull(\"hwchase17/openai-tools-agent\")"
   ]
  },
  {
   "cell_type": "code",
   "execution_count": 23,
   "metadata": {},
   "outputs": [],
   "source": [
    "import requests\n",
    "from bs4 import BeautifulSoup\n",
    "from langchain.chains import TransformChain\n",
    "\n",
    "# ニュースを検索する関数\n",
    "def get_news(inputs: dict) -> dict:\n",
    "    keyword = inputs[\"keyword\"]\n",
    "\n",
    "    # WebサイトのURLを指定\n",
    "    url = f'https://news.google.com/search?q={keyword}&hl=ja&gl=JP&ceid=JP:ja'\n",
    "\n",
    "    # Requestsを利用してWebページを取得する\n",
    "    response = requests.get(url)\n",
    "    html = response.text\n",
    "\n",
    "    # BeautifulSoupを利用してWebページを解析する\n",
    "    soup = BeautifulSoup(html, 'html.parser')\n",
    "\n",
    "    # soup.selectを利用して、ニュースのタイトルを取得する\n",
    "    elements = soup.select('article div div div a')\n",
    "\n",
    "    # ニュースのトップ3を配列に取得\n",
    "    news = []\n",
    "    for i, element in enumerate(elements):\n",
    "        news.append({\"title\": element.getText()})\n",
    "        if i>=2:\n",
    "            break\n",
    "\n",
    "    return {\"result\": news}\n",
    "\n",
    "# 関数をChain化\n",
    "news_chain = TransformChain(\n",
    "    input_variables=[\"keyword\"],\n",
    "    output_variables=[\"result\"],\n",
    "    transform=get_news\n",
    ")\n"
   ]
  },
  {
   "cell_type": "code",
   "execution_count": 24,
   "metadata": {},
   "outputs": [],
   "source": [
    "# 数式の文字列をもとに計算を行う関数\n",
    "def calc_func(inputs: dict) -> dict:\n",
    "    formula = inputs[\"formula\"]\n",
    "    answer = eval(formula)\n",
    "    return {\"answer\": f\"{answer}\"}\n",
    "\n",
    "# 関数をChain化\n",
    "calc_chain = TransformChain(\n",
    "    input_variables=[\"formula\"],\n",
    "    output_variables=[\"answer\"],\n",
    "    transform=calc_func\n",
    ")"
   ]
  },
  {
   "cell_type": "code",
   "execution_count": 25,
   "metadata": {},
   "outputs": [],
   "source": [
    "from langchain.agents import Tool\n",
    "from langchain_google_community import GoogleSearchAPIWrapper\n",
    "\n",
    "search = GoogleSearchAPIWrapper()\n",
    "\n",
    "tools = [\n",
    "    Tool(\n",
    "        name = \"news\", # 半角英数字のみ\n",
    "        func=news_chain.run,\n",
    "        description=\"ニュースを探す際に役立ちます\"\n",
    "    ),\n",
    "    Tool(\n",
    "        name = \"calculation\", # 半角英数字のみ\n",
    "        func=calc_chain.run,\n",
    "        description=\"計算をする場合に役立ちます\"\n",
    "    ),\n",
    "    Tool(\n",
    "        name = \"Search\", # 半角英数字のみ\n",
    "        func=search.run,\n",
    "        description=\"現在の出来事や世界の現状に関する質問に答える必要がある場合に役立ちます\"\n",
    "    ),\n",
    "]"
   ]
  },
  {
   "cell_type": "code",
   "execution_count": 26,
   "metadata": {},
   "outputs": [],
   "source": [
    "# Choose the LLM that will drive the agent\n",
    "# Only certain models support this\n",
    "llm = ChatOpenAI(model=\"gpt-3.5-turbo-1106\", temperature=0)\n",
    "\n",
    "# Construct the OpenAI Tools agent\n",
    "agent = create_openai_tools_agent(llm, tools, prompt)"
   ]
  },
  {
   "cell_type": "code",
   "execution_count": 27,
   "metadata": {},
   "outputs": [],
   "source": [
    "# Create an agent executor by passing in the agent and tools\n",
    "agent_executor = AgentExecutor(agent=agent, tools=tools, verbose=True)"
   ]
  },
  {
   "cell_type": "code",
   "execution_count": 28,
   "metadata": {},
   "outputs": [
    {
     "name": "stdout",
     "output_type": "stream",
     "text": [
      "\n",
      "\n",
      "\u001b[1m> Entering new AgentExecutor chain...\u001b[0m\n",
      "\u001b[32;1m\u001b[1;3m\n",
      "Invoking: `Search` with `LangChain`\n",
      "\n",
      "\n",
      "\u001b[0m\u001b[38;5;200m\u001b[1;3mFrom startups to global enterprises, ambitious builders choose LangChain. Build. LangChain gives developers a framework to construct LLM‑powered apps easily. What is LangChain? · Open-source libraries: Build your applications using LangChain's modular building blocks and components. · Productionization: Inspect, ... LangChain is a framework for developing applications powered by large language models (LLMs). Introduction. LangChain is a framework for developing applications powered by language models. It enables applications that: ... This framework consists of ... Quickstart · Get setup with LangChain, LangSmith and LangServe · Use the most basic and common components of LangChain: prompt templates, models, and output ... langchain.chains ¶. Chains are easily reusable components linked together. Chains encode a sequence of calls to components like models, document retrievers, ... LangChain is a framework designed to simplify the creation of applications using large language models (LLMs). As a language model integration framework, ... LangChain is an open source orchestration framework for the development of applications using large language models (LLMs), like chatbots and virtual ... May 8, 2023 ... LangChain is “written in Python and JavaScript”, I think it's misleading, as you either use Python only (e.g. with Julia) or the other ... Nov 3, 2023 ... Langchain needs to be rewritten. I hope the team will take into consideration the idea of refactoring the codebase. There is a significant ...\u001b[0m\u001b[32;1m\u001b[1;3mLangChainは、大規模言語モデル（LLM）を活用したアプリケーションの開発フレームワークです。LangChainは、オープンソースのライブラリを提供し、モジュラーな構築ブロックやコンポーネントを使用してアプリケーションを構築することができます。また、LangChainはPythonとJavaScriptで書かれており、チャットボットや仮想アシスタントなどのアプリケーションの開発を簡素化するために設計されています。\u001b[0m\n",
      "\n",
      "\u001b[1m> Finished chain.\u001b[0m\n"
     ]
    },
    {
     "data": {
      "text/plain": [
       "{'input': 'LangChainとは何ですか?',\n",
       " 'output': 'LangChainは、大規模言語モデル（LLM）を活用したアプリケーションの開発フレームワークです。LangChainは、オープンソースのライブラリを提供し、モジュラーな構築ブロックやコンポーネントを使用してアプリケーションを構築することができます。また、LangChainはPythonとJavaScriptで書かれており、チャットボットや仮想アシスタントなどのアプリケーションの開発を簡素化するために設計されています。'}"
      ]
     },
     "execution_count": 28,
     "metadata": {},
     "output_type": "execute_result"
    }
   ],
   "source": [
    "agent_executor.invoke({\"input\": \"LangChainとは何ですか?\"})"
   ]
  },
  {
   "cell_type": "code",
   "execution_count": 29,
   "metadata": {},
   "outputs": [
    {
     "name": "stdout",
     "output_type": "stream",
     "text": [
      "\n",
      "\n",
      "\u001b[1m> Entering new AgentExecutor chain...\u001b[0m\n",
      "\u001b[32;1m\u001b[1;3m\n",
      "Invoking: `calculation` with `8*12`\n",
      "\n",
      "\n",
      "\u001b[0m\u001b[33;1m\u001b[1;3m96\u001b[0m\u001b[32;1m\u001b[1;3m8 かける 12 は 96 です。\u001b[0m\n",
      "\n",
      "\u001b[1m> Finished chain.\u001b[0m\n"
     ]
    },
    {
     "data": {
      "text/plain": [
       "{'input': '8掛ける12は？', 'output': '8 かける 12 は 96 です。'}"
      ]
     },
     "execution_count": 29,
     "metadata": {},
     "output_type": "execute_result"
    }
   ],
   "source": [
    "agent_executor.invoke({\"input\": \"8掛ける12は？\"})"
   ]
  },
  {
   "cell_type": "code",
   "execution_count": 30,
   "metadata": {},
   "outputs": [
    {
     "name": "stdout",
     "output_type": "stream",
     "text": [
      "\n",
      "\n",
      "\u001b[1m> Entering new AgentExecutor chain...\u001b[0m\n",
      "\u001b[32;1m\u001b[1;3m\n",
      "Invoking: `news` with `夏祭り`\n",
      "\n",
      "\n",
      "\u001b[0m\u001b[36;1m\u001b[1;3m[{'title': '【U-NEXT×THE ALFEE】今夏開催の2DAYSイベント「THE ALFEE 2024 Wind of Time ５０年目の夏祭り」にU-NEXT ...'}, {'title': 'THE ALFEE、デビュー50年目の“夏祭り”開催 8月に『夏イベ』Kアリーナ横浜2Days'}, {'title': '《ファイターズ 超夏祭り》高さ12mの巨大ウォータースライダー登場！おとなから子どもまで夏を「超」満喫しよう ...'}]\u001b[0m\u001b[32;1m\u001b[1;3m夏祭りに関するニュースですね。以下は最新の夏祭りに関するニュースの一部です：\n",
      "1. 【U-NEXT×THE ALFEE】今夏開催の2DAYSイベント「THE ALFEE 2024 Wind of Time ５０年目の夏祭り」にU-NEXT ...\n",
      "2. THE ALFEE、デビュー50年目の“夏祭り”開催 8月に『夏イベ』Kアリーナ横浜2Days\n",
      "3. 《ファイターズ 超夏祭り》高さ12mの巨大ウォータースライダー登場！おとなから子どもまで夏を「超」満喫しよう ...\n",
      "\n",
      "どのニュースに興味がありますか？\u001b[0m\n",
      "\n",
      "\u001b[1m> Finished chain.\u001b[0m\n"
     ]
    },
    {
     "data": {
      "text/plain": [
       "{'input': '夏祭りに関するニュースを教えてください',\n",
       " 'output': '夏祭りに関するニュースですね。以下は最新の夏祭りに関するニュースの一部です：\\n1. 【U-NEXT×THE ALFEE】今夏開催の2DAYSイベント「THE ALFEE 2024 Wind of Time ５０年目の夏祭り」にU-NEXT ...\\n2. THE ALFEE、デビュー50年目の“夏祭り”開催 8月に『夏イベ』Kアリーナ横浜2Days\\n3. 《ファイターズ 超夏祭り》高さ12mの巨大ウォータースライダー登場！おとなから子どもまで夏を「超」満喫しよう ...\\n\\nどのニュースに興味がありますか？'}"
      ]
     },
     "execution_count": 30,
     "metadata": {},
     "output_type": "execute_result"
    }
   ],
   "source": [
    "agent_executor.invoke({\"input\": \"夏祭りに関するニュースを教えてください\"})"
   ]
  },
  {
   "cell_type": "markdown",
   "metadata": {},
   "source": [
    "# Toolkit:Pandas DataFrame Agent"
   ]
  },
  {
   "cell_type": "code",
   "execution_count": 31,
   "metadata": {},
   "outputs": [
    {
     "data": {
      "text/html": [
       "<div>\n",
       "<style scoped>\n",
       "    .dataframe tbody tr th:only-of-type {\n",
       "        vertical-align: middle;\n",
       "    }\n",
       "\n",
       "    .dataframe tbody tr th {\n",
       "        vertical-align: top;\n",
       "    }\n",
       "\n",
       "    .dataframe thead th {\n",
       "        text-align: right;\n",
       "    }\n",
       "</style>\n",
       "<table border=\"1\" class=\"dataframe\">\n",
       "  <thead>\n",
       "    <tr style=\"text-align: right;\">\n",
       "      <th></th>\n",
       "      <th>SepalLength</th>\n",
       "      <th>SepalWidth</th>\n",
       "      <th>PetalLength</th>\n",
       "      <th>PetalWidth</th>\n",
       "      <th>Name</th>\n",
       "    </tr>\n",
       "  </thead>\n",
       "  <tbody>\n",
       "    <tr>\n",
       "      <th>0</th>\n",
       "      <td>5.1</td>\n",
       "      <td>3.5</td>\n",
       "      <td>1.4</td>\n",
       "      <td>0.2</td>\n",
       "      <td>Iris-setosa</td>\n",
       "    </tr>\n",
       "    <tr>\n",
       "      <th>1</th>\n",
       "      <td>4.9</td>\n",
       "      <td>3.0</td>\n",
       "      <td>1.4</td>\n",
       "      <td>0.2</td>\n",
       "      <td>Iris-setosa</td>\n",
       "    </tr>\n",
       "    <tr>\n",
       "      <th>2</th>\n",
       "      <td>4.7</td>\n",
       "      <td>3.2</td>\n",
       "      <td>1.3</td>\n",
       "      <td>0.2</td>\n",
       "      <td>Iris-setosa</td>\n",
       "    </tr>\n",
       "    <tr>\n",
       "      <th>3</th>\n",
       "      <td>4.6</td>\n",
       "      <td>3.1</td>\n",
       "      <td>1.5</td>\n",
       "      <td>0.2</td>\n",
       "      <td>Iris-setosa</td>\n",
       "    </tr>\n",
       "    <tr>\n",
       "      <th>4</th>\n",
       "      <td>5.0</td>\n",
       "      <td>3.6</td>\n",
       "      <td>1.4</td>\n",
       "      <td>0.2</td>\n",
       "      <td>Iris-setosa</td>\n",
       "    </tr>\n",
       "  </tbody>\n",
       "</table>\n",
       "</div>"
      ],
      "text/plain": [
       "   SepalLength  SepalWidth  PetalLength  PetalWidth         Name\n",
       "0          5.1         3.5          1.4         0.2  Iris-setosa\n",
       "1          4.9         3.0          1.4         0.2  Iris-setosa\n",
       "2          4.7         3.2          1.3         0.2  Iris-setosa\n",
       "3          4.6         3.1          1.5         0.2  Iris-setosa\n",
       "4          5.0         3.6          1.4         0.2  Iris-setosa"
      ]
     },
     "execution_count": 31,
     "metadata": {},
     "output_type": "execute_result"
    }
   ],
   "source": [
    "import pandas as pd\n",
    "\n",
    "df = pd.read_csv(\"./data2/iris.data\", header=0)\n",
    "df.head()"
   ]
  },
  {
   "cell_type": "code",
   "execution_count": 32,
   "metadata": {},
   "outputs": [],
   "source": [
    "from langchain.agents.agent_types import AgentType\n",
    "from langchain_openai import ChatOpenAI\n",
    "from langchain_experimental.agents.agent_toolkits import create_pandas_dataframe_agent"
   ]
  },
  {
   "cell_type": "code",
   "execution_count": 33,
   "metadata": {},
   "outputs": [],
   "source": [
    "agent = create_pandas_dataframe_agent(\n",
    "    ChatOpenAI(temperature=0, model=\"gpt-3.5-turbo-1106\"),\n",
    "    df,\n",
    "    verbose=True,\n",
    "    agent_type=AgentType.OPENAI_FUNCTIONS,\n",
    ")"
   ]
  },
  {
   "cell_type": "code",
   "execution_count": 34,
   "metadata": {},
   "outputs": [
    {
     "name": "stdout",
     "output_type": "stream",
     "text": [
      "\n",
      "\n",
      "\u001b[1m> Entering new AgentExecutor chain...\u001b[0m\n",
      "\u001b[32;1m\u001b[1;3m\n",
      "Invoking: `python_repl_ast` with `{'query': 'len(df)'}`\n",
      "\n",
      "\n",
      "\u001b[0m\u001b[36;1m\u001b[1;3m150\u001b[0m\u001b[32;1m\u001b[1;3mデータフレームには150行あります。\u001b[0m\n",
      "\n",
      "\u001b[1m> Finished chain.\u001b[0m\n"
     ]
    },
    {
     "data": {
      "text/plain": [
       "'データフレームには150行あります。'"
      ]
     },
     "execution_count": 34,
     "metadata": {},
     "output_type": "execute_result"
    }
   ],
   "source": [
    "agent.run(\"何行ありますか？\")"
   ]
  },
  {
   "cell_type": "code",
   "execution_count": 35,
   "metadata": {},
   "outputs": [
    {
     "name": "stdout",
     "output_type": "stream",
     "text": [
      "\n",
      "\n",
      "\u001b[1m> Entering new AgentExecutor chain...\u001b[0m\n",
      "\u001b[32;1m\u001b[1;3m\n",
      "Invoking: `python_repl_ast` with `{'query': \"df['Name'].describe()\"}`\n",
      "\n",
      "\n",
      "\u001b[0m\u001b[36;1m\u001b[1;3mcount             150\n",
      "unique              3\n",
      "top       Iris-setosa\n",
      "freq               50\n",
      "Name: Name, dtype: object\u001b[0m\u001b[32;1m\u001b[1;3mName列の基本統計量は以下の通りです:\n",
      "- データ数: 150\n",
      "- ユニークな値の数: 3\n",
      "- 最頻値: Iris-setosa\n",
      "- 最頻値の出現回数: 50\u001b[0m\n",
      "\n",
      "\u001b[1m> Finished chain.\u001b[0m\n"
     ]
    },
    {
     "data": {
      "text/plain": [
       "'Name列の基本統計量は以下の通りです:\\n- データ数: 150\\n- ユニークな値の数: 3\\n- 最頻値: Iris-setosa\\n- 最頻値の出現回数: 50'"
      ]
     },
     "execution_count": 35,
     "metadata": {},
     "output_type": "execute_result"
    }
   ],
   "source": [
    "agent.run(\"Nameの基本統計量を出力してください\")"
   ]
  },
  {
   "cell_type": "code",
   "execution_count": 36,
   "metadata": {},
   "outputs": [
    {
     "name": "stdout",
     "output_type": "stream",
     "text": [
      "\n",
      "\n",
      "\u001b[1m> Entering new AgentExecutor chain...\u001b[0m\n",
      "\u001b[32;1m\u001b[1;3mこのデータは、アヤメの花（Iris）のがく片（Sepal）と花弁（Petal）の長さと幅を記録したものです。各行は1つのアヤメの花を表し、それぞれの花についてがく片と花弁の長さと幅が記録されています。また、各花の品種（Name）も記録されています。データの先頭から5行を示しています。\u001b[0m\n",
      "\n",
      "\u001b[1m> Finished chain.\u001b[0m\n"
     ]
    },
    {
     "data": {
      "text/plain": [
       "'このデータは、アヤメの花（Iris）のがく片（Sepal）と花弁（Petal）の長さと幅を記録したものです。各行は1つのアヤメの花を表し、それぞれの花についてがく片と花弁の長さと幅が記録されています。また、各花の品種（Name）も記録されています。データの先頭から5行を示しています。'"
      ]
     },
     "execution_count": 36,
     "metadata": {},
     "output_type": "execute_result"
    }
   ],
   "source": [
    "agent.run(\"このデータについて説明してください\")"
   ]
  },
  {
   "cell_type": "markdown",
   "metadata": {},
   "source": [
    "# Toolkit:Python Agent"
   ]
  },
  {
   "cell_type": "code",
   "execution_count": 37,
   "metadata": {},
   "outputs": [],
   "source": [
    "from langchain import hub\n",
    "from langchain.agents import AgentExecutor\n",
    "from langchain_experimental.tools import PythonREPLTool"
   ]
  },
  {
   "cell_type": "code",
   "execution_count": 38,
   "metadata": {},
   "outputs": [],
   "source": [
    "tools = [PythonREPLTool()]"
   ]
  },
  {
   "cell_type": "code",
   "execution_count": 39,
   "metadata": {},
   "outputs": [],
   "source": [
    "from langchain.agents import create_openai_functions_agent\n",
    "from langchain_openai import ChatOpenAI"
   ]
  },
  {
   "cell_type": "code",
   "execution_count": 40,
   "metadata": {},
   "outputs": [],
   "source": [
    "instructions = \"\"\"あなたは、質問に答えるために Python コードを作成して実行するように設計されたエージェントです。\n",
    "Python コードを実行するために使用できる Python REPL にアクセスできます。\n",
    "エラーが発生した場合は、コードをデバッグして再試行してください。\n",
    "コードの出力は質問に答えるためにのみ使用してください。\n",
    "コードを実行しなくても答えがわかる場合もありますが、答えを得るにはコードを実行する必要があります。\n",
    "質問に答えるコードを書けそうにない場合は、「わかりません」と答えてください。\n",
    "\"\"\"\n",
    "base_prompt = hub.pull(\"langchain-ai/openai-functions-template\")\n",
    "prompt = base_prompt.partial(instructions=instructions)"
   ]
  },
  {
   "cell_type": "code",
   "execution_count": 41,
   "metadata": {},
   "outputs": [],
   "source": [
    "agent = create_openai_functions_agent(ChatOpenAI(temperature=0), tools, prompt)"
   ]
  },
  {
   "cell_type": "code",
   "execution_count": 42,
   "metadata": {},
   "outputs": [],
   "source": [
    "agent_executor = AgentExecutor(agent=agent, tools=tools, verbose=True)"
   ]
  },
  {
   "cell_type": "code",
   "execution_count": 43,
   "metadata": {},
   "outputs": [
    {
     "name": "stdout",
     "output_type": "stream",
     "text": [
      "\n",
      "\n",
      "\u001b[1m> Entering new AgentExecutor chain...\u001b[0m\n"
     ]
    },
    {
     "name": "stderr",
     "output_type": "stream",
     "text": [
      "Python REPL can execute arbitrary code. Use with caution.\n"
     ]
    },
    {
     "name": "stdout",
     "output_type": "stream",
     "text": [
      "\u001b[32;1m\u001b[1;3m\n",
      "Invoking: `Python_REPL` with `def is_prime(n):\n",
      "    if n <= 1:\n",
      "        return False\n",
      "    for i in range(2, int(n**0.5) + 1):\n",
      "        if n % i == 0:\n",
      "            return False\n",
      "    return True\n",
      "\n",
      "primes = [num for num in range(2, 101) if is_prime(num)]\n",
      "primes`\n",
      "\n",
      "\n",
      "\u001b[0m\u001b[36;1m\u001b[1;3m\u001b[0m\u001b[32;1m\u001b[1;3m100までの素数は、\\[2, 3, 5, 7, 11, 13, 17, 19, 23, 29, 31, 37, 41, 43, 47, 53, 59, 61, 67, 71, 73, 79, 83, 89, 97\\] です。\u001b[0m\n",
      "\n",
      "\u001b[1m> Finished chain.\u001b[0m\n"
     ]
    },
    {
     "data": {
      "text/plain": [
       "{'input': '100までの素数を求めよ',\n",
       " 'output': '100までの素数は、\\\\[2, 3, 5, 7, 11, 13, 17, 19, 23, 29, 31, 37, 41, 43, 47, 53, 59, 61, 67, 71, 73, 79, 83, 89, 97\\\\] です。'}"
      ]
     },
     "execution_count": 43,
     "metadata": {},
     "output_type": "execute_result"
    }
   ],
   "source": [
    "agent_executor.invoke({\"input\": \"100までの素数を求めよ\"})"
   ]
  },
  {
   "cell_type": "code",
   "execution_count": null,
   "metadata": {},
   "outputs": [],
   "source": []
  }
 ],
 "metadata": {
  "kernelspec": {
   "display_name": ".venv",
   "language": "python",
   "name": "python3"
  },
  "language_info": {
   "codemirror_mode": {
    "name": "ipython",
    "version": 3
   },
   "file_extension": ".py",
   "mimetype": "text/x-python",
   "name": "python",
   "nbconvert_exporter": "python",
   "pygments_lexer": "ipython3",
   "version": "3.11.7"
  },
  "orig_nbformat": 4
 },
 "nbformat": 4,
 "nbformat_minor": 2
}
