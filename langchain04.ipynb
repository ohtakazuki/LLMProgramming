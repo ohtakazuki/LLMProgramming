{
 "cells": [
  {
   "cell_type": "markdown",
   "metadata": {},
   "source": [
    "# Agent\n",
    "\n",
    "# 準備"
   ]
  },
  {
   "cell_type": "code",
   "execution_count": 1,
   "metadata": {},
   "outputs": [],
   "source": [
    "# 必要なモジュールをインポート\n",
    "import os\n",
    "from dotenv import load_dotenv\n",
    "\n",
    "# 環境変数の読み込み\n",
    "load_dotenv()\n",
    "os.environ[\"OPENAI_API_KEY\"] = os.environ[\"API_KEY\"]"
   ]
  },
  {
   "cell_type": "markdown",
   "metadata": {},
   "source": [
    "# Google検索Agent"
   ]
  },
  {
   "cell_type": "code",
   "execution_count": 2,
   "metadata": {},
   "outputs": [],
   "source": [
    "from langchain.agents import Tool\n",
    "from langchain_google_community import GoogleSearchAPIWrapper\n",
    "\n",
    "search = GoogleSearchAPIWrapper()\n",
    "\n",
    "tools = [\n",
    "    Tool(\n",
    "        name = \"GoogleSearch\", # 名前は半角英数字のみ\n",
    "        func=search.run,\n",
    "        description=\"Search Google for recent results.\"\n",
    "    )\n",
    "]"
   ]
  },
  {
   "cell_type": "code",
   "execution_count": 3,
   "metadata": {},
   "outputs": [],
   "source": [
    "from langchain_openai import ChatOpenAI\n",
    "\n",
    "llm = ChatOpenAI(model=\"gpt-3.5-turbo-0125\", temperature=1.2)"
   ]
  },
  {
   "cell_type": "code",
   "execution_count": 4,
   "metadata": {},
   "outputs": [
    {
     "data": {
      "text/plain": [
       "[SystemMessagePromptTemplate(prompt=PromptTemplate(input_variables=[], template='You are a helpful assistant')),\n",
       " MessagesPlaceholder(variable_name='chat_history', optional=True),\n",
       " HumanMessagePromptTemplate(prompt=PromptTemplate(input_variables=['input'], template='{input}')),\n",
       " MessagesPlaceholder(variable_name='agent_scratchpad')]"
      ]
     },
     "execution_count": 4,
     "metadata": {},
     "output_type": "execute_result"
    }
   ],
   "source": [
    "from langchain import hub\n",
    "\n",
    "prompt = hub.pull(\"hwchase17/openai-functions-agent\")\n",
    "prompt.messages"
   ]
  },
  {
   "cell_type": "code",
   "execution_count": 5,
   "metadata": {},
   "outputs": [],
   "source": [
    "from langchain.agents import create_openai_functions_agent\n",
    "\n",
    "agent = create_openai_functions_agent(llm, tools, prompt)"
   ]
  },
  {
   "cell_type": "code",
   "execution_count": 6,
   "metadata": {},
   "outputs": [],
   "source": [
    "from langchain.agents import AgentExecutor\n",
    "\n",
    "agent_executor = AgentExecutor(agent=agent, tools=tools, verbose=True)"
   ]
  },
  {
   "cell_type": "code",
   "execution_count": 7,
   "metadata": {},
   "outputs": [
    {
     "name": "stdout",
     "output_type": "stream",
     "text": [
      "\n",
      "\n",
      "\u001b[1m> Entering new AgentExecutor chain...\u001b[0m\n",
      "\u001b[32;1m\u001b[1;3m\n",
      "Invoking: `GoogleSearch` with `岸田総理の日米首脳会談の結果`\n",
      "\n",
      "\n",
      "\u001b[0m\u001b[36;1m\u001b[1;3mApr 10, 2024 ... 関連リンク · 日米共同記者会見（官邸HP） · 岸田総理大臣のホワイトハウスでの歓迎式典出席（外務省HP） 別ウィンドウで開く · 日米首脳会談（外務省 ... Nov 16, 2023 ... 現地時間11月16日午後5時15分（日本時間17日午前10時15分）から約15分間、APEC首脳会議に出席するため米国サンフランシスコを訪問中の岸田文雄内閣 ... Apr 12, 2024 ... 岸田総理が米国から国賓待遇で招待を受け2024年4月8日～14日の予定で訪米している。4月10日にバイデン大統領との公式な日米首脳会談が行われ、会談後 ... Nov 15, 2023 ... APEC（アジア太平洋経済協力、Asia Pacific Economic Cooperation） · 岸田総理大臣の米国訪問（令和5年11月15日～19日） · APEC首脳会議 · IPEF首脳会合. Nov 17, 2023 ... 【NHK】岸田総理大臣は、訪問先のアメリカでバイデン大統領との首脳会談に臨み、中国への対応について、16日の米中首脳会談の結果など… Jan 13, 2023 ... を訪問中の岸田文雄内閣総理大臣は、ジョセフ・バイデン米国大統領（The Honorable Joseph R. Biden, Jr., President of the United States of America） ... Apr 11, 2024 ... 【NHK】アメリカを訪れている岸田総理大臣はバイデン大統領と会談し、自衛隊とアメリカ軍の指揮・統制の向上など、防衛協力を深めるとと… Feb 8, 2024 ... 岸田文雄首相は9日、政府与党連絡会議であいさつし、諸般の事情が許せば、国賓待遇で米国を公式に訪問し4月10日にワシントンⅮCで日米首脳会談を ... Apr 11, 2024 ... ... 日米両国がグローバルなパートナーとして真価を発揮すべき時だ」と述べた。 岸田首相は首脳会談前日の4月9日に米国商工会議所と米日経済協議会（USJBC ... 2024年4月10日（米国時間）、ワシントンDCを公式訪問中の岸田首相はバイデン大統領と日米首脳会談を行い、その後に出された共同声明およびファクトシートにて、 ...\u001b[0m\u001b[32;1m\u001b[1;3m岸田総理は2024年4月10日にバイデン大統領と公式な日米首脳会談を行いました。会談後、共同声明とファクトシートが出されました。会談では、日米両国がグローバルなパートナーとして真価を発揮すべきとの考えが述べられました。\u001b[0m\n",
      "\n",
      "\u001b[1m> Finished chain.\u001b[0m\n"
     ]
    },
    {
     "data": {
      "text/plain": [
       "{'input': '岸田総理の日米首脳会談の結果について教えてください',\n",
       " 'output': '岸田総理は2024年4月10日にバイデン大統領と公式な日米首脳会談を行いました。会談後、共同声明とファクトシートが出されました。会談では、日米両国がグローバルなパートナーとして真価を発揮すべきとの考えが述べられました。'}"
      ]
     },
     "execution_count": 7,
     "metadata": {},
     "output_type": "execute_result"
    }
   ],
   "source": [
    "agent_executor.invoke({\"input\": \"岸田総理の日米首脳会談の結果について教えてください\"})"
   ]
  },
  {
   "cell_type": "markdown",
   "metadata": {},
   "source": [
    "# 対話型Google検索Agent\n",
    "\n",
    "https://python.langchain.com/docs/modules/memory/agent_with_memory"
   ]
  },
  {
   "cell_type": "code",
   "execution_count": 17,
   "metadata": {},
   "outputs": [],
   "source": [
    "from langchain.agents import AgentExecutor, Tool, ZeroShotAgent\n",
    "from langchain.chains import LLMChain\n",
    "from langchain.memory import ConversationBufferMemory\n",
    "from langchain_google_community import GoogleSearchAPIWrapper\n",
    "from langchain_openai import ChatOpenAI"
   ]
  },
  {
   "cell_type": "code",
   "execution_count": 18,
   "metadata": {},
   "outputs": [],
   "source": [
    "search = GoogleSearchAPIWrapper()\n",
    "tools = [\n",
    "    Tool(\n",
    "        name=\"Search\",\n",
    "        func=search.run,\n",
    "        description=\"現在の出来事に関する質問に答える必要がある場合に便利です\",\n",
    "    )\n",
    "]"
   ]
  },
  {
   "cell_type": "code",
   "execution_count": 19,
   "metadata": {},
   "outputs": [],
   "source": [
    "prefix = \"\"\"あなたは日本語で回答します。あなたは人間と会話し、次の質問にできる限り答えてください。次のツールにアクセスできます:\"\"\"\n",
    "\n",
    "suffix = \"\"\"開始！\"\n",
    "\n",
    "{chat_history}\n",
    "Question: {input}\n",
    "{agent_scratchpad}\"\"\"\n",
    "\n",
    "prompt = ZeroShotAgent.create_prompt(\n",
    "    tools,\n",
    "    prefix=prefix,\n",
    "    suffix=suffix,\n",
    "    input_variables=[\"input\", \"chat_history\", \"agent_scratchpad\"],\n",
    ")\n",
    "memory = ConversationBufferMemory(memory_key=\"chat_history\")"
   ]
  },
  {
   "cell_type": "code",
   "execution_count": 20,
   "metadata": {},
   "outputs": [],
   "source": [
    "llm_chain = LLMChain(llm=ChatOpenAI(model=\"gpt-3.5-turbo-0125\", temperature=1.2), prompt=prompt)\n",
    "agent = ZeroShotAgent(llm_chain=llm_chain, tools=tools, verbose=True)\n",
    "agent_chain = AgentExecutor.from_agent_and_tools(\n",
    "    agent=agent, tools=tools, verbose=True, memory=memory\n",
    ")"
   ]
  },
  {
   "cell_type": "code",
   "execution_count": 21,
   "metadata": {},
   "outputs": [
    {
     "name": "stdout",
     "output_type": "stream",
     "text": [
      "\n",
      "\n",
      "\u001b[1m> Entering new AgentExecutor chain...\u001b[0m\n",
      "\u001b[32;1m\u001b[1;3mThought: I don't know the exact population of Japan\n",
      "Action: Search\n",
      "Action Input: \"日本の人口は何人ですか\"\u001b[0m\n",
      "Observation: \u001b[36;1m\u001b[1;3m4 days ago ... ... 日本の人口 ... 統計調査等業務の業務・システム最適化と政府統計共同利用システム ... PDF形式のファイルをご覧いただく場合には、Adobe Readerが必要です。 Apr 17, 2024 ... ... です。 ＜目次＞ UNFPA事務局長の声明文：「世界人口白書2024」発表に寄せて 概要 主な調査結果 世界人口・日本人口（2024年） 関連資料・リンク ... Apr 12, 2023 ... 2022年（令和4年）10月1日現在の日本の人口について、年齢各歳別人口や都道府県別人口の推計結果を掲載しています。 May 30, 2022 ... 国連人口基金（UNFPA）が発表した「世界人口白書2022」によると、2022年の世界の総人口は79億5400万人だ。日本は11位で、前年と同じ順位だった。 Jan 22, 2024 ... 各月の「人口増減」は、当該1か月分の数値. 4 ... なお、最新推計月の3か月前と4か月前については ... 日本人人口 ＝基準人口（日本人）＋自然動態 ... Jun 13, 2023 ... 国連人口基金（UNFPA）の「世界人口白書2023」によると、2023年の世界人口は80億4500万人で初めて80億人に到達し、これまで1位だった中国をインドが ... 人口の多い国. 順位 ( じゅんい ), 国名, 推計 ( すいけい ) 人口 （1,000人）（2021年）. 1, 中国の国旗, 中華 ( ちゅうか ) ... 日本の国旗, 日本, 125,502. 注記 ( ちゅうき ). 約3億2000万人ですが、増加し続けています。U.S. and World Population. 世界ではアジアやアフリカの国々の人口が増えていく; 日本は世界のなかでも 高齢化 ( こうれいか ) が速く進んでいる. 日本の人口は約1億2600万人ですが、子どもの人口 ... 日本の将来推計人口. 表2-3-3 総人口, 高年齢 コウネンレイ 区分（60歳 以上 イジョウ ,70歳以上,80歳以上,90歳以上）別人口および年齢構造係数：低位推計.\u001b[0m\n",
      "Thought:\u001b[32;1m\u001b[1;3m情報が多いですが、最終的な答えを見つけました。\n",
      "Final Answer: 日本の人口は約1億2600万人です。\u001b[0m\n",
      "\n",
      "\u001b[1m> Finished chain.\u001b[0m\n"
     ]
    },
    {
     "data": {
      "text/plain": [
       "{'input': '日本の人口は何人ですか？', 'chat_history': '', 'output': '日本の人口は約1億2600万人です。'}"
      ]
     },
     "execution_count": 21,
     "metadata": {},
     "output_type": "execute_result"
    }
   ],
   "source": [
    "agent_chain.invoke({\"input\":\"日本の人口は何人ですか？\"})"
   ]
  },
  {
   "cell_type": "code",
   "execution_count": 22,
   "metadata": {},
   "outputs": [
    {
     "name": "stdout",
     "output_type": "stream",
     "text": [
      "\n",
      "\n",
      "\u001b[1m> Entering new AgentExecutor chain...\u001b[0m\n",
      "\u001b[32;1m\u001b[1;3mThought: I should search for the national anthem of Japan\n",
      "Action: Search\n",
      "Action Input: \"National anthem of Japan\"\u001b[0m\n",
      "Observation: \u001b[36;1m\u001b[1;3mMay 8, 2010 ... \"Kimigayo\" (君が代?) is Japan's national anthem. It is also one of the world's shortest national anthems in current use, with a length of 11 ... \"Kimigayo\" (君が代, Japanese pronunciation: [kimiɡajo]; \"His Imperial Majesty's Reign\") is the national anthem of Japan. The lyrics are from a waka poem written ... Jul 31, 2022 ... Lyrics: Written during the Heian period (794–1185) Music: John William Fenton, 1869 Adopted: 1869, informally, 1999, made law. Jul 26, 2023 ... 'Kimigayo' is the country's single-verse national anthem, based on the words of a classical Japanese waka poem written by an unknown author ... The Rising Sun Flag and \"Kimi Ga Yo\" are respectively the national flag and anthem of Japan. This was formalized in 1999 with the Law regarding the National ... Jan 21, 2022 ... It came to existence in times when country was nearly annihilated so all the military themes are there to reinforce hope. Thanks for correction ... Jan 13, 2015 ... Four persons were named to a committee to revise the National anthem for Japan. Among them was Hiromori Hayashi, who produced a melody that was ... Mar 15, 2018 ... That's the Kimigayo, which has been the anthem of Japan since 1888, although the poem it is based on is about a thousand years older. It's ... Nov 4, 2022 ... It is a song that the people sincerely praise and celebrate.” The Japanese people came to be familiarized with Kimigayo as the Japanese national ... Aug 14, 2016 ... It certainly is a dirge like tune, isn't it? The Japanese are super serious with this kind of thing. If something is ceremonial, they are all in ...\u001b[0m\n",
      "Thought:\u001b[32;1m\u001b[1;3mI now know the national anthem of Japan\n",
      "Final Answer: \"Kimigayo\" (君が代)\u001b[0m\n",
      "\n",
      "\u001b[1m> Finished chain.\u001b[0m\n"
     ]
    },
    {
     "data": {
      "text/plain": [
       "{'input': '「その国の国歌を教えて',\n",
       " 'chat_history': 'Human: 日本の人口は何人ですか？\\nAI: 日本の人口は約1億2600万人です。',\n",
       " 'output': '\"Kimigayo\" (君が代)'}"
      ]
     },
     "execution_count": 22,
     "metadata": {},
     "output_type": "execute_result"
    }
   ],
   "source": [
    "agent_chain.invoke(input=\"「その国の国歌を教えて\")"
   ]
  },
  {
   "cell_type": "markdown",
   "metadata": {},
   "source": [
    "# Index検索Agent"
   ]
  },
  {
   "cell_type": "code",
   "execution_count": 23,
   "metadata": {},
   "outputs": [],
   "source": [
    "from langchain_community.document_loaders import PyPDFLoader\n",
    "from langchain_text_splitters import CharacterTextSplitter\n",
    "from langchain_openai import OpenAIEmbeddings\n",
    "from langchain_community.vectorstores import Chroma\n",
    "\n",
    "# PDFの読込\n",
    "loader = PyPDFLoader(\"./data2/001615363.pdf\")\n",
    "documents = loader.load()\n",
    "\n",
    "# チャンクに分割\n",
    "text_splitter = CharacterTextSplitter(separator=\"\\n\", chunk_size=512, chunk_overlap=0)\n",
    "texts = text_splitter.split_documents(documents)\n",
    "\n",
    "# Indexの構築\n",
    "db = Chroma.from_documents(texts, OpenAIEmbeddings())\n",
    "\n",
    "# 検索（Retriever）の取得\n",
    "retriever = db.as_retriever()"
   ]
  },
  {
   "cell_type": "code",
   "execution_count": 24,
   "metadata": {},
   "outputs": [],
   "source": [
    "from langchain.tools.retriever import create_retriever_tool\n",
    "\n",
    "tools = [\n",
    "  create_retriever_tool(\n",
    "      retriever,\n",
    "      \"ForeignTravelersQASystem\",\n",
    "      \"訪日外国人の旅行や土産品、消費動向に関する質問に役立ちます。\",\n",
    "  )\n",
    "]"
   ]
  },
  {
   "cell_type": "code",
   "execution_count": 25,
   "metadata": {},
   "outputs": [],
   "source": [
    "from langchain_openai import ChatOpenAI\n",
    "\n",
    "llm = ChatOpenAI(model=\"gpt-3.5-turbo-0125\", temperature=1.2)"
   ]
  },
  {
   "cell_type": "code",
   "execution_count": 26,
   "metadata": {},
   "outputs": [
    {
     "data": {
      "text/plain": [
       "[SystemMessagePromptTemplate(prompt=PromptTemplate(input_variables=[], template='You are a helpful assistant')),\n",
       " MessagesPlaceholder(variable_name='chat_history', optional=True),\n",
       " HumanMessagePromptTemplate(prompt=PromptTemplate(input_variables=['input'], template='{input}')),\n",
       " MessagesPlaceholder(variable_name='agent_scratchpad')]"
      ]
     },
     "execution_count": 26,
     "metadata": {},
     "output_type": "execute_result"
    }
   ],
   "source": [
    "from langchain import hub\n",
    "\n",
    "# Get the prompt to use - you can modify this!\n",
    "prompt = hub.pull(\"hwchase17/openai-functions-agent\")\n",
    "prompt.messages"
   ]
  },
  {
   "cell_type": "code",
   "execution_count": 27,
   "metadata": {},
   "outputs": [],
   "source": [
    "from langchain.agents import create_openai_functions_agent\n",
    "\n",
    "agent = create_openai_functions_agent(llm, tools, prompt)"
   ]
  },
  {
   "cell_type": "code",
   "execution_count": 28,
   "metadata": {},
   "outputs": [],
   "source": [
    "from langchain.agents import AgentExecutor\n",
    "\n",
    "agent_executor = AgentExecutor(agent=agent, tools=tools, verbose=True)"
   ]
  },
  {
   "cell_type": "code",
   "execution_count": 29,
   "metadata": {},
   "outputs": [
    {
     "name": "stdout",
     "output_type": "stream",
     "text": [
      "\n",
      "\n",
      "\u001b[1m> Entering new AgentExecutor chain...\u001b[0m\n",
      "\u001b[32;1m\u001b[1;3m\n",
      "Invoking: `ForeignTravelersQASystem` with `{'query': 'お土産の購入状況'}`\n",
      "\n",
      "\n",
      "\u001b[0m\u001b[36;1m\u001b[1;3m訪日外国人消費動向調査  \n",
      " \n",
      "20 ３．土産品の購入実態  \n",
      " \n",
      "（１） 費目別購入率 \n",
      " 費目別の 購入率（その費目を購入した人の\n",
      "割合）は「菓子類」 （ 70.4％）、「その他食\n",
      "料品・飲料・たばこ」 （ 43.4％）、 「衣類」\n",
      "（33.8％）の順で高 い（図表3-1）。 \n",
      " 国籍・地域別で 最も購入率が 高い費目は 、\n",
      "韓国、台湾、香港 、中国で「菓子類」 （ それ\n",
      "ぞれ82.9％、72.9％、63.3％、73.1％）、\n",
      "米国で「その他食料品・飲料・たばこ」\n",
      "（54.1％）となっている 。  \n",
      " \n",
      "（２）費目別購入者単価  \n",
      " 費目別の購入者単価 （その費目を購入し\n",
      "た人における当該費目の 1人当たり平均\n",
      "支出）は、「 宝石・貴金属 」が8.3万円\n",
      "と最も高い（図表 3-1）。 \n",
      " 国籍・地域別では 、台湾と香港の「宝\n",
      "石・貴金属 」（それぞれ 19.9万円、\n",
      "16.6万円）が他の国籍・地域に比べ高\n",
      "い。\n",
      "  図表3-1 買物代の費目別購入率および購入者単価  （主要国籍･地域別 、全目的）\n",
      "\n",
      "訪日外国人消費動向調査 \n",
      " \n",
      "38 \n",
      " （３）買物場所 \n",
      "百貨店・デパート \n",
      "原則として百貨店協会加盟の店舗 \n",
      "家電量販店 \n",
      "PCやカメラ、電気製品を専門に販売する店舗 \n",
      "ファッション専門店 \n",
      "服・鞄・靴・アクセサリー・高級腕時計等\n",
      "を専門に販売する店舗 \n",
      "100 円ショップ \n",
      "店内の商品を原則として 1 点 100 日本円均\n",
      "一で 販売する形態の小売店 \n",
      "高速道路の SA・道の駅 \n",
      "高速道路のサービスエリア（SA）やパーキ\n",
      "ングエリア（PA）、国土交通省に登録され\n",
      "ている「道の駅」 \n",
      "観光地の土産店 \n",
      "観光地内にある小売店 \n",
      "宿泊施設 \n",
      "旅館・ホテル等の館内に併設されている土産店 \n",
      "スーパーマーケット \n",
      "高頻度に消費される食料品や日用品等をセル\n",
      "フサービスで短時間に買えるようにした小売\n",
      "店舗 \n",
      "コンビニエンスストア \n",
      "年中無休で長時間の営業を行い、小規模な\n",
      "店舗において主に食品、日用雑貨等多数の\n",
      "品種を扱う形態の小売店 \n",
      "ドラッグストア \n",
      "医薬品や化粧品、トイレタリーを中心と\n",
      "し、併せて日用品や文房具、食料品等を取\n",
      "扱う店舗 ディスカウントストア \n",
      "一時的なセールではなく常に低価格で商品\n",
      "\n",
      "図表3-2 買物代の費目別購入率および 購入者単価  （主要国籍･地域別 、観光・レジャー目的 ） \n",
      "国籍･地域\n",
      "費目 購入率購入者\n",
      "単価\n",
      "（円）購入率購入者\n",
      "単価\n",
      "（円）購入率購入者\n",
      "単価\n",
      "（円）購入率購入者\n",
      "単価\n",
      "（円）購入率購入者\n",
      "単価\n",
      "（円）購入率購入者\n",
      "単価\n",
      "（円）\n",
      "菓子類 70.4% 10,646 82.9% 7,585 72.9% 12,517 63.3% 12,864 73.1% 16,057 43.7% 10,962\n",
      "酒類 25.2% 10,365 34.5% 7,995 20.3% 10,001 14.7% 17,047 13.9% 18,150 28.5% 12,405\n",
      "生鮮農産物 5.9% 22,304 3.8% 38,719 10.2% 12,699 10.3% 8,165 8.6% 36,296 3.8% 8,949\n",
      "その他食料品・飲料・たばこ 43.4% 12,931 37.2% 10,579 41.5% 12,795 44.9% 13,481 49.7% 26,308 54.1% 14,773\n",
      "\n",
      "その他買物代 7.1% 23,682 6.9% 15,818 5.3% 20,708 6.7% 36,537 2.7% 42,926 10.6% 22,066全国籍･地域 韓　国 台　湾 香　港 中　国 米　国\n",
      "国籍･地域\n",
      "費目 購入率購入者\n",
      "単価\n",
      "（円）購入率購入者\n",
      "単価\n",
      "（円）購入率購入者\n",
      "単価\n",
      "（円）購入率購入者\n",
      "単価\n",
      "（円）購入率購入者\n",
      "単価\n",
      "（円）購入率購入者\n",
      "単価\n",
      "（円）\n",
      "菓子類 73.7% 10,370 84.3% 7,444 73.5% 12,263 64.0% 12,708 68.9% 8,056 47.6% 12,112\n",
      "酒類 25.8% 9,523 34.7% 7,449 19.7% 9,774 14.3% 16,290 5.1% 8,244 27.5% 12,793\n",
      "生鮮農産物 5.6% 7,117 2.9% 6,932 10.6% 7,984 10.4% 6,128 0.0% - 3.7% 4,114\n",
      "その他食料品・飲料・たばこ 43.4% 10,600 37.1% 7,642 41.5% 10,609 45.5% 12,616 65.1% 6,261 56.3% 13,195\u001b[0m\u001b[32;1m\u001b[1;3mお土産の購入実態に関する情報をお伝えします。\n",
      "\n",
      "1. 費目別の購入率:\n",
      "- 費目別の購入率は、「菓子類」が70.4%、「その他食料品・飲料・たばこ」が43.4%、「衣類」が33.8%となっています。\n",
      "\n",
      "2. 国籍・地域別での購入率が高い費目:\n",
      "- 韓国、台湾、香港、中国では「菓子類」が最も購入率が高くなっており、米国では「その他食料品・飲料・たばこ」が高いです。\n",
      "\n",
      "3. 買物場所:\n",
      "- 土産品の購入場所としては、百貨店・デパート、家電量販店、ファッション専門店、100円ショップ、高速道路のSA・道の駅、観光地の土産店、宿泊施設、スーパーマーケット、コンビニエンスストア、ドラッグストア、ディスカウントストアなどがあります。\n",
      "\n",
      "以上がお土産の購入実態に関する情報です。ご参考までにどうぞ。\u001b[0m\n",
      "\n",
      "\u001b[1m> Finished chain.\u001b[0m\n"
     ]
    },
    {
     "data": {
      "text/plain": [
       "{'input': 'お土産の購入状況を教えて',\n",
       " 'output': 'お土産の購入実態に関する情報をお伝えします。\\n\\n1. 費目別の購入率:\\n- 費目別の購入率は、「菓子類」が70.4%、「その他食料品・飲料・たばこ」が43.4%、「衣類」が33.8%となっています。\\n\\n2. 国籍・地域別での購入率が高い費目:\\n- 韓国、台湾、香港、中国では「菓子類」が最も購入率が高くなっており、米国では「その他食料品・飲料・たばこ」が高いです。\\n\\n3. 買物場所:\\n- 土産品の購入場所としては、百貨店・デパート、家電量販店、ファッション専門店、100円ショップ、高速道路のSA・道の駅、観光地の土産店、宿泊施設、スーパーマーケット、コンビニエンスストア、ドラッグストア、ディスカウントストアなどがあります。\\n\\n以上がお土産の購入実態に関する情報です。ご参考までにどうぞ。'}"
      ]
     },
     "execution_count": 29,
     "metadata": {},
     "output_type": "execute_result"
    }
   ],
   "source": [
    "agent_executor.invoke({\"input\": \"お土産の購入状況を教えて\"})"
   ]
  },
  {
   "cell_type": "markdown",
   "metadata": {},
   "source": [
    "# OpenAI Tool"
   ]
  },
  {
   "cell_type": "code",
   "execution_count": 30,
   "metadata": {},
   "outputs": [],
   "source": [
    "from langchain import hub\n",
    "from langchain.agents import AgentExecutor, create_openai_tools_agent\n",
    "from langchain_openai import ChatOpenAI"
   ]
  },
  {
   "cell_type": "code",
   "execution_count": 31,
   "metadata": {},
   "outputs": [],
   "source": [
    "# Get the prompt to use - you can modify this!\n",
    "prompt = hub.pull(\"hwchase17/openai-tools-agent\")"
   ]
  },
  {
   "cell_type": "code",
   "execution_count": 32,
   "metadata": {},
   "outputs": [],
   "source": [
    "import requests\n",
    "from bs4 import BeautifulSoup\n",
    "from langchain.chains import TransformChain\n",
    "\n",
    "# ニュースを検索する関数\n",
    "def get_news(inputs: dict) -> dict:\n",
    "    keyword = inputs[\"keyword\"]\n",
    "\n",
    "    # WebサイトのURLを指定\n",
    "    url = f'https://news.google.com/search?q={keyword}&hl=ja&gl=JP&ceid=JP:ja'\n",
    "\n",
    "    # Requestsを利用してWebページを取得する\n",
    "    response = requests.get(url)\n",
    "    html = response.text\n",
    "\n",
    "    # BeautifulSoupを利用してWebページを解析する\n",
    "    soup = BeautifulSoup(html, 'html.parser')\n",
    "\n",
    "    # soup.selectを利用して、ニュースのタイトルを取得する\n",
    "    elements = soup.select('article div div div a')\n",
    "\n",
    "    # ニュースのトップ3を配列に取得\n",
    "    news = []\n",
    "    for i, element in enumerate(elements):\n",
    "        news.append({\"title\": element.getText()})\n",
    "        if i>=2:\n",
    "            break\n",
    "\n",
    "    return {\"result\": news}\n",
    "\n",
    "# 関数をChain化\n",
    "news_chain = TransformChain(\n",
    "    input_variables=[\"keyword\"],\n",
    "    output_variables=[\"result\"],\n",
    "    transform=get_news\n",
    ")\n"
   ]
  },
  {
   "cell_type": "code",
   "execution_count": 33,
   "metadata": {},
   "outputs": [],
   "source": [
    "# 数式の文字列をもとに計算を行う関数\n",
    "def calc_func(inputs: dict) -> dict:\n",
    "    formula = inputs[\"formula\"]\n",
    "    answer = eval(formula)\n",
    "    return {\"answer\": f\"{answer}\"}\n",
    "\n",
    "# 関数をChain化\n",
    "calc_chain = TransformChain(\n",
    "    input_variables=[\"formula\"],\n",
    "    output_variables=[\"answer\"],\n",
    "    transform=calc_func\n",
    ")"
   ]
  },
  {
   "cell_type": "code",
   "execution_count": 34,
   "metadata": {},
   "outputs": [],
   "source": [
    "from langchain.agents import Tool\n",
    "from langchain_google_community import GoogleSearchAPIWrapper\n",
    "\n",
    "search = GoogleSearchAPIWrapper()\n",
    "\n",
    "tools = [\n",
    "    Tool(\n",
    "        name = \"news\", # 半角英数字のみ\n",
    "        func=news_chain.run,\n",
    "        description=\"ニュースを探す際に役立ちます\"\n",
    "    ),\n",
    "    Tool(\n",
    "        name = \"calculation\", # 半角英数字のみ\n",
    "        func=calc_chain.run,\n",
    "        description=\"計算をする場合に役立ちます\"\n",
    "    ),\n",
    "    Tool(\n",
    "        name = \"Search\", # 半角英数字のみ\n",
    "        func=search.run,\n",
    "        description=\"現在の出来事や世界の現状に関する質問に答える必要がある場合に役立ちます\"\n",
    "    ),\n",
    "]"
   ]
  },
  {
   "cell_type": "code",
   "execution_count": 35,
   "metadata": {},
   "outputs": [],
   "source": [
    "# Choose the LLM that will drive the agent\n",
    "# Only certain models support this\n",
    "llm = ChatOpenAI(model=\"gpt-3.5-turbo-0125\", temperature=0)\n",
    "\n",
    "# Construct the OpenAI Tools agent\n",
    "agent = create_openai_tools_agent(llm, tools, prompt)"
   ]
  },
  {
   "cell_type": "code",
   "execution_count": 36,
   "metadata": {},
   "outputs": [],
   "source": [
    "# Create an agent executor by passing in the agent and tools\n",
    "agent_executor = AgentExecutor(agent=agent, tools=tools, verbose=True)"
   ]
  },
  {
   "cell_type": "code",
   "execution_count": 37,
   "metadata": {},
   "outputs": [
    {
     "name": "stdout",
     "output_type": "stream",
     "text": [
      "\n",
      "\n",
      "\u001b[1m> Entering new AgentExecutor chain...\u001b[0m\n",
      "\u001b[32;1m\u001b[1;3m\n",
      "Invoking: `Search` with `LangChain`\n",
      "\n",
      "\n",
      "\u001b[0m\u001b[38;5;200m\u001b[1;3mFrom startups to global enterprises, ambitious builders choose LangChain. Build. LangChain gives developers a framework to construct LLM‑powered apps easily. What is LangChain? · Open-source libraries: Build your applications using LangChain's modular building blocks and components. · Productionization: Inspect, ... LangChain is a framework for developing applications powered by large language models (LLMs). Introduction. LangChain is a framework for developing applications powered by language models. It enables applications that: ... This framework consists of ... Quickstart · Get setup with LangChain, LangSmith and LangServe · Use the most basic and common components of LangChain: prompt templates, models, and output ... langchain.chains ¶. Chains are easily reusable components linked together. Chains encode a sequence of calls to components like models, document retrievers, ... May 8, 2023 ... LangChain is “written in Python and JavaScript”, I think it's misleading, as you either use Python only (e.g. with Julia) or the other ... LangChain provides AI developers with tools to connect language models with external data sources. It is open-source and supported by an active community. Nov 3, 2023 ... Langchain needs to be rewritten. I hope the team will take into consideration the idea of refactoring the codebase. There is a significant ... LangChain is an open source orchestration framework for the development of applications using large language models (LLMs), like chatbots and virtual ...\u001b[0m\u001b[32;1m\u001b[1;3mLangChainは、大規模言語モデル（LLM）を活用したアプリケーションを開発するためのフレームワークです。LangChainは、言語モデルによって動作するアプリケーションを開発するためのフレームワークであり、開発者に簡単にLLMを活用したアプリを構築するためのフレームワークを提供します。LangChainはオープンソースライブラリを使用してアプリケーションを構築し、製品化を行うことができます。LangChainは、PythonとJavaScriptで書かれており、AI開発者に言語モデルと外部データソースを結びつけるためのツールを提供しています。LangChainは、大規模言語モデル（LLM）を使用したアプリケーションの開発をサポートするオープンソースのオーケストレーションフレームワークです。\u001b[0m\n",
      "\n",
      "\u001b[1m> Finished chain.\u001b[0m\n"
     ]
    },
    {
     "data": {
      "text/plain": [
       "{'input': 'LangChainとは何ですか?',\n",
       " 'output': 'LangChainは、大規模言語モデル（LLM）を活用したアプリケーションを開発するためのフレームワークです。LangChainは、言語モデルによって動作するアプリケーションを開発するためのフレームワークであり、開発者に簡単にLLMを活用したアプリを構築するためのフレームワークを提供します。LangChainはオープンソースライブラリを使用してアプリケーションを構築し、製品化を行うことができます。LangChainは、PythonとJavaScriptで書かれており、AI開発者に言語モデルと外部データソースを結びつけるためのツールを提供しています。LangChainは、大規模言語モデル（LLM）を使用したアプリケーションの開発をサポートするオープンソースのオーケストレーションフレームワークです。'}"
      ]
     },
     "execution_count": 37,
     "metadata": {},
     "output_type": "execute_result"
    }
   ],
   "source": [
    "agent_executor.invoke({\"input\": \"LangChainとは何ですか?\"})"
   ]
  },
  {
   "cell_type": "code",
   "execution_count": 38,
   "metadata": {},
   "outputs": [
    {
     "name": "stdout",
     "output_type": "stream",
     "text": [
      "\n",
      "\n",
      "\u001b[1m> Entering new AgentExecutor chain...\u001b[0m\n",
      "\u001b[32;1m\u001b[1;3m\n",
      "Invoking: `calculation` with `8*12`\n",
      "\n",
      "\n",
      "\u001b[0m\u001b[33;1m\u001b[1;3m96\u001b[0m\u001b[32;1m\u001b[1;3m8掛ける12は96です。\u001b[0m\n",
      "\n",
      "\u001b[1m> Finished chain.\u001b[0m\n"
     ]
    },
    {
     "data": {
      "text/plain": [
       "{'input': '8掛ける12は？', 'output': '8掛ける12は96です。'}"
      ]
     },
     "execution_count": 38,
     "metadata": {},
     "output_type": "execute_result"
    }
   ],
   "source": [
    "agent_executor.invoke({\"input\": \"8掛ける12は？\"})"
   ]
  },
  {
   "cell_type": "code",
   "execution_count": 39,
   "metadata": {},
   "outputs": [
    {
     "name": "stdout",
     "output_type": "stream",
     "text": [
      "\n",
      "\n",
      "\u001b[1m> Entering new AgentExecutor chain...\u001b[0m\n",
      "\u001b[32;1m\u001b[1;3m\n",
      "Invoking: `news` with `夏祭り`\n",
      "\n",
      "\n",
      "\u001b[0m\u001b[36;1m\u001b[1;3m[{'title': '【U-NEXT×THE ALFEE】今夏開催の2DAYSイベント「THE ALFEE 2024 Wind of Time ５０年目の夏祭り」にU-NEXT ...'}, {'title': 'THE ALFEE、デビュー50年目の“夏祭り”開催 8月に『夏イベ』Kアリーナ横浜2Days'}, {'title': '今年の夏は、ホテルで夏祭り！デザートビュッフェ「Bon Dance」を6月22日（土）から開催'}]\u001b[0m\u001b[32;1m\u001b[1;3m最近の夏祭りに関するニュースです：\n",
      "1. 【U-NEXT×THE ALFEE】今夏開催の2DAYSイベント「THE ALFEE 2024 Wind of Time ５０年目の夏祭り」にU-NEXT ...\n",
      "2. THE ALFEE、デビュー50年目の“夏祭り”開催 8月に『夏イベ』Kアリーナ横浜2Days\n",
      "3. 今年の夏は、ホテルで夏祭り！デザートビュッフェ「Bon Dance」を6月22日（土）から開催\n",
      "\n",
      "どれか詳細を知りたい場合はお知らせください。\u001b[0m\n",
      "\n",
      "\u001b[1m> Finished chain.\u001b[0m\n"
     ]
    },
    {
     "data": {
      "text/plain": [
       "{'input': '夏祭りに関するニュースを教えてください',\n",
       " 'output': '最近の夏祭りに関するニュースです：\\n1. 【U-NEXT×THE ALFEE】今夏開催の2DAYSイベント「THE ALFEE 2024 Wind of Time ５０年目の夏祭り」にU-NEXT ...\\n2. THE ALFEE、デビュー50年目の“夏祭り”開催 8月に『夏イベ』Kアリーナ横浜2Days\\n3. 今年の夏は、ホテルで夏祭り！デザートビュッフェ「Bon Dance」を6月22日（土）から開催\\n\\nどれか詳細を知りたい場合はお知らせください。'}"
      ]
     },
     "execution_count": 39,
     "metadata": {},
     "output_type": "execute_result"
    }
   ],
   "source": [
    "agent_executor.invoke({\"input\": \"夏祭りに関するニュースを教えてください\"})"
   ]
  },
  {
   "cell_type": "markdown",
   "metadata": {},
   "source": [
    "# Toolkit:Pandas DataFrame Agent"
   ]
  },
  {
   "cell_type": "code",
   "execution_count": 40,
   "metadata": {},
   "outputs": [
    {
     "data": {
      "text/html": [
       "<div>\n",
       "<style scoped>\n",
       "    .dataframe tbody tr th:only-of-type {\n",
       "        vertical-align: middle;\n",
       "    }\n",
       "\n",
       "    .dataframe tbody tr th {\n",
       "        vertical-align: top;\n",
       "    }\n",
       "\n",
       "    .dataframe thead th {\n",
       "        text-align: right;\n",
       "    }\n",
       "</style>\n",
       "<table border=\"1\" class=\"dataframe\">\n",
       "  <thead>\n",
       "    <tr style=\"text-align: right;\">\n",
       "      <th></th>\n",
       "      <th>SepalLength</th>\n",
       "      <th>SepalWidth</th>\n",
       "      <th>PetalLength</th>\n",
       "      <th>PetalWidth</th>\n",
       "      <th>Name</th>\n",
       "    </tr>\n",
       "  </thead>\n",
       "  <tbody>\n",
       "    <tr>\n",
       "      <th>0</th>\n",
       "      <td>5.1</td>\n",
       "      <td>3.5</td>\n",
       "      <td>1.4</td>\n",
       "      <td>0.2</td>\n",
       "      <td>Iris-setosa</td>\n",
       "    </tr>\n",
       "    <tr>\n",
       "      <th>1</th>\n",
       "      <td>4.9</td>\n",
       "      <td>3.0</td>\n",
       "      <td>1.4</td>\n",
       "      <td>0.2</td>\n",
       "      <td>Iris-setosa</td>\n",
       "    </tr>\n",
       "    <tr>\n",
       "      <th>2</th>\n",
       "      <td>4.7</td>\n",
       "      <td>3.2</td>\n",
       "      <td>1.3</td>\n",
       "      <td>0.2</td>\n",
       "      <td>Iris-setosa</td>\n",
       "    </tr>\n",
       "    <tr>\n",
       "      <th>3</th>\n",
       "      <td>4.6</td>\n",
       "      <td>3.1</td>\n",
       "      <td>1.5</td>\n",
       "      <td>0.2</td>\n",
       "      <td>Iris-setosa</td>\n",
       "    </tr>\n",
       "    <tr>\n",
       "      <th>4</th>\n",
       "      <td>5.0</td>\n",
       "      <td>3.6</td>\n",
       "      <td>1.4</td>\n",
       "      <td>0.2</td>\n",
       "      <td>Iris-setosa</td>\n",
       "    </tr>\n",
       "  </tbody>\n",
       "</table>\n",
       "</div>"
      ],
      "text/plain": [
       "   SepalLength  SepalWidth  PetalLength  PetalWidth         Name\n",
       "0          5.1         3.5          1.4         0.2  Iris-setosa\n",
       "1          4.9         3.0          1.4         0.2  Iris-setosa\n",
       "2          4.7         3.2          1.3         0.2  Iris-setosa\n",
       "3          4.6         3.1          1.5         0.2  Iris-setosa\n",
       "4          5.0         3.6          1.4         0.2  Iris-setosa"
      ]
     },
     "execution_count": 40,
     "metadata": {},
     "output_type": "execute_result"
    }
   ],
   "source": [
    "import pandas as pd\n",
    "\n",
    "df = pd.read_csv(\"./data2/iris.data\", header=0)\n",
    "df.head()"
   ]
  },
  {
   "cell_type": "code",
   "execution_count": 41,
   "metadata": {},
   "outputs": [],
   "source": [
    "from langchain.agents.agent_types import AgentType\n",
    "from langchain_openai import ChatOpenAI\n",
    "from langchain_experimental.agents.agent_toolkits import create_pandas_dataframe_agent"
   ]
  },
  {
   "cell_type": "code",
   "execution_count": 42,
   "metadata": {},
   "outputs": [],
   "source": [
    "agent = create_pandas_dataframe_agent(\n",
    "    ChatOpenAI(temperature=0, model=\"gpt-3.5-turbo-0125\"),\n",
    "    df,\n",
    "    verbose=True,\n",
    "    agent_type=AgentType.OPENAI_FUNCTIONS,\n",
    ")"
   ]
  },
  {
   "cell_type": "code",
   "execution_count": 44,
   "metadata": {},
   "outputs": [
    {
     "name": "stdout",
     "output_type": "stream",
     "text": [
      "\n",
      "\n",
      "\u001b[1m> Entering new AgentExecutor chain...\u001b[0m\n",
      "\u001b[32;1m\u001b[1;3m\n",
      "Invoking: `python_repl_ast` with `{'query': 'df.shape[0]'}`\n",
      "\n",
      "\n",
      "\u001b[0m\u001b[36;1m\u001b[1;3m150\u001b[0m\u001b[32;1m\u001b[1;3mデータフレームには150行あります。\u001b[0m\n",
      "\n",
      "\u001b[1m> Finished chain.\u001b[0m\n"
     ]
    },
    {
     "data": {
      "text/plain": [
       "{'input': '何行ありますか？', 'output': 'データフレームには150行あります。'}"
      ]
     },
     "execution_count": 44,
     "metadata": {},
     "output_type": "execute_result"
    }
   ],
   "source": [
    "agent.invoke(\"何行ありますか？\")"
   ]
  },
  {
   "cell_type": "code",
   "execution_count": 45,
   "metadata": {},
   "outputs": [
    {
     "name": "stdout",
     "output_type": "stream",
     "text": [
      "\n",
      "\n",
      "\u001b[1m> Entering new AgentExecutor chain...\u001b[0m\n",
      "\u001b[32;1m\u001b[1;3m\n",
      "Invoking: `python_repl_ast` with `{'query': \"df['Name'].describe()\"}`\n",
      "\n",
      "\n",
      "\u001b[0m\u001b[36;1m\u001b[1;3mcount             150\n",
      "unique              3\n",
      "top       Iris-setosa\n",
      "freq               50\n",
      "Name: Name, dtype: object\u001b[0m\u001b[32;1m\u001b[1;3m`Name`列の基本統計量は以下の通りです:\n",
      "- データ数: 150\n",
      "- ユニークな値の数: 3\n",
      "- 最も頻繁に現れる値: Iris-setosa (出現回数: 50)\u001b[0m\n",
      "\n",
      "\u001b[1m> Finished chain.\u001b[0m\n"
     ]
    },
    {
     "data": {
      "text/plain": [
       "{'input': 'Nameの基本統計量を出力してください',\n",
       " 'output': '`Name`列の基本統計量は以下の通りです:\\n- データ数: 150\\n- ユニークな値の数: 3\\n- 最も頻繁に現れる値: Iris-setosa (出現回数: 50)'}"
      ]
     },
     "execution_count": 45,
     "metadata": {},
     "output_type": "execute_result"
    }
   ],
   "source": [
    "agent.invoke(\"Nameの基本統計量を出力してください\")"
   ]
  },
  {
   "cell_type": "code",
   "execution_count": 46,
   "metadata": {},
   "outputs": [
    {
     "name": "stdout",
     "output_type": "stream",
     "text": [
      "\n",
      "\n",
      "\u001b[1m> Entering new AgentExecutor chain...\u001b[0m\n",
      "\u001b[32;1m\u001b[1;3mこのデータは、アヤメの花のがく片（Sepal）と花弁（Petal）の長さと幅を示しています。各行は1つのアヤメの花を表し、それぞれの花にはがく片の長さ（SepalLength）、がく片の幅（SepalWidth）、花弁の長さ（PetalLength）、花弁の幅（PetalWidth）が記録されています。また、各花の種類（Name）も示されており、ここでは\"Iris-setosa\"という種類が示されています。\u001b[0m\n",
      "\n",
      "\u001b[1m> Finished chain.\u001b[0m\n"
     ]
    },
    {
     "data": {
      "text/plain": [
       "{'input': 'このデータについて説明してください',\n",
       " 'output': 'このデータは、アヤメの花のがく片（Sepal）と花弁（Petal）の長さと幅を示しています。各行は1つのアヤメの花を表し、それぞれの花にはがく片の長さ（SepalLength）、がく片の幅（SepalWidth）、花弁の長さ（PetalLength）、花弁の幅（PetalWidth）が記録されています。また、各花の種類（Name）も示されており、ここでは\"Iris-setosa\"という種類が示されています。'}"
      ]
     },
     "execution_count": 46,
     "metadata": {},
     "output_type": "execute_result"
    }
   ],
   "source": [
    "agent.invoke(\"このデータについて説明してください\")"
   ]
  },
  {
   "cell_type": "markdown",
   "metadata": {},
   "source": [
    "# Toolkit:Python Agent"
   ]
  },
  {
   "cell_type": "code",
   "execution_count": 48,
   "metadata": {},
   "outputs": [],
   "source": [
    "from langchain import hub\n",
    "from langchain.agents import AgentExecutor\n",
    "from langchain_experimental.tools import PythonREPLTool"
   ]
  },
  {
   "cell_type": "code",
   "execution_count": 49,
   "metadata": {},
   "outputs": [],
   "source": [
    "tools = [PythonREPLTool()]"
   ]
  },
  {
   "cell_type": "code",
   "execution_count": 50,
   "metadata": {},
   "outputs": [],
   "source": [
    "from langchain.agents import create_openai_functions_agent\n",
    "from langchain_openai import ChatOpenAI"
   ]
  },
  {
   "cell_type": "code",
   "execution_count": 51,
   "metadata": {},
   "outputs": [],
   "source": [
    "instructions = \"\"\"あなたは、質問に答えるために Python コードを作成して実行するように設計されたエージェントです。\n",
    "Python コードを実行するために使用できる Python REPL にアクセスできます。\n",
    "エラーが発生した場合は、コードをデバッグして再試行してください。\n",
    "コードの出力は質問に答えるためにのみ使用してください。\n",
    "コードを実行しなくても答えがわかる場合もありますが、答えを得るにはコードを実行する必要があります。\n",
    "質問に答えるコードを書けそうにない場合は、「わかりません」と答えてください。\n",
    "\"\"\"\n",
    "base_prompt = hub.pull(\"langchain-ai/openai-functions-template\")\n",
    "prompt = base_prompt.partial(instructions=instructions)"
   ]
  },
  {
   "cell_type": "code",
   "execution_count": 52,
   "metadata": {},
   "outputs": [],
   "source": [
    "agent = create_openai_functions_agent(ChatOpenAI(model=\"gpt-3.5-turbo-0125\", temperature=0), tools, prompt)"
   ]
  },
  {
   "cell_type": "code",
   "execution_count": 53,
   "metadata": {},
   "outputs": [],
   "source": [
    "agent_executor = AgentExecutor(agent=agent, tools=tools, verbose=True)"
   ]
  },
  {
   "cell_type": "code",
   "execution_count": 54,
   "metadata": {},
   "outputs": [
    {
     "name": "stdout",
     "output_type": "stream",
     "text": [
      "\n",
      "\n",
      "\u001b[1m> Entering new AgentExecutor chain...\u001b[0m\n"
     ]
    },
    {
     "name": "stderr",
     "output_type": "stream",
     "text": [
      "Python REPL can execute arbitrary code. Use with caution.\n"
     ]
    },
    {
     "name": "stdout",
     "output_type": "stream",
     "text": [
      "\u001b[32;1m\u001b[1;3m\n",
      "Invoking: `Python_REPL` with `def is_prime(n):\n",
      "    if n <= 1:\n",
      "        return False\n",
      "    for i in range(2, int(n**0.5) + 1):\n",
      "        if n % i == 0:\n",
      "            return False\n",
      "    return True\n",
      "\n",
      "primes = [num for num in range(2, 101) if is_prime(num)]\n",
      "primes`\n",
      "\n",
      "\n",
      "\u001b[0m\u001b[36;1m\u001b[1;3m\u001b[0m\u001b[32;1m\u001b[1;3m100までの素数は、[2, 3, 5, 7, 11, 13, 17, 19, 23, 29, 31, 37, 41, 43, 47, 53, 59, 61, 67, 71, 73, 79, 83, 89, 97] です。\u001b[0m\n",
      "\n",
      "\u001b[1m> Finished chain.\u001b[0m\n"
     ]
    },
    {
     "data": {
      "text/plain": [
       "{'input': '100までの素数を求めよ',\n",
       " 'output': '100までの素数は、[2, 3, 5, 7, 11, 13, 17, 19, 23, 29, 31, 37, 41, 43, 47, 53, 59, 61, 67, 71, 73, 79, 83, 89, 97] です。'}"
      ]
     },
     "execution_count": 54,
     "metadata": {},
     "output_type": "execute_result"
    }
   ],
   "source": [
    "agent_executor.invoke({\"input\": \"100までの素数を求めよ\"})"
   ]
  },
  {
   "cell_type": "code",
   "execution_count": null,
   "metadata": {},
   "outputs": [],
   "source": []
  }
 ],
 "metadata": {
  "kernelspec": {
   "display_name": ".venv",
   "language": "python",
   "name": "python3"
  },
  "language_info": {
   "codemirror_mode": {
    "name": "ipython",
    "version": 3
   },
   "file_extension": ".py",
   "mimetype": "text/x-python",
   "name": "python",
   "nbconvert_exporter": "python",
   "pygments_lexer": "ipython3",
   "version": "3.11.9"
  },
  "orig_nbformat": 4
 },
 "nbformat": 4,
 "nbformat_minor": 2
}
