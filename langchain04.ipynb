{
 "cells": [
  {
   "cell_type": "markdown",
   "metadata": {},
   "source": [
    "# Agent\n",
    "\n",
    "# 準備"
   ]
  },
  {
   "cell_type": "code",
   "execution_count": 89,
   "metadata": {},
   "outputs": [],
   "source": [
    "# 必要なモジュールをインポート\n",
    "import os\n",
    "from dotenv import load_dotenv\n",
    "\n",
    "# 環境変数の読み込み\n",
    "load_dotenv()\n",
    "os.environ[\"OPENAI_API_KEY\"] = os.environ[\"API_KEY\"]"
   ]
  },
  {
   "cell_type": "markdown",
   "metadata": {},
   "source": [
    "# Google検索Agent"
   ]
  },
  {
   "cell_type": "code",
   "execution_count": 90,
   "metadata": {},
   "outputs": [],
   "source": [
    "from langchain.agents import Tool\n",
    "from langchain.utilities import GoogleSearchAPIWrapper\n",
    "\n",
    "search = GoogleSearchAPIWrapper()\n",
    "\n",
    "tools = [\n",
    "    Tool(\n",
    "        name = \"現在の検索\",\n",
    "        func=search.run,\n",
    "        description=\"現在の出来事や世界の現状に関する質問に答える必要がある場合に役立ちます\"\n",
    "    )\n",
    "]"
   ]
  },
  {
   "cell_type": "code",
   "execution_count": 91,
   "metadata": {},
   "outputs": [],
   "source": [
    "from langchain import OpenAI\n",
    "from langchain.agents import initialize_agent\n",
    "from langchain.agents import AgentType\n",
    "\n",
    "llm=OpenAI(\n",
    "    temperature=0.8,\n",
    "    max_tokens=1000)\n",
    "\n",
    "agent_chain = initialize_agent(\n",
    "    tools, \n",
    "    llm, \n",
    "    agent=AgentType.ZERO_SHOT_REACT_DESCRIPTION,\n",
    "    verbose=True,)"
   ]
  },
  {
   "cell_type": "code",
   "execution_count": 4,
   "metadata": {},
   "outputs": [
    {
     "name": "stdout",
     "output_type": "stream",
     "text": [
      "\n",
      "\n",
      "\u001b[1m> Entering new  chain...\u001b[0m\n",
      "\u001b[32;1m\u001b[1;3m 公式な情報を集める必要がある\n",
      "Action: 現在の検索\n",
      "Action Input: \"広島サミットの結果\"\u001b[0m\n",
      "Observation: \u001b[36;1m\u001b[1;3mMay 26, 2023 ... 5月19日から21日にかけて岸田総理大臣は広島にてG7サミットを議長として ... の下で速やかに議論させ、本年中に結果を報告させることで一致しました。 May 21, 2023 ... ... 会見し、「広島がG7サミットの会場に選ばれたことは、ICANとしては歓待したいと思っていた。しかし、結果については大変失望している」と述べた。 Apr 27, 2023 ... G7広島サミット準備会議（第三回会合）（結果） ... 会合においては、サミット期間中のG7首脳による平和記念公園及び宮島の訪問実現に向けて調整して ... May 24, 2023 ... 5月19日から21日にかけて、広島でG7サミットが開催。サミットではウクライナ情勢、対中関係、核軍縮、国際経済問題、制裁など多くの議題が取り上げ ... May 22, 2023 ... 被爆地・広島で開かれたG7サミット。ウクライナ情勢や核軍縮が大きなテーマとなり、... #nhk_kaisetsu. May 31, 2023 ... エマニュエル・マクロン大統領はG7サミットに出席するため、広島を訪問しました。 1 審査結果. 令和5年1月17日付けで公告した「G7広島サミット記念品製作等業務」公募型プロポーザルについて，次のとおり事業者候補者を決定しました。 May 21, 2023 ... 【岸田総理冒頭発言】. 先ほど、G7広島サミットは、全てのセッションを終了し閉幕いたしました。G7首脳、8つの招待国の首脳と7つの国際機関の ... 【日経】G7サミット（主要7カ国首脳会議）が2023年5月19～21日に広島市で開催。 ... 歴史的な転換期の中、我々は原子爆弾投下の結果、広島や長崎の人々が経験した ... Jun 7, 2023 ... IGESの視点：G7広島サミットの結果について ... 本ウェビナーでは、IGES研究員がG7広島首脳コミュニケを気候変動とエネルギー、生物多様性、資源効率 ...\u001b[0m\n",
      "Thought:\u001b[32;1m\u001b[1;3m 公式な情報を集めたので、結果をまとめることができる\n",
      "Final Answer: G7広島サミットでは、ウクライナ情勢、対中関係、核軍縮、国際経済問題、制裁など多くの議題が取り上げられ、各首脳が調整して本年中に結果を報告した。また、歴史的な転換期において、G7首脳は原子爆弾投下の結果を受け、広島や長崎の人々が経験した被害を記念するため、平和記念公園や宮島などを訪問することも確認した。\u001b[0m\n",
      "\n",
      "\u001b[1m> Finished chain.\u001b[0m\n"
     ]
    },
    {
     "data": {
      "text/plain": [
       "'G7広島サミットでは、ウクライナ情勢、対中関係、核軍縮、国際経済問題、制裁など多くの議題が取り上げられ、各首脳が調整して本年中に結果を報告した。また、歴史的な転換期において、G7首脳は原子爆弾投下の結果を受け、広島や長崎の人々が経験した被害を記念するため、平和記念公園や宮島などを訪問することも確認した。'"
      ]
     },
     "execution_count": 4,
     "metadata": {},
     "output_type": "execute_result"
    }
   ],
   "source": [
    "agent_chain.run(input=\"広島サミットの結果について教えてください\")"
   ]
  },
  {
   "cell_type": "code",
   "execution_count": 94,
   "metadata": {},
   "outputs": [
    {
     "name": "stdout",
     "output_type": "stream",
     "text": [
      "Answer the following questions as best you can. You have access to the following tools:\n",
      "\n",
      "現在の検索: 現在の出来事や世界の現状に関する質問に答える必要がある場合に役立ちます\n",
      "\n",
      "Use the following format:\n",
      "\n",
      "Question: the input question you must answer\n",
      "Thought: you should always think about what to do\n",
      "Action: the action to take, should be one of [現在の検索]\n",
      "Action Input: the input to the action\n",
      "Observation: the result of the action\n",
      "... (this Thought/Action/Action Input/Observation can repeat N times)\n",
      "Thought: I now know the final answer\n",
      "Final Answer: the final answer to the original input question\n",
      "\n",
      "Begin!\n",
      "\n",
      "Question: {input}\n",
      "Thought:{agent_scratchpad}\n"
     ]
    }
   ],
   "source": [
    "# Agentが使用しているプロンプトを確認\n",
    "print(agent_chain.agent.llm_chain.prompt.template)"
   ]
  },
  {
   "cell_type": "markdown",
   "metadata": {},
   "source": [
    "# 対話型Google検索Agent"
   ]
  },
  {
   "cell_type": "code",
   "execution_count": 10,
   "metadata": {},
   "outputs": [],
   "source": [
    "from langchain.memory import ConversationBufferMemory\n",
    "\n",
    "memory = ConversationBufferMemory(memory_key=\"chat_history\")"
   ]
  },
  {
   "cell_type": "code",
   "execution_count": 12,
   "metadata": {},
   "outputs": [],
   "source": [
    "llm=OpenAI(\n",
    "    temperature=0.8,\n",
    "    max_tokens=1000)\n",
    "\n",
    "agent_chain = initialize_agent(\n",
    "    tools,\n",
    "    llm,\n",
    "    agent=AgentType.CONVERSATIONAL_REACT_DESCRIPTION,\n",
    "    memory=memory)"
   ]
  },
  {
   "cell_type": "code",
   "execution_count": 13,
   "metadata": {},
   "outputs": [
    {
     "data": {
      "text/plain": [
       "'こんにちは！私はアシスタントです！どうすればお役に立てますか？'"
      ]
     },
     "execution_count": 13,
     "metadata": {},
     "output_type": "execute_result"
    }
   ],
   "source": [
    "agent_chain.run(input=\"こんにちは！\")"
   ]
  },
  {
   "cell_type": "code",
   "execution_count": 16,
   "metadata": {},
   "outputs": [
    {
     "data": {
      "text/plain": [
       "'8月の東京駅で開催されているイベントは、「まじかるちいかわ」東京駅いちばんプラザで開催されている新感覚のイベントがあります。また、Q-pot CAFEの10周年を祝う期間限定イベントも開催されます。「丸ノ内ホテル アーバンビアテラス2023」や「日本ハム・東洋カープ 甲子園スタジアムで行われる催しもあります。さらに、サンシャイン水族館では「毒毒毒毒毒毒毒毒展（もうどく展）ReMix」が開催されます。また、テラス席でお楽しみいただける東京ソラマチ夏まつりや、東京都内で開催される「ご当地ラーメンチャレンジ by 東京ラーメンストリート」などのイベントもあります。'"
      ]
     },
     "execution_count": 16,
     "metadata": {},
     "output_type": "execute_result"
    }
   ],
   "source": [
    "agent_chain.run(input=\"8月の東京駅のイベントを教えてください\")"
   ]
  },
  {
   "cell_type": "code",
   "execution_count": 17,
   "metadata": {},
   "outputs": [
    {
     "data": {
      "text/plain": [
       "'「毒毒毒毒毒毒毒毒展（もうどく展）ReMix」は、東京都江東区サンシャイン水族館で開催されています。'"
      ]
     },
     "execution_count": 17,
     "metadata": {},
     "output_type": "execute_result"
    }
   ],
   "source": [
    "agent_chain.run(input=\"面白そうですね！。「毒毒毒毒毒毒毒毒展（もうどく展）ReMix」はどこで実施しますか？\")"
   ]
  },
  {
   "cell_type": "code",
   "execution_count": 18,
   "metadata": {},
   "outputs": [
    {
     "data": {
      "text/plain": [
       "'どういたしまして！何か今後のお役に立てることがありましたら、お気軽にご連絡ください。'"
      ]
     },
     "execution_count": 18,
     "metadata": {},
     "output_type": "execute_result"
    }
   ],
   "source": [
    "agent_chain.run(input=\"ありがとうございました！\")"
   ]
  },
  {
   "cell_type": "markdown",
   "metadata": {},
   "source": [
    "# Self ask with search"
   ]
  },
  {
   "cell_type": "code",
   "execution_count": 75,
   "metadata": {},
   "outputs": [
    {
     "name": "stdout",
     "output_type": "stream",
     "text": [
      "\n",
      "\n",
      "\u001b[1m> Entering new  chain...\u001b[0m\n",
      "\u001b[32;1m\u001b[1;3m Yes.\n",
      "Follow up: 何が月食ですか？\u001b[0m\n",
      "Intermediate answer: \u001b[36;1m\u001b[1;3m月食の起こるしくみ. 地球と月は太陽の光を反射して輝く天体です。地球にも太陽の光による影があり、太陽と ... 姫路科学館・月食を見よう. 皆既月食の時の赤い月です. 月食は天文界の一大イベントで、テレビや新聞などでも取り上げられることが多いですが、何か特別な現象だから ... Nov 8, 2022 ... 皆既食は86分間続いて20時42分に終わり、その後は徐々に月は地球の影から抜けて、21時49分に部分食が終わります。この進行は、どこで見ても同じです。 Nov 7, 2022 ... 月食が人間に与える影響は何ですか？ 月食とは. 月食は、地球が太陽の光が月に到達するのを完全にまたは部分的 ... これは「日食（にっしょく）」という非常にめずらしい現象なのです。 日食には太陽全体が見えなくなる「皆既日食（かいきにっしょく）」、太陽が輪っかのように見える ... Nov 7, 2022 ... 明日11月8日(火)夜、日本全国で「皆既月食」が起こります。皆既月食は、月が地球の影に完全に隠されて、幻想的な赤銅色の満月が見られる天体現象です ... 「上弦の月の月食」とか「三日月の月食」というのは絶対におきない。 さて、地球の影には大きく2つの種類がある。 一つは「本影」と呼ばれる影で、太陽からの ... May 21, 2021 ... 日食や月食は記憶に残る天文現象です。お天気のこともあるので一生のうちに何回見られるかわかりませんが、食が起こる空の高さや食の継続 ... Nov 8, 2022 ... 今日11月8日(火)夜は、日本全国で「皆既月食」が起こりました。皆既月食は、月が地球の影に完全に隠されて、幻想的な赤銅色の満月が見られる天体現象です ... Nov 8, 2022 ... 【NHK】「皆既月食」が8日の夜、天気がよければ全国各地で見られます。今回「天王星食」も同時に見られ、このような現象が日本で見られ…\u001b[0m\n",
      "\u001b[32;1m\u001b[1;3mSo the final answer is: November 8, 2022\u001b[0m\n",
      "\n",
      "\u001b[1m> Finished chain.\u001b[0m\n"
     ]
    },
    {
     "data": {
      "text/plain": [
       "'November 8, 2022'"
      ]
     },
     "execution_count": 75,
     "metadata": {},
     "output_type": "execute_result"
    }
   ],
   "source": [
    "from langchain.utilities import GoogleSearchAPIWrapper\n",
    "from langchain.agents import initialize_agent, Tool\n",
    "from langchain.agents import AgentType\n",
    "\n",
    "llm = OpenAI(temperature=0)\n",
    "\n",
    "search = GoogleSearchAPIWrapper()\n",
    "\n",
    "tools = [\n",
    "    Tool(\n",
    "        # agent=AgentType.SELF_ASK_WITH_SEARCHの場合、name=\"Intermediate Answer\"である必要がある\n",
    "        name=\"Intermediate Answer\",\n",
    "        func=search.run,\n",
    "        description=\"検索で質問したい時に便利です\",\n",
    "    )\n",
    "]\n",
    "\n",
    "self_ask_with_search = initialize_agent(\n",
    "    tools, llm, agent=AgentType.SELF_ASK_WITH_SEARCH, verbose=True\n",
    ")\n",
    "self_ask_with_search.run(\n",
    "    \"次の月食はいつ？\"\n",
    ")"
   ]
  },
  {
   "cell_type": "code",
   "execution_count": 95,
   "metadata": {},
   "outputs": [
    {
     "name": "stdout",
     "output_type": "stream",
     "text": [
      "Question: Who lived longer, Muhammad Ali or Alan Turing?\n",
      "Are follow up questions needed here: Yes.\n",
      "Follow up: How old was Muhammad Ali when he died?\n",
      "Intermediate answer: Muhammad Ali was 74 years old when he died.\n",
      "Follow up: How old was Alan Turing when he died?\n",
      "Intermediate answer: Alan Turing was 41 years old when he died.\n",
      "So the final answer is: Muhammad Ali\n",
      "\n",
      "Question: When was the founder of craigslist born?\n",
      "Are follow up questions needed here: Yes.\n",
      "Follow up: Who was the founder of craigslist?\n",
      "Intermediate answer: Craigslist was founded by Craig Newmark.\n",
      "Follow up: When was Craig Newmark born?\n",
      "Intermediate answer: Craig Newmark was born on December 6, 1952.\n",
      "So the final answer is: December 6, 1952\n",
      "\n",
      "Question: Who was the maternal grandfather of George Washington?\n",
      "Are follow up questions needed here: Yes.\n",
      "Follow up: Who was the mother of George Washington?\n",
      "Intermediate answer: The mother of George Washington was Mary Ball Washington.\n",
      "Follow up: Who was the father of Mary Ball Washington?\n",
      "Intermediate answer: The father of Mary Ball Washington was Joseph Ball.\n",
      "So the final answer is: Joseph Ball\n",
      "\n",
      "Question: Are both the directors of Jaws and Casino Royale from the same country?\n",
      "Are follow up questions needed here: Yes.\n",
      "Follow up: Who is the director of Jaws?\n",
      "Intermediate answer: The director of Jaws is Steven Spielberg.\n",
      "Follow up: Where is Steven Spielberg from?\n",
      "Intermediate answer: The United States.\n",
      "Follow up: Who is the director of Casino Royale?\n",
      "Intermediate answer: The director of Casino Royale is Martin Campbell.\n",
      "Follow up: Where is Martin Campbell from?\n",
      "Intermediate answer: New Zealand.\n",
      "So the final answer is: No\n",
      "\n",
      "Question: {input}\n",
      "Are followup questions needed here:{agent_scratchpad}\n"
     ]
    }
   ],
   "source": [
    "# Agentが使用しているプロンプトを確認\n",
    "print(self_ask_with_search.agent.llm_chain.prompt.template)"
   ]
  },
  {
   "cell_type": "markdown",
   "metadata": {},
   "source": [
    "# Index検索Agent"
   ]
  },
  {
   "cell_type": "code",
   "execution_count": 2,
   "metadata": {},
   "outputs": [],
   "source": [
    "from langchain.document_loaders import PyPDFLoader\n",
    "from langchain.text_splitter import CharacterTextSplitter\n",
    "from langchain.embeddings.openai import OpenAIEmbeddings\n",
    "from langchain.vectorstores import Chroma\n",
    "from langchain.chains import RetrievalQA\n",
    "from langchain.llms import OpenAI\n",
    "\n",
    "# PDFの読込\n",
    "loader = PyPDFLoader(\"./data2/001615363.pdf\")\n",
    "documents = loader.load()\n",
    "\n",
    "# チャンクに分割\n",
    "text_splitter = CharacterTextSplitter(separator=\"\\n\", chunk_size=512, chunk_overlap=0)\n",
    "texts = text_splitter.split_documents(documents)\n",
    "\n",
    "# Indexの構築\n",
    "db = Chroma.from_documents(texts, OpenAIEmbeddings())\n",
    "\n",
    "# RetrievalQAチェーンの作成\n",
    "qa = RetrievalQA.from_chain_type(\n",
    "    llm=OpenAI(temperature=1.2), chain_type=\"stuff\", retriever=db.as_retriever()\n",
    ")"
   ]
  },
  {
   "cell_type": "code",
   "execution_count": 3,
   "metadata": {},
   "outputs": [],
   "source": [
    "from langchain.agents import Tool\n",
    "from langchain.agents import AgentType\n",
    "\n",
    "tools = [\n",
    "    Tool(\n",
    "        name=\"訪日外国人旅行者QAシステム\",\n",
    "        func=qa.run,\n",
    "        description=\"訪日外国人の旅行や土産品、消費動向に関する質問に役立ちます。\",\n",
    "    ),\n",
    "]"
   ]
  },
  {
   "cell_type": "code",
   "execution_count": 4,
   "metadata": {},
   "outputs": [],
   "source": [
    "from langchain.agents import initialize_agent\n",
    "from langchain import OpenAI\n",
    "\n",
    "llm=OpenAI(\n",
    "    temperature=0,\n",
    "    max_tokens=1000)\n",
    "\n",
    "agent_chain = initialize_agent(\n",
    "    tools, \n",
    "    llm, \n",
    "    agent=AgentType.ZERO_SHOT_REACT_DESCRIPTION,\n",
    "    verbose=True,)"
   ]
  },
  {
   "cell_type": "code",
   "execution_count": 5,
   "metadata": {},
   "outputs": [
    {
     "name": "stdout",
     "output_type": "stream",
     "text": [
      "\n",
      "\n",
      "\u001b[1m> Entering new  chain...\u001b[0m\n",
      "\u001b[32;1m\u001b[1;3m 訪日外国人旅行者QAシステムを使って情報を収集する\n",
      "Action: 訪日外国人旅行者QAシステム\n",
      "Action Input: お土産の購入状況\u001b[0m\n",
      "Observation: \u001b[36;1m\u001b[1;3m 図表3-1で宝石・貴金属が最も購入率が高いことが分かります (70.4%) が、最も購入者単価が高い費目は台湾(19.9 万円)と香港 (16.6 万円)です。一方で図表3-2ではレジャー目的訪問以外では菓子類が最も購入率が高く (73.7%)、米国ではその他食料品・飲料・たばこが最も購入率が高く (65.1%) あります。\u001b[0m\n",
      "Thought:\u001b[32;1m\u001b[1;3m お土産の購入状況が分かった\n",
      "Final Answer: 宝石・貴金属が最も購入率が高いことが分かりますが、最も購入者単価が高い費目は台湾(19.9 万円)と香港 (16.6 万円)です。レジャー目的訪問以外では菓子類が最も購入率が高く、米国ではその他食料品・飲料・たばこが最も購入率が高いことが分かります。\u001b[0m\n",
      "\n",
      "\u001b[1m> Finished chain.\u001b[0m\n"
     ]
    },
    {
     "data": {
      "text/plain": [
       "'宝石・貴金属が最も購入率が高いことが分かりますが、最も購入者単価が高い費目は台湾(19.9 万円)と香港 (16.6 万円)です。レジャー目的訪問以外では菓子類が最も購入率が高く、米国ではその他食料品・飲料・たばこが最も購入率が高いことが分かります。'"
      ]
     },
     "execution_count": 5,
     "metadata": {},
     "output_type": "execute_result"
    }
   ],
   "source": [
    "agent_chain.run(input=\"お土産の購入状況を教えて\")"
   ]
  },
  {
   "cell_type": "markdown",
   "metadata": {},
   "source": [
    "# OpenAI Function Call"
   ]
  },
  {
   "cell_type": "code",
   "execution_count": 21,
   "metadata": {},
   "outputs": [],
   "source": [
    "import requests\n",
    "from bs4 import BeautifulSoup\n",
    "from langchain.chains import TransformChain\n",
    "\n",
    "# ニュースを検索する関数\n",
    "def get_news(inputs: dict) -> dict:\n",
    "    keyword = inputs[\"keyword\"]\n",
    "\n",
    "    # WebサイトのURLを指定\n",
    "    url = f'https://news.google.com/search?q={keyword}&hl=ja&gl=JP&ceid=JP:ja'\n",
    "\n",
    "    # Requestsを利用してWebページを取得する\n",
    "    response = requests.get(url)\n",
    "    html = response.text\n",
    "\n",
    "    # BeautifulSoupを利用してWebページを解析する\n",
    "    soup = BeautifulSoup(html, 'html.parser')\n",
    "\n",
    "    # soup.selectを利用して、ニュースのタイトルを取得する\n",
    "    elements = soup.select('article h3 a')\n",
    "\n",
    "    # ニュースのトップ3を配列に取得\n",
    "    news = []\n",
    "    for i, element in enumerate(elements):\n",
    "        news.append({\"title\": element.getText()})\n",
    "        if i>=2:\n",
    "            break\n",
    "\n",
    "    return {\"result\": news}\n",
    "\n",
    "# 関数をChain化\n",
    "news_chain = TransformChain(\n",
    "    input_variables=[\"keyword\"],\n",
    "    output_variables=[\"result\"],\n",
    "    transform=get_news\n",
    ")\n"
   ]
  },
  {
   "cell_type": "code",
   "execution_count": 22,
   "metadata": {},
   "outputs": [],
   "source": [
    "# 数式の文字列をもとに計算を行う関数\n",
    "def calc_func(inputs: dict) -> dict:\n",
    "    formula = inputs[\"formula\"]\n",
    "    answer = eval(formula)\n",
    "    return {\"answer\": f\"{answer}\"}\n",
    "\n",
    "# 関数をChain化\n",
    "calc_chain = TransformChain(\n",
    "    input_variables=[\"formula\"],\n",
    "    output_variables=[\"answer\"],\n",
    "    transform=calc_func\n",
    ")"
   ]
  },
  {
   "cell_type": "code",
   "execution_count": 23,
   "metadata": {},
   "outputs": [],
   "source": [
    "from langchain.agents import Tool\n",
    "from langchain.utilities import GoogleSearchAPIWrapper\n",
    "\n",
    "search = GoogleSearchAPIWrapper()\n",
    "\n",
    "tools = [\n",
    "    Tool(\n",
    "        name = \"news\", # 半角英数字のみ\n",
    "        func=news_chain.run,\n",
    "        description=\"ニュースを探す際に役立ちます\"\n",
    "    ),\n",
    "    Tool(\n",
    "        name = \"calculation\", # 半角英数字のみ\n",
    "        func=calc_chain.run,\n",
    "        description=\"計算をする場合に役立ちます\"\n",
    "    ),\n",
    "    Tool(\n",
    "        name = \"Search\", # 半角英数字のみ\n",
    "        func=search.run,\n",
    "        description=\"現在の出来事や世界の現状に関する質問に答える必要がある場合に役立ちます\"\n",
    "    ),\n",
    "]"
   ]
  },
  {
   "cell_type": "code",
   "execution_count": 24,
   "metadata": {},
   "outputs": [],
   "source": [
    "from langchain.agents import initialize_agent\n",
    "from langchain.chat_models import ChatOpenAI\n",
    "\n",
    "llm=ChatOpenAI(\n",
    "    model=\"gpt-3.5-turbo\",\n",
    "    temperature=0)\n",
    "\n",
    "agent_chain = initialize_agent(\n",
    "    tools, \n",
    "    llm, \n",
    "    agent=AgentType.OPENAI_FUNCTIONS,\n",
    "    verbose=True,)"
   ]
  },
  {
   "cell_type": "code",
   "execution_count": 25,
   "metadata": {},
   "outputs": [
    {
     "name": "stdout",
     "output_type": "stream",
     "text": [
      "\n",
      "\n",
      "\u001b[1m> Entering new  chain...\u001b[0m\n",
      "\u001b[32;1m\u001b[1;3m\n",
      "Invoking: `calculation` with `8 * 12`\n",
      "\n",
      "\n",
      "\u001b[0m\u001b[33;1m\u001b[1;3m96\u001b[0m\u001b[32;1m\u001b[1;3m8掛ける12は96です。\u001b[0m\n",
      "\n",
      "\u001b[1m> Finished chain.\u001b[0m\n"
     ]
    },
    {
     "data": {
      "text/plain": [
       "'8掛ける12は96です。'"
      ]
     },
     "execution_count": 25,
     "metadata": {},
     "output_type": "execute_result"
    }
   ],
   "source": [
    "agent_chain.run(input=\"8掛ける12は？\")"
   ]
  },
  {
   "cell_type": "code",
   "execution_count": 26,
   "metadata": {},
   "outputs": [
    {
     "name": "stdout",
     "output_type": "stream",
     "text": [
      "\n",
      "\n",
      "\u001b[1m> Entering new  chain...\u001b[0m\n",
      "\u001b[32;1m\u001b[1;3m\n",
      "Invoking: `news` with `{'keyword': '夏祭り'}`\n",
      "\n",
      "\n",
      "\u001b[0m\u001b[36;1m\u001b[1;3m[{'title': '「UDX 夏祭り」が4年ぶりに帰ってくる！7月28日から開催お笑い芸人のライブやVRお化け屋敷など、屋台や縁日もあり'}, {'title': 'どこか懐かしくて新しい夏祭りを天神の真ん中で。「天神夏まつり2023 」開催！'}, {'title': '大規模イベントから夏の恒例行事までそろい踏み！ 今週末のおすすめイベントをピックアップ'}]\u001b[0m\u001b[32;1m\u001b[1;3m夏祭りに関するニュースですね。以下のニュースがあります。\n",
      "\n",
      "1. 「UDX 夏祭り」が4年ぶりに帰ってくる！7月28日から開催お笑い芸人のライブやVRお化け屋敷など、屋台や縁日もあり\n",
      "2. どこか懐かしくて新しい夏祭りを天神の真ん中で。「天神夏まつり2023 」開催！\n",
      "3. 大規模イベントから夏の恒例行事までそろい踏み！ 今週末のおすすめイベントをピックアップ\n",
      "\n",
      "詳細な情報は各ニュースをご覧ください。\u001b[0m\n",
      "\n",
      "\u001b[1m> Finished chain.\u001b[0m\n"
     ]
    },
    {
     "data": {
      "text/plain": [
       "'夏祭りに関するニュースですね。以下のニュースがあります。\\n\\n1. 「UDX 夏祭り」が4年ぶりに帰ってくる！7月28日から開催お笑い芸人のライブやVRお化け屋敷など、屋台や縁日もあり\\n2. どこか懐かしくて新しい夏祭りを天神の真ん中で。「天神夏まつり2023 」開催！\\n3. 大規模イベントから夏の恒例行事までそろい踏み！ 今週末のおすすめイベントをピックアップ\\n\\n詳細な情報は各ニュースをご覧ください。'"
      ]
     },
     "execution_count": 26,
     "metadata": {},
     "output_type": "execute_result"
    }
   ],
   "source": [
    "agent_chain.run(input=\"夏祭りに関するニュースを教えてください\")"
   ]
  },
  {
   "cell_type": "markdown",
   "metadata": {},
   "source": [
    "# Toolkit:Pandas DataFrame Agent"
   ]
  },
  {
   "cell_type": "code",
   "execution_count": 48,
   "metadata": {},
   "outputs": [],
   "source": [
    "import pandas as pd\n",
    "\n",
    "df = pd.read_csv(\"./data2/iris.data\", header=0)"
   ]
  },
  {
   "cell_type": "code",
   "execution_count": 49,
   "metadata": {},
   "outputs": [],
   "source": [
    "from langchain.agents import create_pandas_dataframe_agent\n",
    "\n",
    "agent = create_pandas_dataframe_agent(OpenAI(temperature=0), df, verbose=True)"
   ]
  },
  {
   "cell_type": "code",
   "execution_count": 50,
   "metadata": {},
   "outputs": [
    {
     "name": "stdout",
     "output_type": "stream",
     "text": [
      "\n",
      "\n",
      "\u001b[1m> Entering new  chain...\u001b[0m\n",
      "\u001b[32;1m\u001b[1;3mThought: 答えを見つけるために、データフレームの行数を取得する必要があります。\n",
      "Action: python_repl_ast\n",
      "Action Input: len(df)\u001b[0m\n",
      "Observation: \u001b[36;1m\u001b[1;3m150\u001b[0m\n",
      "Thought:\u001b[32;1m\u001b[1;3m 私は今答えを知っています\n",
      "Final Answer: データフレームには150行があります。\u001b[0m\n",
      "\n",
      "\u001b[1m> Finished chain.\u001b[0m\n"
     ]
    },
    {
     "data": {
      "text/plain": [
       "'データフレームには150行があります。'"
      ]
     },
     "execution_count": 50,
     "metadata": {},
     "output_type": "execute_result"
    }
   ],
   "source": [
    "agent.run(\"何行ありますか？\")"
   ]
  },
  {
   "cell_type": "code",
   "execution_count": 51,
   "metadata": {},
   "outputs": [
    {
     "name": "stdout",
     "output_type": "stream",
     "text": [
      "\n",
      "\n",
      "\u001b[1m> Entering new  chain...\u001b[0m\n",
      "\u001b[32;1m\u001b[1;3mThought: Nameごとにデータを分けて、基本統計量を計算する\n",
      "Action: python_repl_ast\n",
      "Action Input: df.groupby('Name').describe()\u001b[0m\n",
      "Observation: \u001b[36;1m\u001b[1;3m                SepalLength                                              \\\n",
      "                      count   mean       std  min    25%  50%  75%  max   \n",
      "Name                                                                      \n",
      "Iris-setosa            50.0  5.006  0.352490  4.3  4.800  5.0  5.2  5.8   \n",
      "Iris-versicolor        50.0  5.936  0.516171  4.9  5.600  5.9  6.3  7.0   \n",
      "Iris-virginica         50.0  6.588  0.635880  4.9  6.225  6.5  6.9  7.9   \n",
      "\n",
      "                SepalWidth         ... PetalLength      PetalWidth         \\\n",
      "                     count   mean  ...         75%  max      count   mean   \n",
      "Name                               ...                                      \n",
      "Iris-setosa           50.0  3.418  ...       1.575  1.9       50.0  0.244   \n",
      "Iris-versicolor       50.0  2.770  ...       4.600  5.1       50.0  1.326   \n",
      "Iris-virginica        50.0  2.974  ...       5.875  6.9       50.0  2.026   \n",
      "\n",
      "                                                    \n",
      "                      std  min  25%  50%  75%  max  \n",
      "Name                                                \n",
      "Iris-setosa      0.107210  0.1  0.2  0.2  0.3  0.6  \n",
      "Iris-versicolor  0.197753  1.0  1.2  1.3  1.5  1.8  \n",
      "Iris-virginica   0.274650  1.4  1.8  2.0  2.3  2.5  \n",
      "\n",
      "[3 rows x 32 columns]\u001b[0m\n",
      "Thought:\u001b[32;1m\u001b[1;3m 出力されたデータを見て、Nameごとの基本統計量を表として出力する\n",
      "Action: python_repl_ast\n",
      "Action Input: df.groupby('Name').describe().T\u001b[0m\n",
      "Observation: \u001b[36;1m\u001b[1;3mName               Iris-setosa  Iris-versicolor  Iris-virginica\n",
      "SepalLength count    50.000000        50.000000       50.000000\n",
      "            mean      5.006000         5.936000        6.588000\n",
      "            std       0.352490         0.516171        0.635880\n",
      "            min       4.300000         4.900000        4.900000\n",
      "            25%       4.800000         5.600000        6.225000\n",
      "            50%       5.000000         5.900000        6.500000\n",
      "            75%       5.200000         6.300000        6.900000\n",
      "            max       5.800000         7.000000        7.900000\n",
      "SepalWidth  count    50.000000        50.000000       50.000000\n",
      "            mean      3.418000         2.770000        2.974000\n",
      "            std       0.381024         0.313798        0.322497\n",
      "            min       2.300000         2.000000        2.200000\n",
      "            25%       3.125000         2.525000        2.800000\n",
      "            50%       3.400000         2.800000        3.000000\n",
      "            75%       3.675000         3.000000        3.175000\n",
      "            max       4.400000         3.400000        3.800000\n",
      "PetalLength count    50.000000        50.000000       50.000000\n",
      "            mean      1.464000         4.260000        5.552000\n",
      "            std       0.173511         0.469911        0.551895\n",
      "            min       1.000000         3.000000        4.500000\n",
      "            25%       1.400000         4.000000        5.100000\n",
      "            50%       1.500000         4.350000        5.550000\n",
      "            75%       1.575000         4.600000        5.875000\n",
      "            max       1.900000         5.100000        6.900000\n",
      "PetalWidth  count    50.000000        50.000000       50.000000\n",
      "            mean      0.244000         1.326000        2.026000\n",
      "            std       0.107210         0.197753        0.274650\n",
      "            min       0.100000         1.000000        1.400000\n",
      "            25%       0.200000         1.200000        1.800000\n",
      "            50%       0.200000         1.300000        2.000000\n",
      "            75%       0.300000         1.500000        2.300000\n",
      "            max       0.600000         1.800000        2.500000\u001b[0m\n",
      "Thought:\u001b[32;1m\u001b[1;3m 出力されたデータを見て、Nameごとの基本統計量を表として出力する\n",
      "Final Answer: \n",
      "Name               Iris-setosa  Iris-versicolor  Iris-virginica\n",
      "SepalLength count    50.000000        50.000000       50.000000\n",
      "            mean      5.006000         5.936000        6.588000\n",
      "            std       0.352490         0.516171        0.635880\n",
      "            min       4.300000         4.900000        4.900000\n",
      "            25%       4.800000         5.600000        6.225000\n",
      "            50%       5.000000         5.900000        6.500000\n",
      "            75%       5.200000         6.300000        6.900000\n",
      "            max       5.800000         7.000000        7.900000\n",
      "SepalWidth  count    50.000000        50.000000       50.000000\n",
      "            mean      3.418000         2.770000        2.974000\n",
      "            std      \u001b[0m\n",
      "\n",
      "\u001b[1m> Finished chain.\u001b[0m\n"
     ]
    },
    {
     "data": {
      "text/plain": [
       "'Name               Iris-setosa  Iris-versicolor  Iris-virginica\\nSepalLength count    50.000000        50.000000       50.000000\\n            mean      5.006000         5.936000        6.588000\\n            std       0.352490         0.516171        0.635880\\n            min       4.300000         4.900000        4.900000\\n            25%       4.800000         5.600000        6.225000\\n            50%       5.000000         5.900000        6.500000\\n            75%       5.200000         6.300000        6.900000\\n            max       5.800000         7.000000        7.900000\\nSepalWidth  count    50.000000        50.000000       50.000000\\n            mean      3.418000         2.770000        2.974000\\n            std'"
      ]
     },
     "execution_count": 51,
     "metadata": {},
     "output_type": "execute_result"
    }
   ],
   "source": [
    "agent.run(\"Nameごとの基本統計量を表として出力してください\")"
   ]
  },
  {
   "cell_type": "code",
   "execution_count": 52,
   "metadata": {},
   "outputs": [
    {
     "name": "stdout",
     "output_type": "stream",
     "text": [
      "\n",
      "\n",
      "\u001b[1m> Entering new  chain...\u001b[0m\n",
      "\u001b[32;1m\u001b[1;3mThought: このデータフレームには何が含まれているかを確認する必要があります\n",
      "Action: python_repl_ast\n",
      "Action Input: df.columns\u001b[0m\n",
      "Observation: \u001b[36;1m\u001b[1;3mIndex(['SepalLength', 'SepalWidth', 'PetalLength', 'PetalWidth', 'Name'], dtype='object')\u001b[0m\n",
      "Thought:\u001b[32;1m\u001b[1;3m このデータフレームには、SepalLength、SepalWidth、PetalLength、PetalWidth、Nameの5つの列が含まれていることがわかりました\n",
      "Final Answer: このデータフレームには、SepalLength、SepalWidth、PetalLength、PetalWidth、Nameの5つの列が含まれています。\u001b[0m\n",
      "\n",
      "\u001b[1m> Finished chain.\u001b[0m\n"
     ]
    },
    {
     "data": {
      "text/plain": [
       "'このデータフレームには、SepalLength、SepalWidth、PetalLength、PetalWidth、Nameの5つの列が含まれています。'"
      ]
     },
     "execution_count": 52,
     "metadata": {},
     "output_type": "execute_result"
    }
   ],
   "source": [
    "agent.run(\"このデータについて説明してください\")"
   ]
  },
  {
   "cell_type": "code",
   "execution_count": 54,
   "metadata": {},
   "outputs": [
    {
     "name": "stdout",
     "output_type": "stream",
     "text": [
      "\n",
      "\n",
      "\u001b[1m> Entering new  chain...\u001b[0m\n",
      "\u001b[32;1m\u001b[1;3mThought: SepalLengthとSepalWidthを取り出して、Nameごとに色分けした散布図を作成する\n",
      "Action: python_repl_ast\n",
      "Action Input: df.plot.scatter(x='SepalLength', y='SepalWidth', c='Name', colormap='viridis')\u001b[0m\n",
      "Observation: \u001b[36;1m\u001b[1;3mAxes(0.125,0.11;0.62x0.77)\u001b[0m\n",
      "Thought:\u001b[32;1m\u001b[1;3m 散布図が作成された\n",
      "Final Answer: SepalLengthとSepalWidthを使い、Nameごとに色分けした散布図を作成しました。\u001b[0m\n",
      "\n",
      "\u001b[1m> Finished chain.\u001b[0m\n"
     ]
    },
    {
     "data": {
      "text/plain": [
       "'SepalLengthとSepalWidthを使い、Nameごとに色分けした散布図を作成しました。'"
      ]
     },
     "execution_count": 54,
     "metadata": {},
     "output_type": "execute_result"
    },
    {
     "data": {
      "image/png": "[encoded data removed]",
      "text/plain": [
       "<Figure size 640x480 with 2 Axes>"
      ]
     },
     "metadata": {},
     "output_type": "display_data"
    }
   ],
   "source": [
    "agent.run(\"SepalLengthとSepalWidthを使い、Nameごとに色分けした散布図を作成してください\")"
   ]
  },
  {
   "cell_type": "markdown",
   "metadata": {},
   "source": [
    "# Toolkit:Python Agent"
   ]
  },
  {
   "cell_type": "code",
   "execution_count": 96,
   "metadata": {},
   "outputs": [],
   "source": [
    "from langchain.chat_models import ChatOpenAI\n",
    "from langchain.agents.agent_toolkits import create_python_agent\n",
    "from langchain.tools.python.tool import PythonREPLTool\n",
    "\n",
    "agent = create_python_agent(\n",
    "    llm=ChatOpenAI(temperature=0, model=\"gpt-3.5-turbo\"),\n",
    "    tool=PythonREPLTool(),\n",
    "    verbose=True,\n",
    "    agent_type=AgentType.OPENAI_FUNCTIONS,\n",
    "    agent_executor_kwargs={\"handle_parsing_errors\": True},\n",
    ")"
   ]
  },
  {
   "cell_type": "code",
   "execution_count": 87,
   "metadata": {},
   "outputs": [
    {
     "name": "stdout",
     "output_type": "stream",
     "text": [
      "\n",
      "\n",
      "\u001b[1m> Entering new  chain...\u001b[0m\n",
      "\u001b[32;1m\u001b[1;3m\n",
      "Invoking: `Python_REPL` with `import pandas as pd\n",
      "from sklearn.ensemble import RandomForestClassifier\n",
      "\n",
      "# データの読み込み\n",
      "data = pd.read_csv('data2/iris.data', header=0)\n",
      "\n",
      "# 特徴量とターゲットの分割\n",
      "X = data.iloc[:, :-1]\n",
      "y = data.iloc[:, -1]\n",
      "\n",
      "# モデルの作成と学習\n",
      "model = RandomForestClassifier()\n",
      "model.fit(X, y)\n",
      "\n",
      "# 予測\n",
      "predictions = model.predict(X)\n",
      "\n",
      "predictions`\n",
      "\n",
      "\n",
      "\u001b[0m\u001b[36;1m\u001b[1;3m\u001b[0m\u001b[32;1m\u001b[1;3m```python\n",
      "import pandas as pd\n",
      "from sklearn.ensemble import RandomForestClassifier\n",
      "\n",
      "# データの読み込み\n",
      "data = pd.read_csv('data2/iris.data', header=0)\n",
      "\n",
      "# 特徴量とターゲットの分割\n",
      "X = data.iloc[:, :-1]\n",
      "y = data.iloc[:, -1]\n",
      "\n",
      "# モデルの作成と学習\n",
      "model = RandomForestClassifier()\n",
      "model.fit(X, y)\n",
      "\n",
      "# 予測\n",
      "predictions = model.predict(X)\n",
      "\n",
      "predictions\n",
      "```\n",
      "\n",
      "このプログラムは、`data2/iris.data`をヘッダー行を0として読み込み、Random Forestで分類するものです。予測結果は`predictions`として出力されます。\u001b[0m\n",
      "\n",
      "\u001b[1m> Finished chain.\u001b[0m\n"
     ]
    }
   ],
   "source": [
    "result = agent.run(\"data2/iris.dataをheader=0で読み込んで、RandomForestで分類するプログラムを作成してください。\")"
   ]
  },
  {
   "cell_type": "code",
   "execution_count": 88,
   "metadata": {},
   "outputs": [
    {
     "name": "stdout",
     "output_type": "stream",
     "text": [
      "```python\n",
      "import pandas as pd\n",
      "from sklearn.ensemble import RandomForestClassifier\n",
      "\n",
      "# データの読み込み\n",
      "data = pd.read_csv('data2/iris.data', header=0)\n",
      "\n",
      "# 特徴量とターゲットの分割\n",
      "X = data.iloc[:, :-1]\n",
      "y = data.iloc[:, -1]\n",
      "\n",
      "# モデルの作成と学習\n",
      "model = RandomForestClassifier()\n",
      "model.fit(X, y)\n",
      "\n",
      "# 予測\n",
      "predictions = model.predict(X)\n",
      "\n",
      "predictions\n",
      "```\n",
      "\n",
      "このプログラムは、`data2/iris.data`をヘッダー行を0として読み込み、Random Forestで分類するものです。予測結果は`predictions`として出力されます。\n"
     ]
    }
   ],
   "source": [
    "print(result)"
   ]
  },
  {
   "cell_type": "code",
   "execution_count": null,
   "metadata": {},
   "outputs": [],
   "source": []
  }
 ],
 "metadata": {
  "kernelspec": {
   "display_name": ".venv",
   "language": "python",
   "name": "python3"
  },
  "language_info": {
   "codemirror_mode": {
    "name": "ipython",
    "version": 3
   },
   "file_extension": ".py",
   "mimetype": "text/x-python",
   "name": "python",
   "nbconvert_exporter": "python",
   "pygments_lexer": "ipython3",
   "version": "3.11.4"
  },
  "orig_nbformat": 4
 },
 "nbformat": 4,
 "nbformat_minor": 2
}
