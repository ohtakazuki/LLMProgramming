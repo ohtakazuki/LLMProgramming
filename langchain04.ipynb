{
 "cells": [
  {
   "cell_type": "markdown",
   "metadata": {},
   "source": [
    "# Agent\n",
    "\n",
    "# 準備"
   ]
  },
  {
   "cell_type": "code",
   "execution_count": 1,
   "metadata": {},
   "outputs": [],
   "source": [
    "# 必要なモジュールをインポート\n",
    "import os\n",
    "from dotenv import load_dotenv\n",
    "\n",
    "# 環境変数の読み込み\n",
    "load_dotenv()\n",
    "os.environ[\"OPENAI_API_KEY\"] = os.environ[\"API_KEY\"]"
   ]
  },
  {
   "cell_type": "markdown",
   "metadata": {},
   "source": [
    "# Google検索Agent"
   ]
  },
  {
   "cell_type": "code",
   "execution_count": 25,
   "metadata": {},
   "outputs": [],
   "source": [
    "from langchain.agents import Tool\n",
    "from langchain.utilities import GoogleSearchAPIWrapper\n",
    "\n",
    "search = GoogleSearchAPIWrapper()\n",
    "\n",
    "tools = [\n",
    "    Tool(\n",
    "        name = \"GoogleSearch\", # 名前は半角英数字のみ\n",
    "        func=search.run,\n",
    "        description=\"Search Google for recent results.\"\n",
    "    )\n",
    "]"
   ]
  },
  {
   "cell_type": "code",
   "execution_count": 26,
   "metadata": {},
   "outputs": [],
   "source": [
    "from langchain_openai import ChatOpenAI\n",
    "\n",
    "llm = ChatOpenAI(model=\"gpt-3.5-turbo-1106\", temperature=1.2)"
   ]
  },
  {
   "cell_type": "code",
   "execution_count": 27,
   "metadata": {},
   "outputs": [
    {
     "data": {
      "text/plain": [
       "[SystemMessagePromptTemplate(prompt=PromptTemplate(input_variables=[], template='You are a helpful assistant')),\n",
       " MessagesPlaceholder(variable_name='chat_history', optional=True),\n",
       " HumanMessagePromptTemplate(prompt=PromptTemplate(input_variables=['input'], template='{input}')),\n",
       " MessagesPlaceholder(variable_name='agent_scratchpad')]"
      ]
     },
     "execution_count": 27,
     "metadata": {},
     "output_type": "execute_result"
    }
   ],
   "source": [
    "from langchain import hub\n",
    "\n",
    "# Get the prompt to use - you can modify this!\n",
    "prompt = hub.pull(\"hwchase17/openai-functions-agent\")\n",
    "prompt.messages"
   ]
  },
  {
   "cell_type": "code",
   "execution_count": 28,
   "metadata": {},
   "outputs": [],
   "source": [
    "from langchain.agents import create_openai_functions_agent\n",
    "\n",
    "agent = create_openai_functions_agent(llm, tools, prompt)"
   ]
  },
  {
   "cell_type": "code",
   "execution_count": 29,
   "metadata": {},
   "outputs": [],
   "source": [
    "from langchain.agents import AgentExecutor\n",
    "\n",
    "agent_executor = AgentExecutor(agent=agent, tools=tools, verbose=True)"
   ]
  },
  {
   "cell_type": "code",
   "execution_count": 32,
   "metadata": {},
   "outputs": [
    {
     "name": "stdout",
     "output_type": "stream",
     "text": [
      "\n",
      "\n",
      "\u001b[1m> Entering new AgentExecutor chain...\u001b[0m\n",
      "\u001b[32;1m\u001b[1;3m\n",
      "Invoking: `GoogleSearch` with `広島サミットの結果`\n",
      "\n",
      "\n",
      "\u001b[0m\u001b[36;1m\u001b[1;3mMay 22, 2023 ... 被爆地・広島で開かれたG7サミット。ウクライナ情勢や核軍縮が大きなテーマとなり、... #nhk_kaisetsu. Apr 27, 2023 ... G7広島サミット準備会議（第三回会合）（結果） ... 4月27日午後3時10分から約15分間、G7広島サミット準備会議（第三回会合）が開催されました。会合は、 ... Sep 8, 2023 ... 広島AIプロセスは、本年5月に開催されたG7広島サミットの結果を踏まえ、G7メンバー及び関係国際機関が参加して、その急速な発展と普及が国際社会全体 ... Dec 22, 2022 ... 会合では、日本のG7議長国への就任を来月に控え、準備の状況や作業方針を政府全体で改めて共有し、G7広島サミットまでの残り5か月間の準備を万全な体制で ... Jun 3, 2023 ... G7の結果は私たちの暮らしにどう影響する？ 5月19〜21日に広島で開催されたG7広島サミット。 ニュースなどで目にした人も多いことでしょう。 しかし ... Sep 14, 2023 ... 広島サミット県民会議事務局において、サミットの開催に伴う本県への経済波及効果と、. 国内外のメディア露出件数及びその広告換算額の推計結果を ... 【日経】G7サミット（主要7カ国首脳会議）が2023年5月19～21日に広島市で開催。会議の議題や各国首脳の動きなど最新ニュースをまとめました。 Sep 22, 2023 ... ... 広島の食の魅力発信・来広促進業務公募型プロポーザル」に係る選定結果について. 印刷用ページを表示する掲載日2023年11月8日. 広島サミットを契機と ... May 21, 2023 ... ノーベル平和賞を受賞した「核兵器廃絶国際キャンペーン（ICAN）」の事務局長代行、ダニエル・ホグスタ氏は21日、広島市内で記者会見し、「広島がG7 ... May 29, 2023 ... 2 主な行事. ⑴ 5月 18 日（木）. G7首脳等の来日、日米首脳会談等. ⑵ 5月 19 日（金）【サミット1日目】. 平和記念公園行事、セッション、 ...\u001b[0m\u001b[32;1m\u001b[1;3m2023年5月に広島で開催されたG7サミットでは、ウクライナ情勢や核軍縮が主要テーマとなりました。広島AIプロセスも取り上げられ、G7メンバーと関係国際機関が参加して、その発展と普及が国際社会全体で促進されることが議論されました。具体的な結果について詳細はわかっていませんが、広島サミットは国際社会における重要な議論となりました。\u001b[0m\n",
      "\n",
      "\u001b[1m> Finished chain.\u001b[0m\n"
     ]
    },
    {
     "data": {
      "text/plain": [
       "{'input': '広島サミットの結果について教えてください',\n",
       " 'output': '2023年5月に広島で開催されたG7サミットでは、ウクライナ情勢や核軍縮が主要テーマとなりました。広島AIプロセスも取り上げられ、G7メンバーと関係国際機関が参加して、その発展と普及が国際社会全体で促進されることが議論されました。具体的な結果について詳細はわかっていませんが、広島サミットは国際社会における重要な議論となりました。'}"
      ]
     },
     "execution_count": 32,
     "metadata": {},
     "output_type": "execute_result"
    }
   ],
   "source": [
    "agent_executor.invoke({\"input\": \"広島サミットの結果について教えてください\"})"
   ]
  },
  {
   "cell_type": "markdown",
   "metadata": {},
   "source": [
    "# 対話型Google検索Agent\n",
    "\n",
    "https://python.langchain.com/docs/modules/memory/agent_with_memory"
   ]
  },
  {
   "cell_type": "code",
   "execution_count": 51,
   "metadata": {},
   "outputs": [],
   "source": [
    "from langchain.agents import AgentExecutor, Tool, ZeroShotAgent\n",
    "from langchain.chains import LLMChain\n",
    "from langchain.memory import ConversationBufferMemory\n",
    "from langchain_community.utilities import GoogleSearchAPIWrapper\n",
    "from langchain_openai import ChatOpenAI"
   ]
  },
  {
   "cell_type": "code",
   "execution_count": 52,
   "metadata": {},
   "outputs": [],
   "source": [
    "search = GoogleSearchAPIWrapper()\n",
    "tools = [\n",
    "    Tool(\n",
    "        name=\"Search\",\n",
    "        func=search.run,\n",
    "        description=\"現在の出来事に関する質問に答える必要がある場合に便利です\",\n",
    "    )\n",
    "]"
   ]
  },
  {
   "cell_type": "code",
   "execution_count": 58,
   "metadata": {},
   "outputs": [],
   "source": [
    "prefix = \"\"\"あなたは日本語で回答します。あなたは人間と会話し、次の質問にできる限り答えてください。次のツールにアクセスできます:\"\"\"\n",
    "\n",
    "suffix = \"\"\"開始！\"\n",
    "\n",
    "{chat_history}\n",
    "Question: {input}\n",
    "{agent_scratchpad}\"\"\"\n",
    "\n",
    "prompt = ZeroShotAgent.create_prompt(\n",
    "    tools,\n",
    "    prefix=prefix,\n",
    "    suffix=suffix,\n",
    "    input_variables=[\"input\", \"chat_history\", \"agent_scratchpad\"],\n",
    ")\n",
    "memory = ConversationBufferMemory(memory_key=\"chat_history\")"
   ]
  },
  {
   "cell_type": "code",
   "execution_count": 59,
   "metadata": {},
   "outputs": [],
   "source": [
    "llm_chain = LLMChain(llm=ChatOpenAI(model=\"gpt-3.5-turbo-1106\", temperature=1.2), prompt=prompt)\n",
    "agent = ZeroShotAgent(llm_chain=llm_chain, tools=tools, verbose=True)\n",
    "agent_chain = AgentExecutor.from_agent_and_tools(\n",
    "    agent=agent, tools=tools, verbose=True, memory=memory\n",
    ")"
   ]
  },
  {
   "cell_type": "code",
   "execution_count": 60,
   "metadata": {},
   "outputs": [
    {
     "name": "stdout",
     "output_type": "stream",
     "text": [
      "\n",
      "\n",
      "\u001b[1m> Entering new AgentExecutor chain...\u001b[0m\n",
      "\u001b[32;1m\u001b[1;3mThought: I should use the search tool to find the current population of Japan.\n",
      "Action: Search\n",
      "Action Input: \"日本の人口 現在\"\u001b[0m\n",
      "Observation: \u001b[36;1m\u001b[1;3mDec 20, 2023 ... 各月1日現在の日本の人口について、最新の推計結果を掲載しています。 ※ 将来推計人口は、国立社会保障・人口問題研究所「日本の市区町村別将来推計人口（平成20年12月推計）」による。 ※ （ ）内の数値は、高齢化率。 ※ 大都市部は、埼玉県、 ... Apr 12, 2023 ... 全国人口. 総人口は55万6千人の減少、12年連続の減少 日本人人口は減少幅が11年連続で拡大. 日本の人口の推移. 生産年齢人口（15～64歳）割合. 高齢化率（65歳以上人口割合 ... 現在人口）. 厚生労働省「人口動態統計」. ※1 出典：平成25年度 総務省「人口推計 ... ... 現在の日本の人口（全国・年齢5歳階級・男女別人口） ... 「全国人口：各月1日現在人口」 「都道府県人口：各年10月1日現在人口」; 長期時 ... 現状のまま推移した場合は、年少人口や生産年齢人口の割合が低下し続け、こうした人口減少・超高齢化により、経済や社会にひずみが生じてくるおそれがある。ただし、今後は ... Apr 15, 2022 ... 人口推計（2021年（令和3年）10月1日現在）結果の要約 · 総人口は1億2550万2千人で、前年に比べ64万4千人（‐0.51％）の減少となり、減少幅は比較可能な1950 ... 人口の推移、人口構造の変化 ... 日本の人口は近年減少局面を迎えており、2070年には総人口が9,000万人を割り込み、高齢化率は39％の水準になると推計されています。 ウ 年少人口、出生数とも現在の半分以下に、生産年齢人口は4,418万人に. 出生数は減少を続け、平成72（2060）年には、48万人になると推計されている。この減少により ... 複数の仮定に基づく複数の推計によって、将来の人口推移について一定幅の見通しを与えています。 推計の方法. 国際的に標準とされる人口学的手法（コーホート要因法）に ...\u001b[0m\n",
      "Thought:\u001b[32;1m\u001b[1;3mI now know the final answer\n",
      "Final Answer: 1億2500万2千人 （統計の最新日付：2021年（令和3年）10月1日）\u001b[0m\n",
      "\n",
      "\u001b[1m> Finished chain.\u001b[0m\n"
     ]
    },
    {
     "data": {
      "text/plain": [
       "'1億2500万2千人 （統計の最新日付：2021年（令和3年）10月1日）'"
      ]
     },
     "execution_count": 60,
     "metadata": {},
     "output_type": "execute_result"
    }
   ],
   "source": [
    "agent_chain.run(input=\"日本の人口は何人ですか？\")"
   ]
  },
  {
   "cell_type": "code",
   "execution_count": 61,
   "metadata": {},
   "outputs": [
    {
     "name": "stdout",
     "output_type": "stream",
     "text": [
      "\n",
      "\n",
      "\u001b[1m> Entering new AgentExecutor chain...\u001b[0m\n",
      "\u001b[32;1m\u001b[1;3mThought: I should search for the national anthem of Japan\n",
      "Action: Search\n",
      "Action Input: \"Japan national anthem\"\u001b[0m\n",
      "Observation: \u001b[36;1m\u001b[1;3mMay 8, 2010 ... \"Kimigayo\" (君が代?) is Japan's national anthem. It is also one of the world's shortest national anthems in current use, with a length of 11 ... \"Kimigayo\" (君が代, Japanese pronunciation: [kimiɡajo]; \"His Imperial Majesty's Reign\") is the national anthem of Japan. The lyrics are from a waka poem written ... Jan 12, 2015 ... Japan national team sing 君が代 (Kimigayo) their national anthem during their match against Palestine. Jul 26, 2023 ... 'Kimigayo' is the country's single-verse national anthem, based on the words of a classical Japanese waka poem written by an unknown author ... The Rising Sun Flag and \"Kimi Ga Yo\" are respectively the national flag and anthem of Japan. This was formalized in 1999 with the Law regarding the National ... Aug 14, 2016 ... It certainly is a dirge like tune, isn't it? The Japanese are super serious with this kind of thing. If something is ceremonial, they are all in ... Jun 22, 2015 ... The ruling was overturned at the Tokyo High Court, which found that it did not violate the constitution. The Supreme Court then ruled the ... Mar 15, 2018 ... The issue of Japan's national anthem, Kimigayo, is a complex and sensitive one. The song has historical and cultural significance, ... Jan 13, 2015 ... Four persons were named to a committee to revise the National anthem for Japan. Among them was Hiromori Hayashi, who produced a melody that was ... Mar 29, 2017 ... \"Kimigayo (The Emperor's Reign)\" became Japan's national anthem in 1888. The word \"kimi\" refers to the Emperor and the words contain the prayer: ...\u001b[0m\n",
      "Thought:\u001b[32;1m\u001b[1;3m I now know the national anthem of Japan.\n",
      "Final Answer: \"Kimigayo\" (君が代) is Japan's national anthem.\u001b[0m\n",
      "\n",
      "\u001b[1m> Finished chain.\u001b[0m\n"
     ]
    },
    {
     "data": {
      "text/plain": [
       "'\"Kimigayo\" (君が代) is Japan\\'s national anthem.'"
      ]
     },
     "execution_count": 61,
     "metadata": {},
     "output_type": "execute_result"
    }
   ],
   "source": [
    "agent_chain.run(input=\"「その国の国歌を教えて\")"
   ]
  },
  {
   "cell_type": "markdown",
   "metadata": {},
   "source": [
    "# Index検索Agent"
   ]
  },
  {
   "cell_type": "code",
   "execution_count": 94,
   "metadata": {},
   "outputs": [],
   "source": [
    "from langchain.document_loaders import PyPDFLoader\n",
    "from langchain.text_splitter import CharacterTextSplitter\n",
    "from langchain_openai import OpenAIEmbeddings\n",
    "from langchain.vectorstores import Chroma\n",
    "from langchain.chains import RetrievalQA\n",
    "from langchain.llms import OpenAI\n",
    "\n",
    "# PDFの読込\n",
    "loader = PyPDFLoader(\"./data2/001615363.pdf\")\n",
    "documents = loader.load()\n",
    "\n",
    "# チャンクに分割\n",
    "text_splitter = CharacterTextSplitter(separator=\"\\n\", chunk_size=512, chunk_overlap=0)\n",
    "texts = text_splitter.split_documents(documents)\n",
    "\n",
    "# Indexの構築\n",
    "db = Chroma.from_documents(texts, OpenAIEmbeddings())\n",
    "\n",
    "# 検索（Retriever）の取得\n",
    "retriever = db.as_retriever()"
   ]
  },
  {
   "cell_type": "code",
   "execution_count": 103,
   "metadata": {},
   "outputs": [],
   "source": [
    "from langchain.tools.retriever import create_retriever_tool\n",
    "\n",
    "tools = [\n",
    "  create_retriever_tool(\n",
    "      retriever,\n",
    "      \"ForeignTravelersQASystem\",\n",
    "      \"訪日外国人の旅行や土産品、消費動向に関する質問に役立ちます。\",\n",
    "  )\n",
    "]"
   ]
  },
  {
   "cell_type": "code",
   "execution_count": 104,
   "metadata": {},
   "outputs": [],
   "source": [
    "from langchain_openai import ChatOpenAI\n",
    "\n",
    "llm = ChatOpenAI(model=\"gpt-3.5-turbo-1106\", temperature=1.2)"
   ]
  },
  {
   "cell_type": "code",
   "execution_count": 105,
   "metadata": {},
   "outputs": [
    {
     "data": {
      "text/plain": [
       "[SystemMessagePromptTemplate(prompt=PromptTemplate(input_variables=[], template='You are a helpful assistant')),\n",
       " MessagesPlaceholder(variable_name='chat_history', optional=True),\n",
       " HumanMessagePromptTemplate(prompt=PromptTemplate(input_variables=['input'], template='{input}')),\n",
       " MessagesPlaceholder(variable_name='agent_scratchpad')]"
      ]
     },
     "execution_count": 105,
     "metadata": {},
     "output_type": "execute_result"
    }
   ],
   "source": [
    "from langchain import hub\n",
    "\n",
    "# Get the prompt to use - you can modify this!\n",
    "prompt = hub.pull(\"hwchase17/openai-functions-agent\")\n",
    "prompt.messages"
   ]
  },
  {
   "cell_type": "code",
   "execution_count": 106,
   "metadata": {},
   "outputs": [],
   "source": [
    "from langchain.agents import create_openai_functions_agent\n",
    "\n",
    "agent = create_openai_functions_agent(llm, tools, prompt)"
   ]
  },
  {
   "cell_type": "code",
   "execution_count": 107,
   "metadata": {},
   "outputs": [],
   "source": [
    "from langchain.agents import AgentExecutor\n",
    "\n",
    "agent_executor = AgentExecutor(agent=agent, tools=tools, verbose=True)"
   ]
  },
  {
   "cell_type": "code",
   "execution_count": 109,
   "metadata": {},
   "outputs": [
    {
     "name": "stdout",
     "output_type": "stream",
     "text": [
      "\n",
      "\n",
      "\u001b[1m> Entering new AgentExecutor chain...\u001b[0m\n",
      "\u001b[32;1m\u001b[1;3m\n",
      "Invoking: `ForeignTravelersQASystem` with `{'query': 'お土産の購入状況'}`\n",
      "\n",
      "\n",
      "\u001b[0m\u001b[36;1m\u001b[1;3m[Document(page_content='訪日外国人消費動向調査  \\n \\n20 ３．土産品の購入実態  \\n \\n（１） 費目別購入率 \\n\\uf06c 費目別の 購入率（その費目を購入した人の\\n割合）は「菓子類」 （ 70.4％）、「その他食\\n料品・飲料・たばこ」 （ 43.4％）、 「衣類」\\n（33.8％）の順で高 い（図表3-1）。 \\n\\uf06c 国籍・地域別で 最も購入率が 高い費目は 、\\n韓国、台湾、香港 、中国で「菓子類」 （ それ\\nぞれ82.9％、72.9％、63.3％、73.1％）、\\n米国で「その他食料品・飲料・たばこ」\\n（54.1％）となっている 。  \\n \\n（２）費目別購入者単価  \\n\\uf06c 費目別の購入者単価 （その費目を購入し\\nた人における当該費目の 1人当たり平均\\n支出）は、「 宝石・貴金属 」が8.3万円\\nと最も高い（図表 3-1）。 \\n\\uf06c 国籍・地域別では 、台湾と香港の「宝\\n石・貴金属 」（それぞれ 19.9万円、\\n16.6万円）が他の国籍・地域に比べ高\\nい。\\n  図表3-1 買物代の費目別購入率および購入者単価  （主要国籍･地域別 、全目的）', metadata={'page': 21, 'source': './data2/001615363.pdf'}), Document(page_content='訪日外国人消費動向調査 \\n \\n38 \\n （３）買物場所 \\n百貨店・デパート \\n原則として百貨店協会加盟の店舗 \\n家電量販店 \\nPCやカメラ、電気製品を専門に販売する店舗 \\nファッション専門店 \\n服・鞄・靴・アクセサリー・高級腕時計等\\nを専門に販売する店舗 \\n100 円ショップ \\n店内の商品を原則として 1 点 100 日本円均\\n一で 販売する形態の小売店 \\n高速道路の SA・道の駅 \\n高速道路のサービスエリア（SA）やパーキ\\nングエリア（PA）、国土交通省に登録され\\nている「道の駅」 \\n観光地の土産店 \\n観光地内にある小売店 \\n宿泊施設 \\n旅館・ホテル等の館内に併設されている土産店 \\nスーパーマーケット \\n高頻度に消費される食料品や日用品等をセル\\nフサービスで短時間に買えるようにした小売\\n店舗 \\nコンビニエンスストア \\n年中無休で長時間の営業を行い、小規模な\\n店舗において主に食品、日用雑貨等多数の\\n品種を扱う形態の小売店 \\nドラッグストア \\n医薬品や化粧品、トイレタリーを中心と\\nし、併せて日用品や文房具、食料品等を取\\n扱う店舗 ディスカウントストア \\n一時的なセールではなく常に低価格で商品', metadata={'page': 39, 'source': './data2/001615363.pdf'}), Document(page_content='図表3-2 買物代の費目別購入率および 購入者単価  （主要国籍･地域別 、観光・レジャー目的 ） \\n国籍･地域\\n費目 購入率購入者\\n単価\\n（円）購入率購入者\\n単価\\n（円）購入率購入者\\n単価\\n（円）購入率購入者\\n単価\\n（円）購入率購入者\\n単価\\n（円）購入率購入者\\n単価\\n（円）\\n菓子類 70.4% 10,646 82.9% 7,585 72.9% 12,517 63.3% 12,864 73.1% 16,057 43.7% 10,962\\n酒類 25.2% 10,365 34.5% 7,995 20.3% 10,001 14.7% 17,047 13.9% 18,150 28.5% 12,405\\n生鮮農産物 5.9% 22,304 3.8% 38,719 10.2% 12,699 10.3% 8,165 8.6% 36,296 3.8% 8,949\\nその他食料品・飲料・たばこ 43.4% 12,931 37.2% 10,579 41.5% 12,795 44.9% 13,481 49.7% 26,308 54.1% 14,773', metadata={'page': 21, 'source': './data2/001615363.pdf'}), Document(page_content='その他買物代 7.1% 23,682 6.9% 15,818 5.3% 20,708 6.7% 36,537 2.7% 42,926 10.6% 22,066全国籍･地域 韓\\u3000国 台\\u3000湾 香\\u3000港 中\\u3000国 米\\u3000国\\n国籍･地域\\n費目 購入率購入者\\n単価\\n（円）購入率購入者\\n単価\\n（円）購入率購入者\\n単価\\n（円）購入率購入者\\n単価\\n（円）購入率購入者\\n単価\\n（円）購入率購入者\\n単価\\n（円）\\n菓子類 73.7% 10,370 84.3% 7,444 73.5% 12,263 64.0% 12,708 68.9% 8,056 47.6% 12,112\\n酒類 25.8% 9,523 34.7% 7,449 19.7% 9,774 14.3% 16,290 5.1% 8,244 27.5% 12,793\\n生鮮農産物 5.6% 7,117 2.9% 6,932 10.6% 7,984 10.4% 6,128 0.0% - 3.7% 4,114\\nその他食料品・飲料・たばこ 43.4% 10,600 37.1% 7,642 41.5% 10,609 45.5% 12,616 65.1% 6,261 56.3% 13,195', metadata={'page': 21, 'source': './data2/001615363.pdf'})]\u001b[0m\u001b[32;1m\u001b[1;3m訪日外国人のお土産の購入状況について、以下の情報があります：\n",
      "\n",
      "- 費目別購入率では、「菓子類」が70.4%、「その他食料品・飲料・たばこ」が43.4%、「衣類」が33.8%の順で高いとされています。\n",
      "\n",
      "- 国籍・地域別で最も購入率が高い費目は、韓国、台湾、香港、中国では「菓子類」が高く、米国では「その他食料品・飲料・たばこ」が高いとされています。\n",
      "\n",
      "- 費目別の購入者単価では、「宝石・貴金属」が最も高いとされています。\n",
      "\n",
      "また、これらの購入が行われる商品の販売場所には百貨店・デパート、家電量販店、観光地の土産店、スーパーマーケットといった場所が含まれています。\n",
      "\n",
      "お土産の購入状況に関するこれらの情報が参考になるかと思います。\u001b[0m\n",
      "\n",
      "\u001b[1m> Finished chain.\u001b[0m\n"
     ]
    },
    {
     "data": {
      "text/plain": [
       "{'input': 'お土産の購入状況を教えて',\n",
       " 'output': '訪日外国人のお土産の購入状況について、以下の情報があります：\\n\\n- 費目別購入率では、「菓子類」が70.4%、「その他食料品・飲料・たばこ」が43.4%、「衣類」が33.8%の順で高いとされています。\\n\\n- 国籍・地域別で最も購入率が高い費目は、韓国、台湾、香港、中国では「菓子類」が高く、米国では「その他食料品・飲料・たばこ」が高いとされています。\\n\\n- 費目別の購入者単価では、「宝石・貴金属」が最も高いとされています。\\n\\nまた、これらの購入が行われる商品の販売場所には百貨店・デパート、家電量販店、観光地の土産店、スーパーマーケットといった場所が含まれています。\\n\\nお土産の購入状況に関するこれらの情報が参考になるかと思います。'}"
      ]
     },
     "execution_count": 109,
     "metadata": {},
     "output_type": "execute_result"
    }
   ],
   "source": [
    "agent_executor.invoke({\"input\": \"お土産の購入状況を教えて\"})"
   ]
  },
  {
   "cell_type": "markdown",
   "metadata": {},
   "source": [
    "# OpenAI Tool"
   ]
  },
  {
   "cell_type": "code",
   "execution_count": 110,
   "metadata": {},
   "outputs": [],
   "source": [
    "from langchain import hub\n",
    "from langchain.agents import AgentExecutor, create_openai_tools_agent\n",
    "from langchain_community.tools.tavily_search import TavilySearchResults\n",
    "from langchain_openai import ChatOpenAI"
   ]
  },
  {
   "cell_type": "code",
   "execution_count": 111,
   "metadata": {},
   "outputs": [],
   "source": [
    "# Get the prompt to use - you can modify this!\n",
    "prompt = hub.pull(\"hwchase17/openai-tools-agent\")"
   ]
  },
  {
   "cell_type": "code",
   "execution_count": 130,
   "metadata": {},
   "outputs": [],
   "source": [
    "import json\n",
    "import requests\n",
    "from bs4 import BeautifulSoup\n",
    "from langchain.chains import TransformChain\n",
    "\n",
    "# ニュースを検索する関数\n",
    "def get_news(inputs: dict) -> dict:\n",
    "    keyword = inputs[\"keyword\"]\n",
    "\n",
    "    # WebサイトのURLを指定\n",
    "    url = f'https://news.google.com/search?q={keyword}&hl=ja&gl=JP&ceid=JP:ja'\n",
    "\n",
    "    # Requestsを利用してWebページを取得する\n",
    "    response = requests.get(url)\n",
    "    html = response.text\n",
    "\n",
    "    # BeautifulSoupを利用してWebページを解析する\n",
    "    soup = BeautifulSoup(html, 'html.parser')\n",
    "\n",
    "    # soup.selectを利用して、ニュースのタイトルを取得する\n",
    "    elements = soup.select('article div div div a')\n",
    "\n",
    "    # ニュースのトップ3を配列に取得\n",
    "    news = []\n",
    "    for i, element in enumerate(elements):\n",
    "        news.append({\"title\": element.getText()})\n",
    "        if i>=2:\n",
    "            break\n",
    "\n",
    "    return {\"result\": news}\n",
    "\n",
    "# 関数をChain化\n",
    "news_chain = TransformChain(\n",
    "    input_variables=[\"keyword\"],\n",
    "    output_variables=[\"result\"],\n",
    "    transform=get_news\n",
    ")\n"
   ]
  },
  {
   "cell_type": "code",
   "execution_count": 131,
   "metadata": {},
   "outputs": [],
   "source": [
    "# 数式の文字列をもとに計算を行う関数\n",
    "def calc_func(inputs: dict) -> dict:\n",
    "    formula = inputs[\"formula\"]\n",
    "    answer = eval(formula)\n",
    "    return {\"answer\": f\"{answer}\"}\n",
    "\n",
    "# 関数をChain化\n",
    "calc_chain = TransformChain(\n",
    "    input_variables=[\"formula\"],\n",
    "    output_variables=[\"answer\"],\n",
    "    transform=calc_func\n",
    ")"
   ]
  },
  {
   "cell_type": "code",
   "execution_count": 132,
   "metadata": {},
   "outputs": [],
   "source": [
    "from langchain.agents import Tool\n",
    "from langchain.utilities import GoogleSearchAPIWrapper\n",
    "\n",
    "search = GoogleSearchAPIWrapper()\n",
    "\n",
    "tools = [\n",
    "    Tool(\n",
    "        name = \"news\", # 半角英数字のみ\n",
    "        func=news_chain.run,\n",
    "        description=\"ニュースを探す際に役立ちます\"\n",
    "    ),\n",
    "    Tool(\n",
    "        name = \"calculation\", # 半角英数字のみ\n",
    "        func=calc_chain.run,\n",
    "        description=\"計算をする場合に役立ちます\"\n",
    "    ),\n",
    "    Tool(\n",
    "        name = \"Search\", # 半角英数字のみ\n",
    "        func=search.run,\n",
    "        description=\"現在の出来事や世界の現状に関する質問に答える必要がある場合に役立ちます\"\n",
    "    ),\n",
    "]"
   ]
  },
  {
   "cell_type": "code",
   "execution_count": 133,
   "metadata": {},
   "outputs": [],
   "source": [
    "# Choose the LLM that will drive the agent\n",
    "# Only certain models support this\n",
    "llm = ChatOpenAI(model=\"gpt-3.5-turbo-1106\", temperature=0)\n",
    "\n",
    "# Construct the OpenAI Tools agent\n",
    "agent = create_openai_tools_agent(llm, tools, prompt)"
   ]
  },
  {
   "cell_type": "code",
   "execution_count": 134,
   "metadata": {},
   "outputs": [],
   "source": [
    "# Create an agent executor by passing in the agent and tools\n",
    "agent_executor = AgentExecutor(agent=agent, tools=tools, verbose=True)"
   ]
  },
  {
   "cell_type": "code",
   "execution_count": 135,
   "metadata": {},
   "outputs": [
    {
     "name": "stdout",
     "output_type": "stream",
     "text": [
      "\n",
      "\n",
      "\u001b[1m> Entering new AgentExecutor chain...\u001b[0m\n",
      "\u001b[32;1m\u001b[1;3m\n",
      "Invoking: `Search` with `LangChain`\n",
      "\n",
      "\n",
      "\u001b[0m\u001b[38;5;200m\u001b[1;3mLangChain's flexible abstractions and extensive toolkit unlocks developers to build context-aware, reasoning LLM applications. What is LangChain? LangChain is a framework for developing applications powered by language models. It enables applications that: ... This framework consists ... LangChain is a framework for developing applications powered by language models. It enables applications that: langchain.chains ¶. Chains are easily reusable components linked together. Chains encode a sequence of calls to components like models, document retrievers, ... Building with LangChain​. LangChain enables building application that connect external sources of data and computation to LLMs. In this quickstart, we will walk ... Introduction. LangChain is a framework for developing applications powered by language models. It enables applications that: ... This framework consists of ... History edit. LangChain was launched in October 2022 as an open source project by Harrison Chase, while working at machine learning startup Robust Intelligence. Ally Financial Collaborates with LangChain to Deliver Critical Coding Module to Mask Personal Identifying Information in a Compliant and Safe Manner · LangChain ... Langchain is an extremely popular framework for building production-ready AI-powered applications. In this video we will have a look at the basics of using ... Nov 12, 2023 ... Assistant api and langchain are basically doing the same thing. Both require programming. The only advantage of Assistant API is that memory and ...\u001b[0m\u001b[32;1m\u001b[1;3mLangChainは、柔軟な抽象化と豊富なツールセットによって、開発者がコンテキストに応じた推論型LLMアプリケーションを構築できるようにするフレームワークです。LangChainは、言語モデルによって動作するアプリケーションを開発するためのフレームワークであり、外部のデータソースや計算をLLMに接続するアプリケーションを構築できるようにします。LangChainは、2022年10月に機械学習スタートアップRobust Intelligenceで働いていたHarrison Chaseによってオープンソースプロジェクトとして立ち上げられました。LangChainは、製品向けのAI搭載アプリケーションを構築するための非常に人気のあるフレームワークです。\u001b[0m\n",
      "\n",
      "\u001b[1m> Finished chain.\u001b[0m\n"
     ]
    },
    {
     "data": {
      "text/plain": [
       "{'input': 'LangChainとは何ですか?',\n",
       " 'output': 'LangChainは、柔軟な抽象化と豊富なツールセットによって、開発者がコンテキストに応じた推論型LLMアプリケーションを構築できるようにするフレームワークです。LangChainは、言語モデルによって動作するアプリケーションを開発するためのフレームワークであり、外部のデータソースや計算をLLMに接続するアプリケーションを構築できるようにします。LangChainは、2022年10月に機械学習スタートアップRobust Intelligenceで働いていたHarrison Chaseによってオープンソースプロジェクトとして立ち上げられました。LangChainは、製品向けのAI搭載アプリケーションを構築するための非常に人気のあるフレームワークです。'}"
      ]
     },
     "execution_count": 135,
     "metadata": {},
     "output_type": "execute_result"
    }
   ],
   "source": [
    "agent_executor.invoke({\"input\": \"LangChainとは何ですか?\"})"
   ]
  },
  {
   "cell_type": "code",
   "execution_count": 136,
   "metadata": {},
   "outputs": [
    {
     "name": "stdout",
     "output_type": "stream",
     "text": [
      "\n",
      "\n",
      "\u001b[1m> Entering new AgentExecutor chain...\u001b[0m\n",
      "\u001b[32;1m\u001b[1;3m\n",
      "Invoking: `calculation` with `8*12`\n",
      "\n",
      "\n",
      "\u001b[0m\u001b[33;1m\u001b[1;3m96\u001b[0m\u001b[32;1m\u001b[1;3m8 かける 12 は 96 です。\u001b[0m\n",
      "\n",
      "\u001b[1m> Finished chain.\u001b[0m\n"
     ]
    },
    {
     "data": {
      "text/plain": [
       "{'input': '8掛ける12は？', 'output': '8 かける 12 は 96 です。'}"
      ]
     },
     "execution_count": 136,
     "metadata": {},
     "output_type": "execute_result"
    }
   ],
   "source": [
    "agent_executor.invoke({\"input\": \"8掛ける12は？\"})"
   ]
  },
  {
   "cell_type": "code",
   "execution_count": 137,
   "metadata": {},
   "outputs": [
    {
     "name": "stdout",
     "output_type": "stream",
     "text": [
      "\n",
      "\n",
      "\u001b[1m> Entering new AgentExecutor chain...\u001b[0m\n",
      "\u001b[32;1m\u001b[1;3m\n",
      "Invoking: `news` with `夏祭り`\n",
      "\n",
      "\n",
      "\u001b[0m\u001b[36;1m\u001b[1;3m[{'title': '夏祭りのお囃子の演奏で心も体も温まってもらう催し 板柳町｜NHK 青森県のニュース'}, {'title': '夏祭りで飲酒後に運転 電柱に衝突、助手席の男性死亡 危険運転致死の疑いで女を逮捕（千葉日報オンライン） - Yahoo ...'}, {'title': '【教育連携】奈良県橿原市の2023年「白橿町夏祭り」に行ってきた！花火も楽しめる町民の祭り！'}]\u001b[0m\u001b[32;1m\u001b[1;3m夏祭りに関する最新のニュースをお伝えします。\n",
      "\n",
      "1. 「夏祭りのお囃子の演奏で心も体も温まってもらう催し 板柳町｜NHK 青森県のニュース」\n",
      "2. 「夏祭りで飲酒後に運転 電柱に衝突、助手席の男性死亡 危険運転致死の疑いで女を逮捕（千葉日報オンライン） - Yahoo ...」\n",
      "3. 「【教育連携】奈良県橿原市の2023年「白橿町夏祭り」に行ってきた！花火も楽しめる町民の祭り！」\n",
      "\n",
      "以上が最新の夏祭りに関するニュースです。\u001b[0m\n",
      "\n",
      "\u001b[1m> Finished chain.\u001b[0m\n"
     ]
    },
    {
     "data": {
      "text/plain": [
       "{'input': '夏祭りに関するニュースを教えてください',\n",
       " 'output': '夏祭りに関する最新のニュースをお伝えします。\\n\\n1. 「夏祭りのお囃子の演奏で心も体も温まってもらう催し 板柳町｜NHK 青森県のニュース」\\n2. 「夏祭りで飲酒後に運転 電柱に衝突、助手席の男性死亡 危険運転致死の疑いで女を逮捕（千葉日報オンライン） - Yahoo ...」\\n3. 「【教育連携】奈良県橿原市の2023年「白橿町夏祭り」に行ってきた！花火も楽しめる町民の祭り！」\\n\\n以上が最新の夏祭りに関するニュースです。'}"
      ]
     },
     "execution_count": 137,
     "metadata": {},
     "output_type": "execute_result"
    }
   ],
   "source": [
    "agent_executor.invoke({\"input\": \"夏祭りに関するニュースを教えてください\"})"
   ]
  },
  {
   "cell_type": "markdown",
   "metadata": {},
   "source": [
    "# Toolkit:Pandas DataFrame Agent"
   ]
  },
  {
   "cell_type": "code",
   "execution_count": 148,
   "metadata": {},
   "outputs": [
    {
     "data": {
      "text/html": [
       "<div>\n",
       "<style scoped>\n",
       "    .dataframe tbody tr th:only-of-type {\n",
       "        vertical-align: middle;\n",
       "    }\n",
       "\n",
       "    .dataframe tbody tr th {\n",
       "        vertical-align: top;\n",
       "    }\n",
       "\n",
       "    .dataframe thead th {\n",
       "        text-align: right;\n",
       "    }\n",
       "</style>\n",
       "<table border=\"1\" class=\"dataframe\">\n",
       "  <thead>\n",
       "    <tr style=\"text-align: right;\">\n",
       "      <th></th>\n",
       "      <th>SepalLength</th>\n",
       "      <th>SepalWidth</th>\n",
       "      <th>PetalLength</th>\n",
       "      <th>PetalWidth</th>\n",
       "      <th>Name</th>\n",
       "    </tr>\n",
       "  </thead>\n",
       "  <tbody>\n",
       "    <tr>\n",
       "      <th>0</th>\n",
       "      <td>5.1</td>\n",
       "      <td>3.5</td>\n",
       "      <td>1.4</td>\n",
       "      <td>0.2</td>\n",
       "      <td>Iris-setosa</td>\n",
       "    </tr>\n",
       "    <tr>\n",
       "      <th>1</th>\n",
       "      <td>4.9</td>\n",
       "      <td>3.0</td>\n",
       "      <td>1.4</td>\n",
       "      <td>0.2</td>\n",
       "      <td>Iris-setosa</td>\n",
       "    </tr>\n",
       "    <tr>\n",
       "      <th>2</th>\n",
       "      <td>4.7</td>\n",
       "      <td>3.2</td>\n",
       "      <td>1.3</td>\n",
       "      <td>0.2</td>\n",
       "      <td>Iris-setosa</td>\n",
       "    </tr>\n",
       "    <tr>\n",
       "      <th>3</th>\n",
       "      <td>4.6</td>\n",
       "      <td>3.1</td>\n",
       "      <td>1.5</td>\n",
       "      <td>0.2</td>\n",
       "      <td>Iris-setosa</td>\n",
       "    </tr>\n",
       "    <tr>\n",
       "      <th>4</th>\n",
       "      <td>5.0</td>\n",
       "      <td>3.6</td>\n",
       "      <td>1.4</td>\n",
       "      <td>0.2</td>\n",
       "      <td>Iris-setosa</td>\n",
       "    </tr>\n",
       "  </tbody>\n",
       "</table>\n",
       "</div>"
      ],
      "text/plain": [
       "   SepalLength  SepalWidth  PetalLength  PetalWidth         Name\n",
       "0          5.1         3.5          1.4         0.2  Iris-setosa\n",
       "1          4.9         3.0          1.4         0.2  Iris-setosa\n",
       "2          4.7         3.2          1.3         0.2  Iris-setosa\n",
       "3          4.6         3.1          1.5         0.2  Iris-setosa\n",
       "4          5.0         3.6          1.4         0.2  Iris-setosa"
      ]
     },
     "execution_count": 148,
     "metadata": {},
     "output_type": "execute_result"
    }
   ],
   "source": [
    "import pandas as pd\n",
    "\n",
    "df = pd.read_csv(\"./data2/iris.data\", header=0)\n",
    "df.head()"
   ]
  },
  {
   "cell_type": "code",
   "execution_count": 144,
   "metadata": {},
   "outputs": [],
   "source": [
    "from langchain.agents.agent_types import AgentType\n",
    "from langchain_openai import ChatOpenAI\n",
    "from langchain_experimental.agents.agent_toolkits import create_pandas_dataframe_agent"
   ]
  },
  {
   "cell_type": "code",
   "execution_count": 145,
   "metadata": {},
   "outputs": [],
   "source": [
    "agent = create_pandas_dataframe_agent(\n",
    "    ChatOpenAI(temperature=0, model=\"gpt-3.5-turbo-1106\"),\n",
    "    df,\n",
    "    verbose=True,\n",
    "    agent_type=AgentType.OPENAI_FUNCTIONS,\n",
    ")"
   ]
  },
  {
   "cell_type": "code",
   "execution_count": 146,
   "metadata": {},
   "outputs": [
    {
     "name": "stdout",
     "output_type": "stream",
     "text": [
      "\n",
      "\n",
      "\u001b[1m> Entering new AgentExecutor chain...\u001b[0m\n",
      "\u001b[32;1m\u001b[1;3m\n",
      "Invoking: `python_repl_ast` with `{'query': 'df.shape[0]'}`\n",
      "\n",
      "\n",
      "\u001b[0m\u001b[36;1m\u001b[1;3m150\u001b[0m\u001b[32;1m\u001b[1;3mデータフレームには150行あります。\u001b[0m\n",
      "\n",
      "\u001b[1m> Finished chain.\u001b[0m\n"
     ]
    },
    {
     "data": {
      "text/plain": [
       "'データフレームには150行あります。'"
      ]
     },
     "execution_count": 146,
     "metadata": {},
     "output_type": "execute_result"
    }
   ],
   "source": [
    "agent.run(\"何行ありますか？\")"
   ]
  },
  {
   "cell_type": "code",
   "execution_count": 149,
   "metadata": {},
   "outputs": [
    {
     "name": "stdout",
     "output_type": "stream",
     "text": [
      "\n",
      "\n",
      "\u001b[1m> Entering new AgentExecutor chain...\u001b[0m\n",
      "\u001b[32;1m\u001b[1;3m\n",
      "Invoking: `python_repl_ast` with `{'query': \"df['Name'].describe()\"}`\n",
      "\n",
      "\n",
      "\u001b[0m\u001b[36;1m\u001b[1;3mcount             150\n",
      "unique              3\n",
      "top       Iris-setosa\n",
      "freq               50\n",
      "Name: Name, dtype: object\u001b[0m\u001b[32;1m\u001b[1;3mNameの基本統計量は以下の通りです：\n",
      "\n",
      "- count: 150\n",
      "- unique: 3\n",
      "- top: Iris-setosa\n",
      "- freq: 50\u001b[0m\n",
      "\n",
      "\u001b[1m> Finished chain.\u001b[0m\n"
     ]
    },
    {
     "data": {
      "text/plain": [
       "'Nameの基本統計量は以下の通りです：\\n\\n- count: 150\\n- unique: 3\\n- top: Iris-setosa\\n- freq: 50'"
      ]
     },
     "execution_count": 149,
     "metadata": {},
     "output_type": "execute_result"
    }
   ],
   "source": [
    "agent.run(\"Nameの基本統計量を出力してください\")"
   ]
  },
  {
   "cell_type": "code",
   "execution_count": 150,
   "metadata": {},
   "outputs": [
    {
     "name": "stdout",
     "output_type": "stream",
     "text": [
      "\n",
      "\n",
      "\u001b[1m> Entering new AgentExecutor chain...\u001b[0m\n",
      "\u001b[32;1m\u001b[1;3mこのデータは、アイリスの花の特徴を示す4つの数値データ（がく片の長さ、がく片の幅、花びらの長さ、花びらの幅）と、アイリスの品種名（Name）からなるデータフレームです。各行は1つのアイリスの花を表し、品種名はその花の種類を示しています。このデータは、アイリスの花の特徴を分析するために使用されることがあります。\u001b[0m\n",
      "\n",
      "\u001b[1m> Finished chain.\u001b[0m\n"
     ]
    },
    {
     "data": {
      "text/plain": [
       "'このデータは、アイリスの花の特徴を示す4つの数値データ（がく片の長さ、がく片の幅、花びらの長さ、花びらの幅）と、アイリスの品種名（Name）からなるデータフレームです。各行は1つのアイリスの花を表し、品種名はその花の種類を示しています。このデータは、アイリスの花の特徴を分析するために使用されることがあります。'"
      ]
     },
     "execution_count": 150,
     "metadata": {},
     "output_type": "execute_result"
    }
   ],
   "source": [
    "agent.run(\"このデータについて説明してください\")"
   ]
  },
  {
   "cell_type": "markdown",
   "metadata": {},
   "source": [
    "# Toolkit:Python Agent"
   ]
  },
  {
   "cell_type": "code",
   "execution_count": 155,
   "metadata": {},
   "outputs": [],
   "source": [
    "from langchain import hub\n",
    "from langchain.agents import AgentExecutor\n",
    "from langchain_experimental.tools import PythonREPLTool"
   ]
  },
  {
   "cell_type": "code",
   "execution_count": 156,
   "metadata": {},
   "outputs": [],
   "source": [
    "tools = [PythonREPLTool()]"
   ]
  },
  {
   "cell_type": "code",
   "execution_count": 157,
   "metadata": {},
   "outputs": [],
   "source": [
    "from langchain.agents import create_openai_functions_agent\n",
    "from langchain_openai import ChatOpenAI"
   ]
  },
  {
   "cell_type": "code",
   "execution_count": 158,
   "metadata": {},
   "outputs": [],
   "source": [
    "instructions = \"\"\"あなたは、質問に答えるために Python コードを作成して実行するように設計されたエージェントです。\n",
    "Python コードを実行するために使用できる Python REPL にアクセスできます。\n",
    "エラーが発生した場合は、コードをデバッグして再試行してください。\n",
    "コードの出力は質問に答えるためにのみ使用してください。\n",
    "コードを実行しなくても答えがわかる場合もありますが、答えを得るにはコードを実行する必要があります。\n",
    "質問に答えるコードを書けそうにない場合は、「わかりません」と答えてください。\n",
    "\"\"\"\n",
    "base_prompt = hub.pull(\"langchain-ai/openai-functions-template\")\n",
    "prompt = base_prompt.partial(instructions=instructions)"
   ]
  },
  {
   "cell_type": "code",
   "execution_count": 159,
   "metadata": {},
   "outputs": [],
   "source": [
    "agent = create_openai_functions_agent(ChatOpenAI(temperature=0), tools, prompt)"
   ]
  },
  {
   "cell_type": "code",
   "execution_count": 160,
   "metadata": {},
   "outputs": [],
   "source": [
    "agent_executor = AgentExecutor(agent=agent, tools=tools, verbose=True)"
   ]
  },
  {
   "cell_type": "code",
   "execution_count": 164,
   "metadata": {},
   "outputs": [
    {
     "name": "stdout",
     "output_type": "stream",
     "text": [
      "\n",
      "\n",
      "\u001b[1m> Entering new AgentExecutor chain...\u001b[0m\n",
      "\u001b[32;1m\u001b[1;3m\n",
      "Invoking: `Python_REPL` with `def is_prime(n):\n",
      "    if n <= 1:\n",
      "        return False\n",
      "    for i in range(2, int(n**0.5) + 1):\n",
      "        if n % i == 0:\n",
      "            return False\n",
      "    return True\n",
      "\n",
      "primes = [x for x in range(2, 101) if is_prime(x)]\n",
      "primes`\n",
      "\n",
      "\n",
      "\u001b[0m\u001b[36;1m\u001b[1;3m\u001b[0m\u001b[32;1m\u001b[1;3m[2, 3, 5, 7, 11, 13, 17, 19, 23, 29, 31, 37, 41, 43, 47, 53, 59, 61, 67, 71, 73, 79, 83, 89, 97]\u001b[0m\n",
      "\n",
      "\u001b[1m> Finished chain.\u001b[0m\n"
     ]
    },
    {
     "data": {
      "text/plain": [
       "{'input': '100までの素数を求めよ',\n",
       " 'output': '[2, 3, 5, 7, 11, 13, 17, 19, 23, 29, 31, 37, 41, 43, 47, 53, 59, 61, 67, 71, 73, 79, 83, 89, 97]'}"
      ]
     },
     "execution_count": 164,
     "metadata": {},
     "output_type": "execute_result"
    }
   ],
   "source": [
    "agent_executor.invoke({\"input\": \"100までの素数を求めよ\"})"
   ]
  }
 ],
 "metadata": {
  "kernelspec": {
   "display_name": ".venv",
   "language": "python",
   "name": "python3"
  },
  "language_info": {
   "codemirror_mode": {
    "name": "ipython",
    "version": 3
   },
   "file_extension": ".py",
   "mimetype": "text/x-python",
   "name": "python",
   "nbconvert_exporter": "python",
   "pygments_lexer": "ipython3",
   "version": "3.11.7"
  },
  "orig_nbformat": 4
 },
 "nbformat": 4,
 "nbformat_minor": 2
}
