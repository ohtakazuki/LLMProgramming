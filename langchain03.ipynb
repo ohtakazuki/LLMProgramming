{
 "cells": [
  {
   "cell_type": "markdown",
   "metadata": {},
   "source": [
    "# Chains\n",
    "\n",
    "# 準備"
   ]
  },
  {
   "cell_type": "code",
   "execution_count": 1,
   "metadata": {},
   "outputs": [],
   "source": [
    "# 必要なモジュールをインポート\n",
    "import os\n",
    "from dotenv import load_dotenv\n",
    "\n",
    "# 環境変数の読み込み\n",
    "load_dotenv()\n",
    "os.environ[\"OPENAI_API_KEY\"] = os.environ[\"API_KEY\"]"
   ]
  },
  {
   "cell_type": "markdown",
   "metadata": {},
   "source": [
    "# LCEL：Chainの基本的な使い方"
   ]
  },
  {
   "cell_type": "code",
   "execution_count": 2,
   "metadata": {},
   "outputs": [],
   "source": [
    "from langchain_openai import OpenAI\n",
    "from langchain_core.prompts import PromptTemplate\n",
    "from langchain_core.output_parsers import StrOutputParser\n",
    "\n",
    "model_name = \"gpt-3.5-turbo-instruct\"\n",
    "\n",
    "template = \"{subject}を勉強する方法をステップ・バイ・ステップで教えてください\"\n",
    "\n",
    "prompt = PromptTemplate.from_template(template)\n",
    "model = OpenAI(model=model_name)\n",
    "output_parser = StrOutputParser()\n",
    "\n",
    "chain = prompt | model | output_parser"
   ]
  },
  {
   "cell_type": "code",
   "execution_count": 3,
   "metadata": {},
   "outputs": [
    {
     "data": {
      "text/plain": [
       "'\\n\\nステップ1：目標を設定する\\nまずは、英語を勉強する目的や目標を明確にしましょう。自分が何を学びたいのか、どの程度のレベルを目指すのかを決めることで、勉強の方向性やモチベーションが高まります。\\n\\nステップ2：学習方法を決める\\n次に、自分に合った学習方法を選びましょう。教室やオンラインのコース、自宅での自主学習など、様々な方法があります。自分に合った方法を選ぶことで、より効率的に学習することができます。\\n\\nステップ3：学習スケジュールを立てる\\n学習する時間や頻'"
      ]
     },
     "execution_count": 3,
     "metadata": {},
     "output_type": "execute_result"
    }
   ],
   "source": [
    "chain.invoke({\"subject\": \"英語\"})"
   ]
  },
  {
   "cell_type": "markdown",
   "metadata": {},
   "source": [
    "# Chat Model"
   ]
  },
  {
   "cell_type": "code",
   "execution_count": 4,
   "metadata": {},
   "outputs": [],
   "source": [
    "from langchain_openai import ChatOpenAI\n",
    "from langchain_core.prompts import ChatPromptTemplate\n",
    "from langchain_core.output_parsers import StrOutputParser\n",
    "\n",
    "model_name = \"gpt-3.5-turbo-0125\"\n",
    "\n",
    "template = \"あなたは{input_language}から{output_language}に翻訳する優秀な翻訳家です。\"\n",
    "human_template = \"{text}\"\n",
    "\n",
    "prompt = ChatPromptTemplate.from_messages([\n",
    "    (\"system\", template),\n",
    "    (\"human\", human_template),\n",
    "])\n",
    "\n",
    "model = ChatOpenAI(model=model_name)\n",
    "output_parser = StrOutputParser()\n",
    "\n",
    "chain = prompt | model | output_parser"
   ]
  },
  {
   "cell_type": "code",
   "execution_count": 5,
   "metadata": {},
   "outputs": [
    {
     "data": {
      "text/plain": [
       "'プログラミングが大好きです。'"
      ]
     },
     "execution_count": 5,
     "metadata": {},
     "output_type": "execute_result"
    }
   ],
   "source": [
    "chain.invoke({\n",
    "  \"input_language\": \"英語\",\n",
    "  \"output_language\": \"日本語\",\n",
    "  \"text\": \"I love programming.\"})"
   ]
  },
  {
   "cell_type": "markdown",
   "metadata": {},
   "source": [
    "# Conversation Chain：会話を続ける方法"
   ]
  },
  {
   "cell_type": "code",
   "execution_count": 6,
   "metadata": {},
   "outputs": [],
   "source": [
    "from langchain_openai import ChatOpenAI\n",
    "from langchain.chains import ConversationChain\n",
    "from langchain.memory import ConversationBufferMemory\n",
    "from langchain.callbacks.streaming_stdout import StreamingStdOutCallbackHandler\n",
    "\n",
    "model_name = \"gpt-3.5-turbo-0125\"\n",
    "\n",
    "model = ChatOpenAI(\n",
    "    model_name=model_name,\n",
    "    streaming=True,\n",
    "    callbacks=[StreamingStdOutCallbackHandler()],\n",
    "    temperature=1.2,\n",
    ")\n",
    "\n",
    "# memoryの使用をLCELで記述する方法が不明なためConversationChainを使う\n",
    "conversation = ConversationChain(llm=model, memory=ConversationBufferMemory())"
   ]
  },
  {
   "cell_type": "code",
   "execution_count": 7,
   "metadata": {},
   "outputs": [
    {
     "data": {
      "text/plain": [
       "'質問:こんにちは！'"
      ]
     },
     "metadata": {},
     "output_type": "display_data"
    },
    {
     "name": "stdout",
     "output_type": "stream",
     "text": [
      " Hello! こんにちは！How are you today?"
     ]
    },
    {
     "data": {
      "text/plain": [
       "'質問:仙台でオススメのランチを教えて！'"
      ]
     },
     "metadata": {},
     "output_type": "display_data"
    },
    {
     "name": "stdout",
     "output_type": "stream",
     "text": [
      "仙台でオススメのランチスポットをいくつか教えますね！まずは定禅寺通りにある「仙花」というお店が人気です。ボリューム満点の定食やランチプレートがおすすめですよ！それから、国分町で人気の「牛たん炭焼 利久」もおいしいです。牛たんを堪能できるお店です。他にもたくさんおすすめのランチスポットがありますが、どんなメニューをお探しですか？"
     ]
    },
    {
     "data": {
      "text/plain": [
       "'質問:ラーメン'"
      ]
     },
     "metadata": {},
     "output_type": "display_data"
    },
    {
     "name": "stdout",
     "output_type": "stream",
     "text": [
      "仙台でおすすめのラーメン店の一つは、駅前のラーメン横丁にある「一幻」です。こちらは濃厚でコク深い味わいのラーメンが人気ですよ。他にも、「まるすけラーメン」や「麺鮮」なども評判がいいお店です。どのお店も味に自信があるので、ぜひ試してみてくださいね！他にも条件があれば教えてください。\n",
      "---ご利用ありがとうございました！---\n"
     ]
    }
   ],
   "source": [
    "while True:\n",
    "    # ユーザーからの質問を受付\n",
    "    message = input(\"メッセージを入力:\")\n",
    "\n",
    "    # 質問が入力されなければ終了\n",
    "    if message.strip() == \"\":\n",
    "        break\n",
    "    display(f\"質問:{message}\")\n",
    "\n",
    "    # 言語モデルに質問\n",
    "    conversation.invoke(input=message)\n",
    "\n",
    "print(\"\\n---ご利用ありがとうございました！---\")"
   ]
  },
  {
   "cell_type": "markdown",
   "metadata": {},
   "source": [
    "# RAGアーキテクチャ（LCEL)"
   ]
  },
  {
   "cell_type": "code",
   "execution_count": 8,
   "metadata": {},
   "outputs": [],
   "source": [
    "from langchain_community.document_loaders import DirectoryLoader\n",
    "from langchain_text_splitters import CharacterTextSplitter\n",
    "from langchain_openai import OpenAIEmbeddings\n",
    "from langchain_community.vectorstores import Chroma\n",
    "\n",
    "# テキストファイルを読込\n",
    "loader = DirectoryLoader(\"./data/\")\n",
    "documents = loader.load()\n",
    "\n",
    "# チャンクに分割\n",
    "text_splitter = CharacterTextSplitter(separator=\"\\n\", chunk_size=512, chunk_overlap=0)\n",
    "texts = text_splitter.split_documents(documents)\n",
    "\n",
    "# Indexの構築\n",
    "db = Chroma.from_documents(texts, OpenAIEmbeddings())\n",
    "\n",
    "# 検索（Retriever）の取得\n",
    "retriever = db.as_retriever()"
   ]
  },
  {
   "cell_type": "code",
   "execution_count": 9,
   "metadata": {},
   "outputs": [],
   "source": [
    "from langchain_openai import ChatOpenAI\n",
    "\n",
    "model_name = \"gpt-3.5-turbo-0125\"\n",
    "\n",
    "# モデルの作成\n",
    "model = ChatOpenAI(\n",
    "    model_name=model_name,\n",
    "    max_tokens=300,\n",
    "    temperature=1.2)"
   ]
  },
  {
   "cell_type": "code",
   "execution_count": 10,
   "metadata": {},
   "outputs": [],
   "source": [
    "from langchain_core.prompts import ChatPromptTemplate\n",
    "from langchain_core.runnables import RunnablePassthrough\n",
    "\n",
    "# プロンプトの作成\n",
    "prompt = ChatPromptTemplate.from_template(\"\"\"提供されたコンテキストのみに基づいて次の質問に答えてください:\n",
    "\n",
    "<コンテキスト>\n",
    "{context}\n",
    "</コンテキスト>\n",
    "\n",
    "Question: {input}\"\"\")\n",
    "\n",
    "# チェーンの作成\n",
    "chain = (\n",
    "  {\"context\": retriever, \"input\": RunnablePassthrough()}\n",
    "  | prompt \n",
    "  | model \n",
    "  | StrOutputParser()\n",
    ")"
   ]
  },
  {
   "cell_type": "code",
   "execution_count": 11,
   "metadata": {},
   "outputs": [
    {
     "data": {
      "text/plain": [
       "'キノコストレージは、容量の大きなデータストレージ装置を指す架空のIT用語であり、その形状がキノコに似ていることから名付けられています。この装置は非常に小さなサイズでありながら、膨大なデータを保持することができるとされています。また、キノコストレージは高い耐久性を持ち、データの保護と安全性を確保すると説明されています。'"
      ]
     },
     "execution_count": 11,
     "metadata": {},
     "output_type": "execute_result"
    }
   ],
   "source": [
    "# 質問\n",
    "chain.invoke(\"キノコストレージについて説明して\")"
   ]
  },
  {
   "cell_type": "markdown",
   "metadata": {},
   "source": [
    "# 対話型RetrievalChain"
   ]
  },
  {
   "cell_type": "code",
   "execution_count": 12,
   "metadata": {},
   "outputs": [
    {
     "data": {
      "text/plain": [
       "[Document(page_content='持続可能な開発目標（じぞくかのうなかいはつもくひょう、英語:  Sustainable Development Goals、略称: SDGs（エスディージーズ））は、2015年9月25日に国連総会で採択された、持続可能な開発のための17の国際目標である。その下に、169の達成基準と232の指標が決められている。\\n\\n\\n== 概要 ==\\n2000年9月、アメリカ・ニューヨークでの『国連ミレニアム・サミット』にて採択された国連ミレニアム宣言を基に、「ミレニアム開発目標」（MDGs）が成立した。だがMDGsは2015年までの期限付きであり、2011年、南米コロンビアのフアン・マヌエル・サントス政権にて、期限が近づいても未達成の目標があったことや、それと同時に持続可能な開発をどう進めるかについての議論が提案された。発案はコロンビア外務省経済・社会・環境の女性局長であるパウラ・カバジェーロによるものである。女性外務大臣のマリーア・アンジェラ・オルギンへの稟議を通じて採択された。\\n案はグアテマラ等、中南米のいくつかの開発途上国の支援を得たのち、2012年6月にブラジル・リオデジャネイロにて開催された国際サミット『国連持続可能な開発会議』（リオ+20）にて、「2015年以降の次世代MDGsの目標と、持続可能な開発の議論を統一」させることをコロンビア・グアテマラ両国が推奨した。サミットでいかに成果を生み出すかに迷走していたブラジルは、両国の案に乗り、開催されたリオ+20では、その制定への決議を主要な成果として終了した。\\n2015年9月25日、国連総会にて、持続可能な開発のために必要不可欠な向こう15年間の新たな行動計画『我々の世界を変革する：持続可能な開発のための2030アジェンダ』（Transforming our world: the 2030 Agenda for Sustainable Development、または単に「2030 Agenda」とも）が採択され、2030年までに達成するべき持続可能な開発目標（SDGs）として、17の世界的目標と169の達成基準が示された。\\n\\n\\n== 17の目標 ==\\n\\nSDGsは、以下の17の目標から構成されている。その他、169項目など全文はウィキソースの「持続可能な開発のための2030アジェンダ」を参照。\\n\\n\\n== 進捗状況 ==\\n2017年7月 - 国際連合の事務総長であるアントニオ・グテーレスは、SDGsに掲げられている多くの分野の前進が2030年までに達成できるペースをはるかに下回っているとし、前進を加速すべく取り組みを強化する必要があるとする国連報告書を発表した。\\n2019年5月 - 国際連合事務総長のアントニオ・グテーレスは、経済社会理事会ECOSOCに提出する「国連持続可能な開発目標SDGs進捗報告書」を公表する。首脳レベルのSDGs進捗状況は4年に1度の発表であるため、2015年に採択されてから初の報告として注目を集める。目標1から17まで各々の課題が発表されたが、全体的に目標達成に至らず、掲げる目標の達成までに課題が山積みしている。\\n2020年9月 - 国際連合副事務総長のアミナ・モハメドは、新型コロナウイルス感染症の世界的流行が原因で、貧困撲滅を目指す目標1の取り組みが大幅に減退している、と危機感を表明した。国際連合開発計画（UNDP）は、SDGsの根幹をなす目標1の達成はますます困難になったと認識を示している。\\n\\n\\n== 日本の状況 ==\\n日本では主要マスコミが国際連合広報センターによる「世界中の報道機関とエンターテインメント企業に対し、その資源と創造的才能をSDGs達成のために活用するよう促す」ことを目的とした「SDGメディア・コンパクト」に参加している。SDGsを理由に推進されているモノとして、太陽光発電、昆虫食などがある\\n。マスコミでSDGsが大きく取り上げられているが、視聴率は芳しくない。SDGs関連の中でも「食糧問題の解決に期待されている」との理由でコオロギ食を高校の給食メニューの1品として提供するといった昆虫食の推進には一部にて大きな反発と批判が起きている。2021年にはには紙ストロー、袋有料化、サステナブル・マウンティングなどへの反発が見受けられた。\\n\\n\\n=== 中小企業 ===\\n 中小企業基盤整備機構の調査によると、企業の約99.7％を占める中小企業の内3割がSDGsへ取り組んでいる、取り組む予定があると回答している。\\n近年、大企業だけでなく、中小企業や零細企業もSDGsや脱炭素に積極的に取り組む事例が増えている。例えば、夫婦2人で経営する革製品ブランド「ラファエロ」を運営する株式会社FrankPR(代表取締役：松尾真希)は、外務省のジャパンSDGsアワードや環境省のグッドライフアワードを受賞するなど、規模の小さな企業でも大企業のようにSDGsへ大きく貢献できることを示している。\\n一方で、帝国データバンクの調査によると、中小企業の半数が資金不足や人材不足の壁に直面し、SDGsに十分に取り組めていないのが現状である。しかし同時に、SDGsに取り組んでいる企業の約7割が、企業イメージの向上や従業員のモチベーション向上、売上増加など何らかの効果を実感しているという。\\n中小企業がSDGsに取り組むことは、社会課題の解決に貢献するだけでなく、企業価値の向上やビジネスチャンスの獲得にもつながる可能性がある。費用や人材の制約がある中小企業でも、ペーパーレス化やワークライフバランスの推進など、できることから始めていくことが重要だと考えられる。\\n\\n\\n=== 日本政府 ===\\n2015年のSDGs採択以降、日本は企業が積極的に経営に導入するなど、多様な主体で取り組んでいる。政府も実施に向けて国内の基盤整備を推進してきた。\\n日本政府は、SDGsに係る施策の実施について、全国務大臣を構成員とする「持続可能な開発目標 (SDGs) 推進本部」を設置した。本部は2016年12月22日に「持続可能な開発目標 (SDGs) 実施指針」を決定し、優先課題として、2030アジェンダが掲げる5つのPである、People（人間）、Planet（地球）、Prosperity（繁栄）、Peace（平和）、Partnership（パートナーシップ）に対応した8項目が示している。2019年12月の第8回推進本部会合で、2020年のSDGs推進のための具体的対策法を取りまとめた「SDGsアクションプラン2020」を決定した。\\n\\nPeople（人間）\\n1. あらゆる人々の活躍の推進\\n関連する目標:1（貧困）、4（教育) 、5（ジェンダー）、8（経済成長と雇用）、10（格差） 、12（持続可能な生産と消費）\\n2. 健康・長寿の達成\\n関連する目標:3（保健）等\\nProsperity（繁栄）\\n3. 成長市場の創出、地域活性化、科学技術革新\\n4. 持続可能で強靱な国土と質の高いインフラの整備\\n関連する目標:2（食料）、6（水と衛生）、9（インフラ、産業化、技術革新）、11（持続可能な都市、人間居住）\\nPlanet（地球）\\n5. 省・再生可能エネルギー、気候変動対策、循環型社会\\n関連する目標:7（エネルギー）、12（持続可能な生産と消費）、13（気候変動）\\n6. 生物多様性、森林、海洋等の環境の保全\\n関連する目標:2（食料）、3（保健）、14（海洋）、15（生物多様性）\\nPeace（平和）\\n7. 平和と安全・安心社会の実現\\n関連する目標:16（平和）\\nPartnership（パートナーシップ）\\n8. SDGs実施推進の体制と手段\\n関連する目標:17（実施手段）\\n2020年7月9日、SDGsのより一層の認知拡大・行動の促進を行うため、ジャパンSDGsアクション推進協議会が発足し、外務省、環境省、経産省、神奈川県など官公庁のほか経団連、慶應義塾大学SFC研究所 X.SDG Lab.など官民一体の15団体が参加した。SDGsアクションに取り組む人を「SDGs People」とし、女優で創作アーティストののんが第一号となった。今後、他のメンバーとともに、SNSなどを通じてSDGs活動の発信に取り組んでいく。会長を務める慶應義塾大学大学院 政策・メディア研究科 教授の蟹江憲史氏。\\n\\n\\n==== SDGs未来都市 ====\\nSDGs未来都市とは、自治体がSDGsの達成に向けた取り組み・提案を行い、国に選定されたものである。SDGs未来都市の取り組みについて、国の支援を得ながらモデルとして普及展開を図り、「持続可能なまちづくり」の実現を図っていくことを目的とする。\\n内閣府は地方創生に取り組んでおり、SDGsの理念が「政策の全体最適化、地域課題解決の加速化という相乗効果が期待できる」とし、「地方創生SDGs」を推進している。SDGs未来都市はその取り組みの一つである。\\nSDGs未来都市はSDGsに積極的に取り組んでいる都市・地域の中で、特に経済・社会・環境・脱炭素化に関する取組(2021年追加)の四つの側面の「統合的取組による相乗効果、新しい価値の創出を通して、持続可能な開発を実現するポテンシャルが高い都市・地域」が選定されている。2022年現在、154都市(155自治体)が選出されている。また、環境モデル都市、環境未来都市事業との関連性が強く、2018年に選出された 29都市のうち 10都市が環境モデル都市、環境未来都市事業のいずれかにも選出されている。\\n\\n\\n==== SDGs先進都市 ====\\nSDGs先進都市とは、SDGsにある17の目標すべてに関わる市', metadata={'title': '持続可能な開発目標', 'summary': '持続可能な開発目標（じぞくかのうなかいはつもくひょう、英語:  Sustainable Development Goals、略称: SDGs（エスディージーズ））は、2015年9月25日に国連総会で採択された、持続可能な開発のための17の国際目標である。その下に、169の達成基準と232の指標が決められている。', 'source': 'https://ja.wikipedia.org/wiki/%E6%8C%81%E7%B6%9A%E5%8F%AF%E8%83%BD%E3%81%AA%E9%96%8B%E7%99%BA%E7%9B%AE%E6%A8%99'}),\n",
       " Document(page_content='持続可能な開発（じぞくかのうなかいはつ、英: sustainable development; SD）とは、「将来の世代の欲求を満たしつつ、現在の世代の欲求も満足させるような開発」のことである。「持続可能な発展」と訳されることもある。また、持続可能な開発が行われ持続可能性を得た社会を、持続可能な社会と言う。\\n\\n\\n== 概要 ==\\n「持続可能な開発」は、現在、環境保全についての基本的な共通理念として、国際的に広く認識されている。これは、「環境」と「開発」を、互いに反するものではなく共存し得るものとしてとらえ、環境保全を考慮した節度ある開発が可能であり重要であるという考えに立つものである。\\n\\n\\n== 初出 ==\\nこの理念は、1980年に国際自然保護連合 (IUCN)、国連環境計画 (UNEP) などがとりまとめた「世界保全戦略」に初出した。\\nその後、1992年の国連地球サミットでは、中心的な考え方として、「環境と開発に関するリオ宣言」や「アジェンダ21」に具体化されるなど、今日の地球環境問題に関する世界的な取り組みに大きな影響を与える理念となった。\\n翌1993年に制定された日本の環境基本法でも、第4条等において、循環型社会の考え方の基礎となっている。\\nさらに、人権や法の支配、腐敗防止の観点から、国際連合は1993年のウィーン宣言及び行動計画（第1部27項）や2003年の国際連合腐敗防止条約（前文）においても「持続可能な開発」に言及している。\\n\\n\\n== ブルントラント委員会 ==\\n日本の提案によって設けられた国際連合の「環境と開発に関する世界委員会」（WCED = World Commission on Environment and Development、委員長のブルントラント・ノルウェー首相（当時）の名前から「ブルントラント委員会」と通称される）が1987年に発行した最終報告書“Our Common Future”（邦題『地球の未来を守るために』、通称「ブルントラント報告」）では、その中心的な理念とされ、このときさらに広く認知されるようになった。\\nブルントラント報告では、この理念は「将来の世代のニーズを満たす能力を損なうことなく、今日の世代のニーズを満たすような開発」と説明されている。\\n1992年の地球サミットを受けて2002年に開かれた地球環境問題に関する国際会議は、「持続可能な開発に関する世界首脳会議」と銘打たれた。\\n\\n\\n== 持続可能な開発の課題 ==\\n世界の持続可能な開発を目指すということは、先進国と開発途上国の双方で持続可能性を追求することであり、世界の南北問題とも関連が深い。\\n持続可能な開発を実現するためには\\n\\n開発・貧困解消と環境保全のために政府開発援助は、どのようにあるべきか\\n国境を越えた直接投資はどのようにあるべきか\\n環境保全を理由とした貿易制限（関税、非関税障壁）はどのようにあるべきか\\nといった経済協力のあり方が重要である。\\n\\n\\n== 持続可能な開発の担い手とESD（持続可能な開発のための教育） ==\\n持続可能な開発では、さまざまなステークホルダーが担い手となる。国際機関、国家、企業、地方自治体と並んで、NGO・NPO、農家や漁師、市民・住民あるいは草の根民活の自助努力・参加が必要となる。\\nこのような担い手を育むために、持続可能な開発のための教育（ESD）が推進されている。\\n\\n\\n== 「持続可能な開発のための2030アジェンダ」と「持続可能な開発目標（SDGs）」 ==\\n2015年9月25日の国連総会において、向こう15年間の新たな持続可能な開発の指針として「持続可能な開発のための2030アジェンダ」が採択された。\\nこれには、2015年までのミレニアム開発目標（MDGs）を継承・発展させた持続可能な開発目標（SDGs）が含まれている。SDGsは複雑な社会的、経済的、環境的課題を幅広くカバーしており、「17の目標と169のターゲット」からなる。ESDとの関係においては、特に教育機関における人材育成と関係しているほか、大学・研究機関における研究や産学官連携・イノベーションにも関係している。\\n\\n\\n== 世界遺産における持続可能な開発 ==\\nユネスコ世界遺産は知名度が高いため、そこでの持続可能な開発の実践は関心を集めやすい。\\nもともと世界遺産条約の条文に持続可能な開発・発展に関する文言の記載はないが、「遺産の保護と継承」という理念は乱開発から文化・自然を守る、持続可能な開発を呼び掛けるものと解釈できる。そこで2005年に「世界遺産条約履行のための作業指針」に、「自然遺産及び文化遺産を保護、保全することは、持続可能な開発に大いに資するものである。\\n」との一文が加筆された。\\nまた、1994年に世界遺産へ導入された文化的景観は、「人間と自然の共同作業」をキーワードに、自然の恵み（環境財）を享受し人間の営みを継続してきた「持続可能な利用」の具象例（主として景観）を採り入れたものである。この考え方は日本でも文化財保護法への重要文化的景観採用に影響したが、里山として古来より活用してきたものに近く、農業遺産での顕彰などへも波及している。 \\n2010年の「世界遺産条約：保全と持続可能な開発に関するパラチ会議」と2012年の「世界遺産と持続可能な開発に関するオウロ・プレット会議」で世界遺産における持続可能な開発の方向性を確認し、2012年（平成24年）に京都市で開催した「世界遺産条約採択40周年記念会合」および直前に富山県で開催した「遺産と持続可能な発展－理念から実践へ－」を通し、世界遺産における持続可能な開発への取り組みとして、地域社会や先住民居住区といったコミュニティが参加する開発計画や監視の重要性を説き、前項での持続可能な開発の担い手への期待を寄せている。\\nこの他、エコミュージアムやリビングヘリテージなどが、サステイナブルツーリズムとして持続可能な利用の好例として、世界遺産観光において奨励されている。\\n\\n\\n== 脚注 ==\\n\\n\\n=== 注釈 ===\\n\\n\\n=== 出典 ===\\n\\n\\n== 参考文献 ==\\n淡路剛久・植田和弘・川本隆史・長谷川公一著『持続可能な発展－リーディングス環境 第5巻』（有斐閣、2006年 ISBN 9784641071919）\\n加茂利男・遠州尋美編著『東南アジア サステナブル世界への挑戦』（有斐閣、1998年 ISBN 9784641182950）\\n\\n\\n== 関連項目 ==\\n持続可能性\\n持続可能な開発のための教育（ESD）\\n持続可能な開発のための2030アジェンダ\\n持続可能な開発目標（SDGs）\\n持続可能な社会\\n持続可能な都市\\n持続可能な農業\\n開発経済学\\nアジェンダ21\\n国連グローバル・コンパクト\\n再生可能エネルギー\\n企業の社会的責任\\n地球環境問題\\n地球地図\\n\\n\\n== 外部リンク ==\\n持続可能な開発 - 外務省\\n持続可能な開発 - 国連広報センター\\n岡山大学「大学でSDGsに取り組む 大学、高等教育機関、アカデミアセクターへのガイド」オーストリア、ニュージーランド、太平洋版（日本語翻訳版）\\nSustainomics and sustainable development （英語） - Encyclopedia of Earth「持続可能な開発」の項目。\\n『持続可能な開発』 - コトバンク', metadata={'title': '持続可能な開発', 'summary': '持続可能な開発（じぞくかのうなかいはつ、英: sustainable development; SD）とは、「将来の世代の欲求を満たしつつ、現在の世代の欲求も満足させるような開発」のことである。「持続可能な発展」と訳されることもある。また、持続可能な開発が行われ持続可能性を得た社会を、持続可能な社会と言う。', 'source': 'https://ja.wikipedia.org/wiki/%E6%8C%81%E7%B6%9A%E5%8F%AF%E8%83%BD%E3%81%AA%E9%96%8B%E7%99%BA'}),\n",
       " Document(page_content='Animal SDGs（アニマルエスディジーズ、英語：Animal Sustainable Design Goals、略称：Animal SDGs）は、「地球は人間だけのものじゃない」という視点に立脚し、持続可能な開発目標（SDGs）に対する問いかけである。動物かんきょう会議プロジェクトの一環であり、世界の子どもたち、若者たち、そして大人たちとの対話をとおして構想された。\\nコンセプトブック「Animal SDGs／動物が語るSDGs」によると、SDGs未来都市の山口県宇部市で2018年からはじまった「せかい！動物かんきょう会議」活動の成果であり、2022年2月に開催された「日本・タイ・モンゴルの子どもたちとの全体会議」（会場：常盤公園 湖水ホール）後にリリースされた概念である。\\n\\n\\n== 脚注 ==\\n\\n\\n== 外部リンク ==\\nAnimal SDGs I 動物が語るSDGs（日本語版）-公式サイト\\nAnimal SDGs（英語版）-公式サイト\\n宇部市報道発表（2021.7.21）\\n宇部市報道発表（2020.11.11）\\n宇部市報道発表（2020.8.3）', metadata={'title': 'Animal SDGs', 'summary': 'Animal SDGs（アニマルエスディジーズ、英語：Animal Sustainable Design Goals、略称：Animal SDGs）は、「地球は人間だけのものじゃない」という視点に立脚し、持続可能な開発目標（SDGs）に対する問いかけである。動物かんきょう会議プロジェクトの一環であり、世界の子どもたち、若者たち、そして大人たちとの対話をとおして構想された。\\nコンセプトブック「Animal SDGs／動物が語るSDGs」によると、SDGs未来都市の山口県宇部市で2018年からはじまった「せかい！動物かんきょう会議」活動の成果であり、2022年2月に開催された「日本・タイ・モンゴルの子どもたちとの全体会議」（会場：常盤公園 湖水ホール）後にリリースされた概念である。', 'source': 'https://ja.wikipedia.org/wiki/Animal_SDGs'}),\n",
       " Document(page_content='1 オープンデータ基本指針  \\n \\n平成 29年５月 30日 \\n高度情報通信ネットワーク社会推進戦略本部 ・ \\n官民データ活用推進戦略会議決 定 \\n令 和 元 年 ６ 月 ７日改正 \\n令和３年６月15日改正 \\n \\n \\n 我が国においては、平成 23年３月11日の東日本大震災 以降、政府、地方公共団\\n体や事業者等が保有するデータの公開・活用に対する意識が高まった。1 \\n 政府においては、 公共データは国民共有の財産であるとの認識を示した 「電子行\\n政オープンデータ戦略」 （平成 24年７月４日  高度情報通信ネットワーク社会推進\\n戦略本部決定）等に基づき、オープンデータの取組を推進してきた。  \\n 「新たなオープンデータの展開に向けて」 （平成 27年６月30日 高度情報通信ネ\\nットワーク社会推進 戦略本部決定） 及び「オープンデータ 2.0」 （平成28年５月20\\n日 高度情報通信ネットワーク社会推進 戦略本部決定）では、 データの公開を中心\\nとした取組から、 データの活用を前提とした 「課題解決型のオープンデータ の推進」\\nに発想を転換する という方向が示され た。 \\n 平成28年12月14日に公布・施行された 「官民データ活用推進基本法」 （以下\\n「官民データ法」と言う。 ） は、官民データ活用 の推進により国民が安全で安心して\\n暮らせる社会及び快適な生活環境の実現 に寄与することを目的 としており、国、地\\n方公共団体 、事業者 が保有する官民データの容易な利用等について規定され ている。 \\n 本文書は、これまでの取組を踏まえ、 オープンデータ・バイ・デザイン2の考えに\\n基づき、 今後、国、地方公共団体、事業者が 公共データの 公開及び 活用に取り組む\\n上での基本 指針をまとめたものである。  \\n \\n１．オープンデータの 意義 \\n 公共データ の二次利用可能な形での公開とその 活用を促進する意義・目的は、次\\nのとおりである。  \\n \\n（１）国民参加・官民協働の推進 を通じた諸課題の解決、経済活性化  \\n 広範な主体による公共データの活用が進展 することで、創意工夫を活かした多\\n様なサービス の迅速かつ効率的 な提供、官民の協働による公共サービスの提供 や\\n改善が実現し 、ニーズや価値観の多様化、 技術革新 等の環境変化への 適切な対応\\nとともに、厳しい財政状況、急速な少子高齢化の進展等の 我が国が直面する諸課\\n題の解決に貢献すること ができる。  \\n \\n1 震災関連情報の提供に関し、情報の加工が容易なファイル形式による情報提供について協\\n力依頼が行われた ほか、事業者が保有する道路の通行情報などが公開・活用された 。 \\n2 公共データについて、オープンデータを前提として情報システムや業務プロセス全体の企\\n画、整備及び運用を行うことである。  ', metadata={'source': './data2/20210615_resources_data_guideline_01.pdf', 'page': 0}),\n",
       " Document(page_content='2  また、ベンチャー企業等による多様な 新サービスや ビジネスの創出 、企業活動\\nの効率化等が促され、我が国全体の経済活性化 にもつながる 。 \\n \\n（２）行政の高度化・効率化  \\n 国や地方公共団体において データ活用により得られた情報を根拠と して政策\\nや施策の企画及び立案 が行われることで （ＥＢＰＭ ：Evidence Based Policy \\nMaking）、効果的かつ効率的な行政の推進につながる。  \\n \\n（３）透明性・信頼の向上  \\n 政策立案等に用いられた 公共データが 公開されること で、国民は政策等に関し\\nて十分な分析、判断を行うことが可能にな り、行政の透明性 、行政に対する国民\\nの信頼が高まる。 \\n \\n２．オープンデータの 定義 \\n 国、地方公共団体及び 事業者が保有する官民データ のうち、国民誰もがインタ\\nーネット等を通じて容易に利用 （加工、編集、再配布等） できるよう、 次のいず\\nれの項目にも該当する 形で公開された データを オープンデータと定義する 。3 \\n \\n① 営利目的、非営利目的を問わず二次利用可能なルール が適用されたもの  \\n② 機械判読4に適した もの \\n③ 無償5で利用できるもの  \\n \\n３．オープンデータに関する 基本的ルール \\n（１）行政保有データのオープンデータ公開の原則  \\n 公共データは国民共有の財産であるとの認識に立ち、 政策（法令、 予算を含む）\\nの企画・ 立案の根拠となった データを含め、 各府省庁が 保有するデータはすべて\\nオープンデータとして 公開することを原則とす る6。 \\n なお、①個人情報 が含まれるもの 、②国や公共の安全 、秩序の維持に支障を及\\nぼすおそれがあるもの、 ③法人や個人の 権利利益を害するおそれがある もの等、\\n公開することが 適当ではない 情報に対して 公開の要望 があった場合は 、オープン\\n \\n3 但し、セキュリティの理由により、利用者に対し、事前登録を求めたり、データへのアク\\nセス方法に制限を設けたりといった措置が講じられることがあり得る。  \\n4 「機械判読」とは、コンピュータプログラムが自動的にデータを加工、編集等できること\\nを指す。  \\n5 オープンデータとは言えないものの、データ提供システムの維持管理に要するコストを限\\n定された利用者からの料金徴収でまかなうケースもある 。 \\n6 今後、行政目的で作成されるデータについては、本指針に基づき、オープンデータとして\\n公開されることを想定してデータ整備がなされることを 確保する必要があり、内閣官房 IT\\n総合戦略室において、各府省庁の整備状況を把握し、 必要な調整を行うことが求められる。  ', metadata={'source': './data2/20210615_resources_data_guideline_01.pdf', 'page': 1}),\n",
       " Document(page_content='3 データとして 公開できない理由を 公開する7ことを原則8とする。 \\n \\n（２）公開 データの二次利用 に関する ルール \\n各府省庁のウェブサイト9上で公開されるデータ については、 原則、 政府標準利\\n用規約10を適用し、具体的かつ合理的な根拠により二次利用が認められないもの\\nを除き、 公開データの二次利用を 積極的に 促進する 。 \\n \\n（３）公開環境  \\n 各府省庁は 、ウェブサイトで 容易に検索・利用できる形でデータを 公開する 。\\n特に「各府省庁にしか提供できないデータ 」、「様々な分野での基礎資料となり得\\nる信頼性の高い データ11」、または「リアルタイム性を有する データ12」等の有用\\nなデータ については 社会的ニーズが高いと想定される ため、積極的な公開を図る 。\\n加えて、 利用者の利便性 やシステムの負荷及び効率性の観点から、一括ダウンロ\\nードを可能とする仕組みの導入や、 APIを通じた提供 を推進する 。 \\n更に、政府のオープンデータ全体の 横断的検索を可能と し、データ の活用を促\\n進するため 、データの 概要及び形式等のメタ情報13をクリエイティブ・コモンズ\\nで定められている 「CC0 1.0 全世界」14として取り扱った上で 政府のデータカタ\\nログサイト 「DATA.GO.JP 」に登録し、公開する 。 \\n \\n（４）公開データの 形式等 \\n 公開するデータについては、 機械判読に適した15構造及びデータ形式で掲載す\\n \\n7 法令又は合理的な根拠により オープンデータとして公開できない 場合（二次利用に制限が\\nある場合を含む） は、その旨を具体的に示す。  \\n8 公開できない 理由を公開することだけで、公開できない情報（不開示情報）を開示するこ\\nととなる場合は、理由を公開しないことができる。  \\n9 各府省庁（施設等機関、地方支分部局等、府省庁に属する組織を含む。 ）が、その名称に\\nおいて開設しているインターネット上の ウェブサイト 、データベースサイト、個別業務サイ\\nト等を広く含む。  \\n10 政府機関のウェブサイトで公開されているデータの二次利用を促進する観点から、 統一的\\nなひな形 として示された各府省 庁ウェブサイトの利用に関するルール 。「二次利用の促進の\\nための府省のデータ公開に関する基本的考え方（ガイドライン） 」の別添１「政府標準利用\\n規約(第2.0版)」。 \\n11 例えば、各府省庁が公表している統計データ等。  \\n12 イベント情報、公共交通機関の混雑率、または災害・防災情報など、一定時間経過毎に情\\n報を更新する必要があるデータ。  \\n13 公開するデータに関して、それがどのようなデータであるかを示す情報。例えば、タイト\\nル、公表組織名、作成者（部局名）等のプロパティ情報やデータ検索のためのキーワード\\n等。その他項目の詳細については Data.go.jp 「開発者向け情報」の「 (2) データカタログ\\nサイトで提供しているメタデータ等に関する情報」を参照（ https://www.data.go.jp/for -\\ndeveloper/for -developer ） \\n14 「CC0 1.0 全世界」の定義等は「クリエイティブ・コモンズ・リーガル・コード 」を参\\n照。(https://creativecommons.org/publicdomain/zero/1.0/legalcode.ja ) \\n15 「機械判読に適した度合」には、人手をどれだけ要さずに、コンピュータがデータを再利\\n用できるかにより、いくつかの段階がある。コンピュータが自動的にデータを再利用するた\\n ', metadata={'source': './data2/20210615_resources_data_guideline_01.pdf', 'page': 2}),\n",
       " Document(page_content='4 ることを原則とする16。共通語彙基盤 等やオープンデータの達成度の評価指標と\\nして用いられている「５つ星」17の指標を参考に、 より活用がしやすい 用語や形\\n式での公開に努める。  \\nなお、国民への情報公開の観点から、人が読むという従来からの利用形態に適\\nしたデータ形式での公開も継続する が、この場合であってもテキスト検索や抽出\\nができることが 必要である 。 \\n特に構造化 しやすい データ18はより活用がしやすい データ形式である 「３つ星\\n19（CSV20やXML等のフォーマット ）」以上での公開を原則とする。また、構造化 が\\n困難なデータを含む全ての公開データ は可視化や API利用が容易になるよう、 デ\\nータカタログサイト の利用等、メタ 情報公開に向けた環境の整備に努める。  \\n 内閣官房 IT総合戦略室は、 関係府省庁と連携し、データ構造やデータ形式の\\n標準化を引き続き推進する。 また、法人情報を含むデータについては、法人番号\\nを付記する。  \\n \\n（５）未公開データの限定 公開 \\n２．に示したとおり、各府省庁が保有するデータはすべてオープンデータとし\\nて公開されることが原則であるが、何らかの理由により即座にオープンデータと\\nして公開することが困難な 情報21も存在する。 現在公開していないデータをオー\\nプンデータとして公開することで 、市民生活の安全の維持に支障を及ぼすおそれ\\n等がある場合には、公開に先立って効果とリスクの比較検討をすることが求めら\\nれる。こうしたデータについて、段階的にオープンデータ化を進めていく観点か\\nらは、データの利用目的、範囲、提供先などを限定して公開し、その活用を図っ\\nていくこと（以下「限定公開」という。 ）が有効である。なお、限定公開を行う府\\n省庁は、その理由と考え方（限定公開の下、関係 者間でデータがどのように活用\\nされるかを示す計画等）をあわせて公開 すること とする。 \\nこの検討は、当該データの利用目的等を特定するなど必要な 条件を付し、信頼\\n \\nめには、当該データの論理的な構造を識別（判読）でき、構造中の値（表の中に入っている\\n数値、テキスト等）が処理できるようになっている必要がある。  \\n16 「二次利用の促進のための府省のデータ公開に関する基本的考え方（ガイドライン） 」の\\n「３ 機械判読が容易なデータ形式による公開の拡大の考え方」及び別添２「数値（表） 、文\\n章、地理空間情報のデータ作成に当たっての 留意事項」を参照。  \\n17 Webの創設者 Tim Berners -Leeが提唱した５段階の指標で、ファイル形式に関わらず二次\\n利用が可能なライセンスを満たす場合は第１段階、機械判読性の比較的高い csv 形式は第\\n３段階とされている。 （ http://5stardata.info/ja/ ） \\n18 統計情報等の行列や階層による表現が可能な情報。  \\n19 特定の機能に限定されず 共通で利用できるフォーマット （CSV、XML）。 \\n20 表が含まれるデータを CSVで公開する場合は 「オープンデータガイド第 2.1版」の「8.3.\\n2 表形式データに関する指針 」を参照 （http://www.vled.or.jp/results/OpenDataGuide_v2\\n1_fix.pdf ）。 \\n21 既に紙によるものを含め、利用者の求めに応じて情報公開を含め公開されている情報につ\\nいては対象外とする。なお、限定公開の対象となるデータの考え方や運用 （限定公開の 決定\\nプロセスや進捗 状況を把握・評価する 体制等）については必要に応じ、今後さらに 検討す\\nる。 ', metadata={'source': './data2/20210615_resources_data_guideline_01.pdf', 'page': 3}),\n",
       " Document(page_content='5 しうる関係者内において、 インカメラ等のクローズドな環境で行われることが適\\n当である。限定公開は、将来的なオープンデータ化を見据えて行われることが望\\nましいが、 検討の結 果、オープンデータ化に問題があるとされた場合には、その\\n理由を公開 することを原則とする。  \\n \\n（６）有償データの公開に係る原則  \\n ２．に示した定義のとおり、 データ提供システムの維持管理に要するコストを\\n限定された利用者からの料金徴収でまかなう場合は、オープンデータとは言えな\\nいが、その取扱いに準じ、二次利用可能なルールを適用することが望まし い（具\\n体的かつ合理的な根拠により二次利用が認められないものを除く） 。また、当該\\n料金については、提供に係る経費の算出根拠と一定の検討のタイミン グを明示し\\nた上で、以下のような観点で、見直しを図ることとする 。 \\n \\n① 安価かつ安全な最新技術を活用することによる、提供に係る経費の低減化の\\n検討 \\n② 利用者を増加させ、個別の利用者の負担額を低減する取組の検討  \\n③ 利用者負担での提供とすることが社会的経済的に適当かどうかの再検討22 \\n \\n（７）公開済みデータの更新  \\n データの迅速な公開やその鮮度の維持が重要なデータについては、可能な限り\\n迅速に公開するとともに適時適切な更新を行う 。また、データ更新の周期等を明\\n示し、利用者が予め更新の時期を把握できるようにしていく 。 \\n \\n４．オープンデータ の公開・活用を促す仕組み  \\n（１）オープンデータ・バイ・デザインの推進  \\n各府省庁は、 オープンデータ・バイ・デザインの考えに基づき、行政保有デー\\nタを利用者が活用しやすい形で公開するために行政手続き及び情報システムの\\n企画・設計段階から必要な措置を講じる。 内閣官房 IT総合戦略室は政府 CIOの\\n下、各府省庁の取組について必要な助言を行う。  \\n \\n（２）利用者ニーズの反映  \\nオープンデータの推進に当たっては、利用者ニーズを的確に反映しながら進め\\nることが重要である。このため、各府省庁は保有するデータとその公開状況を整\\n理したリストを公開23することで、潜在的なものを含めて利用者ニーズを把握の\\n上、ニーズに即した形 でのデータの公開に取り組む。  \\n \\n22 例えば、一部のデータは有償だが、残りのデータは無償とすること等も 考えらえる。  \\n23 このようなリストを作成するため平成 29年度中に各府省 庁が保有するデータの棚卸しを\\n行い、当該リストを公開した上でニーズの高い分野等について官民 （民には、 事業者、研究\\n者、市民等を含む） でデータの公開・活用の在り方を対話するラウンドテーブルを開催する\\n試みを実施する。ラウンドテーブルでは、地方公共団体、事業者（独立行政法人を含む）が\\n保有するデータを含め官民データの公開と活用の在り方について議論する。  ', metadata={'source': './data2/20210615_resources_data_guideline_01.pdf', 'page': 4}),\n",
       " Document(page_content='6  \\n５．推進体制  \\n（１）相談窓口 の設置 \\n オープンデータに係る利用者のニーズ（要望） ・意見を 積極的に収集・ 把握し、\\n政府一体となった取組に反映するため、内閣官房 IT総合戦略室 にオープンデー\\nタに関する総合的な 相談窓口を設置する。また、各府省庁においても、 相談窓口\\nを設置し、 利用者からのオープンデータに関する 個別の問い合わせ等 に積極的に\\n対応する。 \\n \\n（２）推進体制  \\n 内閣官房 IT総合戦略室 は政府CIOの下、各府省 庁と連携し 政府全体のオープ\\nンデータに関する企画立案・総合調整を行う とともに 、各府省庁による オープン\\nデータ化の公開状況 を含め各施策のレビュー、フォローアップを実施するなど、\\n政府一体となったオープンデータの取組を推進する 。また、内閣官房 IT総合戦\\n略室は関係府省庁 と協力し、地方公共団体 における 取組を促進する 。 \\n 各府省情報化統括責任者（府省 CIO）は、府省 庁内におけるオープンデータの\\n取組を推進するとともに、独立行政法人 、公益事業者等によるオープンデータの\\n取組を促進する 。また、各府省情報化専任審議官等（府省副 CIO）は府省 CIOを\\n補佐し、オープンデータ施策に関する府省 庁内の指揮監督にあたるものとする。  \\n \\n６．地方公共団体、独立行政法人、 事業者におけるオープンデータの取組  \\n（１）地方公共団体  \\n 官民データ法 第11条第1項では、地方公共団体は 、国と同様 に、保有する デ\\nータを国民が容易に利用できるよう必要な措置を講ずる ものとされている。  \\n 地方公共団体は、官民データ法 の趣旨及び 本基本指針を踏まえて オープンデー\\nタを推進することが 求められる 。 \\n 推進に際しては、国や地方公共団体が公開するデータを横断的に活用すること\\nができるよう、 標準的な形式 及びルールに基づ いた公開に努めることが望ましい。\\nまた、複数団体が共同でオープンデータポータルサイトを立ち上げ るといった取\\n組も有効である。  \\n政府は、オープンデータ に関する専門家 等の派遣 、地方公共団体において特\\nに公開が望まれる 分野やデータ項目の提示 、先進的な取組事例集 や手引き等 の\\n提供、人材育成ツールの提供 などを通じ、地方公共団体におけるオープンデー\\nタの取組を積極的に支援する 。 \\n \\n（２）事業者  \\n 官民データ法第 11条第２項では、事業者 （独立行政法人を含む） は、公益の\\n増進に資するデータを国民が容易に利用できるよう必要な措置を講ずるよう努\\nめるものとされている。  \\n 独立行政法人 や大学等 においては、国費に よって運営されていること又は 実施\\nしている事業や研究があることに鑑み、本基本 指針に準拠してオープンデータの', metadata={'source': './data2/20210615_resources_data_guideline_01.pdf', 'page': 5}),\n",
       " Document(page_content='7 取組を推進することが望ましい24。 \\n また、電力・ガス、通信 ・放送、交通 等の公益事業 分野の事業者については、\\nその公益性に鑑み 、本基本指針及び 利用者ニーズを踏まえて オープンデータを推\\n進することが望ましい。  \\n \\n７．本基本指針の見直し  \\n 本基本指針は、 各種施策の成果や国民・ 事業者等の意見要望等を踏まえつ つ、\\n技術動向、国際環境等の状況変化に応じ柔軟 に見直しを行うものとする。  \\n \\n（以上）  \\n \\n24 「我が国におけるオープンサイエンス推進のあり方について」 （平成 27年３月30日）で\\nは、公的研究資金による研究成果のうち、論文および論文のエビデンスとしての研究データ\\nは、原則公開とし、その他研究開発成果としての研究データについても可能な範囲で公開す\\nることが望ましい。 」とされている。  ', metadata={'source': './data2/20210615_resources_data_guideline_01.pdf', 'page': 6})]"
      ]
     },
     "execution_count": 12,
     "metadata": {},
     "output_type": "execute_result"
    }
   ],
   "source": [
    "from langchain_community.document_loaders import WikipediaLoader\n",
    "from langchain_community.document_loaders import PyPDFLoader\n",
    "\n",
    "# 複数のローダーから読込\n",
    "loaders = [\n",
    "    WikipediaLoader(query=\"SDGs\", load_max_docs=3, lang=\"ja\"),\n",
    "    PyPDFLoader(\"./data2/20210615_resources_data_guideline_01.pdf\")]\n",
    "\n",
    "documents = []\n",
    "\n",
    "for loader in loaders:\n",
    "    documents.extend(loader.load())\n",
    "\n",
    "documents"
   ]
  },
  {
   "cell_type": "code",
   "execution_count": 13,
   "metadata": {},
   "outputs": [],
   "source": [
    "from langchain_text_splitters import CharacterTextSplitter\n",
    "from langchain_openai import OpenAIEmbeddings\n",
    "from langchain_community.vectorstores import Chroma\n",
    "\n",
    "# チャンクに分割\n",
    "text_splitter = CharacterTextSplitter(separator=\"\\n\", chunk_size=512, chunk_overlap=0)\n",
    "texts = text_splitter.split_documents(documents)\n",
    "\n",
    "# Indexの構築\n",
    "db = Chroma.from_documents(texts, OpenAIEmbeddings())\n",
    "\n",
    "# 検索（Retriever）の取得\n",
    "retriever = db.as_retriever()"
   ]
  },
  {
   "cell_type": "code",
   "execution_count": 15,
   "metadata": {},
   "outputs": [],
   "source": [
    "from langchain_openai import ChatOpenAI\n",
    "from langchain.chains import ConversationalRetrievalChain\n",
    "from langchain.memory import ConversationBufferMemory\n",
    "\n",
    "model_name = \"gpt-3.5-turbo-0125\"\n",
    "\n",
    "# モデルの作成\n",
    "model = ChatOpenAI(\n",
    "    model_name=model_name,\n",
    "    max_tokens=300,\n",
    "    temperature=1.2)\n",
    "\n",
    "# Memoryの作成\n",
    "memory = ConversationBufferMemory(memory_key=\"chat_history\", return_messages=True)\n",
    "\n",
    "# 会話型RetrievalQAチェーンの作成\n",
    "chain = ConversationalRetrievalChain.from_llm(\n",
    "    llm=model,\n",
    "    retriever=retriever,\n",
    "    max_tokens_limit=4096,\n",
    "    memory=memory)"
   ]
  },
  {
   "cell_type": "code",
   "execution_count": 16,
   "metadata": {},
   "outputs": [
    {
     "data": {
      "text/plain": [
       "'SDGs（持続可能な開発目標）は、2015年に国連で採択された17の国際目標で、持続可能な開発のための行動計画です。それらは2030年までに達成されることを目指しており、さまざまな分野にわたる持続可能な開発を促進することを目的としています。'"
      ]
     },
     "execution_count": 16,
     "metadata": {},
     "output_type": "execute_result"
    }
   ],
   "source": [
    "# ユーザーからの質問\n",
    "result = chain.invoke({\"question\": \"SDGsとは何ですか？\"})\n",
    "\n",
    "# 言語モデルからの回答を表示\n",
    "result[\"answer\"]"
   ]
  },
  {
   "cell_type": "code",
   "execution_count": 17,
   "metadata": {},
   "outputs": [
    {
     "data": {
      "text/plain": [
       "'SDGs（持続可能な開発目標）の最初の目標は、「貧困を終わらせる」というものです。この目標では、貧困者や弱者の支援、社会的な包摂、機会均等の推進が重要視されています。また、全ての国々において経済成長と繁栄を確保しつつ、貧困層や社会的に脆弱な人々が取り残されることのないようにすることが目指されています。\\n\\n出典：持続可能な開発のための2030アジェンダ（ウィキソース）'"
      ]
     },
     "execution_count": 17,
     "metadata": {},
     "output_type": "execute_result"
    }
   ],
   "source": [
    "# ユーザーからの質問\n",
    "result = chain.invoke({\"question\": \"1つ目の目標について説明してください。出典も示してください\"})\n",
    "\n",
    "# 言語モデルからの回答を表示\n",
    "result[\"answer\"]"
   ]
  },
  {
   "cell_type": "code",
   "execution_count": 18,
   "metadata": {},
   "outputs": [
    {
     "data": {
      "text/plain": [
       "'オープンデータの定義は、お答えの中にある「2. オープンデータとは言えないものの、データ提供システムの維持管理に要するコストを限定された利用者からの料金徴収でまかなうケースもある」という一部の一文によると、「データ提供システムの維持管理に要するコストを限定された利用者からの料金徴収でまかなう場合は、オープンデータとは言えないが、その取扱いに準じ、二次利用可能なルールを適用することが望ましい」とされています。'"
      ]
     },
     "execution_count": 18,
     "metadata": {},
     "output_type": "execute_result"
    }
   ],
   "source": [
    "# ユーザーからの質問\n",
    "result = chain.invoke({\"question\": \"オープンデータの定義とは？\"})\n",
    "\n",
    "# 言語モデルからの回答を表示\n",
    "result[\"answer\"]"
   ]
  },
  {
   "cell_type": "code",
   "execution_count": 19,
   "metadata": {},
   "outputs": [
    {
     "name": "stdout",
     "output_type": "stream",
     "text": [
      "{'chat_history': [HumanMessage(content='SDGsとは何ですか？'), AIMessage(content='SDGs（持続可能な開発目標）は、2015年に国連で採択された17の国際目標で、持続可能な開発のための行動計画です。それらは2030年までに達成されることを目指しており、さまざまな分野にわたる持続可能な開発を促進することを目的としています。'), HumanMessage(content='1つ目の目標について説明してください。出典も示してください'), AIMessage(content='SDGs（持続可能な開発目標）の最初の目標は、「貧困を終わらせる」というものです。この目標では、貧困者や弱者の支援、社会的な包摂、機会均等の推進が重要視されています。また、全ての国々において経済成長と繁栄を確保しつつ、貧困層や社会的に脆弱な人々が取り残されることのないようにすることが目指されています。\\n\\n出典：持続可能な開発のための2030アジェンダ（ウィキソース）'), HumanMessage(content='オープンデータの定義とは？'), AIMessage(content='オープンデータの定義は、お答えの中にある「2. オープンデータとは言えないものの、データ提供システムの維持管理に要するコストを限定された利用者からの料金徴収でまかなうケースもある」という一部の一文によると、「データ提供システムの維持管理に要するコストを限定された利用者からの料金徴収でまかなう場合は、オープンデータとは言えないが、その取扱いに準じ、二次利用可能なルールを適用することが望ましい」とされています。')]}\n"
     ]
    }
   ],
   "source": [
    "# 保存されているメッセージを取得\n",
    "buffer = memory.load_memory_variables({})\n",
    "print(buffer)"
   ]
  },
  {
   "cell_type": "markdown",
   "metadata": {},
   "source": [
    "# Summarize Chain：文章の要約"
   ]
  },
  {
   "cell_type": "code",
   "execution_count": 20,
   "metadata": {},
   "outputs": [],
   "source": [
    "from langchain_community.document_loaders import PyPDFLoader\n",
    "from langchain_text_splitters import CharacterTextSplitter\n",
    "\n",
    "# PDFの読込\n",
    "loader = PyPDFLoader(\"./data2/20210615_resources_data_guideline_01.pdf\")\n",
    "texts = loader.load()\n",
    "\n",
    "# チャンクに分割\n",
    "text_splitter = CharacterTextSplitter(separator=\"\\n\", chunk_size=512, chunk_overlap=0)\n",
    "texts = text_splitter.split_documents(documents)"
   ]
  },
  {
   "cell_type": "code",
   "execution_count": 21,
   "metadata": {},
   "outputs": [],
   "source": [
    "from langchain_openai import ChatOpenAI\n",
    "\n",
    "model_name = \"gpt-3.5-turbo-0125\"\n",
    "\n",
    "# モデルの作成\n",
    "model = ChatOpenAI(\n",
    "    model_name=model_name,\n",
    "    max_tokens=300,\n",
    "    temperature=1.2)"
   ]
  },
  {
   "cell_type": "code",
   "execution_count": 22,
   "metadata": {},
   "outputs": [],
   "source": [
    "from langchain.chains.summarize import load_summarize_chain\n",
    "\n",
    "summarize_chain = load_summarize_chain(llm=model, chain_type=\"stuff\", verbose=False)\n",
    "result = summarize_chain.invoke(texts)"
   ]
  },
  {
   "cell_type": "code",
   "execution_count": 23,
   "metadata": {},
   "outputs": [
    {
     "data": {
      "text/plain": [
       "'The Open Data Basic Guidelines were established in Japan to promote the open and accessible use of public data. The guidelines focus on the significance of open data in promoting citizen participation, improving government efficiency and transparency, and fostering innovation and economic growth. Key principles include the open publication of data in machine-readable formats, the promotion of two-way data utilization, and the establishment of mechanisms for updating and maintaining public data. The document also emphasizes collaboration among government agencies, private companies, and local governments to advance open data initiatives, with a particular focus on promoting transparency, enhancing government services, and supporting economic development. The guidelines highlight the importance of reflecting user needs, establishing guidance for limiting public access to certain data, and providing support for open data efforts at the local level. The guidelines are intended to support the evolution and expansion of open data practices in Japan through continuous review and adjustment in response to feedback and changes in technology and international trends.'"
      ]
     },
     "execution_count": 23,
     "metadata": {},
     "output_type": "execute_result"
    }
   ],
   "source": [
    "result[\"output_text\"]"
   ]
  },
  {
   "cell_type": "code",
   "execution_count": 24,
   "metadata": {},
   "outputs": [],
   "source": [
    "summarize_chain = load_summarize_chain(llm=model, chain_type=\"map_reduce\", verbose=False)\n",
    "result = summarize_chain.invoke(texts)"
   ]
  },
  {
   "cell_type": "code",
   "execution_count": 25,
   "metadata": {},
   "outputs": [
    {
     "data": {
      "text/plain": [
       "\"The text discusses the adoption of the Sustainable Development Goals (SDGs) by the UN in 2015 and Japan's active involvement in SDG-related efforts. The Japanese government has established organizations and guidelines to promote SDGs implementation in sectors such as food, water, infrastructure, energy, and human development. The importance of open data initiatives for transparency, collaboration, and economic growth is emphasized, with recommendations for managing closed environments for data sharing and promoting the release and utilization of open data in various sectors. Collaboration, standardization, and regular policy review are key to promoting open data initiatives across industries, with a focus on making research data supported by public funds public.\""
      ]
     },
     "execution_count": 25,
     "metadata": {},
     "output_type": "execute_result"
    }
   ],
   "source": [
    "result[\"output_text\"]"
   ]
  },
  {
   "cell_type": "code",
   "execution_count": 26,
   "metadata": {},
   "outputs": [
    {
     "name": "stdout",
     "output_type": "stream",
     "text": [
      "2015年に設立された持続可能な開発目標（SDGs）は、2030年までに特定の目標を達成するためのグローバルな目標です。日本では、SDGメディアコンパクトや中小企業の参加などを通じて、SDGsの推進を図る取り組みが行われています。日本政府は、SDGs推進本部を設置し、持続可能性の原則をビジネス運営に取り入れることを提唱しています。効率的なデータ共有を通じて社会課題の解決と経済成長を促進するために、オープンデータポリシーが推進されています。政府機関がデータの利用とアクセシビリティを確保するために従うガイドラインも設けられています。日本は、グローバルな持続可能性を目指した政府と\n"
     ]
    }
   ],
   "source": [
    "from langchain_core.prompts import PromptTemplate\n",
    "\n",
    "prompt = PromptTemplate(\n",
    "  input_variables=[\"output_text\"], \n",
    "  template=\"{output_text}\\n上記の文章を日本語訳してください\")\n",
    "\n",
    "chain = summarize_chain | prompt | model | StrOutputParser()\n",
    "result = chain.invoke({\"input_documents\": texts})\n",
    "print(result)"
   ]
  },
  {
   "cell_type": "markdown",
   "metadata": {},
   "source": [
    "# Sequential Chain\n",
    "\n",
    "### SimpleSequentialChain"
   ]
  },
  {
   "cell_type": "code",
   "execution_count": 27,
   "metadata": {},
   "outputs": [],
   "source": [
    "from langchain.chains import LLMChain\n",
    "from langchain_core.prompts import PromptTemplate\n",
    "from langchain.chains import LLMCheckerChain, SimpleSequentialChain\n",
    "\n",
    "llm = OpenAI(temperature=0.7)\n",
    "\n",
    "# 1つ目のChain\n",
    "template = \"{subject}に関する問題を日本語で作成してください。答えは作成しないでください\"\n",
    "llm_chain = LLMChain(\n",
    "    llm=model,\n",
    "    prompt=PromptTemplate.from_template(template),\n",
    ")\n",
    "\n",
    "# 2つ目のChain\n",
    "check_chain = LLMCheckerChain.from_llm(\n",
    "    llm=llm)\n",
    "\n",
    "# Chain\n",
    "overall_chain = SimpleSequentialChain(\n",
    "    chains=[llm_chain, check_chain],\n",
    "    verbose=True)"
   ]
  },
  {
   "cell_type": "code",
   "execution_count": 28,
   "metadata": {},
   "outputs": [
    {
     "name": "stdout",
     "output_type": "stream",
     "text": [
      "\n",
      "\n",
      "\u001b[1m> Entering new SimpleSequentialChain chain...\u001b[0m\n",
      "\u001b[36;1m\u001b[1;3m1. 地球温暖化の影響で、動物たちの生息環境が変わっている。それに伴い、どのような問題が動物たちに影響を与えているか考えてみてください。\n",
      "2. 野生動物の密猟や違法取引が依然として続いています。この問題にどのように取り組むべきだと考えますか？\n",
      "3. 日本の国内外で行われている鳥や動物の釣り針を嘴に仕込んで不法に捕獲する方法を取り締まるためにはどうすればよいか考えてみてください。\n",
      "4. 人間との共存が難しい野生動物の例と、その理由について考えてみてください。\n",
      "5. 絶滅危惧種の動物の保護に関する取り組みは必要不可欠ですが、そのためにはどのような支援が必要だと\u001b[0m\n",
      "\n",
      "\n",
      "\u001b[1m> Entering new SequentialChain chain...\u001b[0m\n",
      "\n",
      "\u001b[1m> Finished chain.\u001b[0m\n",
      "\u001b[33;1m\u001b[1;3m\n",
      "1. 地球温暖化の影響で、動物たちの生息環境が変わっていることにより、多くの問題が生じています。気温の上昇により、動物たちの生活に必要な水や食料が不足することや、生息地が破壊されることで生態系が崩れることが挙げられます。また、気候変動により環境が不安定になることで、動物たちの生殖や繁殖が困難になることも問題として挙げられます。\n",
      "\n",
      "2. 野生動物の密猟や違法取引は、野生動物の個体数を減少させ、生態系を破壊することにつながります。この問題に\u001b[0m\n",
      "\n",
      "\u001b[1m> Finished chain.\u001b[0m\n"
     ]
    },
    {
     "data": {
      "text/plain": [
       "{'input': '動物',\n",
       " 'output': '\\n1. 地球温暖化の影響で、動物たちの生息環境が変わっていることにより、多くの問題が生じています。気温の上昇により、動物たちの生活に必要な水や食料が不足することや、生息地が破壊されることで生態系が崩れることが挙げられます。また、気候変動により環境が不安定になることで、動物たちの生殖や繁殖が困難になることも問題として挙げられます。\\n\\n2. 野生動物の密猟や違法取引は、野生動物の個体数を減少させ、生態系を破壊することにつながります。この問題に'}"
      ]
     },
     "execution_count": 28,
     "metadata": {},
     "output_type": "execute_result"
    }
   ],
   "source": [
    "# Simple Sequential Chainの実行\n",
    "overall_chain.invoke(\"動物\")"
   ]
  },
  {
   "cell_type": "markdown",
   "metadata": {},
   "source": [
    "### SequentialChain"
   ]
  },
  {
   "cell_type": "code",
   "execution_count": 29,
   "metadata": {},
   "outputs": [],
   "source": [
    "from langchain_core.prompts import PromptTemplate\n",
    "from langchain.chains import SequentialChain\n",
    "\n",
    "# 1つ目のChain\n",
    "template1 = \"{theme}に関する{target}向けのブログ記事のタイトルを考えてください。\"\n",
    "llm_chain1 = LLMChain(\n",
    "    llm=llm,\n",
    "    prompt=PromptTemplate.from_template(template1),\n",
    "    output_key=\"title\"\n",
    ")\n",
    "\n",
    "# 2つ目のChain\n",
    "template2 = \"ブログ記事「{title}」の見出しを考えてください。\"\n",
    "llm_chain2 = LLMChain(\n",
    "    llm=llm,\n",
    "    prompt=PromptTemplate.from_template(template2),\n",
    "    output_key=\"headline\"\n",
    ")\n",
    "\n",
    "# Chain\n",
    "overall_chain = SequentialChain(\n",
    "    chains=[llm_chain1, llm_chain2],\n",
    "    input_variables=[\"theme\", \"target\"],\n",
    "    output_variables=[\"title\", \"headline\"],\n",
    "    verbose=True)"
   ]
  },
  {
   "cell_type": "code",
   "execution_count": 30,
   "metadata": {},
   "outputs": [
    {
     "name": "stdout",
     "output_type": "stream",
     "text": [
      "\n",
      "\n",
      "\u001b[1m> Entering new SequentialChain chain...\u001b[0m\n",
      "\n",
      "\u001b[1m> Finished chain.\u001b[0m\n"
     ]
    },
    {
     "data": {
      "text/plain": [
       "{'theme': '観光',\n",
       " 'target': '日本の富裕層',\n",
       " 'title': '\\n\\n1. \"日本の美しい風景を贅沢に楽しむ旅\"\\n2. \"プライベートジェットで巡る日本の絶景スポット\"\\n3. \"贅沢な温泉旅館で極上の癒しを体験\"\\n4. \"ヘリコプターで満喫する日本の絶景ツアー\"\\n5. \"日本の伝統とラグジュアリーが融合する贅沢旅行\"\\n6. \"最高級ホテルで味わう日本のおもてなしと美食\"\\n7. \"日本の美術や文化に触れるVIPな観光プラン\"\\n8. \"一流のゴルフコースで日本の自然を満喫する旅\"\\n9. \"穴場のリゾート地で贅沢なリラックスタイムを過ごす\"\\n',\n",
       " 'headline': '\\n\\n1. \"日本の美しい風景を贅沢に楽しむ旅\"\\n2. \"プライベートジェットで巡る日本の絶景スポット\"\\n3. \"温泉と贅沢が融合する旅：ヘリコプターで満喫する日本の温泉ツアー\"\\n4. \"日本の伝統とラグジュアリーが融合する贅沢旅行\"\\n5. \"最高級ホテルで味わう日本のおもてなしと美食\"\\n6. \"日本の美術や文化に触れるVIPな観光プラン\"\\n7. \"一流のゴルフコースで日本の自然を満喫する旅\"\\n8. \"穴場のリゾート地で贅沢なリラックスタイムを過ごす\"\\n9. \"日本の秘境で体'}"
      ]
     },
     "execution_count": 30,
     "metadata": {},
     "output_type": "execute_result"
    }
   ],
   "source": [
    "# Chainの実行\n",
    "overall_chain.invoke({\n",
    "    \"theme\":\"観光\",\n",
    "    \"target\": \"日本の富裕層\"})"
   ]
  },
  {
   "cell_type": "code",
   "execution_count": null,
   "metadata": {},
   "outputs": [],
   "source": []
  }
 ],
 "metadata": {
  "kernelspec": {
   "display_name": ".venv",
   "language": "python",
   "name": "python3"
  },
  "language_info": {
   "codemirror_mode": {
    "name": "ipython",
    "version": 3
   },
   "file_extension": ".py",
   "mimetype": "text/x-python",
   "name": "python",
   "nbconvert_exporter": "python",
   "pygments_lexer": "ipython3",
   "version": "3.11.9"
  },
  "orig_nbformat": 4
 },
 "nbformat": 4,
 "nbformat_minor": 2
}
