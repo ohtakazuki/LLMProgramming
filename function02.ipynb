{
 "cells": [
  {
   "attachments": {},
   "cell_type": "markdown",
   "metadata": {},
   "source": [
    "# Function Call - Google Custom Search API 版\n",
    "\n",
    "# 準備"
   ]
  },
  {
   "cell_type": "code",
   "execution_count": 2,
   "metadata": {},
   "outputs": [],
   "source": [
    "# 必要なモジュールをインポート\n",
    "import os\n",
    "from dotenv import load_dotenv\n",
    "from openai import OpenAI\n",
    "from googleapiclient.discovery import build\n",
    "\n",
    "# 環境変数の取得\n",
    "load_dotenv()\n",
    "# OpenAI APIクライアントを生成\n",
    "client = OpenAI(api_key=os.environ['API_KEY'])\n",
    "\n",
    "# モデル名\n",
    "model_name = \"gpt-3.5-turbo-1106\"\n",
    "\n",
    "google_cse_id = os.environ['GOOGLE_CSE_ID']\n",
    "google_api_key = os.environ['GOOGLE_API_KEY']"
   ]
  },
  {
   "attachments": {},
   "cell_type": "markdown",
   "metadata": {},
   "source": [
    "# Google検索API"
   ]
  },
  {
   "cell_type": "code",
   "execution_count": 3,
   "metadata": {},
   "outputs": [],
   "source": [
    "import json\n",
    "\n",
    "# ニュースを返す関数の作成\n",
    "def get_search_result(keyword, when, unit=\"d\"):\n",
    "    service = build(\"customsearch\", \"v1\", developerKey=google_api_key)\n",
    "    result = service.cse().list(q=keyword, dateRestrict=f\"{when}{unit}\", cx=google_cse_id).execute()\n",
    "\n",
    "    # 検索結果のトップ3を配列に取得\n",
    "    result_list = []\n",
    "    for i, item in enumerate(result[\"items\"]):\n",
    "        result_list.append({\"title\": f'{item[\"title\"]} {item[\"snippet\"]}'})\n",
    "        if i>=2:\n",
    "            break\n",
    "\n",
    "    return json.dumps({\"result\": result_list})"
   ]
  },
  {
   "cell_type": "code",
   "execution_count": 4,
   "metadata": {},
   "outputs": [
    {
     "name": "stdout",
     "output_type": "stream",
     "text": [
      "--------------------\n",
      "東京キャラクターストリート特設 ｜ 東京駅一番街 東京キャラクターストリート内の「いちばんプラザ」やワゴンショップなど期間限定ショップやイベントも開催中！ いつも楽しいワクワクを集めてみなさまのお越しを ...\n",
      "--------------------\n",
      "東京駅周辺・丸の内でおすすめのイベント｜レッツエンジョイ東京 東京駅周辺・丸の内でおすすめのイベント · 第1会場：日本橋三越本店 本館1階 中央ホール (天井絵展示会場) 2024年2月14日(水)～3月5日(火) □第2会場：日本橋三越本店 ...\n",
      "--------------------\n",
      "イベント&ニュース ｜ 東京駅一番街 イベント&ニュース · 「遊戯王5D's」 POPUP SHOP in 東京キャラクターストリート · レゴ®ストア · ケロロ軍曹 POP UP SHOP · 放送50周年記念アルプスの少女ハイジフェア.\n"
     ]
    }
   ],
   "source": [
    "# テスト用コード\n",
    "ret = get_search_result(\"東京駅のイベント\", 1, \"m\")\n",
    "ret2 = json.loads(ret)\n",
    "for n in ret2[\"result\"]:\n",
    "    print(\"-\"*20)\n",
    "    print(n[\"title\"])"
   ]
  },
  {
   "cell_type": "code",
   "execution_count": 5,
   "metadata": {},
   "outputs": [],
   "source": [
    "from openai.types.chat import ChatCompletionToolParam\n",
    "\n",
    "# ツール定義\n",
    "tools=[\n",
    "    ChatCompletionToolParam({\n",
    "        \"type\": \"function\",\n",
    "        \"function\": {\n",
    "            \"name\": \"get_search_result\",\n",
    "            \"description\": \"指定したキーワードの検索結果を取得する\",\n",
    "            \"parameters\": {\n",
    "                \"type\": \"object\",\n",
    "                \"properties\": {\n",
    "                    \"keyword\": {\n",
    "                        \"type\": \"string\",\n",
    "                        \"description\": \"キーワード\",\n",
    "                    },\n",
    "                    \"when\": {\n",
    "                        \"type\": \"number\",\n",
    "                        \"description\": \"日付や時間の範囲\"\n",
    "                    },\n",
    "                    \"unit\": {\n",
    "                        \"type\": \"string\",\n",
    "                        \"enum\": [\"d\", \"h\", \"y\"]\n",
    "                    },\n",
    "                },\n",
    "                \"required\": [\"keyword\"],\n",
    "            },\n",
    "        },\n",
    "    })\n",
    "]"
   ]
  },
  {
   "cell_type": "code",
   "execution_count": 6,
   "metadata": {},
   "outputs": [],
   "source": [
    "question = \"東京駅のイベントについて、最近1ヶ月以内の検索結果を教えてください\"\n",
    "\n",
    "response = client.chat.completions.create(\n",
    "    model=model_name,\n",
    "    messages=[\n",
    "        {\"role\": \"user\", \"content\": question},\n",
    "    ],\n",
    "    tools=tools,\n",
    "    tool_choice=\"auto\",\n",
    ")"
   ]
  },
  {
   "cell_type": "code",
   "execution_count": 7,
   "metadata": {},
   "outputs": [
    {
     "data": {
      "text/plain": [
       "ChatCompletion(id='chatcmpl-8eFyk8dTZMTe5nKRQInFaO1lfkSgW', choices=[Choice(finish_reason='tool_calls', index=0, logprobs=None, message=ChatCompletionMessage(content=None, role='assistant', function_call=None, tool_calls=[ChatCompletionMessageToolCall(id='call_d6wBsnCxvQP412p0GZf5fweu', function=Function(arguments='{\"keyword\":\"東京駅 イベント\",\"when\":1,\"unit\":\"m\"}', name='get_search_result'), type='function')]))], created=1704605234, model='gpt-3.5-turbo-1106', object='chat.completion', system_fingerprint='fp_cbe4fa03fe', usage=CompletionUsage(completion_tokens=33, prompt_tokens=135, total_tokens=168))"
      ]
     },
     "execution_count": 7,
     "metadata": {},
     "output_type": "execute_result"
    }
   ],
   "source": [
    "response"
   ]
  },
  {
   "cell_type": "code",
   "execution_count": 8,
   "metadata": {},
   "outputs": [
    {
     "data": {
      "text/plain": [
       "'{\"keyword\":\"東京駅 イベント\",\"when\":1,\"unit\":\"m\"}'"
      ]
     },
     "execution_count": 8,
     "metadata": {},
     "output_type": "execute_result"
    }
   ],
   "source": [
    "response.choices[0].message.tool_calls[0].function.arguments"
   ]
  },
  {
   "cell_type": "code",
   "execution_count": null,
   "metadata": {},
   "outputs": [],
   "source": []
  },
  {
   "cell_type": "code",
   "execution_count": 9,
   "metadata": {},
   "outputs": [
    {
     "name": "stdout",
     "output_type": "stream",
     "text": [
      "関数名：get_search_result\n",
      "引数：{'keyword': '東京駅 イベント', 'when': 1, 'unit': 'm'}\n",
      "関数の実行結果：{\"result\": [{\"title\": \"\\u6771\\u4eac\\u30ad\\u30e3\\u30e9\\u30af\\u30bf\\u30fc\\u30b9\\u30c8\\u30ea\\u30fc\\u30c8\\u7279\\u8a2d \\uff5c \\u6771\\u4eac\\u99c5\\u4e00\\u756a\\u8857 \\u6771\\u4eac\\u30ad\\u30e3\\u30e9\\u30af\\u30bf\\u30fc\\u30b9\\u30c8\\u30ea\\u30fc\\u30c8\\u5185\\u306e\\u300c\\u3044\\u3061\\u3070\\u3093\\u30d7\\u30e9\\u30b6\\u300d\\u3084\\u30ef\\u30b4\\u30f3\\u30b7\\u30e7\\u30c3\\u30d7\\u306a\\u3069\\u671f\\u9593\\u9650\\u5b9a\\u30b7\\u30e7\\u30c3\\u30d7\\u3084\\u30a4\\u30d9\\u30f3\\u30c8\\u3082\\u958b\\u50ac\\u4e2d\\uff01 \\u3044\\u3064\\u3082\\u697d\\u3057\\u3044\\u30ef\\u30af\\u30ef\\u30af\\u3092\\u96c6\\u3081\\u3066\\u307f\\u306a\\u3055\\u307e\\u306e\\u304a\\u8d8a\\u3057\\u3092\\u00a0...\"}, {\"title\": \"\\u6771\\u4eac\\u99c5\\u5468\\u8fba\\u30fb\\u4e38\\u306e\\u5185\\u3067\\u304a\\u3059\\u3059\\u3081\\u306e\\u30a4\\u30d9\\u30f3\\u30c8\\uff5c\\u30ec\\u30c3\\u30c4\\u30a8\\u30f3\\u30b8\\u30e7\\u30a4\\u6771\\u4eac \\u6771\\u4eac\\u99c5\\u5468\\u8fba\\u30fb\\u4e38\\u306e\\u5185\\u3067\\u304a\\u3059\\u3059\\u3081\\u306e\\u30a4\\u30d9\\u30f3\\u30c8 \\u00b7 \\u7b2c1\\u4f1a\\u5834\\uff1a\\u65e5\\u672c\\u6a4b\\u4e09\\u8d8a\\u672c\\u5e97 \\u672c\\u99281\\u968e \\u4e2d\\u592e\\u30db\\u30fc\\u30eb (\\u5929\\u4e95\\u7d75\\u5c55\\u793a\\u4f1a\\u5834) 2024\\u5e742\\u670814\\u65e5(\\u6c34)\\uff5e3\\u67085\\u65e5(\\u706b) \\u25a1\\u7b2c2\\u4f1a\\u5834\\uff1a\\u65e5\\u672c\\u6a4b\\u4e09\\u8d8a\\u672c\\u5e97\\u00a0...\"}, {\"title\": \"\\u30a4\\u30d9\\u30f3\\u30c8&\\u30cb\\u30e5\\u30fc\\u30b9 \\uff5c \\u6771\\u4eac\\u99c5\\u4e00\\u756a\\u8857 \\u30a4\\u30d9\\u30f3\\u30c8&\\u30cb\\u30e5\\u30fc\\u30b9 \\u00b7 \\u300c\\u904a\\u622f\\u738b5D's\\u300d POPUP SHOP in \\u6771\\u4eac\\u30ad\\u30e3\\u30e9\\u30af\\u30bf\\u30fc\\u30b9\\u30c8\\u30ea\\u30fc\\u30c8 \\u00b7 \\u30ec\\u30b4\\u00ae\\u30b9\\u30c8\\u30a2 \\u00b7 \\u30b1\\u30ed\\u30ed\\u8ecd\\u66f9 POP UP SHOP \\u00b7 \\u653e\\u900150\\u5468\\u5e74\\u8a18\\u5ff5\\u30a2\\u30eb\\u30d7\\u30b9\\u306e\\u5c11\\u5973\\u30cf\\u30a4\\u30b8\\u30d5\\u30a7\\u30a2.\"}]}\n",
      "最近1ヶ月以内の東京駅でのイベントについての検索結果は以下の通りです：\n",
      "1. 東京駅一番街東京キャラクターストリート内の「いちばんプラザ」やワゴンショップなどの期間限定ショップやイベントが開催中。\n",
      "2. レッツエンジョイ東京│東京駅周辺でおすすめのイベントや場所を紹介するイベントが開催中。\n",
      "3. イベント＆ニュース│東京駅一番街イベント＆ニュース｜「遊戯王5D's」POPUP SHOP in 東京駅キャラクターストリートや「レゴ®ストア」、ケロロ軍曹POP UP SHOP、放送50周年記念アルプスの少女ハイジの少女ハイジの5D's。\n"
     ]
    }
   ],
   "source": [
    "# モデルがツール呼出と判断した\n",
    "if response.choices[0].message.tool_calls is not None:\n",
    "    # 言語モデルの回答からツールを取得\n",
    "    tool = response.choices[0].message.tool_calls[0]\n",
    "\n",
    "    # 関数名の取得\n",
    "    function_name = tool.function.name\n",
    "    print(f\"関数名：{function_name}\")\n",
    "    # 引数の取得\n",
    "    arguments = json.loads(tool.function.arguments)\n",
    "    print(f\"引数：{arguments}\")\n",
    "\n",
    "    # 関数名で実行する関数を判断\n",
    "    if function_name == \"get_search_result\":\n",
    "        function_response = get_search_result(\n",
    "            keyword=arguments.get(\"keyword\"),\n",
    "            when=arguments.get(\"when\"),\n",
    "            unit=arguments.get(\"unit\"),\n",
    "        )\n",
    "    print(f\"関数の実行結果：{function_response}\")\n",
    "\n",
    "    # 関数の実行結果をmessagesに加えて言語モデルを呼出\n",
    "    response2 = client.chat.completions.create(\n",
    "        model=model_name,\n",
    "        messages=[\n",
    "            {\"role\": \"user\", \"content\": question},\n",
    "            response.choices[0].message,\n",
    "            {\n",
    "                \"tool_call_id\": tool.id,\n",
    "                \"role\": \"tool\",\n",
    "                \"content\": function_response,\n",
    "            },\n",
    "        ],\n",
    "    )\n",
    "\n",
    "    # 言語モデルからの回答を出力\n",
    "    print(response2.choices[0].message.content.strip())\n",
    "\n",
    "else:\n",
    "    # 関数呼び出しでなければ、単に言語モデルからの回答を出力\n",
    "    print(response.choices[0].message.content.strip())"
   ]
  },
  {
   "attachments": {},
   "cell_type": "markdown",
   "metadata": {},
   "source": [
    "# 複数のFunctionの切り替え"
   ]
  },
  {
   "cell_type": "code",
   "execution_count": 18,
   "metadata": {},
   "outputs": [],
   "source": [
    "import json\n",
    "import requests\n",
    "from bs4 import BeautifulSoup\n",
    "\n",
    "# ニュースを検索する関数\n",
    "def get_news(keyword, when, unit=\"d\"):\n",
    "    # WebサイトのURLを指定\n",
    "    url = f'https://news.google.com/search?q={keyword} when:{when}{unit}&hl=ja&gl=JP&ceid=JP:ja'\n",
    "\n",
    "    # Requestsを利用してWebページを取得する\n",
    "    response = requests.get(url)\n",
    "    html = response.text\n",
    "\n",
    "    # BeautifulSoupを利用してWebページを解析する\n",
    "    soup = BeautifulSoup(html, 'html.parser')\n",
    "\n",
    "    # soup.selectを利用して、ニュースのタイトルを取得する\n",
    "    elements = soup.select('article div div div a')\n",
    "\n",
    "    # ニュースのトップ3を配列に取得\n",
    "    news = []\n",
    "    for i, element in enumerate(elements):\n",
    "        news.append({\"title\": element.getText()})\n",
    "        if i>=2:\n",
    "            break\n",
    "\n",
    "    return json.dumps({\"news\": news})"
   ]
  },
  {
   "cell_type": "code",
   "execution_count": 19,
   "metadata": {},
   "outputs": [
    {
     "name": "stdout",
     "output_type": "stream",
     "text": [
      "--------------------\n",
      "「たべっ子どうぶつ」のお祭りイベント、奈良・イオンモール橿原 ...\n",
      "--------------------\n",
      "弟は「型抜き」で散財。一方、姉は…？お祭りから見る姉弟の違い ...\n",
      "--------------------\n",
      "初戦敗退の誠信、最後まで笑顔の『お祭りバレー』体現 セッター ...\n"
     ]
    }
   ],
   "source": [
    "# テスト用コード\n",
    "ret = get_news(\"お祭り\", 5)\n",
    "ret2 = json.loads(ret)\n",
    "for n in ret2[\"news\"]:\n",
    "    print(\"-\"*20)\n",
    "    print(n[\"title\"])"
   ]
  },
  {
   "cell_type": "code",
   "execution_count": 20,
   "metadata": {},
   "outputs": [],
   "source": [
    "from openai.types.chat import ChatCompletionToolParam\n",
    "\n",
    "# ツール定義\n",
    "tools=[\n",
    "    ChatCompletionToolParam({\n",
    "        \"type\": \"function\",\n",
    "        \"function\": {\n",
    "            \"name\": \"get_search_result\",\n",
    "            \"description\": \"指定したキーワードの検索結果を取得する\",\n",
    "            \"parameters\": {\n",
    "                \"type\": \"object\",\n",
    "                \"properties\": {\n",
    "                    \"keyword\": {\n",
    "                        \"type\": \"string\",\n",
    "                        \"description\": \"キーワード\",\n",
    "                    },\n",
    "                    \"when\": {\n",
    "                        \"type\": \"number\",\n",
    "                        \"description\": \"日付や時間の範囲\"\n",
    "                    },\n",
    "                    \"unit\": {\n",
    "                        \"type\": \"string\",\n",
    "                        \"enum\": [\"d\", \"h\", \"y\"]\n",
    "                    },\n",
    "                },\n",
    "                \"required\": [\"keyword\"],\n",
    "            },\n",
    "        },\n",
    "    }),\n",
    "    ChatCompletionToolParam({\n",
    "        \"type\": \"function\",\n",
    "        \"function\": {\n",
    "            \"name\": \"get_news\",\n",
    "            \"description\": \"指定したキーワードのニュースを取得する\",\n",
    "            \"parameters\": {\n",
    "                \"type\": \"object\",\n",
    "                \"properties\": {\n",
    "                    \"keyword\": {\n",
    "                        \"type\": \"string\",\n",
    "                        \"description\": \"キーワード\",\n",
    "                    },\n",
    "                    \"when\": {\n",
    "                        \"type\": \"number\",\n",
    "                        \"description\": \"日付や時間の範囲\"\n",
    "                    },\n",
    "                    \"unit\": {\n",
    "                        \"type\": \"string\",\n",
    "                        \"enum\": [\"d\", \"h\", \"y\"]\n",
    "                    },\n",
    "                },\n",
    "                \"required\": [\"keyword\"],\n",
    "            },\n",
    "        },\n",
    "    })\n",
    "]"
   ]
  },
  {
   "cell_type": "code",
   "execution_count": 21,
   "metadata": {},
   "outputs": [],
   "source": [
    "# question = \"東京駅のイベントについて、最近1ヶ月以内の検索結果を教えてください\"\n",
    "question = \"お祭りに関する5日以内のニュースを教えてください\"\n",
    "\n",
    "response = client.chat.completions.create(\n",
    "    model=model_name,\n",
    "    messages=[\n",
    "        {\"role\": \"user\", \"content\": question},\n",
    "    ],\n",
    "    tools=tools,\n",
    "    tool_choice=\"auto\",\n",
    ")"
   ]
  },
  {
   "cell_type": "code",
   "execution_count": 22,
   "metadata": {},
   "outputs": [
    {
     "data": {
      "text/plain": [
       "ChatCompletion(id='chatcmpl-8eGMPkDTObpmHLxFg4GXO5jLU9X0n', choices=[Choice(finish_reason='tool_calls', index=0, logprobs=None, message=ChatCompletionMessage(content=None, role='assistant', function_call=None, tool_calls=[ChatCompletionMessageToolCall(id='call_isGvMM3hSd4SIR445nLLPmyf', function=Function(arguments='{\"keyword\":\"お祭り\",\"when\":5,\"unit\":\"d\"}', name='get_news'), type='function')]))], created=1704606701, model='gpt-3.5-turbo-1106', object='chat.completion', system_fingerprint='fp_cbe4fa03fe', usage=CompletionUsage(completion_tokens=25, prompt_tokens=187, total_tokens=212))"
      ]
     },
     "execution_count": 22,
     "metadata": {},
     "output_type": "execute_result"
    }
   ],
   "source": [
    "response"
   ]
  },
  {
   "cell_type": "code",
   "execution_count": 23,
   "metadata": {},
   "outputs": [
    {
     "data": {
      "text/plain": [
       "'{\"keyword\":\"お祭り\",\"when\":5,\"unit\":\"d\"}'"
      ]
     },
     "execution_count": 23,
     "metadata": {},
     "output_type": "execute_result"
    }
   ],
   "source": [
    "response.choices[0].message.tool_calls[0].function.arguments"
   ]
  },
  {
   "cell_type": "code",
   "execution_count": 24,
   "metadata": {},
   "outputs": [
    {
     "name": "stdout",
     "output_type": "stream",
     "text": [
      "お祭りに関する5日以内のニュースです。\n",
      "\n",
      "1. 「たべっ子どうぶつ」のお祭りイベント、岩見沢市・イオンモール八雲店 ...\n",
      "2. 兄弟は「型抜き」で散財。一方、姉は…？お祭りから見る姉弟の違い ...\n",
      "3. 初戦敗退の誤信、最後まで笑顔の「お祭りバレー」体現　セッター誤信は「 ...\n"
     ]
    }
   ],
   "source": [
    "# モデルがツール呼出と判断した\n",
    "if response.choices[0].message.tool_calls is not None:\n",
    "    # 言語モデルの回答からツールを取得\n",
    "    tool = response.choices[0].message.tool_calls[0]\n",
    "\n",
    "    # 関数名の取得\n",
    "    function_name = tool.function.name\n",
    "    # 引数の取得\n",
    "    arguments = json.loads(tool.function.arguments)\n",
    "\n",
    "    # 関数名で実行する関数を判断\n",
    "    if function_name == \"get_search_result\":\n",
    "        function_response = get_search_result(\n",
    "            keyword=arguments.get(\"keyword\"),\n",
    "            when=arguments.get(\"when\"),\n",
    "            unit=arguments.get(\"unit\"),\n",
    "        )\n",
    "    elif function_name == \"get_news\":\n",
    "        function_response = get_news(\n",
    "            keyword=arguments.get(\"keyword\"),\n",
    "            when=arguments.get(\"when\"),\n",
    "            unit=arguments.get(\"unit\"),\n",
    "        )\n",
    "\n",
    "    # 関数の実行結果をmessagesに加えて言語モデルを呼出\n",
    "    response2 = client.chat.completions.create(\n",
    "        model=model_name,\n",
    "        messages=[\n",
    "            {\"role\": \"user\", \"content\": question},\n",
    "            response.choices[0].message,\n",
    "            {\n",
    "                \"tool_call_id\": tool.id,\n",
    "                \"role\": \"tool\",\n",
    "                \"content\": function_response,\n",
    "            },\n",
    "        ],\n",
    "    )\n",
    "\n",
    "    # 言語モデルからの回答を出力\n",
    "    print(response2.choices[0].message.content.strip())\n",
    "\n",
    "else:\n",
    "    # 関数呼び出しでなければ、単に言語モデルからの回答を出力\n",
    "    print(response.choices[0].message.content.strip())"
   ]
  },
  {
   "cell_type": "code",
   "execution_count": null,
   "metadata": {},
   "outputs": [],
   "source": []
  }
 ],
 "metadata": {
  "kernelspec": {
   "display_name": ".venv",
   "language": "python",
   "name": "python3"
  },
  "language_info": {
   "codemirror_mode": {
    "name": "ipython",
    "version": 3
   },
   "file_extension": ".py",
   "mimetype": "text/x-python",
   "name": "python",
   "nbconvert_exporter": "python",
   "pygments_lexer": "ipython3",
   "version": "3.11.7"
  },
  "orig_nbformat": 4
 },
 "nbformat": 4,
 "nbformat_minor": 2
}
