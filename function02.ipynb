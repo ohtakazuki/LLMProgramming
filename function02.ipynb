{
 "cells": [
  {
   "attachments": {},
   "cell_type": "markdown",
   "metadata": {},
   "source": [
    "# Function Call - Google Custom Search API 版\n",
    "\n",
    "# 準備"
   ]
  },
  {
   "cell_type": "code",
   "execution_count": 1,
   "metadata": {},
   "outputs": [],
   "source": [
    "# 必要なモジュールをインポート\n",
    "import os\n",
    "from dotenv import load_dotenv\n",
    "from openai import OpenAI\n",
    "from googleapiclient.discovery import build\n",
    "\n",
    "# 環境変数の取得\n",
    "load_dotenv()\n",
    "# OpenAI APIクライアントを生成\n",
    "client = OpenAI(api_key=os.environ['API_KEY'])\n",
    "\n",
    "# モデル名\n",
    "model_name = \"gpt-3.5-turbo-0125\"\n",
    "\n",
    "google_cse_id = os.environ['GOOGLE_CSE_ID']\n",
    "google_api_key = os.environ['GOOGLE_API_KEY']"
   ]
  },
  {
   "attachments": {},
   "cell_type": "markdown",
   "metadata": {},
   "source": [
    "# Google検索API"
   ]
  },
  {
   "cell_type": "code",
   "execution_count": 2,
   "metadata": {},
   "outputs": [],
   "source": [
    "import json\n",
    "\n",
    "# ニュースを返す関数の作成\n",
    "def get_search_result(keyword, when, unit=\"d\"):\n",
    "    service = build(\"customsearch\", \"v1\", developerKey=google_api_key)\n",
    "    result = service.cse().list(q=keyword, dateRestrict=f\"{when}{unit}\", cx=google_cse_id).execute()\n",
    "\n",
    "    # 検索結果のトップ3を配列に取得\n",
    "    result_list = []\n",
    "    for i, item in enumerate(result[\"items\"]):\n",
    "        result_list.append({\"title\": f'{item[\"title\"]} {item[\"snippet\"]}'})\n",
    "        if i>=2:\n",
    "            break\n",
    "\n",
    "    return json.dumps({\"result\": result_list})"
   ]
  },
  {
   "cell_type": "code",
   "execution_count": 3,
   "metadata": {},
   "outputs": [
    {
     "name": "stdout",
     "output_type": "stream",
     "text": [
      "--------------------\n",
      "東京キャラクターストリート特設 ｜ 東京駅一番街 東京キャラクターストリート内の「いちばんプラザ」やワゴンショップなど期間限定ショップやイベントも開催中！ いつも楽しいワクワクを集めてみなさまのお越しを ...\n",
      "--------------------\n",
      "東京駅周辺・丸の内でおすすめのイベント｜レッツエンジョイ東京 東京駅周辺・丸の内でおすすめのイベント · 東京都 中央区. YAESU BIG HOLIDAY～親子で楽しむ11日間～ · 東京都 千代田区. 丸の内ハウス 17TH ANNIVERSARY · 東京都 中央区.\n",
      "--------------------\n",
      "イベント&ニュース ｜ 東京駅一番街 イベント&ニュース · ウルトラマンワールドM78 スペシャル缶バッジプレゼントキャペーン. EVENT · 大谷翔平＆デコピンPOPUP SHOP. EVENT · MINECRAFT POP UP STORE · 山 ...\n"
     ]
    }
   ],
   "source": [
    "# テスト用コード\n",
    "ret = get_search_result(\"東京駅のイベント\", 1, \"m\")\n",
    "ret2 = json.loads(ret)\n",
    "for n in ret2[\"result\"]:\n",
    "    print(\"-\"*20)\n",
    "    print(n[\"title\"])"
   ]
  },
  {
   "cell_type": "code",
   "execution_count": 4,
   "metadata": {},
   "outputs": [],
   "source": [
    "from openai.types.chat import ChatCompletionToolParam\n",
    "\n",
    "# ツール定義\n",
    "tools=[\n",
    "    ChatCompletionToolParam({\n",
    "        \"type\": \"function\",\n",
    "        \"function\": {\n",
    "            \"name\": \"get_search_result\",\n",
    "            \"description\": \"指定したキーワードの検索結果を取得する\",\n",
    "            \"parameters\": {\n",
    "                \"type\": \"object\",\n",
    "                \"properties\": {\n",
    "                    \"keyword\": {\n",
    "                        \"type\": \"string\",\n",
    "                        \"description\": \"キーワード\",\n",
    "                    },\n",
    "                    \"when\": {\n",
    "                        \"type\": \"number\",\n",
    "                        \"description\": \"日付や時間の範囲\"\n",
    "                    },\n",
    "                    \"unit\": {\n",
    "                        \"type\": \"string\",\n",
    "                        \"enum\": [\"d\", \"h\", \"y\"]\n",
    "                    },\n",
    "                },\n",
    "                \"required\": [\"keyword\"],\n",
    "            },\n",
    "        },\n",
    "    })\n",
    "]"
   ]
  },
  {
   "cell_type": "code",
   "execution_count": 5,
   "metadata": {},
   "outputs": [],
   "source": [
    "question = \"東京駅のイベントについて、最近1ヶ月以内の検索結果を教えてください\"\n",
    "\n",
    "response = client.chat.completions.create(\n",
    "    model=model_name,\n",
    "    messages=[\n",
    "        {\"role\": \"user\", \"content\": question},\n",
    "    ],\n",
    "    tools=tools,\n",
    "    tool_choice=\"auto\",\n",
    ")"
   ]
  },
  {
   "cell_type": "code",
   "execution_count": 6,
   "metadata": {},
   "outputs": [
    {
     "data": {
      "text/plain": [
       "ChatCompletion(id='chatcmpl-9I4HlxDk4S6ui2g0nVZ3RyZVagmnv', choices=[Choice(finish_reason='tool_calls', index=0, logprobs=None, message=ChatCompletionMessage(content=None, role='assistant', function_call=None, tool_calls=[ChatCompletionMessageToolCall(id='call_80IPllaHH2KkpxmxJfJZ9vdQ', function=Function(arguments='{\"keyword\":\"東京駅のイベント\",\"when\":1,\"unit\":\"m\"}', name='get_search_result'), type='function')]))], created=1714093405, model='gpt-3.5-turbo-0125', object='chat.completion', system_fingerprint='fp_3b956da36b', usage=CompletionUsage(completion_tokens=33, prompt_tokens=135, total_tokens=168))"
      ]
     },
     "execution_count": 6,
     "metadata": {},
     "output_type": "execute_result"
    }
   ],
   "source": [
    "response"
   ]
  },
  {
   "cell_type": "code",
   "execution_count": 7,
   "metadata": {},
   "outputs": [
    {
     "data": {
      "text/plain": [
       "'{\"keyword\":\"東京駅のイベント\",\"when\":1,\"unit\":\"m\"}'"
      ]
     },
     "execution_count": 7,
     "metadata": {},
     "output_type": "execute_result"
    }
   ],
   "source": [
    "response.choices[0].message.tool_calls[0].function.arguments"
   ]
  },
  {
   "cell_type": "code",
   "execution_count": 8,
   "metadata": {},
   "outputs": [
    {
     "name": "stdout",
     "output_type": "stream",
     "text": [
      "関数名：get_search_result\n",
      "引数：{'keyword': '東京駅のイベント', 'when': 1, 'unit': 'm'}\n",
      "関数の実行結果：{\"result\": [{\"title\": \"\\u6771\\u4eac\\u30ad\\u30e3\\u30e9\\u30af\\u30bf\\u30fc\\u30b9\\u30c8\\u30ea\\u30fc\\u30c8\\u7279\\u8a2d \\uff5c \\u6771\\u4eac\\u99c5\\u4e00\\u756a\\u8857 \\u6771\\u4eac\\u30ad\\u30e3\\u30e9\\u30af\\u30bf\\u30fc\\u30b9\\u30c8\\u30ea\\u30fc\\u30c8\\u5185\\u306e\\u300c\\u3044\\u3061\\u3070\\u3093\\u30d7\\u30e9\\u30b6\\u300d\\u3084\\u30ef\\u30b4\\u30f3\\u30b7\\u30e7\\u30c3\\u30d7\\u306a\\u3069\\u671f\\u9593\\u9650\\u5b9a\\u30b7\\u30e7\\u30c3\\u30d7\\u3084\\u30a4\\u30d9\\u30f3\\u30c8\\u3082\\u958b\\u50ac\\u4e2d\\uff01 \\u3044\\u3064\\u3082\\u697d\\u3057\\u3044\\u30ef\\u30af\\u30ef\\u30af\\u3092\\u96c6\\u3081\\u3066\\u307f\\u306a\\u3055\\u307e\\u306e\\u304a\\u8d8a\\u3057\\u3092\\u00a0...\"}, {\"title\": \"\\u6771\\u4eac\\u99c5\\u5468\\u8fba\\u30fb\\u4e38\\u306e\\u5185\\u3067\\u304a\\u3059\\u3059\\u3081\\u306e\\u30a4\\u30d9\\u30f3\\u30c8\\uff5c\\u30ec\\u30c3\\u30c4\\u30a8\\u30f3\\u30b8\\u30e7\\u30a4\\u6771\\u4eac \\u6771\\u4eac\\u99c5\\u5468\\u8fba\\u30fb\\u4e38\\u306e\\u5185\\u3067\\u304a\\u3059\\u3059\\u3081\\u306e\\u30a4\\u30d9\\u30f3\\u30c8 \\u00b7 \\u6771\\u4eac\\u90fd \\u4e2d\\u592e\\u533a. YAESU BIG HOLIDAY\\uff5e\\u89aa\\u5b50\\u3067\\u697d\\u3057\\u308011\\u65e5\\u9593\\uff5e \\u00b7 \\u6771\\u4eac\\u90fd \\u5343\\u4ee3\\u7530\\u533a. \\u4e38\\u306e\\u5185\\u30cf\\u30a6\\u30b9 17TH ANNIVERSARY \\u00b7 \\u6771\\u4eac\\u90fd \\u4e2d\\u592e\\u533a.\"}, {\"title\": \"\\u30a4\\u30d9\\u30f3\\u30c8&\\u30cb\\u30e5\\u30fc\\u30b9 \\uff5c \\u6771\\u4eac\\u99c5\\u4e00\\u756a\\u8857 \\u30a4\\u30d9\\u30f3\\u30c8&\\u30cb\\u30e5\\u30fc\\u30b9 \\u00b7 \\u30a6\\u30eb\\u30c8\\u30e9\\u30de\\u30f3\\u30ef\\u30fc\\u30eb\\u30c9M78 \\u30b9\\u30da\\u30b7\\u30e3\\u30eb\\u7f36\\u30d0\\u30c3\\u30b8\\u30d7\\u30ec\\u30bc\\u30f3\\u30c8\\u30ad\\u30e3\\u30da\\u30fc\\u30f3. EVENT \\u00b7 \\u5927\\u8c37\\u7fd4\\u5e73\\uff06\\u30c7\\u30b3\\u30d4\\u30f3POPUP SHOP. EVENT \\u00b7 MINECRAFT POP UP STORE \\u00b7 \\u5c71\\u00a0...\"}]}\n",
      "最近1ヶ月以内の東京駅のイベントについて以下の情報が見つかりました:\n",
      "1. 東京駅一番街の「いちばんプラザ」やワゴンショップなどで期間限定のショップやイベントが開催されています。\n",
      "2. 東京駅周辺や丸の内で様々なイベントが開催されており、お子様向けの楽しい11日間や、17周年を迎えるイベントが予定されています。\n",
      "3. 東京駅一番街のイベント&ニュースでは、ウエルタマンワールドM78 スペシャルホリデーバージョンや、大谷涼平&デコピンPOPUP SHOPなどのイベントが開催されます。他にもMINECRAFT POP UP STOREや山・・・　(情報が途切れています)\n"
     ]
    }
   ],
   "source": [
    "# モデルがツール呼出と判断した\n",
    "if response.choices[0].message.tool_calls is not None:\n",
    "    # 言語モデルの回答からツールを取得\n",
    "    tool = response.choices[0].message.tool_calls[0]\n",
    "\n",
    "    # 関数名の取得\n",
    "    function_name = tool.function.name\n",
    "    print(f\"関数名：{function_name}\")\n",
    "    # 引数の取得\n",
    "    arguments = json.loads(tool.function.arguments)\n",
    "    print(f\"引数：{arguments}\")\n",
    "\n",
    "    # 関数名で実行する関数を判断\n",
    "    if function_name == \"get_search_result\":\n",
    "        function_response = get_search_result(\n",
    "            keyword=arguments.get(\"keyword\"),\n",
    "            when=arguments.get(\"when\"),\n",
    "            unit=arguments.get(\"unit\"),\n",
    "        )\n",
    "    print(f\"関数の実行結果：{function_response}\")\n",
    "\n",
    "    # 関数の実行結果をmessagesに加えて言語モデルを呼出\n",
    "    response2 = client.chat.completions.create(\n",
    "        model=model_name,\n",
    "        messages=[\n",
    "            {\"role\": \"user\", \"content\": question},\n",
    "            response.choices[0].message,\n",
    "            {\n",
    "                \"tool_call_id\": tool.id,\n",
    "                \"role\": \"tool\",\n",
    "                \"content\": function_response,\n",
    "            },\n",
    "        ],\n",
    "    )\n",
    "\n",
    "    # 言語モデルからの回答を出力\n",
    "    print(response2.choices[0].message.content.strip())\n",
    "\n",
    "else:\n",
    "    # 関数呼び出しでなければ、単に言語モデルからの回答を出力\n",
    "    print(response.choices[0].message.content.strip())"
   ]
  },
  {
   "attachments": {},
   "cell_type": "markdown",
   "metadata": {},
   "source": [
    "# 複数のFunctionの切り替え"
   ]
  },
  {
   "cell_type": "code",
   "execution_count": 9,
   "metadata": {},
   "outputs": [],
   "source": [
    "import json\n",
    "import requests\n",
    "from bs4 import BeautifulSoup\n",
    "\n",
    "# ニュースを検索する関数\n",
    "def get_news(keyword, when, unit=\"d\"):\n",
    "    # WebサイトのURLを指定\n",
    "    url = f'https://news.google.com/search?q={keyword} when:{when}{unit}&hl=ja&gl=JP&ceid=JP:ja'\n",
    "\n",
    "    # Requestsを利用してWebページを取得する\n",
    "    response = requests.get(url)\n",
    "    html = response.text\n",
    "\n",
    "    # BeautifulSoupを利用してWebページを解析する\n",
    "    soup = BeautifulSoup(html, 'html.parser')\n",
    "\n",
    "    # soup.selectを利用して、ニュースのタイトルを取得する\n",
    "    elements = soup.select('article div div div a')\n",
    "\n",
    "    # ニュースのトップ3を配列に取得\n",
    "    news = []\n",
    "    for i, element in enumerate(elements):\n",
    "        news.append({\"title\": element.getText()})\n",
    "        if i>=2:\n",
    "            break\n",
    "\n",
    "    return json.dumps({\"news\": news})"
   ]
  },
  {
   "cell_type": "code",
   "execution_count": 10,
   "metadata": {},
   "outputs": [
    {
     "name": "stdout",
     "output_type": "stream",
     "text": [
      "--------------------\n",
      "弟は「型抜き」で散財。一方、姉は…？お祭りから見る姉弟の違いがおもしろい！“昭和の子どもあるある”を描くノスタルジック漫画\n",
      "--------------------\n",
      "リオ、ベネチア…「行ってみたい海外のお祭りランキング」TOP10 | サライ.jp｜小学館の雑誌『サライ』公式サイト\n",
      "--------------------\n",
      "お祭りを楽しむ“ゼイユ＆スグリ”のプレイマットも！『ポケカ』4月26日発売の「周辺グッズ」まとめ\n"
     ]
    }
   ],
   "source": [
    "# テスト用コード\n",
    "ret = get_news(\"お祭り\", 5)\n",
    "ret2 = json.loads(ret)\n",
    "for n in ret2[\"news\"]:\n",
    "    print(\"-\"*20)\n",
    "    print(n[\"title\"])"
   ]
  },
  {
   "cell_type": "code",
   "execution_count": 11,
   "metadata": {},
   "outputs": [],
   "source": [
    "from openai.types.chat import ChatCompletionToolParam\n",
    "\n",
    "# ツール定義\n",
    "tools=[\n",
    "    ChatCompletionToolParam({\n",
    "        \"type\": \"function\",\n",
    "        \"function\": {\n",
    "            \"name\": \"get_search_result\",\n",
    "            \"description\": \"指定したキーワードの検索結果を取得する\",\n",
    "            \"parameters\": {\n",
    "                \"type\": \"object\",\n",
    "                \"properties\": {\n",
    "                    \"keyword\": {\n",
    "                        \"type\": \"string\",\n",
    "                        \"description\": \"キーワード\",\n",
    "                    },\n",
    "                    \"when\": {\n",
    "                        \"type\": \"number\",\n",
    "                        \"description\": \"日付や時間の範囲\"\n",
    "                    },\n",
    "                    \"unit\": {\n",
    "                        \"type\": \"string\",\n",
    "                        \"enum\": [\"d\", \"h\", \"y\"]\n",
    "                    },\n",
    "                },\n",
    "                \"required\": [\"keyword\"],\n",
    "            },\n",
    "        },\n",
    "    }),\n",
    "    ChatCompletionToolParam({\n",
    "        \"type\": \"function\",\n",
    "        \"function\": {\n",
    "            \"name\": \"get_news\",\n",
    "            \"description\": \"指定したキーワードのニュースを取得する\",\n",
    "            \"parameters\": {\n",
    "                \"type\": \"object\",\n",
    "                \"properties\": {\n",
    "                    \"keyword\": {\n",
    "                        \"type\": \"string\",\n",
    "                        \"description\": \"キーワード\",\n",
    "                    },\n",
    "                    \"when\": {\n",
    "                        \"type\": \"number\",\n",
    "                        \"description\": \"日付や時間の範囲\"\n",
    "                    },\n",
    "                    \"unit\": {\n",
    "                        \"type\": \"string\",\n",
    "                        \"enum\": [\"d\", \"h\", \"y\"]\n",
    "                    },\n",
    "                },\n",
    "                \"required\": [\"keyword\"],\n",
    "            },\n",
    "        },\n",
    "    })\n",
    "]"
   ]
  },
  {
   "cell_type": "code",
   "execution_count": 12,
   "metadata": {},
   "outputs": [
    {
     "data": {
      "text/plain": [
       "ChatCompletion(id='chatcmpl-9I4JQB1X25izHt93O4vkMncQkt7pf', choices=[Choice(finish_reason='tool_calls', index=0, logprobs=None, message=ChatCompletionMessage(content=None, role='assistant', function_call=None, tool_calls=[ChatCompletionMessageToolCall(id='call_aqNnA8oVQjpTtL13stFEPUCD', function=Function(arguments='{\"keyword\":\"お祭り\",\"when\":5,\"unit\":\"d\"}', name='get_news'), type='function')]))], created=1714093508, model='gpt-3.5-turbo-0125', object='chat.completion', system_fingerprint='fp_3b956da36b', usage=CompletionUsage(completion_tokens=25, prompt_tokens=187, total_tokens=212))"
      ]
     },
     "execution_count": 12,
     "metadata": {},
     "output_type": "execute_result"
    }
   ],
   "source": [
    "# question = \"東京駅のイベントについて、最近1ヶ月以内の検索結果を教えてください\"\n",
    "question = \"お祭りに関する5日以内のニュースを教えてください\"\n",
    "\n",
    "response = client.chat.completions.create(\n",
    "    model=model_name,\n",
    "    messages=[\n",
    "        {\"role\": \"user\", \"content\": question},\n",
    "    ],\n",
    "    tools=tools,\n",
    "    tool_choice=\"auto\",\n",
    ")\n",
    "response"
   ]
  },
  {
   "cell_type": "code",
   "execution_count": 13,
   "metadata": {},
   "outputs": [
    {
     "data": {
      "text/plain": [
       "ChatCompletion(id='chatcmpl-9I4JQB1X25izHt93O4vkMncQkt7pf', choices=[Choice(finish_reason='tool_calls', index=0, logprobs=None, message=ChatCompletionMessage(content=None, role='assistant', function_call=None, tool_calls=[ChatCompletionMessageToolCall(id='call_aqNnA8oVQjpTtL13stFEPUCD', function=Function(arguments='{\"keyword\":\"お祭り\",\"when\":5,\"unit\":\"d\"}', name='get_news'), type='function')]))], created=1714093508, model='gpt-3.5-turbo-0125', object='chat.completion', system_fingerprint='fp_3b956da36b', usage=CompletionUsage(completion_tokens=25, prompt_tokens=187, total_tokens=212))"
      ]
     },
     "execution_count": 13,
     "metadata": {},
     "output_type": "execute_result"
    }
   ],
   "source": [
    "response"
   ]
  },
  {
   "cell_type": "code",
   "execution_count": 14,
   "metadata": {},
   "outputs": [
    {
     "data": {
      "text/plain": [
       "'{\"keyword\":\"お祭り\",\"when\":5,\"unit\":\"d\"}'"
      ]
     },
     "execution_count": 14,
     "metadata": {},
     "output_type": "execute_result"
    }
   ],
   "source": [
    "response.choices[0].message.tool_calls[0].function.arguments"
   ]
  },
  {
   "cell_type": "code",
   "execution_count": 15,
   "metadata": {},
   "outputs": [
    {
     "name": "stdout",
     "output_type": "stream",
     "text": [
      "以下はお祭りに関連する最新のニュースです：\n",
      "\n",
      "1. 「兄は『型抜き』で窃盗。一方、姉は…？お祭りから見る姉弟の違いがおもしろい！“昭和の子ども２人いる2人”を描くノスタルジック漫画\n",
      "2. リオ、ベネチア…「行ってみたい海外のお祭りランキング」TOP10 | サライ.jp｜小学館の雑誌『サライ』公式サイト\n",
      "3. お祭りを楽しむ“ハイ＆スグリ”のプレママコーデも！『ポケカ』4月26日発売の「周辺ガチボス」まとめ\n",
      "\n",
      "詳細情報や興味がある記事があれば、検索して詳細を確認してみてください。\n"
     ]
    }
   ],
   "source": [
    "# モデルがツール呼出と判断した\n",
    "if response.choices[0].message.tool_calls is not None:\n",
    "    # 言語モデルの回答からツールを取得\n",
    "    tool = response.choices[0].message.tool_calls[0]\n",
    "\n",
    "    # 関数名の取得\n",
    "    function_name = tool.function.name\n",
    "    # 引数の取得\n",
    "    arguments = json.loads(tool.function.arguments)\n",
    "\n",
    "    # 関数名で実行する関数を判断\n",
    "    if function_name == \"get_search_result\":\n",
    "        function_response = get_search_result(\n",
    "            keyword=arguments.get(\"keyword\"),\n",
    "            when=arguments.get(\"when\"),\n",
    "            unit=arguments.get(\"unit\"),\n",
    "        )\n",
    "    elif function_name == \"get_news\":\n",
    "        function_response = get_news(\n",
    "            keyword=arguments.get(\"keyword\"),\n",
    "            when=arguments.get(\"when\"),\n",
    "            unit=arguments.get(\"unit\"),\n",
    "        )\n",
    "\n",
    "    # 関数の実行結果をmessagesに加えて言語モデルを呼出\n",
    "    response2 = client.chat.completions.create(\n",
    "        model=model_name,\n",
    "        messages=[\n",
    "            {\"role\": \"user\", \"content\": question},\n",
    "            response.choices[0].message,\n",
    "            {\n",
    "                \"tool_call_id\": tool.id,\n",
    "                \"role\": \"tool\",\n",
    "                \"content\": function_response,\n",
    "            },\n",
    "        ],\n",
    "    )\n",
    "\n",
    "    # 言語モデルからの回答を出力\n",
    "    print(response2.choices[0].message.content.strip())\n",
    "\n",
    "else:\n",
    "    # 関数呼び出しでなければ、単に言語モデルからの回答を出力\n",
    "    print(response.choices[0].message.content.strip())"
   ]
  },
  {
   "cell_type": "code",
   "execution_count": null,
   "metadata": {},
   "outputs": [],
   "source": []
  }
 ],
 "metadata": {
  "kernelspec": {
   "display_name": ".venv",
   "language": "python",
   "name": "python3"
  },
  "language_info": {
   "codemirror_mode": {
    "name": "ipython",
    "version": 3
   },
   "file_extension": ".py",
   "mimetype": "text/x-python",
   "name": "python",
   "nbconvert_exporter": "python",
   "pygments_lexer": "ipython3",
   "version": "3.11.9"
  },
  "orig_nbformat": 4
 },
 "nbformat": 4,
 "nbformat_minor": 2
}
