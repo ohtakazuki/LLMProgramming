{
 "cells": [
  {
   "attachments": {},
   "cell_type": "markdown",
   "metadata": {},
   "source": [
    "# Function Call - Google Custom Search API 版\n",
    "\n",
    "# 準備"
   ]
  },
  {
   "cell_type": "code",
   "execution_count": 2,
   "metadata": {},
   "outputs": [],
   "source": [
    "# 必要なモジュールをインポート\n",
    "import os\n",
    "from dotenv import load_dotenv\n",
    "from openai import OpenAI\n",
    "from googleapiclient.discovery import build\n",
    "\n",
    "# 環境変数の取得\n",
    "load_dotenv()\n",
    "# OpenAI APIクライアントを生成\n",
    "client = OpenAI(api_key=os.environ['API_KEY'])\n",
    "\n",
    "# モデル名\n",
    "model_name = \"gpt-3.5-turbo-1106\"\n",
    "\n",
    "google_cse_id = os.environ['GOOGLE_CSE_ID']\n",
    "google_api_key = os.environ['GOOGLE_API_KEY']"
   ]
  },
  {
   "attachments": {},
   "cell_type": "markdown",
   "metadata": {},
   "source": [
    "# Google検索API"
   ]
  },
  {
   "cell_type": "code",
   "execution_count": 3,
   "metadata": {},
   "outputs": [],
   "source": [
    "import json\n",
    "\n",
    "# ニュースを返す関数の作成\n",
    "def get_search_result(keyword, when, unit=\"d\"):\n",
    "    service = build(\"customsearch\", \"v1\", developerKey=google_api_key)\n",
    "    result = service.cse().list(q=keyword, dateRestrict=f\"{when}{unit}\", cx=google_cse_id).execute()\n",
    "\n",
    "    # 検索結果のトップ3を配列に取得\n",
    "    result_list = []\n",
    "    for i, item in enumerate(result[\"items\"]):\n",
    "        result_list.append({\"title\": f'{item[\"title\"]} {item[\"snippet\"]}'})\n",
    "        if i>=2:\n",
    "            break\n",
    "\n",
    "    return json.dumps({\"result\": result_list})"
   ]
  },
  {
   "cell_type": "code",
   "execution_count": 4,
   "metadata": {},
   "outputs": [
    {
     "name": "stdout",
     "output_type": "stream",
     "text": [
      "--------------------\n",
      "東京駅周辺・丸の内でおすすめのイベント｜レッツエンジョイ東京 東京駅周辺・丸の内でおすすめのイベント · かごしま遊楽館 / 千代田区立日比谷図書文化館 / 都立東綾瀬公園 / 楠木正成像 / 綾瀬駅（東京メトロ） / 日比谷駅（東京メトロ ...\n",
      "--------------------\n",
      "東京キャラクターストリート特設 ｜ 東京駅一番街 東京キャラクターストリート内の「いちばんプラザ」やワゴンショップなど期間限定ショップやイベントも開催中！ いつも楽しいワクワクを集めてみなさまのお越しを ...\n",
      "--------------------\n",
      "東京駅(東京都)周辺のイベント｜ウォーカープラス 東京駅(東京都)周辺で開催されるイベント情報9件をお届けします。今日開催されているイベントはもちろん、週末の「どこ行こう」に役立つ情報が満載！\n"
     ]
    }
   ],
   "source": [
    "# テスト用コード\n",
    "ret = get_search_result(\"東京駅のイベント\", 1, \"m\")\n",
    "ret2 = json.loads(ret)\n",
    "for n in ret2[\"result\"]:\n",
    "    print(\"-\"*20)\n",
    "    print(n[\"title\"])"
   ]
  },
  {
   "cell_type": "code",
   "execution_count": 5,
   "metadata": {},
   "outputs": [],
   "source": [
    "from openai.types.chat import ChatCompletionToolParam\n",
    "\n",
    "# ツール定義\n",
    "tools=[\n",
    "    ChatCompletionToolParam({\n",
    "        \"type\": \"function\",\n",
    "        \"function\": {\n",
    "            \"name\": \"get_search_result\",\n",
    "            \"description\": \"指定したキーワードの検索結果を取得する\",\n",
    "            \"parameters\": {\n",
    "                \"type\": \"object\",\n",
    "                \"properties\": {\n",
    "                    \"keyword\": {\n",
    "                        \"type\": \"string\",\n",
    "                        \"description\": \"キーワード\",\n",
    "                    },\n",
    "                    \"when\": {\n",
    "                        \"type\": \"number\",\n",
    "                        \"description\": \"日付や時間の範囲\"\n",
    "                    },\n",
    "                    \"unit\": {\n",
    "                        \"type\": \"string\",\n",
    "                        \"enum\": [\"d\", \"h\", \"y\"]\n",
    "                    },\n",
    "                },\n",
    "                \"required\": [\"keyword\"],\n",
    "            },\n",
    "        },\n",
    "    })\n",
    "]"
   ]
  },
  {
   "cell_type": "code",
   "execution_count": 6,
   "metadata": {},
   "outputs": [],
   "source": [
    "question = \"東京駅のイベントについて、最近1ヶ月以内の検索結果を教えてください\"\n",
    "\n",
    "response = client.chat.completions.create(\n",
    "    model=model_name,\n",
    "    messages=[\n",
    "        {\"role\": \"user\", \"content\": question},\n",
    "    ],\n",
    "    tools=tools,\n",
    "    tool_choice=\"auto\",\n",
    ")"
   ]
  },
  {
   "cell_type": "code",
   "execution_count": 7,
   "metadata": {},
   "outputs": [
    {
     "data": {
      "text/plain": [
       "ChatCompletion(id='chatcmpl-8eFyk8dTZMTe5nKRQInFaO1lfkSgW', choices=[Choice(finish_reason='tool_calls', index=0, logprobs=None, message=ChatCompletionMessage(content=None, role='assistant', function_call=None, tool_calls=[ChatCompletionMessageToolCall(id='call_d6wBsnCxvQP412p0GZf5fweu', function=Function(arguments='{\"keyword\":\"東京駅 イベント\",\"when\":1,\"unit\":\"m\"}', name='get_search_result'), type='function')]))], created=1704605234, model='gpt-3.5-turbo-1106', object='chat.completion', system_fingerprint='fp_cbe4fa03fe', usage=CompletionUsage(completion_tokens=33, prompt_tokens=135, total_tokens=168))"
      ]
     },
     "execution_count": 7,
     "metadata": {},
     "output_type": "execute_result"
    }
   ],
   "source": [
    "response"
   ]
  },
  {
   "cell_type": "code",
   "execution_count": 8,
   "metadata": {},
   "outputs": [
    {
     "data": {
      "text/plain": [
       "'{\"keyword\":\"東京駅 イベント\",\"when\":1,\"unit\":\"m\"}'"
      ]
     },
     "execution_count": 8,
     "metadata": {},
     "output_type": "execute_result"
    }
   ],
   "source": [
    "response.choices[0].message.tool_calls[0].function.arguments"
   ]
  },
  {
   "cell_type": "code",
   "execution_count": 7,
   "metadata": {},
   "outputs": [
    {
     "name": "stdout",
     "output_type": "stream",
     "text": [
      "関数名：get_search_result\n",
      "引数：{'keyword': '東京駅 イベント', 'when': 1, 'unit': 'm'}\n",
      "関数の実行結果：{\"result\": [{\"title\": \"\\u6771\\u4eac\\u99c5\\u5468\\u8fba\\u30fb\\u4e38\\u306e\\u5185\\u3067\\u304a\\u3059\\u3059\\u3081\\u306e\\u30a4\\u30d9\\u30f3\\u30c8\\uff5c\\u30ec\\u30c3\\u30c4\\u30a8\\u30f3\\u30b8\\u30e7\\u30a4\\u6771\\u4eac \\u6771\\u4eac\\u99c5\\u5468\\u8fba\\u30fb\\u4e38\\u306e\\u5185\\u3067\\u304a\\u3059\\u3059\\u3081\\u306e\\u30a4\\u30d9\\u30f3\\u30c8 \\u00b7 \\u304b\\u3054\\u3057\\u307e\\u904a\\u697d\\u9928 / \\u5343\\u4ee3\\u7530\\u533a\\u7acb\\u65e5\\u6bd4\\u8c37\\u56f3\\u66f8\\u6587\\u5316\\u9928 / \\u90fd\\u7acb\\u6771\\u7dbe\\u702c\\u516c\\u5712 / \\u6960\\u6728\\u6b63\\u6210\\u50cf / \\u7dbe\\u702c\\u99c5\\uff08\\u6771\\u4eac\\u30e1\\u30c8\\u30ed\\uff09 / \\u65e5\\u6bd4\\u8c37\\u99c5\\uff08\\u6771\\u4eac\\u30e1\\u30c8\\u30ed\\u00a0...\"}, {\"title\": \"\\u30a4\\u30d9\\u30f3\\u30c8&\\u30cb\\u30e5\\u30fc\\u30b9 \\uff5c \\u6771\\u4eac\\u99c5\\u4e00\\u756a\\u8857 \\u30a4\\u30d9\\u30f3\\u30c8&\\u30cb\\u30e5\\u30fc\\u30b9 \\u00b7 New! \\u30a6\\u30eb\\u30c8\\u30e9\\u30de\\u30f3\\u30ef\\u30fc\\u30eb\\u30c9M78 \\u30b9\\u30da\\u30b7\\u30e3\\u30eb\\u7f36\\u30d0\\u30c3\\u30b8\\u30d7\\u30ec\\u30bc\\u30f3\\u30c8\\u30ad\\u30e3\\u30da\\u30fc\\u30f3 \\u00b7 New! \\u00b7 MINECRAFT POP UP STORE \\u00b7 \\u5c71\\u30ce\\u30c1\\u30fc\\u30ba \\u00b7 \\u300c\\u5200\\u5263\\u4e71\\u821e\\u300d POPUP SHOP\\u00a0...\"}, {\"title\": \"\\u5927\\u4e38\\u6771\\u4eac\\u5e97 \\u3008\\u6771\\u4eac\\u3070\\u306a\\u5948STUDIO\\u30094\\u67083\\u65e5(\\u6c34)\\u304b\\u3089\\u306e\\u958b\\u5e97\\u524d\\u304a\\u4e26\\u3073\\u5217\\u3054\\u6848\\u5185 \\u00b7 \\u6771\\u4eac\\u99c5\\u516b\\u91cd\\u6d32\\u30d1\\u30fc\\u30ad\\u30f3\\u30b0\\u897f\\u99d0\\u8eca\\u5834\\u30fb\\u6771\\u99d0\\u8eca\\u5834\\u306b\\u304a\\u3051\\u308b\\u304a\\u8cb7\\u3044\\u3042\\u3052\\u30b5\\u30fc\\u30d3\\u30b9\\u306e\\u3054\\u6848\\u5185 \\u00b7 \\u5927\\u4e38\\u30fb\\u677e\\u5742\\u5c4b\\u30a2\\u30d7\\u30ea\\u00a0...\"}]}\n",
      "最近1ヶ月以内の東京駅周辺のイベントについての検索結果は以下の通りです。\n",
      "\n",
      "1. 東京駅周辺で開催されるイベントの情報が掲載されています。 \n",
      "2. 東京駅一番街にて、ウルトラマンワールドM78、スペシャル缶バッジプレゼントキャンペーン、MINECRAFT POP UP STORE、山の茶屋などのイベントが開催されています。 \n",
      "3. 東京駅八重洲口や東京駅新幹線プラットホームでのお買い物をご案内するお知らせです。\n"
     ]
    }
   ],
   "source": [
    "# モデルがツール呼出と判断した\n",
    "if response.choices[0].message.tool_calls is not None:\n",
    "    # 言語モデルの回答からツールを取得\n",
    "    tool = response.choices[0].message.tool_calls[0]\n",
    "\n",
    "    # 関数名の取得\n",
    "    function_name = tool.function.name\n",
    "    print(f\"関数名：{function_name}\")\n",
    "    # 引数の取得\n",
    "    arguments = json.loads(tool.function.arguments)\n",
    "    print(f\"引数：{arguments}\")\n",
    "\n",
    "    # 関数名で実行する関数を判断\n",
    "    if function_name == \"get_search_result\":\n",
    "        function_response = get_search_result(\n",
    "            keyword=arguments.get(\"keyword\"),\n",
    "            when=arguments.get(\"when\"),\n",
    "            unit=arguments.get(\"unit\"),\n",
    "        )\n",
    "    print(f\"関数の実行結果：{function_response}\")\n",
    "\n",
    "    # 関数の実行結果をmessagesに加えて言語モデルを呼出\n",
    "    response2 = client.chat.completions.create(\n",
    "        model=model_name,\n",
    "        messages=[\n",
    "            {\"role\": \"user\", \"content\": question},\n",
    "            response.choices[0].message,\n",
    "            {\n",
    "                \"tool_call_id\": tool.id,\n",
    "                \"role\": \"tool\",\n",
    "                \"content\": function_response,\n",
    "            },\n",
    "        ],\n",
    "    )\n",
    "\n",
    "    # 言語モデルからの回答を出力\n",
    "    print(response2.choices[0].message.content.strip())\n",
    "\n",
    "else:\n",
    "    # 関数呼び出しでなければ、単に言語モデルからの回答を出力\n",
    "    print(response.choices[0].message.content.strip())"
   ]
  },
  {
   "attachments": {},
   "cell_type": "markdown",
   "metadata": {},
   "source": [
    "# 複数のFunctionの切り替え"
   ]
  },
  {
   "cell_type": "code",
   "execution_count": 8,
   "metadata": {},
   "outputs": [],
   "source": [
    "import json\n",
    "import requests\n",
    "from bs4 import BeautifulSoup\n",
    "\n",
    "# ニュースを検索する関数\n",
    "def get_news(keyword, when, unit=\"d\"):\n",
    "    # WebサイトのURLを指定\n",
    "    url = f'https://news.google.com/search?q={keyword} when:{when}{unit}&hl=ja&gl=JP&ceid=JP:ja'\n",
    "\n",
    "    # Requestsを利用してWebページを取得する\n",
    "    response = requests.get(url)\n",
    "    html = response.text\n",
    "\n",
    "    # BeautifulSoupを利用してWebページを解析する\n",
    "    soup = BeautifulSoup(html, 'html.parser')\n",
    "\n",
    "    # soup.selectを利用して、ニュースのタイトルを取得する\n",
    "    elements = soup.select('article div div div a')\n",
    "\n",
    "    # ニュースのトップ3を配列に取得\n",
    "    news = []\n",
    "    for i, element in enumerate(elements):\n",
    "        news.append({\"title\": element.getText()})\n",
    "        if i>=2:\n",
    "            break\n",
    "\n",
    "    return json.dumps({\"news\": news})"
   ]
  },
  {
   "cell_type": "code",
   "execution_count": 9,
   "metadata": {},
   "outputs": [
    {
     "name": "stdout",
     "output_type": "stream",
     "text": [
      "--------------------\n",
      "「Happy Holi！」NYに春の訪れを告げるお祭り\n",
      "--------------------\n",
      "祭りで企業や商品をPR｜株式会社オマツリジャパン\n",
      "--------------------\n",
      "ふれあい中央 カーニバル（神戸市中央区のお祭り） - はぎわら泰三（ハギワラタイゾウ） ｜ 選挙ドットコム\n"
     ]
    }
   ],
   "source": [
    "# テスト用コード\n",
    "ret = get_news(\"お祭り\", 5)\n",
    "ret2 = json.loads(ret)\n",
    "for n in ret2[\"news\"]:\n",
    "    print(\"-\"*20)\n",
    "    print(n[\"title\"])"
   ]
  },
  {
   "cell_type": "code",
   "execution_count": 10,
   "metadata": {},
   "outputs": [],
   "source": [
    "from openai.types.chat import ChatCompletionToolParam\n",
    "\n",
    "# ツール定義\n",
    "tools=[\n",
    "    ChatCompletionToolParam({\n",
    "        \"type\": \"function\",\n",
    "        \"function\": {\n",
    "            \"name\": \"get_search_result\",\n",
    "            \"description\": \"指定したキーワードの検索結果を取得する\",\n",
    "            \"parameters\": {\n",
    "                \"type\": \"object\",\n",
    "                \"properties\": {\n",
    "                    \"keyword\": {\n",
    "                        \"type\": \"string\",\n",
    "                        \"description\": \"キーワード\",\n",
    "                    },\n",
    "                    \"when\": {\n",
    "                        \"type\": \"number\",\n",
    "                        \"description\": \"日付や時間の範囲\"\n",
    "                    },\n",
    "                    \"unit\": {\n",
    "                        \"type\": \"string\",\n",
    "                        \"enum\": [\"d\", \"h\", \"y\"]\n",
    "                    },\n",
    "                },\n",
    "                \"required\": [\"keyword\"],\n",
    "            },\n",
    "        },\n",
    "    }),\n",
    "    ChatCompletionToolParam({\n",
    "        \"type\": \"function\",\n",
    "        \"function\": {\n",
    "            \"name\": \"get_news\",\n",
    "            \"description\": \"指定したキーワードのニュースを取得する\",\n",
    "            \"parameters\": {\n",
    "                \"type\": \"object\",\n",
    "                \"properties\": {\n",
    "                    \"keyword\": {\n",
    "                        \"type\": \"string\",\n",
    "                        \"description\": \"キーワード\",\n",
    "                    },\n",
    "                    \"when\": {\n",
    "                        \"type\": \"number\",\n",
    "                        \"description\": \"日付や時間の範囲\"\n",
    "                    },\n",
    "                    \"unit\": {\n",
    "                        \"type\": \"string\",\n",
    "                        \"enum\": [\"d\", \"h\", \"y\"]\n",
    "                    },\n",
    "                },\n",
    "                \"required\": [\"keyword\"],\n",
    "            },\n",
    "        },\n",
    "    })\n",
    "]"
   ]
  },
  {
   "cell_type": "code",
   "execution_count": 12,
   "metadata": {},
   "outputs": [
    {
     "data": {
      "text/plain": [
       "ChatCompletion(id='chatcmpl-9GyoKYwwKiOqjJfoRCA6Ji7pfGaeH', choices=[Choice(finish_reason='tool_calls', index=0, logprobs=None, message=ChatCompletionMessage(content=None, role='assistant', function_call=None, tool_calls=[ChatCompletionMessageToolCall(id='call_CQhEIvDHXxffGgzDF8fObvLy', function=Function(arguments='{\"keyword\":\"お祭り\",\"when\":5,\"unit\":\"d\"}', name='get_news'), type='function')]))], created=1713834032, model='gpt-3.5-turbo-1106', object='chat.completion', system_fingerprint='fp_77a673219d', usage=CompletionUsage(completion_tokens=25, prompt_tokens=187, total_tokens=212))"
      ]
     },
     "execution_count": 12,
     "metadata": {},
     "output_type": "execute_result"
    }
   ],
   "source": [
    "# question = \"東京駅のイベントについて、最近1ヶ月以内の検索結果を教えてください\"\n",
    "question = \"お祭りに関する5日以内のニュースを教えてください\"\n",
    "\n",
    "response = client.chat.completions.create(\n",
    "    model=model_name,\n",
    "    messages=[\n",
    "        {\"role\": \"user\", \"content\": question},\n",
    "    ],\n",
    "    tools=tools,\n",
    "    tool_choice=\"auto\",\n",
    ")\n",
    "response"
   ]
  },
  {
   "cell_type": "code",
   "execution_count": 22,
   "metadata": {},
   "outputs": [
    {
     "data": {
      "text/plain": [
       "ChatCompletion(id='chatcmpl-8eGMPkDTObpmHLxFg4GXO5jLU9X0n', choices=[Choice(finish_reason='tool_calls', index=0, logprobs=None, message=ChatCompletionMessage(content=None, role='assistant', function_call=None, tool_calls=[ChatCompletionMessageToolCall(id='call_isGvMM3hSd4SIR445nLLPmyf', function=Function(arguments='{\"keyword\":\"お祭り\",\"when\":5,\"unit\":\"d\"}', name='get_news'), type='function')]))], created=1704606701, model='gpt-3.5-turbo-1106', object='chat.completion', system_fingerprint='fp_cbe4fa03fe', usage=CompletionUsage(completion_tokens=25, prompt_tokens=187, total_tokens=212))"
      ]
     },
     "execution_count": 22,
     "metadata": {},
     "output_type": "execute_result"
    }
   ],
   "source": [
    "response"
   ]
  },
  {
   "cell_type": "code",
   "execution_count": 23,
   "metadata": {},
   "outputs": [
    {
     "data": {
      "text/plain": [
       "'{\"keyword\":\"お祭り\",\"when\":5,\"unit\":\"d\"}'"
      ]
     },
     "execution_count": 23,
     "metadata": {},
     "output_type": "execute_result"
    }
   ],
   "source": [
    "response.choices[0].message.tool_calls[0].function.arguments"
   ]
  },
  {
   "cell_type": "code",
   "execution_count": 14,
   "metadata": {},
   "outputs": [
    {
     "name": "stdout",
     "output_type": "stream",
     "text": [
      "最新のお祭りに関するニュースは以下の通りです。\n",
      "\n",
      "1. 「Happy Holi！」NYに春の訪れを告げるお祭り\n",
      "2. お祭りで企業や商品をPR｜株式会社オマツリジャパン\n",
      "3. 仏街中央 カーニバル（神戸市中央区のお祭り） - はぎわ和三（ハギワラタイゾウ）｜選挙ドットコム\n"
     ]
    }
   ],
   "source": [
    "# モデルがツール呼出と判断した\n",
    "if response.choices[0].message.tool_calls is not None:\n",
    "    # 言語モデルの回答からツールを取得\n",
    "    tool = response.choices[0].message.tool_calls[0]\n",
    "\n",
    "    # 関数名の取得\n",
    "    function_name = tool.function.name\n",
    "    # 引数の取得\n",
    "    arguments = json.loads(tool.function.arguments)\n",
    "\n",
    "    # 関数名で実行する関数を判断\n",
    "    if function_name == \"get_search_result\":\n",
    "        function_response = get_search_result(\n",
    "            keyword=arguments.get(\"keyword\"),\n",
    "            when=arguments.get(\"when\"),\n",
    "            unit=arguments.get(\"unit\"),\n",
    "        )\n",
    "    elif function_name == \"get_news\":\n",
    "        function_response = get_news(\n",
    "            keyword=arguments.get(\"keyword\"),\n",
    "            when=arguments.get(\"when\"),\n",
    "            unit=arguments.get(\"unit\"),\n",
    "        )\n",
    "\n",
    "    # 関数の実行結果をmessagesに加えて言語モデルを呼出\n",
    "    response2 = client.chat.completions.create(\n",
    "        model=model_name,\n",
    "        messages=[\n",
    "            {\"role\": \"user\", \"content\": question},\n",
    "            response.choices[0].message,\n",
    "            {\n",
    "                \"tool_call_id\": tool.id,\n",
    "                \"role\": \"tool\",\n",
    "                \"content\": function_response,\n",
    "            },\n",
    "        ],\n",
    "    )\n",
    "\n",
    "    # 言語モデルからの回答を出力\n",
    "    print(response2.choices[0].message.content.strip())\n",
    "\n",
    "else:\n",
    "    # 関数呼び出しでなければ、単に言語モデルからの回答を出力\n",
    "    print(response.choices[0].message.content.strip())"
   ]
  },
  {
   "cell_type": "code",
   "execution_count": null,
   "metadata": {},
   "outputs": [],
   "source": []
  }
 ],
 "metadata": {
  "kernelspec": {
   "display_name": ".venv",
   "language": "python",
   "name": "python3"
  },
  "language_info": {
   "codemirror_mode": {
    "name": "ipython",
    "version": 3
   },
   "file_extension": ".py",
   "mimetype": "text/x-python",
   "name": "python",
   "nbconvert_exporter": "python",
   "pygments_lexer": "ipython3",
   "version": "3.11.7"
  },
  "orig_nbformat": 4
 },
 "nbformat": 4,
 "nbformat_minor": 2
}
