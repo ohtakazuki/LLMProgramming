{
 "cells": [
  {
   "attachments": {},
   "cell_type": "markdown",
   "metadata": {},
   "source": [
    "# Function Call - Google Custom Search API 版\n",
    "\n",
    "# 準備"
   ]
  },
  {
   "cell_type": "code",
   "execution_count": 2,
   "metadata": {},
   "outputs": [],
   "source": [
    "# 必要なモジュールをインポート\n",
    "import os\n",
    "from dotenv import load_dotenv\n",
    "import openai\n",
    "from googleapiclient.discovery import build\n",
    "\n",
    "# 環境変数の読み込み\n",
    "load_dotenv()\n",
    "openai.api_key = os.environ['API_KEY']\n",
    "model_name = \"gpt-3.5-turbo\"\n",
    "google_cse_id = os.environ['GOOGLE_CSE_ID']\n",
    "google_api_key = os.environ['GOOGLE_API_KEY']"
   ]
  },
  {
   "attachments": {},
   "cell_type": "markdown",
   "metadata": {},
   "source": [
    "# Google検索API"
   ]
  },
  {
   "cell_type": "code",
   "execution_count": 40,
   "metadata": {},
   "outputs": [],
   "source": [
    "import json\n",
    "\n",
    "# ニュースを返す関数の作成\n",
    "def get_search_result(keyword, when, unit=\"d\"):\n",
    "    service = build(\"customsearch\", \"v1\", developerKey=google_api_key)\n",
    "    result = service.cse().list(q=keyword, dateRestrict=f\"{when}{unit}\", cx=google_cse_id).execute()\n",
    "\n",
    "    # 検索結果のトップ3を配列に取得\n",
    "    result_list = []\n",
    "    for i, item in enumerate(result[\"items\"]):\n",
    "        result_list.append({\"title\": f'{item[\"title\"]} {item[\"snippet\"]}'})\n",
    "        if i>=2:\n",
    "            break\n",
    "\n",
    "    return json.dumps({\"result\": result_list})"
   ]
  },
  {
   "cell_type": "code",
   "execution_count": 42,
   "metadata": {},
   "outputs": [
    {
     "name": "stdout",
     "output_type": "stream",
     "text": [
      "--------------------\n",
      "東京駅周辺・丸の内でおすすめのイベント｜レッツエンジョイ東京 東京丸の内の丸ビルレストラン7店舗にて「＜ニコラ・フィアット＞ 七夕レストランフェア」が開催されます。 2023/07/01(土) ～ 07/15(土); 丸ビル. 東京駅.\n",
      "--------------------\n",
      "東京駅(東京都)周辺のイベント｜ウォーカープラス 東京駅(東京都)周辺で開催されるイベント情報15件をお届けします。今日開催されているイベントはもちろん、週末の「どこ行こう」に役立つ情報が満載！\n",
      "--------------------\n",
      "東京キャラクターストリート特設 ｜ 東京駅一番街 ストリート内のイベントスペース「いちばんプラザ」では、期間限定のキャラクターショップやイベントを実施しており、いつでも新鮮さを感じていただけます。\n"
     ]
    }
   ],
   "source": [
    "# テスト用コード\n",
    "ret = get_search_result(\"東京駅のイベント\", 1, \"m\")\n",
    "ret2 = json.loads(ret)\n",
    "for n in ret2[\"result\"]:\n",
    "    print(\"-\"*20)\n",
    "    print(n[\"title\"])"
   ]
  },
  {
   "cell_type": "code",
   "execution_count": 44,
   "metadata": {},
   "outputs": [],
   "source": [
    "# 関数情報の作成\n",
    "functions=[\n",
    "    {\n",
    "        \"name\": \"get_search_result\",\n",
    "        \"description\": \"指定したキーワードの検索結果を取得する\",\n",
    "        \"parameters\": {\n",
    "            \"type\": \"object\",\n",
    "            \"properties\": {\n",
    "                \"keyword\": {\n",
    "                    \"type\": \"string\",\n",
    "                    \"description\": \"キーワード\",\n",
    "                },\n",
    "                \"when\": {\n",
    "                    \"type\": \"number\",\n",
    "                    \"description\": \"日付や時間の範囲\"\n",
    "                },\n",
    "                \"unit\": {\n",
    "                    \"type\": \"string\",\n",
    "                    \"enum\": [\"d\", \"h\", \"y\"]\n",
    "                },\n",
    "            },\n",
    "            \"required\": [\"keyword\"],\n",
    "        },\n",
    "    }\n",
    "]"
   ]
  },
  {
   "cell_type": "code",
   "execution_count": 45,
   "metadata": {},
   "outputs": [],
   "source": [
    "question = \"東京駅のイベントについて、最近1ヶ月以内の検索結果を教えてください\"\n",
    "\n",
    "response = openai.ChatCompletion.create(\n",
    "    model=model_name,\n",
    "    messages=[\n",
    "        {\"role\": \"user\", \"content\": question},\n",
    "    ],\n",
    "    functions=functions,\n",
    "    function_call=\"auto\",\n",
    ")"
   ]
  },
  {
   "cell_type": "code",
   "execution_count": 46,
   "metadata": {},
   "outputs": [
    {
     "data": {
      "text/plain": [
       "<OpenAIObject chat.completion id=chatcmpl-7XgQ037HnhnlacPi170gKf9VRdK5t at 0x2115554af30> JSON: {\n",
       "  \"id\": \"chatcmpl-7XgQ037HnhnlacPi170gKf9VRdK5t\",\n",
       "  \"object\": \"chat.completion\",\n",
       "  \"created\": 1688262236,\n",
       "  \"model\": \"gpt-3.5-turbo-0613\",\n",
       "  \"choices\": [\n",
       "    {\n",
       "      \"index\": 0,\n",
       "      \"message\": {\n",
       "        \"role\": \"assistant\",\n",
       "        \"content\": null,\n",
       "        \"function_call\": {\n",
       "          \"name\": \"get_search_result\",\n",
       "          \"arguments\": \"{\\n  \\\"keyword\\\": \\\"\\u6771\\u4eac\\u99c5\\u306e\\u30a4\\u30d9\\u30f3\\u30c8\\\",\\n  \\\"when\\\": 1,\\n  \\\"unit\\\": \\\"m\\\"\\n}\"\n",
       "        }\n",
       "      },\n",
       "      \"finish_reason\": \"function_call\"\n",
       "    }\n",
       "  ],\n",
       "  \"usage\": {\n",
       "    \"prompt_tokens\": 135,\n",
       "    \"completion_tokens\": 40,\n",
       "    \"total_tokens\": 175\n",
       "  }\n",
       "}"
      ]
     },
     "execution_count": 46,
     "metadata": {},
     "output_type": "execute_result"
    }
   ],
   "source": [
    "response"
   ]
  },
  {
   "cell_type": "code",
   "execution_count": 47,
   "metadata": {},
   "outputs": [
    {
     "data": {
      "text/plain": [
       "'{\\n  \"keyword\": \"東京駅のイベント\",\\n  \"when\": 1,\\n  \"unit\": \"m\"\\n}'"
      ]
     },
     "execution_count": 47,
     "metadata": {},
     "output_type": "execute_result"
    }
   ],
   "source": [
    "response[\"choices\"][0][\"message\"][\"function_call\"][\"arguments\"]"
   ]
  },
  {
   "cell_type": "code",
   "execution_count": 48,
   "metadata": {},
   "outputs": [
    {
     "name": "stdout",
     "output_type": "stream",
     "text": [
      "関数名：get_search_result\n",
      "引数：{'keyword': '東京駅のイベント', 'when': 1, 'unit': 'm'}\n",
      "関数の実行結果：{\"result\": [{\"title\": \"\\u6771\\u4eac\\u99c5\\u5468\\u8fba\\u30fb\\u4e38\\u306e\\u5185\\u3067\\u304a\\u3059\\u3059\\u3081\\u306e\\u30a4\\u30d9\\u30f3\\u30c8\\uff5c\\u30ec\\u30c3\\u30c4\\u30a8\\u30f3\\u30b8\\u30e7\\u30a4\\u6771\\u4eac \\u6771\\u4eac\\u4e38\\u306e\\u5185\\u306e\\u4e38\\u30d3\\u30eb\\u30ec\\u30b9\\u30c8\\u30e9\\u30f37\\u5e97\\u8217\\u306b\\u3066\\u300c\\uff1c\\u30cb\\u30b3\\u30e9\\u30fb\\u30d5\\u30a3\\u30a2\\u30c3\\u30c8\\uff1e \\u4e03\\u5915\\u30ec\\u30b9\\u30c8\\u30e9\\u30f3\\u30d5\\u30a7\\u30a2\\u300d\\u304c\\u958b\\u50ac\\u3055\\u308c\\u307e\\u3059\\u3002 2023/07/01(\\u571f) \\uff5e 07/15(\\u571f); \\u4e38\\u30d3\\u30eb. \\u6771\\u4eac\\u99c5.\"}, {\"title\": \"\\u6771\\u4eac\\u99c5(\\u6771\\u4eac\\u90fd)\\u5468\\u8fba\\u306e\\u30a4\\u30d9\\u30f3\\u30c8\\uff5c\\u30a6\\u30a9\\u30fc\\u30ab\\u30fc\\u30d7\\u30e9\\u30b9 \\u6771\\u4eac\\u99c5(\\u6771\\u4eac\\u90fd)\\u5468\\u8fba\\u3067\\u958b\\u50ac\\u3055\\u308c\\u308b\\u30a4\\u30d9\\u30f3\\u30c8\\u60c5\\u583115\\u4ef6\\u3092\\u304a\\u5c4a\\u3051\\u3057\\u307e\\u3059\\u3002\\u4eca\\u65e5\\u958b\\u50ac\\u3055\\u308c\\u3066\\u3044\\u308b\\u30a4\\u30d9\\u30f3\\u30c8\\u306f\\u3082\\u3061\\u308d\\u3093\\u3001\\u9031\\u672b\\u306e\\u300c\\u3069\\u3053\\u884c\\u3053\\u3046\\u300d\\u306b\\u5f79\\u7acb\\u3064\\u60c5\\u5831\\u304c\\u6e80\\u8f09\\uff01\"}, {\"title\": \"\\u6771\\u4eac\\u30ad\\u30e3\\u30e9\\u30af\\u30bf\\u30fc\\u30b9\\u30c8\\u30ea\\u30fc\\u30c8\\u7279\\u8a2d \\uff5c \\u6771\\u4eac\\u99c5\\u4e00\\u756a\\u8857 \\u30b9\\u30c8\\u30ea\\u30fc\\u30c8\\u5185\\u306e\\u30a4\\u30d9\\u30f3\\u30c8\\u30b9\\u30da\\u30fc\\u30b9\\u300c\\u3044\\u3061\\u3070\\u3093\\u30d7\\u30e9\\u30b6\\u300d\\u3067\\u306f\\u3001\\u671f\\u9593\\u9650\\u5b9a\\u306e\\u30ad\\u30e3\\u30e9\\u30af\\u30bf\\u30fc\\u30b7\\u30e7\\u30c3\\u30d7\\u3084\\u30a4\\u30d9\\u30f3\\u30c8\\u3092\\u5b9f\\u65bd\\u3057\\u3066\\u304a\\u308a\\u3001\\u3044\\u3064\\u3067\\u3082\\u65b0\\u9bae\\u3055\\u3092\\u611f\\u3058\\u3066\\u3044\\u305f\\u3060\\u3051\\u307e\\u3059\\u3002\"}]}\n",
      "最近1ヶ月以内の東京駅のイベント検索結果は以下の通りです。\n",
      "\n",
      "1. ウォーカーエンジョイ東京 東京駅周辺の駒ビルエスト・国際フォーラムにて、＜ニコラ・フィアント＞ 七五レストランフェアが開催されます。期間：2023/07/01(土) ～ 07/15(土)、場所：駒ビル、東京駅。\n",
      "\n",
      "2. ウォーカーカフィーストリート 東京駅(東京都)周辺で開催されるイベント情報15件をお届けします。今日開催されているイベントはもちろん、週末の「どこ行こう」に即応する情報が満載！\n",
      "\n",
      "3. 東京キャラクターストリート ｜ 東京駅一番街ストリート内のイベントスペース「いちごちょっぴり」では、期間限定のキャラクターショップやイベントを実施し、いつでも新鮮さを感じていただけるようになっています。\n",
      "\n",
      "以上が最近の東京駅のイベント検索結果です。\n"
     ]
    }
   ],
   "source": [
    "# 言語モデルからの回答メッセージを取得\n",
    "message = response[\"choices\"][0][\"message\"]\n",
    "\n",
    "# モデルが関数呼出と判断した\n",
    "if message.get(\"function_call\"):\n",
    "    # 関数名の取得\n",
    "    function_name = message[\"function_call\"][\"name\"]\n",
    "    print(f\"関数名：{function_name}\")\n",
    "    # 引数の取得\n",
    "    arguments = json.loads(message[\"function_call\"][\"arguments\"])\n",
    "    print(f\"引数：{arguments}\")\n",
    "\n",
    "    # 関数名で実行する関数を判断\n",
    "    if function_name == \"get_search_result\":\n",
    "        function_response = get_search_result(\n",
    "            keyword=arguments.get(\"keyword\"),\n",
    "            when=arguments.get(\"when\"),\n",
    "            unit=arguments.get(\"unit\"),\n",
    "        )\n",
    "    print(f\"関数の実行結果：{function_response}\")\n",
    "\n",
    "    # 関数の実行結果をmessagesに加えて言語モデルを呼出\n",
    "    response2 = openai.ChatCompletion.create(\n",
    "        model=model_name,\n",
    "        messages=[\n",
    "            {\"role\": \"user\", \"content\": question},\n",
    "            message,\n",
    "            {\n",
    "                \"role\": \"function\",\n",
    "                \"name\": function_name,\n",
    "                \"content\": function_response,\n",
    "            },\n",
    "        ],\n",
    "    )\n",
    "\n",
    "    # 言語モデルからの回答を出力\n",
    "    print(response2.choices[0][\"message\"][\"content\"].strip())\n",
    "\n",
    "else:\n",
    "    # 関数呼び出しでなければ、単に言語モデルからの回答を出力\n",
    "    print(response.choices[0][\"message\"][\"content\"].strip())"
   ]
  },
  {
   "attachments": {},
   "cell_type": "markdown",
   "metadata": {},
   "source": [
    "# 複数のFunctionの切り替え"
   ]
  },
  {
   "cell_type": "code",
   "execution_count": 56,
   "metadata": {},
   "outputs": [],
   "source": [
    "import json\n",
    "import requests\n",
    "from bs4 import BeautifulSoup\n",
    "\n",
    "# ニュースを検索する関数\n",
    "def get_news(keyword, when, unit=\"d\"):\n",
    "    # WebサイトのURLを指定\n",
    "    url = f'https://news.google.com/search?q={keyword} when:{when}{unit}&hl=ja&gl=JP&ceid=JP:ja'\n",
    "\n",
    "    # Requestsを利用してWebページを取得する\n",
    "    response = requests.get(url)\n",
    "    html = response.text\n",
    "\n",
    "    # BeautifulSoupを利用してWebページを解析する\n",
    "    soup = BeautifulSoup(html, 'html.parser')\n",
    "\n",
    "    # soup.selectを利用して、ニュースのタイトルを取得する\n",
    "    elements = soup.select('article h3 a')\n",
    "\n",
    "    # ニュースのトップ3を配列に取得\n",
    "    news = []\n",
    "    for i, element in enumerate(elements):\n",
    "        news.append({\"title\": element.getText()})\n",
    "        if i>=2:\n",
    "            break\n",
    "\n",
    "    return json.dumps({\"news\": news})"
   ]
  },
  {
   "cell_type": "code",
   "execution_count": 57,
   "metadata": {},
   "outputs": [
    {
     "name": "stdout",
     "output_type": "stream",
     "text": [
      "--------------------\n",
      "「Wヒーロー夏祭り2023」 登場キャラ・イベントスケジュール解禁 ...\n",
      "--------------------\n",
      "関西の夏祭りトップ切り「愛染祭」フランスの女性、チャンチキの ...\n",
      "--------------------\n",
      "大人みこし豪快練り歩き 奈良・天川の天水分神社4年ぶり夏祭り ...\n"
     ]
    }
   ],
   "source": [
    "# テスト用コード\n",
    "ret = get_news(\"夏祭り\", 5)\n",
    "ret2 = json.loads(ret)\n",
    "for n in ret2[\"news\"]:\n",
    "    print(\"-\"*20)\n",
    "    print(n[\"title\"])"
   ]
  },
  {
   "cell_type": "code",
   "execution_count": 58,
   "metadata": {},
   "outputs": [],
   "source": [
    "# 関数情報の作成\n",
    "functions=[\n",
    "    {\n",
    "        \"name\": \"get_search_result\",\n",
    "        \"description\": \"指定したキーワードの検索結果を取得する\",\n",
    "        \"parameters\": {\n",
    "            \"type\": \"object\",\n",
    "            \"properties\": {\n",
    "                \"keyword\": {\n",
    "                    \"type\": \"string\",\n",
    "                    \"description\": \"キーワード\",\n",
    "                },\n",
    "                \"when\": {\n",
    "                    \"type\": \"number\",\n",
    "                    \"description\": \"日付や時間の範囲\"\n",
    "                },\n",
    "                \"unit\": {\n",
    "                    \"type\": \"string\",\n",
    "                    \"enum\": [\"d\", \"h\", \"y\"]\n",
    "                },\n",
    "            },\n",
    "            \"required\": [\"keyword\"],\n",
    "        },\n",
    "    },\n",
    "    {\n",
    "        \"name\": \"get_news\",\n",
    "        \"description\": \"指定したキーワードのニュースを取得する\",\n",
    "        \"parameters\": {\n",
    "            \"type\": \"object\",\n",
    "            \"properties\": {\n",
    "                \"keyword\": {\n",
    "                    \"type\": \"string\",\n",
    "                    \"description\": \"キーワード\",\n",
    "                },\n",
    "                \"when\": {\n",
    "                    \"type\": \"number\",\n",
    "                    \"description\": \"日付や時間の範囲\"\n",
    "                },\n",
    "                \"unit\": {\n",
    "                    \"type\": \"string\",\n",
    "                    \"enum\": [\"d\", \"h\", \"y\"]\n",
    "                },\n",
    "            },\n",
    "            \"required\": [\"keyword\"],\n",
    "        },\n",
    "    }\n",
    "]"
   ]
  },
  {
   "cell_type": "code",
   "execution_count": 63,
   "metadata": {},
   "outputs": [],
   "source": [
    "# question = \"東京駅のイベントについて、最近1ヶ月以内の検索結果を教えてください\"\n",
    "question = \"夏祭りに関する5日以内のニュースを教えてください\"\n",
    "\n",
    "response = openai.ChatCompletion.create(\n",
    "    model=model_name,\n",
    "    messages=[\n",
    "        {\"role\": \"user\", \"content\": question},\n",
    "    ],\n",
    "    functions=functions,\n",
    "    function_call=\"auto\",\n",
    ")"
   ]
  },
  {
   "cell_type": "code",
   "execution_count": 64,
   "metadata": {},
   "outputs": [
    {
     "data": {
      "text/plain": [
       "<OpenAIObject chat.completion id=chatcmpl-7XgTjBjbregV6GRCVfdhSJEOmSFDQ at 0x21156883a70> JSON: {\n",
       "  \"id\": \"chatcmpl-7XgTjBjbregV6GRCVfdhSJEOmSFDQ\",\n",
       "  \"object\": \"chat.completion\",\n",
       "  \"created\": 1688262467,\n",
       "  \"model\": \"gpt-3.5-turbo-0613\",\n",
       "  \"choices\": [\n",
       "    {\n",
       "      \"index\": 0,\n",
       "      \"message\": {\n",
       "        \"role\": \"assistant\",\n",
       "        \"content\": null,\n",
       "        \"function_call\": {\n",
       "          \"name\": \"get_news\",\n",
       "          \"arguments\": \"{\\n  \\\"keyword\\\": \\\"\\u590f\\u796d\\u308a\\\",\\n  \\\"when\\\": 5,\\n  \\\"unit\\\": \\\"d\\\"\\n}\"\n",
       "        }\n",
       "      },\n",
       "      \"finish_reason\": \"function_call\"\n",
       "    }\n",
       "  ],\n",
       "  \"usage\": {\n",
       "    \"prompt_tokens\": 188,\n",
       "    \"completion_tokens\": 33,\n",
       "    \"total_tokens\": 221\n",
       "  }\n",
       "}"
      ]
     },
     "execution_count": 64,
     "metadata": {},
     "output_type": "execute_result"
    }
   ],
   "source": [
    "response"
   ]
  },
  {
   "cell_type": "code",
   "execution_count": 65,
   "metadata": {},
   "outputs": [
    {
     "data": {
      "text/plain": [
       "'{\\n  \"keyword\": \"夏祭り\",\\n  \"when\": 5,\\n  \"unit\": \"d\"\\n}'"
      ]
     },
     "execution_count": 65,
     "metadata": {},
     "output_type": "execute_result"
    }
   ],
   "source": [
    "response[\"choices\"][0][\"message\"][\"function_call\"][\"arguments\"]"
   ]
  },
  {
   "cell_type": "code",
   "execution_count": 66,
   "metadata": {},
   "outputs": [
    {
     "name": "stdout",
     "output_type": "stream",
     "text": [
      "以下は関連する5日以内の夏祭りに関するニュースです：\n",
      "\n",
      "1. ウィヒロ夏祭り2023、登場キャラ・イベントスケジュール解禁など (元記事: 「Wヒーロー夏祭り2023」登場キャラ・イベントスケジュール解禁…)\n",
      "\n",
      "2. 関西の夏祭りトップス「愛染祭」チャンピオンの女性、チャンチャキの…\n",
      "\n",
      "3. 大人みこし送り歩き ブルーム・天川の天水分神社4年ぶり夏祭り…\n",
      "\n",
      "これらのニュースは、夏祭りに関する情報とイベントの予定、さらには個別の夏祭りのトピックに焦点を当てています。\n"
     ]
    }
   ],
   "source": [
    "# 言語モデルからの回答メッセージを取得\n",
    "message = response[\"choices\"][0][\"message\"]\n",
    "\n",
    "# モデルが関数呼出と判断した\n",
    "if message.get(\"function_call\"):\n",
    "    # 関数名の取得\n",
    "    function_name = message[\"function_call\"][\"name\"]\n",
    "    # 引数の取得\n",
    "    arguments = json.loads(message[\"function_call\"][\"arguments\"])\n",
    "\n",
    "    # 関数名で実行する関数を判断\n",
    "    if function_name == \"get_search_result\":\n",
    "        function_response = get_search_result(\n",
    "            keyword=arguments.get(\"keyword\"),\n",
    "            when=arguments.get(\"when\"),\n",
    "            unit=arguments.get(\"unit\"),\n",
    "        )\n",
    "    elif function_name == \"get_news\":\n",
    "        function_response = get_news(\n",
    "            keyword=arguments.get(\"keyword\"),\n",
    "            when=arguments.get(\"when\"),\n",
    "            unit=arguments.get(\"unit\"),\n",
    "        )\n",
    "\n",
    "    # 関数の実行結果をmessagesに加えて言語モデルを呼出\n",
    "    response2  = openai.ChatCompletion.create(\n",
    "        model=model_name,\n",
    "        messages=[\n",
    "            {\"role\": \"user\", \"content\": question},\n",
    "            message,\n",
    "            {\n",
    "                \"role\": \"function\",\n",
    "                \"name\": function_name,\n",
    "                \"content\": function_response,\n",
    "            },\n",
    "        ],\n",
    "    )\n",
    "\n",
    "    # 言語モデルからの回答を出力\n",
    "    print(response2 .choices[0][\"message\"][\"content\"].strip())\n",
    "\n",
    "else:\n",
    "    # 関数呼び出しでなければ、単に言語モデルからの回答を出力\n",
    "    print(response.choices[0][\"message\"][\"content\"].strip())"
   ]
  },
  {
   "cell_type": "code",
   "execution_count": null,
   "metadata": {},
   "outputs": [],
   "source": []
  }
 ],
 "metadata": {
  "kernelspec": {
   "display_name": ".venv",
   "language": "python",
   "name": "python3"
  },
  "language_info": {
   "codemirror_mode": {
    "name": "ipython",
    "version": 3
   },
   "file_extension": ".py",
   "mimetype": "text/x-python",
   "name": "python",
   "nbconvert_exporter": "python",
   "pygments_lexer": "ipython3",
   "version": "3.11.4"
  },
  "orig_nbformat": 4
 },
 "nbformat": 4,
 "nbformat_minor": 2
}
